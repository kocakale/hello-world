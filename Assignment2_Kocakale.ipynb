{
  "cells": [
    {
      "cell_type": "markdown",
      "metadata": {
        "id": "view-in-github",
        "colab_type": "text"
      },
      "source": [
        "<a href=\"https://colab.research.google.com/github/kocakale/hello-world/blob/master/Assignment2_Kocakale.ipynb\" target=\"_parent\"><img src=\"https://colab.research.google.com/assets/colab-badge.svg\" alt=\"Open In Colab\"/></a>"
      ]
    },
    {
      "cell_type": "markdown",
      "id": "e9400b52",
      "metadata": {
        "id": "e9400b52"
      },
      "source": [
        "## Task1"
      ]
    },
    {
      "cell_type": "code",
      "execution_count": null,
      "id": "1288b1ef",
      "metadata": {
        "colab": {
          "base_uri": "https://localhost:8080/"
        },
        "id": "1288b1ef",
        "outputId": "f9009f46-8ade-4d69-9f65-615b4c8f5bbe"
      },
      "outputs": [
        {
          "output_type": "stream",
          "name": "stdout",
          "text": [
            "    # #     \n",
            "   ## ##    \n",
            "  ### ###   \n",
            " #### ####  \n",
            "##### ##### \n"
          ]
        }
      ],
      "source": [
        "# Define the number of levels for the pyramid\n",
        "levels = 5\n",
        "\n",
        "# Loop through each level of the pyramid\n",
        "for i in range(1, levels + 1):\n",
        "    # Initialize an empty string for the current level\n",
        "    current_level = \"\"\n",
        "\n",
        "    # Loop through each character position in the current level\n",
        "    for j in range(levels * 2 + 1):\n",
        "        # Check if the current position should contain a hash or a space\n",
        "        if j >= levels - i and j < levels + i:\n",
        "            current_level += \"#\"\n",
        "            if j==levels-1:\n",
        "                current_level += \" \"\n",
        "        else:\n",
        "            current_level += \" \"\n",
        "\n",
        "    # Print the current level string\n",
        "    print(current_level)"
      ]
    },
    {
      "cell_type": "markdown",
      "id": "f1039c16",
      "metadata": {
        "id": "f1039c16"
      },
      "source": [
        "## Task2"
      ]
    },
    {
      "cell_type": "code",
      "execution_count": null,
      "id": "6c2c6a22",
      "metadata": {
        "id": "6c2c6a22"
      },
      "outputs": [],
      "source": [
        "# same code in Task1 which is here in function format\n",
        "def pyramid(levels):\n",
        "    for i in range(1, levels + 1):\n",
        "        current_level = \"\"\n",
        "\n",
        "        for j in range(levels * 2 + 1):\n",
        "            if j >= levels - i and j < levels + i:\n",
        "                current_level += \"#\"\n",
        "                if j==levels-1:\n",
        "                    current_level += \" \"\n",
        "            else:\n",
        "                current_level += \" \"\n",
        "        print(current_level)"
      ]
    },
    {
      "cell_type": "code",
      "execution_count": null,
      "id": "40b98487",
      "metadata": {
        "colab": {
          "base_uri": "https://localhost:8080/"
        },
        "id": "40b98487",
        "outputId": "837c64c4-94ed-4e7e-88fb-67b66280f8ec"
      },
      "outputs": [
        {
          "output_type": "stream",
          "name": "stdout",
          "text": [
            "    # #     \n",
            "   ## ##    \n",
            "  ### ###   \n",
            " #### ####  \n",
            "##### ##### \n"
          ]
        }
      ],
      "source": [
        "pyramid(5)"
      ]
    },
    {
      "cell_type": "markdown",
      "id": "fc7636f7",
      "metadata": {
        "id": "fc7636f7"
      },
      "source": [
        "## Task 3"
      ]
    },
    {
      "cell_type": "markdown",
      "id": "574e840e",
      "metadata": {
        "id": "574e840e"
      },
      "source": [
        "### 1. First step is to download and filter the dataset"
      ]
    },
    {
      "cell_type": "code",
      "execution_count": null,
      "id": "634c8b06",
      "metadata": {
        "id": "634c8b06"
      },
      "outputs": [],
      "source": [
        "import pandas as pd\n",
        "import numpy as np\n",
        "my_data = pd.read_csv(\"https://osf.io/uzpce/download\") #access the data"
      ]
    },
    {
      "cell_type": "code",
      "execution_count": null,
      "id": "bf4ec4a5",
      "metadata": {
        "colab": {
          "base_uri": "https://localhost:8080/"
        },
        "id": "bf4ec4a5",
        "outputId": "a127d183-2eb7-4efd-fa5b-fd4d20fcb0da"
      },
      "outputs": [
        {
          "output_type": "execute_result",
          "data": {
            "text/plain": [
              "(14277, 245)"
            ]
          },
          "metadata": {},
          "execution_count": 6
        }
      ],
      "source": [
        "my_data.shape #check dimensions of dataframe"
      ]
    },
    {
      "cell_type": "code",
      "execution_count": null,
      "id": "a61dbcc2",
      "metadata": {
        "colab": {
          "base_uri": "https://localhost:8080/",
          "height": 342
        },
        "id": "a61dbcc2",
        "outputId": "eecab7f3-b24d-4be1-843f-fd4f2994843a"
      },
      "outputs": [
        {
          "output_type": "execute_result",
          "data": {
            "text/plain": [
              "   firmid  wave cty        country   sic  management  operations  monitor  \\\n",
              "0       1  2004  us  United States  38.0    3.500000         3.0      3.6   \n",
              "1       1  2006  us  United States  38.0    3.166667         5.0      3.8   \n",
              "2       1  2010  us  United States  38.0    3.000000         2.0      2.8   \n",
              "3       2  2004  us  United States  28.0    4.666667         4.5      4.8   \n",
              "4       2  2004  us  United States  28.0    4.444445         4.5      4.6   \n",
              "\n",
              "   target    people  ...  aa_196  aa_197  aa_198  aa_199  aa_200  aa_201  \\\n",
              "0     3.6  3.500000  ...     0.0     0.0     0.0     0.0     0.0     0.0   \n",
              "1     2.6  2.500000  ...     0.0     0.0     0.0     0.0     0.0     0.0   \n",
              "2     3.6  3.000000  ...     0.0     0.0     0.0     0.0     0.0     0.0   \n",
              "3     4.4  4.833333  ...     0.0     0.0     0.0     0.0     0.0     0.0   \n",
              "4     4.4  4.333333  ...     0.0     0.0     0.0     0.0     0.0     0.0   \n",
              "\n",
              "   aa_202  aa_203  aa_204  aa_205  \n",
              "0     0.0     0.0     0.0     0.0  \n",
              "1     0.0     0.0     0.0     0.0  \n",
              "2     0.0     0.0     0.0     0.0  \n",
              "3     0.0     0.0     0.0     0.0  \n",
              "4     0.0     0.0     0.0     0.0  \n",
              "\n",
              "[5 rows x 245 columns]"
            ],
            "text/html": [
              "\n",
              "  <div id=\"df-0a5a9be6-8693-4ddc-be8c-ca22af3e7c87\" class=\"colab-df-container\">\n",
              "    <div>\n",
              "<style scoped>\n",
              "    .dataframe tbody tr th:only-of-type {\n",
              "        vertical-align: middle;\n",
              "    }\n",
              "\n",
              "    .dataframe tbody tr th {\n",
              "        vertical-align: top;\n",
              "    }\n",
              "\n",
              "    .dataframe thead th {\n",
              "        text-align: right;\n",
              "    }\n",
              "</style>\n",
              "<table border=\"1\" class=\"dataframe\">\n",
              "  <thead>\n",
              "    <tr style=\"text-align: right;\">\n",
              "      <th></th>\n",
              "      <th>firmid</th>\n",
              "      <th>wave</th>\n",
              "      <th>cty</th>\n",
              "      <th>country</th>\n",
              "      <th>sic</th>\n",
              "      <th>management</th>\n",
              "      <th>operations</th>\n",
              "      <th>monitor</th>\n",
              "      <th>target</th>\n",
              "      <th>people</th>\n",
              "      <th>...</th>\n",
              "      <th>aa_196</th>\n",
              "      <th>aa_197</th>\n",
              "      <th>aa_198</th>\n",
              "      <th>aa_199</th>\n",
              "      <th>aa_200</th>\n",
              "      <th>aa_201</th>\n",
              "      <th>aa_202</th>\n",
              "      <th>aa_203</th>\n",
              "      <th>aa_204</th>\n",
              "      <th>aa_205</th>\n",
              "    </tr>\n",
              "  </thead>\n",
              "  <tbody>\n",
              "    <tr>\n",
              "      <th>0</th>\n",
              "      <td>1</td>\n",
              "      <td>2004</td>\n",
              "      <td>us</td>\n",
              "      <td>United States</td>\n",
              "      <td>38.0</td>\n",
              "      <td>3.500000</td>\n",
              "      <td>3.0</td>\n",
              "      <td>3.6</td>\n",
              "      <td>3.6</td>\n",
              "      <td>3.500000</td>\n",
              "      <td>...</td>\n",
              "      <td>0.0</td>\n",
              "      <td>0.0</td>\n",
              "      <td>0.0</td>\n",
              "      <td>0.0</td>\n",
              "      <td>0.0</td>\n",
              "      <td>0.0</td>\n",
              "      <td>0.0</td>\n",
              "      <td>0.0</td>\n",
              "      <td>0.0</td>\n",
              "      <td>0.0</td>\n",
              "    </tr>\n",
              "    <tr>\n",
              "      <th>1</th>\n",
              "      <td>1</td>\n",
              "      <td>2006</td>\n",
              "      <td>us</td>\n",
              "      <td>United States</td>\n",
              "      <td>38.0</td>\n",
              "      <td>3.166667</td>\n",
              "      <td>5.0</td>\n",
              "      <td>3.8</td>\n",
              "      <td>2.6</td>\n",
              "      <td>2.500000</td>\n",
              "      <td>...</td>\n",
              "      <td>0.0</td>\n",
              "      <td>0.0</td>\n",
              "      <td>0.0</td>\n",
              "      <td>0.0</td>\n",
              "      <td>0.0</td>\n",
              "      <td>0.0</td>\n",
              "      <td>0.0</td>\n",
              "      <td>0.0</td>\n",
              "      <td>0.0</td>\n",
              "      <td>0.0</td>\n",
              "    </tr>\n",
              "    <tr>\n",
              "      <th>2</th>\n",
              "      <td>1</td>\n",
              "      <td>2010</td>\n",
              "      <td>us</td>\n",
              "      <td>United States</td>\n",
              "      <td>38.0</td>\n",
              "      <td>3.000000</td>\n",
              "      <td>2.0</td>\n",
              "      <td>2.8</td>\n",
              "      <td>3.6</td>\n",
              "      <td>3.000000</td>\n",
              "      <td>...</td>\n",
              "      <td>0.0</td>\n",
              "      <td>0.0</td>\n",
              "      <td>0.0</td>\n",
              "      <td>0.0</td>\n",
              "      <td>0.0</td>\n",
              "      <td>0.0</td>\n",
              "      <td>0.0</td>\n",
              "      <td>0.0</td>\n",
              "      <td>0.0</td>\n",
              "      <td>0.0</td>\n",
              "    </tr>\n",
              "    <tr>\n",
              "      <th>3</th>\n",
              "      <td>2</td>\n",
              "      <td>2004</td>\n",
              "      <td>us</td>\n",
              "      <td>United States</td>\n",
              "      <td>28.0</td>\n",
              "      <td>4.666667</td>\n",
              "      <td>4.5</td>\n",
              "      <td>4.8</td>\n",
              "      <td>4.4</td>\n",
              "      <td>4.833333</td>\n",
              "      <td>...</td>\n",
              "      <td>0.0</td>\n",
              "      <td>0.0</td>\n",
              "      <td>0.0</td>\n",
              "      <td>0.0</td>\n",
              "      <td>0.0</td>\n",
              "      <td>0.0</td>\n",
              "      <td>0.0</td>\n",
              "      <td>0.0</td>\n",
              "      <td>0.0</td>\n",
              "      <td>0.0</td>\n",
              "    </tr>\n",
              "    <tr>\n",
              "      <th>4</th>\n",
              "      <td>2</td>\n",
              "      <td>2004</td>\n",
              "      <td>us</td>\n",
              "      <td>United States</td>\n",
              "      <td>28.0</td>\n",
              "      <td>4.444445</td>\n",
              "      <td>4.5</td>\n",
              "      <td>4.6</td>\n",
              "      <td>4.4</td>\n",
              "      <td>4.333333</td>\n",
              "      <td>...</td>\n",
              "      <td>0.0</td>\n",
              "      <td>0.0</td>\n",
              "      <td>0.0</td>\n",
              "      <td>0.0</td>\n",
              "      <td>0.0</td>\n",
              "      <td>0.0</td>\n",
              "      <td>0.0</td>\n",
              "      <td>0.0</td>\n",
              "      <td>0.0</td>\n",
              "      <td>0.0</td>\n",
              "    </tr>\n",
              "  </tbody>\n",
              "</table>\n",
              "<p>5 rows × 245 columns</p>\n",
              "</div>\n",
              "    <div class=\"colab-df-buttons\">\n",
              "\n",
              "  <div class=\"colab-df-container\">\n",
              "    <button class=\"colab-df-convert\" onclick=\"convertToInteractive('df-0a5a9be6-8693-4ddc-be8c-ca22af3e7c87')\"\n",
              "            title=\"Convert this dataframe to an interactive table.\"\n",
              "            style=\"display:none;\">\n",
              "\n",
              "  <svg xmlns=\"http://www.w3.org/2000/svg\" height=\"24px\" viewBox=\"0 -960 960 960\">\n",
              "    <path d=\"M120-120v-720h720v720H120Zm60-500h600v-160H180v160Zm220 220h160v-160H400v160Zm0 220h160v-160H400v160ZM180-400h160v-160H180v160Zm440 0h160v-160H620v160ZM180-180h160v-160H180v160Zm440 0h160v-160H620v160Z\"/>\n",
              "  </svg>\n",
              "    </button>\n",
              "\n",
              "  <style>\n",
              "    .colab-df-container {\n",
              "      display:flex;\n",
              "      gap: 12px;\n",
              "    }\n",
              "\n",
              "    .colab-df-convert {\n",
              "      background-color: #E8F0FE;\n",
              "      border: none;\n",
              "      border-radius: 50%;\n",
              "      cursor: pointer;\n",
              "      display: none;\n",
              "      fill: #1967D2;\n",
              "      height: 32px;\n",
              "      padding: 0 0 0 0;\n",
              "      width: 32px;\n",
              "    }\n",
              "\n",
              "    .colab-df-convert:hover {\n",
              "      background-color: #E2EBFA;\n",
              "      box-shadow: 0px 1px 2px rgba(60, 64, 67, 0.3), 0px 1px 3px 1px rgba(60, 64, 67, 0.15);\n",
              "      fill: #174EA6;\n",
              "    }\n",
              "\n",
              "    .colab-df-buttons div {\n",
              "      margin-bottom: 4px;\n",
              "    }\n",
              "\n",
              "    [theme=dark] .colab-df-convert {\n",
              "      background-color: #3B4455;\n",
              "      fill: #D2E3FC;\n",
              "    }\n",
              "\n",
              "    [theme=dark] .colab-df-convert:hover {\n",
              "      background-color: #434B5C;\n",
              "      box-shadow: 0px 1px 3px 1px rgba(0, 0, 0, 0.15);\n",
              "      filter: drop-shadow(0px 1px 2px rgba(0, 0, 0, 0.3));\n",
              "      fill: #FFFFFF;\n",
              "    }\n",
              "  </style>\n",
              "\n",
              "    <script>\n",
              "      const buttonEl =\n",
              "        document.querySelector('#df-0a5a9be6-8693-4ddc-be8c-ca22af3e7c87 button.colab-df-convert');\n",
              "      buttonEl.style.display =\n",
              "        google.colab.kernel.accessAllowed ? 'block' : 'none';\n",
              "\n",
              "      async function convertToInteractive(key) {\n",
              "        const element = document.querySelector('#df-0a5a9be6-8693-4ddc-be8c-ca22af3e7c87');\n",
              "        const dataTable =\n",
              "          await google.colab.kernel.invokeFunction('convertToInteractive',\n",
              "                                                    [key], {});\n",
              "        if (!dataTable) return;\n",
              "\n",
              "        const docLinkHtml = 'Like what you see? Visit the ' +\n",
              "          '<a target=\"_blank\" href=https://colab.research.google.com/notebooks/data_table.ipynb>data table notebook</a>'\n",
              "          + ' to learn more about interactive tables.';\n",
              "        element.innerHTML = '';\n",
              "        dataTable['output_type'] = 'display_data';\n",
              "        await google.colab.output.renderOutput(dataTable, element);\n",
              "        const docLink = document.createElement('div');\n",
              "        docLink.innerHTML = docLinkHtml;\n",
              "        element.appendChild(docLink);\n",
              "      }\n",
              "    </script>\n",
              "  </div>\n",
              "\n",
              "\n",
              "<div id=\"df-5fadf2e4-a758-49db-b016-605f74699ecb\">\n",
              "  <button class=\"colab-df-quickchart\" onclick=\"quickchart('df-5fadf2e4-a758-49db-b016-605f74699ecb')\"\n",
              "            title=\"Suggest charts.\"\n",
              "            style=\"display:none;\">\n",
              "\n",
              "<svg xmlns=\"http://www.w3.org/2000/svg\" height=\"24px\"viewBox=\"0 0 24 24\"\n",
              "     width=\"24px\">\n",
              "    <g>\n",
              "        <path d=\"M19 3H5c-1.1 0-2 .9-2 2v14c0 1.1.9 2 2 2h14c1.1 0 2-.9 2-2V5c0-1.1-.9-2-2-2zM9 17H7v-7h2v7zm4 0h-2V7h2v10zm4 0h-2v-4h2v4z\"/>\n",
              "    </g>\n",
              "</svg>\n",
              "  </button>\n",
              "\n",
              "<style>\n",
              "  .colab-df-quickchart {\n",
              "      --bg-color: #E8F0FE;\n",
              "      --fill-color: #1967D2;\n",
              "      --hover-bg-color: #E2EBFA;\n",
              "      --hover-fill-color: #174EA6;\n",
              "      --disabled-fill-color: #AAA;\n",
              "      --disabled-bg-color: #DDD;\n",
              "  }\n",
              "\n",
              "  [theme=dark] .colab-df-quickchart {\n",
              "      --bg-color: #3B4455;\n",
              "      --fill-color: #D2E3FC;\n",
              "      --hover-bg-color: #434B5C;\n",
              "      --hover-fill-color: #FFFFFF;\n",
              "      --disabled-bg-color: #3B4455;\n",
              "      --disabled-fill-color: #666;\n",
              "  }\n",
              "\n",
              "  .colab-df-quickchart {\n",
              "    background-color: var(--bg-color);\n",
              "    border: none;\n",
              "    border-radius: 50%;\n",
              "    cursor: pointer;\n",
              "    display: none;\n",
              "    fill: var(--fill-color);\n",
              "    height: 32px;\n",
              "    padding: 0;\n",
              "    width: 32px;\n",
              "  }\n",
              "\n",
              "  .colab-df-quickchart:hover {\n",
              "    background-color: var(--hover-bg-color);\n",
              "    box-shadow: 0 1px 2px rgba(60, 64, 67, 0.3), 0 1px 3px 1px rgba(60, 64, 67, 0.15);\n",
              "    fill: var(--button-hover-fill-color);\n",
              "  }\n",
              "\n",
              "  .colab-df-quickchart-complete:disabled,\n",
              "  .colab-df-quickchart-complete:disabled:hover {\n",
              "    background-color: var(--disabled-bg-color);\n",
              "    fill: var(--disabled-fill-color);\n",
              "    box-shadow: none;\n",
              "  }\n",
              "\n",
              "  .colab-df-spinner {\n",
              "    border: 2px solid var(--fill-color);\n",
              "    border-color: transparent;\n",
              "    border-bottom-color: var(--fill-color);\n",
              "    animation:\n",
              "      spin 1s steps(1) infinite;\n",
              "  }\n",
              "\n",
              "  @keyframes spin {\n",
              "    0% {\n",
              "      border-color: transparent;\n",
              "      border-bottom-color: var(--fill-color);\n",
              "      border-left-color: var(--fill-color);\n",
              "    }\n",
              "    20% {\n",
              "      border-color: transparent;\n",
              "      border-left-color: var(--fill-color);\n",
              "      border-top-color: var(--fill-color);\n",
              "    }\n",
              "    30% {\n",
              "      border-color: transparent;\n",
              "      border-left-color: var(--fill-color);\n",
              "      border-top-color: var(--fill-color);\n",
              "      border-right-color: var(--fill-color);\n",
              "    }\n",
              "    40% {\n",
              "      border-color: transparent;\n",
              "      border-right-color: var(--fill-color);\n",
              "      border-top-color: var(--fill-color);\n",
              "    }\n",
              "    60% {\n",
              "      border-color: transparent;\n",
              "      border-right-color: var(--fill-color);\n",
              "    }\n",
              "    80% {\n",
              "      border-color: transparent;\n",
              "      border-right-color: var(--fill-color);\n",
              "      border-bottom-color: var(--fill-color);\n",
              "    }\n",
              "    90% {\n",
              "      border-color: transparent;\n",
              "      border-bottom-color: var(--fill-color);\n",
              "    }\n",
              "  }\n",
              "</style>\n",
              "\n",
              "  <script>\n",
              "    async function quickchart(key) {\n",
              "      const quickchartButtonEl =\n",
              "        document.querySelector('#' + key + ' button');\n",
              "      quickchartButtonEl.disabled = true;  // To prevent multiple clicks.\n",
              "      quickchartButtonEl.classList.add('colab-df-spinner');\n",
              "      try {\n",
              "        const charts = await google.colab.kernel.invokeFunction(\n",
              "            'suggestCharts', [key], {});\n",
              "      } catch (error) {\n",
              "        console.error('Error during call to suggestCharts:', error);\n",
              "      }\n",
              "      quickchartButtonEl.classList.remove('colab-df-spinner');\n",
              "      quickchartButtonEl.classList.add('colab-df-quickchart-complete');\n",
              "    }\n",
              "    (() => {\n",
              "      let quickchartButtonEl =\n",
              "        document.querySelector('#df-5fadf2e4-a758-49db-b016-605f74699ecb button');\n",
              "      quickchartButtonEl.style.display =\n",
              "        google.colab.kernel.accessAllowed ? 'block' : 'none';\n",
              "    })();\n",
              "  </script>\n",
              "</div>\n",
              "    </div>\n",
              "  </div>\n"
            ]
          },
          "metadata": {},
          "execution_count": 7
        }
      ],
      "source": [
        "my_data.head() #check how the data looks like"
      ]
    },
    {
      "cell_type": "code",
      "execution_count": null,
      "id": "db7c35ea",
      "metadata": {
        "id": "db7c35ea"
      },
      "outputs": [],
      "source": [
        "filtered_data = my_data.loc[(my_data['wave']==2004)&\n",
        "                            (my_data['emp_firm']>=100)&\n",
        "                            (my_data['emp_firm']<5000)\n",
        "                           ]\n",
        "\n"
      ]
    },
    {
      "cell_type": "code",
      "execution_count": null,
      "id": "7a0b8e02",
      "metadata": {
        "colab": {
          "base_uri": "https://localhost:8080/"
        },
        "id": "7a0b8e02",
        "outputId": "4b328746-7795-4b8c-b204-b933a62fb32c"
      },
      "outputs": [
        {
          "output_type": "execute_result",
          "data": {
            "text/plain": [
              "(696, 245)"
            ]
          },
          "metadata": {},
          "execution_count": 10
        }
      ],
      "source": [
        "filtered_data.shape"
      ]
    },
    {
      "cell_type": "code",
      "execution_count": null,
      "id": "004b342e",
      "metadata": {
        "colab": {
          "base_uri": "https://localhost:8080/"
        },
        "id": "004b342e",
        "outputId": "3018ade4-0239-4621-d301-fa0bbbdfa009"
      },
      "outputs": [
        {
          "output_type": "execute_result",
          "data": {
            "text/plain": [
              "4932.0"
            ]
          },
          "metadata": {},
          "execution_count": 11
        }
      ],
      "source": [
        "filtered_data[\"emp_firm\"].max()"
      ]
    },
    {
      "cell_type": "code",
      "execution_count": null,
      "id": "60d3a970",
      "metadata": {
        "colab": {
          "base_uri": "https://localhost:8080/"
        },
        "id": "60d3a970",
        "outputId": "049fe91d-7ad5-4d20-e985-88aad8ac2de2"
      },
      "outputs": [
        {
          "output_type": "execute_result",
          "data": {
            "text/plain": [
              "100.0"
            ]
          },
          "metadata": {},
          "execution_count": 12
        }
      ],
      "source": [
        "filtered_data[\"emp_firm\"].min()"
      ]
    },
    {
      "cell_type": "markdown",
      "id": "9eb5af4f",
      "metadata": {
        "id": "9eb5af4f"
      },
      "source": [
        "### 2. Second step is to create descriptive statistics for given columns"
      ]
    },
    {
      "cell_type": "code",
      "execution_count": null,
      "id": "fb8774c8",
      "metadata": {
        "colab": {
          "base_uri": "https://localhost:8080/",
          "height": 143
        },
        "id": "fb8774c8",
        "outputId": "9b3d08eb-b04c-4325-9d18-6989cc4a9fd8"
      },
      "outputs": [
        {
          "output_type": "execute_result",
          "data": {
            "text/plain": [
              "            count        mean         std         min         25%         50%  \\\n",
              "management  696.0    3.242058    0.782033    1.055556    2.722222    3.277778   \n",
              "emp_firm    696.0  668.468391  845.724318  100.000000  200.000000  335.000000   \n",
              "firmage     696.0   56.056034   53.896928    3.000000   20.000000   40.000000   \n",
              "\n",
              "                   75%     max  \n",
              "management    3.777778     5.0  \n",
              "emp_firm    750.000000  4932.0  \n",
              "firmage      78.000000   689.0  "
            ],
            "text/html": [
              "\n",
              "  <div id=\"df-7dfd4755-b8d1-4ea8-8135-0357cabd12d7\" class=\"colab-df-container\">\n",
              "    <div>\n",
              "<style scoped>\n",
              "    .dataframe tbody tr th:only-of-type {\n",
              "        vertical-align: middle;\n",
              "    }\n",
              "\n",
              "    .dataframe tbody tr th {\n",
              "        vertical-align: top;\n",
              "    }\n",
              "\n",
              "    .dataframe thead th {\n",
              "        text-align: right;\n",
              "    }\n",
              "</style>\n",
              "<table border=\"1\" class=\"dataframe\">\n",
              "  <thead>\n",
              "    <tr style=\"text-align: right;\">\n",
              "      <th></th>\n",
              "      <th>count</th>\n",
              "      <th>mean</th>\n",
              "      <th>std</th>\n",
              "      <th>min</th>\n",
              "      <th>25%</th>\n",
              "      <th>50%</th>\n",
              "      <th>75%</th>\n",
              "      <th>max</th>\n",
              "    </tr>\n",
              "  </thead>\n",
              "  <tbody>\n",
              "    <tr>\n",
              "      <th>management</th>\n",
              "      <td>696.0</td>\n",
              "      <td>3.242058</td>\n",
              "      <td>0.782033</td>\n",
              "      <td>1.055556</td>\n",
              "      <td>2.722222</td>\n",
              "      <td>3.277778</td>\n",
              "      <td>3.777778</td>\n",
              "      <td>5.0</td>\n",
              "    </tr>\n",
              "    <tr>\n",
              "      <th>emp_firm</th>\n",
              "      <td>696.0</td>\n",
              "      <td>668.468391</td>\n",
              "      <td>845.724318</td>\n",
              "      <td>100.000000</td>\n",
              "      <td>200.000000</td>\n",
              "      <td>335.000000</td>\n",
              "      <td>750.000000</td>\n",
              "      <td>4932.0</td>\n",
              "    </tr>\n",
              "    <tr>\n",
              "      <th>firmage</th>\n",
              "      <td>696.0</td>\n",
              "      <td>56.056034</td>\n",
              "      <td>53.896928</td>\n",
              "      <td>3.000000</td>\n",
              "      <td>20.000000</td>\n",
              "      <td>40.000000</td>\n",
              "      <td>78.000000</td>\n",
              "      <td>689.0</td>\n",
              "    </tr>\n",
              "  </tbody>\n",
              "</table>\n",
              "</div>\n",
              "    <div class=\"colab-df-buttons\">\n",
              "\n",
              "  <div class=\"colab-df-container\">\n",
              "    <button class=\"colab-df-convert\" onclick=\"convertToInteractive('df-7dfd4755-b8d1-4ea8-8135-0357cabd12d7')\"\n",
              "            title=\"Convert this dataframe to an interactive table.\"\n",
              "            style=\"display:none;\">\n",
              "\n",
              "  <svg xmlns=\"http://www.w3.org/2000/svg\" height=\"24px\" viewBox=\"0 -960 960 960\">\n",
              "    <path d=\"M120-120v-720h720v720H120Zm60-500h600v-160H180v160Zm220 220h160v-160H400v160Zm0 220h160v-160H400v160ZM180-400h160v-160H180v160Zm440 0h160v-160H620v160ZM180-180h160v-160H180v160Zm440 0h160v-160H620v160Z\"/>\n",
              "  </svg>\n",
              "    </button>\n",
              "\n",
              "  <style>\n",
              "    .colab-df-container {\n",
              "      display:flex;\n",
              "      gap: 12px;\n",
              "    }\n",
              "\n",
              "    .colab-df-convert {\n",
              "      background-color: #E8F0FE;\n",
              "      border: none;\n",
              "      border-radius: 50%;\n",
              "      cursor: pointer;\n",
              "      display: none;\n",
              "      fill: #1967D2;\n",
              "      height: 32px;\n",
              "      padding: 0 0 0 0;\n",
              "      width: 32px;\n",
              "    }\n",
              "\n",
              "    .colab-df-convert:hover {\n",
              "      background-color: #E2EBFA;\n",
              "      box-shadow: 0px 1px 2px rgba(60, 64, 67, 0.3), 0px 1px 3px 1px rgba(60, 64, 67, 0.15);\n",
              "      fill: #174EA6;\n",
              "    }\n",
              "\n",
              "    .colab-df-buttons div {\n",
              "      margin-bottom: 4px;\n",
              "    }\n",
              "\n",
              "    [theme=dark] .colab-df-convert {\n",
              "      background-color: #3B4455;\n",
              "      fill: #D2E3FC;\n",
              "    }\n",
              "\n",
              "    [theme=dark] .colab-df-convert:hover {\n",
              "      background-color: #434B5C;\n",
              "      box-shadow: 0px 1px 3px 1px rgba(0, 0, 0, 0.15);\n",
              "      filter: drop-shadow(0px 1px 2px rgba(0, 0, 0, 0.3));\n",
              "      fill: #FFFFFF;\n",
              "    }\n",
              "  </style>\n",
              "\n",
              "    <script>\n",
              "      const buttonEl =\n",
              "        document.querySelector('#df-7dfd4755-b8d1-4ea8-8135-0357cabd12d7 button.colab-df-convert');\n",
              "      buttonEl.style.display =\n",
              "        google.colab.kernel.accessAllowed ? 'block' : 'none';\n",
              "\n",
              "      async function convertToInteractive(key) {\n",
              "        const element = document.querySelector('#df-7dfd4755-b8d1-4ea8-8135-0357cabd12d7');\n",
              "        const dataTable =\n",
              "          await google.colab.kernel.invokeFunction('convertToInteractive',\n",
              "                                                    [key], {});\n",
              "        if (!dataTable) return;\n",
              "\n",
              "        const docLinkHtml = 'Like what you see? Visit the ' +\n",
              "          '<a target=\"_blank\" href=https://colab.research.google.com/notebooks/data_table.ipynb>data table notebook</a>'\n",
              "          + ' to learn more about interactive tables.';\n",
              "        element.innerHTML = '';\n",
              "        dataTable['output_type'] = 'display_data';\n",
              "        await google.colab.output.renderOutput(dataTable, element);\n",
              "        const docLink = document.createElement('div');\n",
              "        docLink.innerHTML = docLinkHtml;\n",
              "        element.appendChild(docLink);\n",
              "      }\n",
              "    </script>\n",
              "  </div>\n",
              "\n",
              "\n",
              "<div id=\"df-b9f587a7-3c46-4fd1-b35e-3ecd8ef26067\">\n",
              "  <button class=\"colab-df-quickchart\" onclick=\"quickchart('df-b9f587a7-3c46-4fd1-b35e-3ecd8ef26067')\"\n",
              "            title=\"Suggest charts.\"\n",
              "            style=\"display:none;\">\n",
              "\n",
              "<svg xmlns=\"http://www.w3.org/2000/svg\" height=\"24px\"viewBox=\"0 0 24 24\"\n",
              "     width=\"24px\">\n",
              "    <g>\n",
              "        <path d=\"M19 3H5c-1.1 0-2 .9-2 2v14c0 1.1.9 2 2 2h14c1.1 0 2-.9 2-2V5c0-1.1-.9-2-2-2zM9 17H7v-7h2v7zm4 0h-2V7h2v10zm4 0h-2v-4h2v4z\"/>\n",
              "    </g>\n",
              "</svg>\n",
              "  </button>\n",
              "\n",
              "<style>\n",
              "  .colab-df-quickchart {\n",
              "      --bg-color: #E8F0FE;\n",
              "      --fill-color: #1967D2;\n",
              "      --hover-bg-color: #E2EBFA;\n",
              "      --hover-fill-color: #174EA6;\n",
              "      --disabled-fill-color: #AAA;\n",
              "      --disabled-bg-color: #DDD;\n",
              "  }\n",
              "\n",
              "  [theme=dark] .colab-df-quickchart {\n",
              "      --bg-color: #3B4455;\n",
              "      --fill-color: #D2E3FC;\n",
              "      --hover-bg-color: #434B5C;\n",
              "      --hover-fill-color: #FFFFFF;\n",
              "      --disabled-bg-color: #3B4455;\n",
              "      --disabled-fill-color: #666;\n",
              "  }\n",
              "\n",
              "  .colab-df-quickchart {\n",
              "    background-color: var(--bg-color);\n",
              "    border: none;\n",
              "    border-radius: 50%;\n",
              "    cursor: pointer;\n",
              "    display: none;\n",
              "    fill: var(--fill-color);\n",
              "    height: 32px;\n",
              "    padding: 0;\n",
              "    width: 32px;\n",
              "  }\n",
              "\n",
              "  .colab-df-quickchart:hover {\n",
              "    background-color: var(--hover-bg-color);\n",
              "    box-shadow: 0 1px 2px rgba(60, 64, 67, 0.3), 0 1px 3px 1px rgba(60, 64, 67, 0.15);\n",
              "    fill: var(--button-hover-fill-color);\n",
              "  }\n",
              "\n",
              "  .colab-df-quickchart-complete:disabled,\n",
              "  .colab-df-quickchart-complete:disabled:hover {\n",
              "    background-color: var(--disabled-bg-color);\n",
              "    fill: var(--disabled-fill-color);\n",
              "    box-shadow: none;\n",
              "  }\n",
              "\n",
              "  .colab-df-spinner {\n",
              "    border: 2px solid var(--fill-color);\n",
              "    border-color: transparent;\n",
              "    border-bottom-color: var(--fill-color);\n",
              "    animation:\n",
              "      spin 1s steps(1) infinite;\n",
              "  }\n",
              "\n",
              "  @keyframes spin {\n",
              "    0% {\n",
              "      border-color: transparent;\n",
              "      border-bottom-color: var(--fill-color);\n",
              "      border-left-color: var(--fill-color);\n",
              "    }\n",
              "    20% {\n",
              "      border-color: transparent;\n",
              "      border-left-color: var(--fill-color);\n",
              "      border-top-color: var(--fill-color);\n",
              "    }\n",
              "    30% {\n",
              "      border-color: transparent;\n",
              "      border-left-color: var(--fill-color);\n",
              "      border-top-color: var(--fill-color);\n",
              "      border-right-color: var(--fill-color);\n",
              "    }\n",
              "    40% {\n",
              "      border-color: transparent;\n",
              "      border-right-color: var(--fill-color);\n",
              "      border-top-color: var(--fill-color);\n",
              "    }\n",
              "    60% {\n",
              "      border-color: transparent;\n",
              "      border-right-color: var(--fill-color);\n",
              "    }\n",
              "    80% {\n",
              "      border-color: transparent;\n",
              "      border-right-color: var(--fill-color);\n",
              "      border-bottom-color: var(--fill-color);\n",
              "    }\n",
              "    90% {\n",
              "      border-color: transparent;\n",
              "      border-bottom-color: var(--fill-color);\n",
              "    }\n",
              "  }\n",
              "</style>\n",
              "\n",
              "  <script>\n",
              "    async function quickchart(key) {\n",
              "      const quickchartButtonEl =\n",
              "        document.querySelector('#' + key + ' button');\n",
              "      quickchartButtonEl.disabled = true;  // To prevent multiple clicks.\n",
              "      quickchartButtonEl.classList.add('colab-df-spinner');\n",
              "      try {\n",
              "        const charts = await google.colab.kernel.invokeFunction(\n",
              "            'suggestCharts', [key], {});\n",
              "      } catch (error) {\n",
              "        console.error('Error during call to suggestCharts:', error);\n",
              "      }\n",
              "      quickchartButtonEl.classList.remove('colab-df-spinner');\n",
              "      quickchartButtonEl.classList.add('colab-df-quickchart-complete');\n",
              "    }\n",
              "    (() => {\n",
              "      let quickchartButtonEl =\n",
              "        document.querySelector('#df-b9f587a7-3c46-4fd1-b35e-3ecd8ef26067 button');\n",
              "      quickchartButtonEl.style.display =\n",
              "        google.colab.kernel.accessAllowed ? 'block' : 'none';\n",
              "    })();\n",
              "  </script>\n",
              "</div>\n",
              "    </div>\n",
              "  </div>\n"
            ]
          },
          "metadata": {},
          "execution_count": 18
        }
      ],
      "source": [
        "filtered_data.filter(['management', 'emp_firm', 'firmage']).describe().transpose()"
      ]
    },
    {
      "cell_type": "code",
      "execution_count": null,
      "id": "60f8a6bd",
      "metadata": {
        "id": "60f8a6bd"
      },
      "outputs": [],
      "source": [
        "# Select the desired columns\n",
        "given_columns = ['management', 'emp_firm', 'firmage']\n",
        "df_given_columns = filtered_data[given_columns]"
      ]
    },
    {
      "cell_type": "code",
      "source": [
        "statistics = {\n",
        "    'Mean': df_given_columns.mean(),\n",
        "    'Median': df_given_columns.median(),\n",
        "    'Standard Deviation': df_given_columns.std(),\n",
        "    'Minimum': df_given_columns.min(),\n",
        "    'Maximum': df_given_columns.max(),\n",
        "    'Range': df_given_columns.max() - df_given_columns.min(),\n",
        "    '5th Percentile': df_given_columns.quantile(0.05),\n",
        "    '95th Percentile': df_given_columns.quantile(0.95)\n",
        "}"
      ],
      "metadata": {
        "id": "p0v-qCyxtn2v"
      },
      "id": "p0v-qCyxtn2v",
      "execution_count": null,
      "outputs": []
    },
    {
      "cell_type": "code",
      "source": [
        "# Create a summary DataFrame\n",
        "summary_df = pd.DataFrame(statistics)\n",
        "\n",
        "# Transpose the summary DataFrame for a better view\n",
        "summary_df = summary_df.T\n",
        "\n",
        "# Print the descriptive statistics table for selected numeric columns\n",
        "print(summary_df)"
      ],
      "metadata": {
        "colab": {
          "base_uri": "https://localhost:8080/"
        },
        "id": "7dfAsfIi09v8",
        "outputId": "341d37a1-7dec-4999-e179-605c682fe3ab"
      },
      "id": "7dfAsfIi09v8",
      "execution_count": null,
      "outputs": [
        {
          "output_type": "stream",
          "name": "stdout",
          "text": [
            "                    management     emp_firm     firmage\n",
            "Mean                  3.242058   668.468391   56.056034\n",
            "Median                3.277778   335.000000   40.000000\n",
            "Standard Deviation    0.782033   845.724318   53.896928\n",
            "Minimum               1.055556   100.000000    3.000000\n",
            "Maximum               5.000000  4932.000000  689.000000\n",
            "Range                 3.944444  4832.000000  686.000000\n",
            "5th Percentile        1.875000   119.750000    8.000000\n",
            "95th Percentile       4.500000  2464.750000  147.250000\n"
          ]
        }
      ]
    },
    {
      "cell_type": "markdown",
      "source": [
        "### 3. Third step is to create descriptive statistics for \"management\" grouped by \"ownership\""
      ],
      "metadata": {
        "id": "WQv07Kjd2ype"
      },
      "id": "WQv07Kjd2ype"
    },
    {
      "cell_type": "code",
      "source": [
        "grouped_stats = filtered_data.groupby('ownership')['management'].agg(['mean', 'median', 'min', 'max'])\n",
        "\n",
        "# Rename the columns for clarity\n",
        "grouped_stats.columns = ['Mean', 'Median', 'Min', 'Max']\n",
        "\n",
        "# Print the descriptive statistics by ownership type\n",
        "print(grouped_stats)"
      ],
      "metadata": {
        "colab": {
          "base_uri": "https://localhost:8080/"
        },
        "id": "iUbrOLOb2WEn",
        "outputId": "bc42dba0-7e05-492b-f95a-508fcd3f8c81"
      },
      "id": "iUbrOLOb2WEn",
      "execution_count": null,
      "outputs": [
        {
          "output_type": "stream",
          "name": "stdout",
          "text": [
            "                                Mean    Median       Min       Max\n",
            "ownership                                                         \n",
            "Family owned, CEO unknown   3.055830  3.111111  1.055556  4.777778\n",
            "Founder owned, CEO unknown  3.076815  2.972222  1.222222  4.944445\n",
            "Other                       3.340374  3.388889  1.111111  5.000000\n",
            "Private Individuals         3.412474  3.375000  1.777778  4.611111\n"
          ]
        }
      ]
    }
  ],
  "metadata": {
    "kernelspec": {
      "display_name": "Python 3 (ipykernel)",
      "language": "python",
      "name": "python3"
    },
    "language_info": {
      "codemirror_mode": {
        "name": "ipython",
        "version": 3
      },
      "file_extension": ".py",
      "mimetype": "text/x-python",
      "name": "python",
      "nbconvert_exporter": "python",
      "pygments_lexer": "ipython3",
      "version": "3.9.13"
    },
    "colab": {
      "provenance": [],
      "include_colab_link": true
    }
  },
  "nbformat": 4,
  "nbformat_minor": 5
}