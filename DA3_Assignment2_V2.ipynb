{
 "cells": [
  {
   "cell_type": "markdown",
   "metadata": {
    "tags": []
   },
   "source": [
    "## Data Analysis 3: Prediction and Introduction to Machine Learning - Assignment 2"
   ]
  },
  {
   "cell_type": "markdown",
   "metadata": {},
   "source": [
    "In this study, our business question is what are the determinants of nightly prices apartments listed on Airbnb. By discovering these determinants, we will be able to help a company that is going to price their new apartments in Istanbul. We are going to use a cross sectional data to answer this question. Our data source is Inside Airbnb. The dataset has various columns including nightly prices, property type, room type, location etc. In the next chapters of this notebook, we will go through Sample Design, Explaratory Data Analysis, Feature Engineering and finally applying different Machine Learning Models."
   ]
  },
  {
   "cell_type": "markdown",
   "metadata": {},
   "source": [
    "### Sample Design"
   ]
  },
  {
   "cell_type": "markdown",
   "metadata": {},
   "source": [
    "In this part, we get the data to be used for our analysis, apply necessary filters and prepare data for Exploratory Data Analysis."
   ]
  },
  {
   "cell_type": "code",
   "execution_count": 1,
   "metadata": {
    "tags": []
   },
   "outputs": [],
   "source": [
    "# Import necessary packages\n",
    "\n",
    "import warnings\n",
    "warnings.filterwarnings('ignore')\n",
    "import pandas as pd\n",
    "import numpy as np\n",
    "import os\n",
    "from pathlib import Path\n",
    "import sys\n",
    "from patsy import dmatrices\n",
    "from sklearn.model_selection import train_test_split\n",
    "import matplotlib.pyplot as plt\n",
    "\n",
    "from sklearn.ensemble import RandomForestRegressor\n",
    "from sklearn.model_selection import GridSearchCV\n",
    "from sklearn.model_selection import RandomizedSearchCV\n",
    "from sklearn.impute import SimpleImputer\n",
    "from sklearn.inspection import permutation_importance\n",
    "from sklearn.inspection import PartialDependenceDisplay\n",
    "from sklearn.inspection import partial_dependence\n",
    "from sklearn.compose import ColumnTransformer\n",
    "from sklearn.pipeline import Pipeline\n",
    "from sklearn.preprocessing import OneHotEncoder\n",
    "from sklearn.metrics import mean_squared_error"
   ]
  },
  {
   "cell_type": "markdown",
   "metadata": {},
   "source": [
    "##### Get Data"
   ]
  },
  {
   "cell_type": "code",
   "execution_count": 2,
   "metadata": {},
   "outputs": [],
   "source": [
    "# Import the prewritten helper functions\n",
    "from py_helper_functions import *"
   ]
  },
  {
   "cell_type": "code",
   "execution_count": 3,
   "metadata": {},
   "outputs": [],
   "source": [
    "# Import the data from Github\n",
    "data1 = pd.read_csv('https://raw.githubusercontent.com/kocakale/hello-world/master/airbnb_detailed_listings_istanbul_part1.csv')\n",
    "data2 = pd.read_csv('https://raw.githubusercontent.com/kocakale/hello-world/master/airbnb_detailed_listings_istanbul_part2.csv')\n",
    "\n",
    "# Concatenate dfs horizontally \n",
    "data = pd.concat([data1, data2], axis=0)"
   ]
  },
  {
   "cell_type": "code",
   "execution_count": 4,
   "metadata": {},
   "outputs": [
    {
     "data": {
      "text/html": [
       "<div>\n",
       "<style scoped>\n",
       "    .dataframe tbody tr th:only-of-type {\n",
       "        vertical-align: middle;\n",
       "    }\n",
       "\n",
       "    .dataframe tbody tr th {\n",
       "        vertical-align: top;\n",
       "    }\n",
       "\n",
       "    .dataframe thead th {\n",
       "        text-align: right;\n",
       "    }\n",
       "</style>\n",
       "<table border=\"1\" class=\"dataframe\">\n",
       "  <thead>\n",
       "    <tr style=\"text-align: right;\">\n",
       "      <th></th>\n",
       "      <th>id</th>\n",
       "      <th>listing_url</th>\n",
       "      <th>scrape_id</th>\n",
       "      <th>last_scraped</th>\n",
       "      <th>source</th>\n",
       "      <th>name</th>\n",
       "      <th>description</th>\n",
       "      <th>neighborhood_overview</th>\n",
       "      <th>picture_url</th>\n",
       "      <th>host_id</th>\n",
       "      <th>...</th>\n",
       "      <th>review_scores_communication</th>\n",
       "      <th>review_scores_location</th>\n",
       "      <th>review_scores_value</th>\n",
       "      <th>license</th>\n",
       "      <th>instant_bookable</th>\n",
       "      <th>calculated_host_listings_count</th>\n",
       "      <th>calculated_host_listings_count_entire_homes</th>\n",
       "      <th>calculated_host_listings_count_private_rooms</th>\n",
       "      <th>calculated_host_listings_count_shared_rooms</th>\n",
       "      <th>reviews_per_month</th>\n",
       "    </tr>\n",
       "  </thead>\n",
       "  <tbody>\n",
       "    <tr>\n",
       "      <th>0</th>\n",
       "      <td>25436</td>\n",
       "      <td>https://www.airbnb.com/rooms/25436</td>\n",
       "      <td>20231229025644</td>\n",
       "      <td>2023-12-29</td>\n",
       "      <td>city scrape</td>\n",
       "      <td>Rental unit in Beşiktaş/ bebek · 2 bedrooms · ...</td>\n",
       "      <td>NaN</td>\n",
       "      <td>NaN</td>\n",
       "      <td>https://a0.muscache.com/pictures/b64c3ef0-2256...</td>\n",
       "      <td>105823</td>\n",
       "      <td>...</td>\n",
       "      <td>NaN</td>\n",
       "      <td>NaN</td>\n",
       "      <td>NaN</td>\n",
       "      <td>NaN</td>\n",
       "      <td>f</td>\n",
       "      <td>1</td>\n",
       "      <td>1</td>\n",
       "      <td>0</td>\n",
       "      <td>0</td>\n",
       "      <td>NaN</td>\n",
       "    </tr>\n",
       "    <tr>\n",
       "      <th>1</th>\n",
       "      <td>27271</td>\n",
       "      <td>https://www.airbnb.com/rooms/27271</td>\n",
       "      <td>20231229025644</td>\n",
       "      <td>2023-12-30</td>\n",
       "      <td>city scrape</td>\n",
       "      <td>Rental unit in Istanbul Province · ★5.0 · 1 be...</td>\n",
       "      <td>NaN</td>\n",
       "      <td>Cihangir is one of Istanbul's cosmopolitan sub...</td>\n",
       "      <td>https://a0.muscache.com/pictures/2f9cfc85-8370...</td>\n",
       "      <td>117026</td>\n",
       "      <td>...</td>\n",
       "      <td>5.00</td>\n",
       "      <td>5.00</td>\n",
       "      <td>5.00</td>\n",
       "      <td>NaN</td>\n",
       "      <td>f</td>\n",
       "      <td>1</td>\n",
       "      <td>1</td>\n",
       "      <td>0</td>\n",
       "      <td>0</td>\n",
       "      <td>0.04</td>\n",
       "    </tr>\n",
       "    <tr>\n",
       "      <th>2</th>\n",
       "      <td>28318</td>\n",
       "      <td>https://www.airbnb.com/rooms/28318</td>\n",
       "      <td>20231229025644</td>\n",
       "      <td>2023-12-30</td>\n",
       "      <td>previous scrape</td>\n",
       "      <td>Rental unit in İstanbul · 2 bedrooms · 2 beds ...</td>\n",
       "      <td>NaN</td>\n",
       "      <td>Close to Bosphorus University&lt;br /&gt;Close to Be...</td>\n",
       "      <td>https://a0.muscache.com/pictures/76617600/0ab5...</td>\n",
       "      <td>121721</td>\n",
       "      <td>...</td>\n",
       "      <td>NaN</td>\n",
       "      <td>NaN</td>\n",
       "      <td>NaN</td>\n",
       "      <td>NaN</td>\n",
       "      <td>f</td>\n",
       "      <td>1</td>\n",
       "      <td>1</td>\n",
       "      <td>0</td>\n",
       "      <td>0</td>\n",
       "      <td>NaN</td>\n",
       "    </tr>\n",
       "    <tr>\n",
       "      <th>3</th>\n",
       "      <td>34177</td>\n",
       "      <td>https://www.airbnb.com/rooms/34177</td>\n",
       "      <td>20231229025644</td>\n",
       "      <td>2023-12-29</td>\n",
       "      <td>city scrape</td>\n",
       "      <td>Home in Beşiktaş · ★4.67 · 1 bedroom · 2 beds ...</td>\n",
       "      <td>NaN</td>\n",
       "      <td>the neighbourhood is  very  calm comparing the...</td>\n",
       "      <td>https://a0.muscache.com/pictures/47356451/c288...</td>\n",
       "      <td>147330</td>\n",
       "      <td>...</td>\n",
       "      <td>4.80</td>\n",
       "      <td>4.67</td>\n",
       "      <td>4.80</td>\n",
       "      <td>NaN</td>\n",
       "      <td>f</td>\n",
       "      <td>2</td>\n",
       "      <td>2</td>\n",
       "      <td>0</td>\n",
       "      <td>0</td>\n",
       "      <td>0.15</td>\n",
       "    </tr>\n",
       "    <tr>\n",
       "      <th>4</th>\n",
       "      <td>742078</td>\n",
       "      <td>https://www.airbnb.com/rooms/742078</td>\n",
       "      <td>20231229025644</td>\n",
       "      <td>2023-12-30</td>\n",
       "      <td>city scrape</td>\n",
       "      <td>Rental unit in Istanbul · ★4.49 · 1 bedroom · ...</td>\n",
       "      <td>NaN</td>\n",
       "      <td>LOCATION: The flat is literrally a 2-minute wa...</td>\n",
       "      <td>https://a0.muscache.com/pictures/10599399/e9e9...</td>\n",
       "      <td>3785798</td>\n",
       "      <td>...</td>\n",
       "      <td>4.76</td>\n",
       "      <td>4.75</td>\n",
       "      <td>4.52</td>\n",
       "      <td>NaN</td>\n",
       "      <td>f</td>\n",
       "      <td>5</td>\n",
       "      <td>5</td>\n",
       "      <td>0</td>\n",
       "      <td>0</td>\n",
       "      <td>0.51</td>\n",
       "    </tr>\n",
       "  </tbody>\n",
       "</table>\n",
       "<p>5 rows × 75 columns</p>\n",
       "</div>"
      ],
      "text/plain": [
       "       id                          listing_url       scrape_id last_scraped  \\\n",
       "0   25436   https://www.airbnb.com/rooms/25436  20231229025644   2023-12-29   \n",
       "1   27271   https://www.airbnb.com/rooms/27271  20231229025644   2023-12-30   \n",
       "2   28318   https://www.airbnb.com/rooms/28318  20231229025644   2023-12-30   \n",
       "3   34177   https://www.airbnb.com/rooms/34177  20231229025644   2023-12-29   \n",
       "4  742078  https://www.airbnb.com/rooms/742078  20231229025644   2023-12-30   \n",
       "\n",
       "            source                                               name  \\\n",
       "0      city scrape  Rental unit in Beşiktaş/ bebek · 2 bedrooms · ...   \n",
       "1      city scrape  Rental unit in Istanbul Province · ★5.0 · 1 be...   \n",
       "2  previous scrape  Rental unit in İstanbul · 2 bedrooms · 2 beds ...   \n",
       "3      city scrape  Home in Beşiktaş · ★4.67 · 1 bedroom · 2 beds ...   \n",
       "4      city scrape  Rental unit in Istanbul · ★4.49 · 1 bedroom · ...   \n",
       "\n",
       "   description                              neighborhood_overview  \\\n",
       "0          NaN                                                NaN   \n",
       "1          NaN  Cihangir is one of Istanbul's cosmopolitan sub...   \n",
       "2          NaN  Close to Bosphorus University<br />Close to Be...   \n",
       "3          NaN  the neighbourhood is  very  calm comparing the...   \n",
       "4          NaN  LOCATION: The flat is literrally a 2-minute wa...   \n",
       "\n",
       "                                         picture_url  host_id  ...  \\\n",
       "0  https://a0.muscache.com/pictures/b64c3ef0-2256...   105823  ...   \n",
       "1  https://a0.muscache.com/pictures/2f9cfc85-8370...   117026  ...   \n",
       "2  https://a0.muscache.com/pictures/76617600/0ab5...   121721  ...   \n",
       "3  https://a0.muscache.com/pictures/47356451/c288...   147330  ...   \n",
       "4  https://a0.muscache.com/pictures/10599399/e9e9...  3785798  ...   \n",
       "\n",
       "  review_scores_communication review_scores_location review_scores_value  \\\n",
       "0                         NaN                    NaN                 NaN   \n",
       "1                        5.00                   5.00                5.00   \n",
       "2                         NaN                    NaN                 NaN   \n",
       "3                        4.80                   4.67                4.80   \n",
       "4                        4.76                   4.75                4.52   \n",
       "\n",
       "  license instant_bookable calculated_host_listings_count  \\\n",
       "0     NaN                f                              1   \n",
       "1     NaN                f                              1   \n",
       "2     NaN                f                              1   \n",
       "3     NaN                f                              2   \n",
       "4     NaN                f                              5   \n",
       "\n",
       "  calculated_host_listings_count_entire_homes  \\\n",
       "0                                           1   \n",
       "1                                           1   \n",
       "2                                           1   \n",
       "3                                           2   \n",
       "4                                           5   \n",
       "\n",
       "  calculated_host_listings_count_private_rooms  \\\n",
       "0                                            0   \n",
       "1                                            0   \n",
       "2                                            0   \n",
       "3                                            0   \n",
       "4                                            0   \n",
       "\n",
       "  calculated_host_listings_count_shared_rooms reviews_per_month  \n",
       "0                                           0               NaN  \n",
       "1                                           0              0.04  \n",
       "2                                           0               NaN  \n",
       "3                                           0              0.15  \n",
       "4                                           0              0.51  \n",
       "\n",
       "[5 rows x 75 columns]"
      ]
     },
     "execution_count": 4,
     "metadata": {},
     "output_type": "execute_result"
    }
   ],
   "source": [
    " # Check data how it looks like\n",
    "data.head()"
   ]
  },
  {
   "cell_type": "code",
   "execution_count": 5,
   "metadata": {},
   "outputs": [
    {
     "data": {
      "text/plain": [
       "(37992, 75)"
      ]
     },
     "execution_count": 5,
     "metadata": {},
     "output_type": "execute_result"
    }
   ],
   "source": [
    "# We have 37992 rows in raw data\n",
    "data.shape"
   ]
  },
  {
   "cell_type": "markdown",
   "metadata": {},
   "source": [
    "### Exploratory Data Analysis (EDA)"
   ]
  },
  {
   "cell_type": "markdown",
   "metadata": {},
   "source": [
    "In this part we deal with missing values, check extreme values. First of all, we would like to know what does each column represent. In other words, we will shortly introduce the data in certain columns."
   ]
  },
  {
   "cell_type": "code",
   "execution_count": 6,
   "metadata": {},
   "outputs": [
    {
     "name": "stdout",
     "output_type": "stream",
     "text": [
      "<class 'pandas.core.frame.DataFrame'>\n",
      "Index: 37992 entries, 0 to 17991\n",
      "Data columns (total 75 columns):\n",
      " #   Column                                        Non-Null Count  Dtype  \n",
      "---  ------                                        --------------  -----  \n",
      " 0   id                                            37992 non-null  int64  \n",
      " 1   listing_url                                   37992 non-null  object \n",
      " 2   scrape_id                                     37992 non-null  int64  \n",
      " 3   last_scraped                                  37992 non-null  object \n",
      " 4   source                                        37992 non-null  object \n",
      " 5   name                                          37992 non-null  object \n",
      " 6   description                                   0 non-null      float64\n",
      " 7   neighborhood_overview                         13662 non-null  object \n",
      " 8   picture_url                                   37992 non-null  object \n",
      " 9   host_id                                       37992 non-null  int64  \n",
      " 10  host_url                                      37992 non-null  object \n",
      " 11  host_name                                     37992 non-null  object \n",
      " 12  host_since                                    37992 non-null  object \n",
      " 13  host_location                                 24959 non-null  object \n",
      " 14  host_about                                    15222 non-null  object \n",
      " 15  host_response_time                            31931 non-null  object \n",
      " 16  host_response_rate                            31931 non-null  object \n",
      " 17  host_acceptance_rate                          31530 non-null  object \n",
      " 18  host_is_superhost                             37938 non-null  object \n",
      " 19  host_thumbnail_url                            37992 non-null  object \n",
      " 20  host_picture_url                              37992 non-null  object \n",
      " 21  host_neighbourhood                            4577 non-null   object \n",
      " 22  host_listings_count                           37992 non-null  int64  \n",
      " 23  host_total_listings_count                     37992 non-null  int64  \n",
      " 24  host_verifications                            37992 non-null  object \n",
      " 25  host_has_profile_pic                          37992 non-null  object \n",
      " 26  host_identity_verified                        37992 non-null  object \n",
      " 27  neighbourhood                                 13662 non-null  object \n",
      " 28  neighbourhood_cleansed                        37992 non-null  object \n",
      " 29  neighbourhood_group_cleansed                  0 non-null      float64\n",
      " 30  latitude                                      37992 non-null  float64\n",
      " 31  longitude                                     37992 non-null  float64\n",
      " 32  property_type                                 37992 non-null  object \n",
      " 33  room_type                                     37992 non-null  object \n",
      " 34  accommodates                                  37992 non-null  int64  \n",
      " 35  bathrooms                                     0 non-null      float64\n",
      " 36  bathrooms_text                                37940 non-null  object \n",
      " 37  bedrooms                                      0 non-null      float64\n",
      " 38  beds                                          37241 non-null  float64\n",
      " 39  amenities                                     37992 non-null  object \n",
      " 40  price                                         37159 non-null  object \n",
      " 41  minimum_nights                                37992 non-null  int64  \n",
      " 42  maximum_nights                                37992 non-null  int64  \n",
      " 43  minimum_minimum_nights                        37992 non-null  int64  \n",
      " 44  maximum_minimum_nights                        37992 non-null  int64  \n",
      " 45  minimum_maximum_nights                        37992 non-null  int64  \n",
      " 46  maximum_maximum_nights                        37992 non-null  int64  \n",
      " 47  minimum_nights_avg_ntm                        37992 non-null  float64\n",
      " 48  maximum_nights_avg_ntm                        37992 non-null  float64\n",
      " 49  calendar_updated                              0 non-null      float64\n",
      " 50  has_availability                              37159 non-null  object \n",
      " 51  availability_30                               37992 non-null  int64  \n",
      " 52  availability_60                               37992 non-null  int64  \n",
      " 53  availability_90                               37992 non-null  int64  \n",
      " 54  availability_365                              37992 non-null  int64  \n",
      " 55  calendar_last_scraped                         37992 non-null  object \n",
      " 56  number_of_reviews                             37992 non-null  int64  \n",
      " 57  number_of_reviews_ltm                         37992 non-null  int64  \n",
      " 58  number_of_reviews_l30d                        37992 non-null  int64  \n",
      " 59  first_review                                  23211 non-null  object \n",
      " 60  last_review                                   23211 non-null  object \n",
      " 61  review_scores_rating                          23226 non-null  float64\n",
      " 62  review_scores_accuracy                        23226 non-null  float64\n",
      " 63  review_scores_cleanliness                     23223 non-null  float64\n",
      " 64  review_scores_checkin                         23221 non-null  float64\n",
      " 65  review_scores_communication                   23226 non-null  float64\n",
      " 66  review_scores_location                        23224 non-null  float64\n",
      " 67  review_scores_value                           23221 non-null  float64\n",
      " 68  license                                       0 non-null      float64\n",
      " 69  instant_bookable                              37992 non-null  object \n",
      " 70  calculated_host_listings_count                37992 non-null  int64  \n",
      " 71  calculated_host_listings_count_entire_homes   37992 non-null  int64  \n",
      " 72  calculated_host_listings_count_private_rooms  37992 non-null  int64  \n",
      " 73  calculated_host_listings_count_shared_rooms   37992 non-null  int64  \n",
      " 74  reviews_per_month                             23211 non-null  float64\n",
      "dtypes: float64(19), int64(23), object(33)\n",
      "memory usage: 22.0+ MB\n"
     ]
    }
   ],
   "source": [
    "# Check columns, types and non-null counts\n",
    "data.info()"
   ]
  },
  {
   "cell_type": "markdown",
   "metadata": {},
   "source": [
    "We have 75 columns. Some of the columns are empty and many of them have considerable amount of missing values. And some of columns that need to be numeric are object-type. We need to clean and transform data before applying any model."
   ]
  },
  {
   "cell_type": "code",
   "execution_count": 8,
   "metadata": {},
   "outputs": [
    {
     "data": {
      "text/plain": [
       "514657"
      ]
     },
     "execution_count": 8,
     "metadata": {},
     "output_type": "execute_result"
    }
   ],
   "source": [
    "# We have many rows in the data that have NA values\n",
    "data.isna().sum().sum()"
   ]
  },
  {
   "cell_type": "markdown",
   "metadata": {},
   "source": [
    "Since there are NA values, we have to clean or impute these values."
   ]
  },
  {
   "cell_type": "code",
   "execution_count": 9,
   "metadata": {},
   "outputs": [
    {
     "name": "stdout",
     "output_type": "stream",
     "text": [
      "                          Column  NA Count  NA Percentage\n",
      "0                    description     37992     100.000000\n",
      "1          neighborhood_overview     24330      64.039798\n",
      "2                  host_location     13033      34.304590\n",
      "3                     host_about     22770      59.933670\n",
      "4             host_response_time      6061      15.953359\n",
      "5             host_response_rate      6061      15.953359\n",
      "6           host_acceptance_rate      6462      17.008844\n",
      "7              host_is_superhost        54       0.142135\n",
      "8             host_neighbourhood     33415      87.952727\n",
      "9                  neighbourhood     24330      64.039798\n",
      "10  neighbourhood_group_cleansed     37992     100.000000\n",
      "11                     bathrooms     37992     100.000000\n",
      "12                bathrooms_text        52       0.136871\n",
      "13                      bedrooms     37992     100.000000\n",
      "14                          beds       751       1.976732\n",
      "15                         price       833       2.192567\n",
      "16              calendar_updated     37992     100.000000\n",
      "17              has_availability       833       2.192567\n",
      "18                  first_review     14781      38.905559\n",
      "19                   last_review     14781      38.905559\n",
      "20          review_scores_rating     14766      38.866077\n",
      "21        review_scores_accuracy     14766      38.866077\n",
      "22     review_scores_cleanliness     14769      38.873973\n",
      "23         review_scores_checkin     14771      38.879238\n",
      "24   review_scores_communication     14766      38.866077\n",
      "25        review_scores_location     14768      38.871341\n",
      "26           review_scores_value     14771      38.879238\n",
      "27                       license     37992     100.000000\n",
      "28             reviews_per_month     14781      38.905559\n"
     ]
    }
   ],
   "source": [
    "def calculate_na_percentage(df):\n",
    "    # Find NA values in each column\n",
    "    na_counts = df.isna().sum()\n",
    "    \n",
    "    # Exclude columns with zero NA values\n",
    "    non_zero_na_columns = na_counts[na_counts > 0].index\n",
    "    na_counts = na_counts[non_zero_na_columns]\n",
    "\n",
    "    # Calculate percentage of NAs in each column\n",
    "    na_percentage = (na_counts / len(df)) * 100\n",
    "\n",
    "    # Create a DataFrame to display results\n",
    "    result_df = pd.DataFrame({\n",
    "        'Column': na_counts.index,\n",
    "        'NA Count': na_counts.values,\n",
    "        'NA Percentage': na_percentage.values\n",
    "    })\n",
    "\n",
    "    return result_df\n",
    "\n",
    "result = calculate_na_percentage(data)\n",
    "print(result)\n"
   ]
  },
  {
   "cell_type": "code",
   "execution_count": 10,
   "metadata": {},
   "outputs": [],
   "source": [
    "# Calculate the percentage of missing values in each column\n",
    "missing_percentage = (data.isna().sum() / len(data)) * 100\n",
    "\n",
    "# Identify columns with more than 50% missing values\n",
    "columns_to_drop = missing_percentage[missing_percentage > 50].index\n",
    "\n",
    "# Drop columns with more than 50% missing values\n",
    "data = data.drop(columns=columns_to_drop)"
   ]
  },
  {
   "cell_type": "code",
   "execution_count": 11,
   "metadata": {},
   "outputs": [
    {
     "data": {
      "text/plain": [
       "(37992, 65)"
      ]
     },
     "execution_count": 11,
     "metadata": {},
     "output_type": "execute_result"
    }
   ],
   "source": [
    "# We removed 10 columns that have more than 50% missing values\n",
    "data.shape"
   ]
  },
  {
   "cell_type": "code",
   "execution_count": 12,
   "metadata": {},
   "outputs": [],
   "source": [
    "# Remove rows with any NA values\n",
    "data = data.dropna()"
   ]
  },
  {
   "cell_type": "code",
   "execution_count": 13,
   "metadata": {},
   "outputs": [
    {
     "data": {
      "text/plain": [
       "(15233, 65)"
      ]
     },
     "execution_count": 13,
     "metadata": {},
     "output_type": "execute_result"
    }
   ],
   "source": [
    "data.shape"
   ]
  },
  {
   "cell_type": "code",
   "execution_count": 14,
   "metadata": {},
   "outputs": [
    {
     "data": {
      "text/plain": [
       "0"
      ]
     },
     "execution_count": 14,
     "metadata": {},
     "output_type": "execute_result"
    }
   ],
   "source": [
    "# Now we have 15.233 rows and 65 columns without any NAs\n",
    "data.isna().sum().sum()"
   ]
  },
  {
   "cell_type": "markdown",
   "metadata": {},
   "source": [
    "Removing rows with NA values shoul be carried out carrefully. If the missing values are not random, we might be loosing some pattern in the data. It may lead us to use a biased sample selection. Since further exploration is beyond this study, we will simply drop all rows with NA values and drop columns that have more than 50% missing values."
   ]
  },
  {
   "cell_type": "code",
   "execution_count": 15,
   "metadata": {},
   "outputs": [
    {
     "data": {
      "text/plain": [
       "array([ 3,  4,  1,  6,  2,  7,  5,  8,  9, 10, 12, 11, 13, 16, 14, 15],\n",
       "      dtype=int64)"
      ]
     },
     "execution_count": 15,
     "metadata": {},
     "output_type": "execute_result"
    }
   ],
   "source": [
    "# After removing NA values, we need to filter data on number of accommodates that can accommodate on a listing\n",
    "data.accommodates.unique()"
   ]
  },
  {
   "cell_type": "code",
   "execution_count": 16,
   "metadata": {},
   "outputs": [],
   "source": [
    "# We focus on apartments that can host 2-6 guests\n",
    "data = data[(data['accommodates'] >= 2) & (data['accommodates'] <= 6)]"
   ]
  },
  {
   "cell_type": "code",
   "execution_count": 17,
   "metadata": {
    "tags": []
   },
   "outputs": [
    {
     "data": {
      "text/plain": [
       "(13182, 65)"
      ]
     },
     "execution_count": 17,
     "metadata": {},
     "output_type": "execute_result"
    }
   ],
   "source": [
    "#Check shape of data after filter on number of 'accommodates'\n",
    "data.shape"
   ]
  },
  {
   "cell_type": "markdown",
   "metadata": {},
   "source": [
    "***Explore some selected variables***"
   ]
  },
  {
   "cell_type": "code",
   "execution_count": 18,
   "metadata": {},
   "outputs": [
    {
     "data": {
      "text/html": [
       "<div>\n",
       "<style scoped>\n",
       "    .dataframe tbody tr th:only-of-type {\n",
       "        vertical-align: middle;\n",
       "    }\n",
       "\n",
       "    .dataframe tbody tr th {\n",
       "        vertical-align: top;\n",
       "    }\n",
       "\n",
       "    .dataframe thead th {\n",
       "        text-align: right;\n",
       "    }\n",
       "</style>\n",
       "<table border=\"1\" class=\"dataframe\">\n",
       "  <thead>\n",
       "    <tr style=\"text-align: right;\">\n",
       "      <th></th>\n",
       "      <th>count</th>\n",
       "      <th>mean</th>\n",
       "      <th>std</th>\n",
       "      <th>min</th>\n",
       "      <th>25%</th>\n",
       "      <th>50%</th>\n",
       "      <th>75%</th>\n",
       "      <th>max</th>\n",
       "    </tr>\n",
       "  </thead>\n",
       "  <tbody>\n",
       "    <tr>\n",
       "      <th>id</th>\n",
       "      <td>13182.0</td>\n",
       "      <td>5.333242e+17</td>\n",
       "      <td>4.071889e+17</td>\n",
       "      <td>3.417700e+04</td>\n",
       "      <td>4.843801e+07</td>\n",
       "      <td>7.066793e+17</td>\n",
       "      <td>8.904785e+17</td>\n",
       "      <td>1.054471e+18</td>\n",
       "    </tr>\n",
       "    <tr>\n",
       "      <th>scrape_id</th>\n",
       "      <td>13182.0</td>\n",
       "      <td>2.023123e+13</td>\n",
       "      <td>3.894679e+00</td>\n",
       "      <td>2.023123e+13</td>\n",
       "      <td>2.023123e+13</td>\n",
       "      <td>2.023123e+13</td>\n",
       "      <td>2.023123e+13</td>\n",
       "      <td>2.023123e+13</td>\n",
       "    </tr>\n",
       "    <tr>\n",
       "      <th>host_id</th>\n",
       "      <td>13182.0</td>\n",
       "      <td>2.422875e+08</td>\n",
       "      <td>1.834927e+08</td>\n",
       "      <td>7.883800e+04</td>\n",
       "      <td>4.648350e+07</td>\n",
       "      <td>2.289314e+08</td>\n",
       "      <td>4.243197e+08</td>\n",
       "      <td>5.500382e+08</td>\n",
       "    </tr>\n",
       "    <tr>\n",
       "      <th>host_listings_count</th>\n",
       "      <td>13182.0</td>\n",
       "      <td>2.813503e+01</td>\n",
       "      <td>8.272907e+01</td>\n",
       "      <td>1.000000e+00</td>\n",
       "      <td>2.000000e+00</td>\n",
       "      <td>6.000000e+00</td>\n",
       "      <td>1.400000e+01</td>\n",
       "      <td>4.660000e+02</td>\n",
       "    </tr>\n",
       "    <tr>\n",
       "      <th>host_total_listings_count</th>\n",
       "      <td>13182.0</td>\n",
       "      <td>3.689683e+01</td>\n",
       "      <td>1.150646e+02</td>\n",
       "      <td>1.000000e+00</td>\n",
       "      <td>3.000000e+00</td>\n",
       "      <td>8.000000e+00</td>\n",
       "      <td>1.700000e+01</td>\n",
       "      <td>7.120000e+02</td>\n",
       "    </tr>\n",
       "    <tr>\n",
       "      <th>latitude</th>\n",
       "      <td>13182.0</td>\n",
       "      <td>4.102780e+01</td>\n",
       "      <td>4.523376e-02</td>\n",
       "      <td>4.081536e+01</td>\n",
       "      <td>4.100530e+01</td>\n",
       "      <td>4.103147e+01</td>\n",
       "      <td>4.104598e+01</td>\n",
       "      <td>4.147988e+01</td>\n",
       "    </tr>\n",
       "    <tr>\n",
       "      <th>longitude</th>\n",
       "      <td>13182.0</td>\n",
       "      <td>2.898017e+01</td>\n",
       "      <td>1.232911e-01</td>\n",
       "      <td>2.806274e+01</td>\n",
       "      <td>2.897256e+01</td>\n",
       "      <td>2.898193e+01</td>\n",
       "      <td>2.901028e+01</td>\n",
       "      <td>2.989056e+01</td>\n",
       "    </tr>\n",
       "    <tr>\n",
       "      <th>accommodates</th>\n",
       "      <td>13182.0</td>\n",
       "      <td>3.341147e+00</td>\n",
       "      <td>1.280566e+00</td>\n",
       "      <td>2.000000e+00</td>\n",
       "      <td>2.000000e+00</td>\n",
       "      <td>3.000000e+00</td>\n",
       "      <td>4.000000e+00</td>\n",
       "      <td>6.000000e+00</td>\n",
       "    </tr>\n",
       "    <tr>\n",
       "      <th>beds</th>\n",
       "      <td>13182.0</td>\n",
       "      <td>1.918298e+00</td>\n",
       "      <td>1.205562e+00</td>\n",
       "      <td>1.000000e+00</td>\n",
       "      <td>1.000000e+00</td>\n",
       "      <td>2.000000e+00</td>\n",
       "      <td>2.000000e+00</td>\n",
       "      <td>5.400000e+01</td>\n",
       "    </tr>\n",
       "    <tr>\n",
       "      <th>minimum_nights</th>\n",
       "      <td>13182.0</td>\n",
       "      <td>6.476787e+00</td>\n",
       "      <td>2.594874e+01</td>\n",
       "      <td>1.000000e+00</td>\n",
       "      <td>1.000000e+00</td>\n",
       "      <td>2.000000e+00</td>\n",
       "      <td>3.000000e+00</td>\n",
       "      <td>9.990000e+02</td>\n",
       "    </tr>\n",
       "    <tr>\n",
       "      <th>maximum_nights</th>\n",
       "      <td>13182.0</td>\n",
       "      <td>5.465624e+02</td>\n",
       "      <td>4.454599e+02</td>\n",
       "      <td>1.000000e+00</td>\n",
       "      <td>3.650000e+02</td>\n",
       "      <td>3.650000e+02</td>\n",
       "      <td>1.125000e+03</td>\n",
       "      <td>9.999000e+03</td>\n",
       "    </tr>\n",
       "    <tr>\n",
       "      <th>minimum_minimum_nights</th>\n",
       "      <td>13182.0</td>\n",
       "      <td>5.021317e+00</td>\n",
       "      <td>1.669621e+01</td>\n",
       "      <td>1.000000e+00</td>\n",
       "      <td>1.000000e+00</td>\n",
       "      <td>2.000000e+00</td>\n",
       "      <td>3.000000e+00</td>\n",
       "      <td>3.650000e+02</td>\n",
       "    </tr>\n",
       "    <tr>\n",
       "      <th>maximum_minimum_nights</th>\n",
       "      <td>13182.0</td>\n",
       "      <td>6.850706e+00</td>\n",
       "      <td>2.068602e+01</td>\n",
       "      <td>1.000000e+00</td>\n",
       "      <td>1.000000e+00</td>\n",
       "      <td>2.000000e+00</td>\n",
       "      <td>3.000000e+00</td>\n",
       "      <td>3.650000e+02</td>\n",
       "    </tr>\n",
       "    <tr>\n",
       "      <th>minimum_maximum_nights</th>\n",
       "      <td>13182.0</td>\n",
       "      <td>7.389731e+02</td>\n",
       "      <td>4.284227e+02</td>\n",
       "      <td>1.000000e+00</td>\n",
       "      <td>3.650000e+02</td>\n",
       "      <td>1.125000e+03</td>\n",
       "      <td>1.125000e+03</td>\n",
       "      <td>2.500000e+03</td>\n",
       "    </tr>\n",
       "    <tr>\n",
       "      <th>maximum_maximum_nights</th>\n",
       "      <td>13182.0</td>\n",
       "      <td>7.508435e+02</td>\n",
       "      <td>4.230392e+02</td>\n",
       "      <td>1.000000e+00</td>\n",
       "      <td>3.650000e+02</td>\n",
       "      <td>1.125000e+03</td>\n",
       "      <td>1.125000e+03</td>\n",
       "      <td>2.500000e+03</td>\n",
       "    </tr>\n",
       "    <tr>\n",
       "      <th>minimum_nights_avg_ntm</th>\n",
       "      <td>13182.0</td>\n",
       "      <td>6.417926e+00</td>\n",
       "      <td>1.978089e+01</td>\n",
       "      <td>1.000000e+00</td>\n",
       "      <td>1.000000e+00</td>\n",
       "      <td>2.000000e+00</td>\n",
       "      <td>3.000000e+00</td>\n",
       "      <td>3.650000e+02</td>\n",
       "    </tr>\n",
       "    <tr>\n",
       "      <th>maximum_nights_avg_ntm</th>\n",
       "      <td>13182.0</td>\n",
       "      <td>7.480031e+02</td>\n",
       "      <td>4.236951e+02</td>\n",
       "      <td>1.000000e+00</td>\n",
       "      <td>3.650000e+02</td>\n",
       "      <td>1.125000e+03</td>\n",
       "      <td>1.125000e+03</td>\n",
       "      <td>2.500000e+03</td>\n",
       "    </tr>\n",
       "    <tr>\n",
       "      <th>availability_30</th>\n",
       "      <td>13182.0</td>\n",
       "      <td>1.864307e+01</td>\n",
       "      <td>1.088096e+01</td>\n",
       "      <td>0.000000e+00</td>\n",
       "      <td>1.000000e+01</td>\n",
       "      <td>2.300000e+01</td>\n",
       "      <td>2.800000e+01</td>\n",
       "      <td>3.000000e+01</td>\n",
       "    </tr>\n",
       "    <tr>\n",
       "      <th>availability_60</th>\n",
       "      <td>13182.0</td>\n",
       "      <td>4.184464e+01</td>\n",
       "      <td>2.084010e+01</td>\n",
       "      <td>0.000000e+00</td>\n",
       "      <td>3.000000e+01</td>\n",
       "      <td>5.200000e+01</td>\n",
       "      <td>5.700000e+01</td>\n",
       "      <td>6.000000e+01</td>\n",
       "    </tr>\n",
       "    <tr>\n",
       "      <th>availability_90</th>\n",
       "      <td>13182.0</td>\n",
       "      <td>6.586406e+01</td>\n",
       "      <td>3.045737e+01</td>\n",
       "      <td>0.000000e+00</td>\n",
       "      <td>5.600000e+01</td>\n",
       "      <td>8.100000e+01</td>\n",
       "      <td>8.700000e+01</td>\n",
       "      <td>9.000000e+01</td>\n",
       "    </tr>\n",
       "    <tr>\n",
       "      <th>availability_365</th>\n",
       "      <td>13182.0</td>\n",
       "      <td>2.340051e+02</td>\n",
       "      <td>1.319413e+02</td>\n",
       "      <td>0.000000e+00</td>\n",
       "      <td>9.000000e+01</td>\n",
       "      <td>2.690000e+02</td>\n",
       "      <td>3.590000e+02</td>\n",
       "      <td>3.650000e+02</td>\n",
       "    </tr>\n",
       "    <tr>\n",
       "      <th>number_of_reviews</th>\n",
       "      <td>13182.0</td>\n",
       "      <td>2.579821e+01</td>\n",
       "      <td>4.457445e+01</td>\n",
       "      <td>1.000000e+00</td>\n",
       "      <td>3.000000e+00</td>\n",
       "      <td>1.000000e+01</td>\n",
       "      <td>2.900000e+01</td>\n",
       "      <td>1.248000e+03</td>\n",
       "    </tr>\n",
       "    <tr>\n",
       "      <th>number_of_reviews_ltm</th>\n",
       "      <td>13182.0</td>\n",
       "      <td>1.055788e+01</td>\n",
       "      <td>1.355956e+01</td>\n",
       "      <td>0.000000e+00</td>\n",
       "      <td>2.000000e+00</td>\n",
       "      <td>5.000000e+00</td>\n",
       "      <td>1.500000e+01</td>\n",
       "      <td>2.740000e+02</td>\n",
       "    </tr>\n",
       "    <tr>\n",
       "      <th>number_of_reviews_l30d</th>\n",
       "      <td>13182.0</td>\n",
       "      <td>7.074040e-01</td>\n",
       "      <td>1.325331e+00</td>\n",
       "      <td>0.000000e+00</td>\n",
       "      <td>0.000000e+00</td>\n",
       "      <td>0.000000e+00</td>\n",
       "      <td>1.000000e+00</td>\n",
       "      <td>2.600000e+01</td>\n",
       "    </tr>\n",
       "    <tr>\n",
       "      <th>review_scores_rating</th>\n",
       "      <td>13182.0</td>\n",
       "      <td>4.664911e+00</td>\n",
       "      <td>5.549120e-01</td>\n",
       "      <td>1.000000e+00</td>\n",
       "      <td>4.592500e+00</td>\n",
       "      <td>4.830000e+00</td>\n",
       "      <td>5.000000e+00</td>\n",
       "      <td>5.000000e+00</td>\n",
       "    </tr>\n",
       "    <tr>\n",
       "      <th>review_scores_accuracy</th>\n",
       "      <td>13182.0</td>\n",
       "      <td>4.690716e+00</td>\n",
       "      <td>5.414595e-01</td>\n",
       "      <td>1.000000e+00</td>\n",
       "      <td>4.640000e+00</td>\n",
       "      <td>4.850000e+00</td>\n",
       "      <td>5.000000e+00</td>\n",
       "      <td>5.000000e+00</td>\n",
       "    </tr>\n",
       "    <tr>\n",
       "      <th>review_scores_cleanliness</th>\n",
       "      <td>13182.0</td>\n",
       "      <td>4.623247e+00</td>\n",
       "      <td>5.823106e-01</td>\n",
       "      <td>1.000000e+00</td>\n",
       "      <td>4.500000e+00</td>\n",
       "      <td>4.800000e+00</td>\n",
       "      <td>5.000000e+00</td>\n",
       "      <td>5.000000e+00</td>\n",
       "    </tr>\n",
       "    <tr>\n",
       "      <th>review_scores_checkin</th>\n",
       "      <td>13182.0</td>\n",
       "      <td>4.778378e+00</td>\n",
       "      <td>4.873692e-01</td>\n",
       "      <td>1.000000e+00</td>\n",
       "      <td>4.770000e+00</td>\n",
       "      <td>4.930000e+00</td>\n",
       "      <td>5.000000e+00</td>\n",
       "      <td>5.000000e+00</td>\n",
       "    </tr>\n",
       "    <tr>\n",
       "      <th>review_scores_communication</th>\n",
       "      <td>13182.0</td>\n",
       "      <td>4.802855e+00</td>\n",
       "      <td>4.691984e-01</td>\n",
       "      <td>1.000000e+00</td>\n",
       "      <td>4.800000e+00</td>\n",
       "      <td>4.960000e+00</td>\n",
       "      <td>5.000000e+00</td>\n",
       "      <td>5.000000e+00</td>\n",
       "    </tr>\n",
       "    <tr>\n",
       "      <th>review_scores_location</th>\n",
       "      <td>13182.0</td>\n",
       "      <td>4.694968e+00</td>\n",
       "      <td>4.975052e-01</td>\n",
       "      <td>1.000000e+00</td>\n",
       "      <td>4.620000e+00</td>\n",
       "      <td>4.850000e+00</td>\n",
       "      <td>5.000000e+00</td>\n",
       "      <td>5.000000e+00</td>\n",
       "    </tr>\n",
       "    <tr>\n",
       "      <th>review_scores_value</th>\n",
       "      <td>13182.0</td>\n",
       "      <td>4.621466e+00</td>\n",
       "      <td>5.581529e-01</td>\n",
       "      <td>1.000000e+00</td>\n",
       "      <td>4.540000e+00</td>\n",
       "      <td>4.760000e+00</td>\n",
       "      <td>5.000000e+00</td>\n",
       "      <td>5.000000e+00</td>\n",
       "    </tr>\n",
       "    <tr>\n",
       "      <th>calculated_host_listings_count</th>\n",
       "      <td>13182.0</td>\n",
       "      <td>2.222948e+01</td>\n",
       "      <td>6.195616e+01</td>\n",
       "      <td>1.000000e+00</td>\n",
       "      <td>2.000000e+00</td>\n",
       "      <td>5.000000e+00</td>\n",
       "      <td>1.300000e+01</td>\n",
       "      <td>3.700000e+02</td>\n",
       "    </tr>\n",
       "    <tr>\n",
       "      <th>calculated_host_listings_count_entire_homes</th>\n",
       "      <td>13182.0</td>\n",
       "      <td>2.053512e+01</td>\n",
       "      <td>6.140755e+01</td>\n",
       "      <td>0.000000e+00</td>\n",
       "      <td>1.000000e+00</td>\n",
       "      <td>4.000000e+00</td>\n",
       "      <td>1.100000e+01</td>\n",
       "      <td>3.700000e+02</td>\n",
       "    </tr>\n",
       "    <tr>\n",
       "      <th>calculated_host_listings_count_private_rooms</th>\n",
       "      <td>13182.0</td>\n",
       "      <td>1.380595e+00</td>\n",
       "      <td>3.531616e+00</td>\n",
       "      <td>0.000000e+00</td>\n",
       "      <td>0.000000e+00</td>\n",
       "      <td>0.000000e+00</td>\n",
       "      <td>1.000000e+00</td>\n",
       "      <td>5.100000e+01</td>\n",
       "    </tr>\n",
       "    <tr>\n",
       "      <th>calculated_host_listings_count_shared_rooms</th>\n",
       "      <td>13182.0</td>\n",
       "      <td>1.471704e-02</td>\n",
       "      <td>2.462287e-01</td>\n",
       "      <td>0.000000e+00</td>\n",
       "      <td>0.000000e+00</td>\n",
       "      <td>0.000000e+00</td>\n",
       "      <td>0.000000e+00</td>\n",
       "      <td>1.300000e+01</td>\n",
       "    </tr>\n",
       "    <tr>\n",
       "      <th>reviews_per_month</th>\n",
       "      <td>13182.0</td>\n",
       "      <td>1.262878e+00</td>\n",
       "      <td>1.255982e+00</td>\n",
       "      <td>1.000000e-02</td>\n",
       "      <td>3.600000e-01</td>\n",
       "      <td>8.800000e-01</td>\n",
       "      <td>1.780000e+00</td>\n",
       "      <td>1.722000e+01</td>\n",
       "    </tr>\n",
       "  </tbody>\n",
       "</table>\n",
       "</div>"
      ],
      "text/plain": [
       "                                                count          mean  \\\n",
       "id                                            13182.0  5.333242e+17   \n",
       "scrape_id                                     13182.0  2.023123e+13   \n",
       "host_id                                       13182.0  2.422875e+08   \n",
       "host_listings_count                           13182.0  2.813503e+01   \n",
       "host_total_listings_count                     13182.0  3.689683e+01   \n",
       "latitude                                      13182.0  4.102780e+01   \n",
       "longitude                                     13182.0  2.898017e+01   \n",
       "accommodates                                  13182.0  3.341147e+00   \n",
       "beds                                          13182.0  1.918298e+00   \n",
       "minimum_nights                                13182.0  6.476787e+00   \n",
       "maximum_nights                                13182.0  5.465624e+02   \n",
       "minimum_minimum_nights                        13182.0  5.021317e+00   \n",
       "maximum_minimum_nights                        13182.0  6.850706e+00   \n",
       "minimum_maximum_nights                        13182.0  7.389731e+02   \n",
       "maximum_maximum_nights                        13182.0  7.508435e+02   \n",
       "minimum_nights_avg_ntm                        13182.0  6.417926e+00   \n",
       "maximum_nights_avg_ntm                        13182.0  7.480031e+02   \n",
       "availability_30                               13182.0  1.864307e+01   \n",
       "availability_60                               13182.0  4.184464e+01   \n",
       "availability_90                               13182.0  6.586406e+01   \n",
       "availability_365                              13182.0  2.340051e+02   \n",
       "number_of_reviews                             13182.0  2.579821e+01   \n",
       "number_of_reviews_ltm                         13182.0  1.055788e+01   \n",
       "number_of_reviews_l30d                        13182.0  7.074040e-01   \n",
       "review_scores_rating                          13182.0  4.664911e+00   \n",
       "review_scores_accuracy                        13182.0  4.690716e+00   \n",
       "review_scores_cleanliness                     13182.0  4.623247e+00   \n",
       "review_scores_checkin                         13182.0  4.778378e+00   \n",
       "review_scores_communication                   13182.0  4.802855e+00   \n",
       "review_scores_location                        13182.0  4.694968e+00   \n",
       "review_scores_value                           13182.0  4.621466e+00   \n",
       "calculated_host_listings_count                13182.0  2.222948e+01   \n",
       "calculated_host_listings_count_entire_homes   13182.0  2.053512e+01   \n",
       "calculated_host_listings_count_private_rooms  13182.0  1.380595e+00   \n",
       "calculated_host_listings_count_shared_rooms   13182.0  1.471704e-02   \n",
       "reviews_per_month                             13182.0  1.262878e+00   \n",
       "\n",
       "                                                       std           min  \\\n",
       "id                                            4.071889e+17  3.417700e+04   \n",
       "scrape_id                                     3.894679e+00  2.023123e+13   \n",
       "host_id                                       1.834927e+08  7.883800e+04   \n",
       "host_listings_count                           8.272907e+01  1.000000e+00   \n",
       "host_total_listings_count                     1.150646e+02  1.000000e+00   \n",
       "latitude                                      4.523376e-02  4.081536e+01   \n",
       "longitude                                     1.232911e-01  2.806274e+01   \n",
       "accommodates                                  1.280566e+00  2.000000e+00   \n",
       "beds                                          1.205562e+00  1.000000e+00   \n",
       "minimum_nights                                2.594874e+01  1.000000e+00   \n",
       "maximum_nights                                4.454599e+02  1.000000e+00   \n",
       "minimum_minimum_nights                        1.669621e+01  1.000000e+00   \n",
       "maximum_minimum_nights                        2.068602e+01  1.000000e+00   \n",
       "minimum_maximum_nights                        4.284227e+02  1.000000e+00   \n",
       "maximum_maximum_nights                        4.230392e+02  1.000000e+00   \n",
       "minimum_nights_avg_ntm                        1.978089e+01  1.000000e+00   \n",
       "maximum_nights_avg_ntm                        4.236951e+02  1.000000e+00   \n",
       "availability_30                               1.088096e+01  0.000000e+00   \n",
       "availability_60                               2.084010e+01  0.000000e+00   \n",
       "availability_90                               3.045737e+01  0.000000e+00   \n",
       "availability_365                              1.319413e+02  0.000000e+00   \n",
       "number_of_reviews                             4.457445e+01  1.000000e+00   \n",
       "number_of_reviews_ltm                         1.355956e+01  0.000000e+00   \n",
       "number_of_reviews_l30d                        1.325331e+00  0.000000e+00   \n",
       "review_scores_rating                          5.549120e-01  1.000000e+00   \n",
       "review_scores_accuracy                        5.414595e-01  1.000000e+00   \n",
       "review_scores_cleanliness                     5.823106e-01  1.000000e+00   \n",
       "review_scores_checkin                         4.873692e-01  1.000000e+00   \n",
       "review_scores_communication                   4.691984e-01  1.000000e+00   \n",
       "review_scores_location                        4.975052e-01  1.000000e+00   \n",
       "review_scores_value                           5.581529e-01  1.000000e+00   \n",
       "calculated_host_listings_count                6.195616e+01  1.000000e+00   \n",
       "calculated_host_listings_count_entire_homes   6.140755e+01  0.000000e+00   \n",
       "calculated_host_listings_count_private_rooms  3.531616e+00  0.000000e+00   \n",
       "calculated_host_listings_count_shared_rooms   2.462287e-01  0.000000e+00   \n",
       "reviews_per_month                             1.255982e+00  1.000000e-02   \n",
       "\n",
       "                                                       25%           50%  \\\n",
       "id                                            4.843801e+07  7.066793e+17   \n",
       "scrape_id                                     2.023123e+13  2.023123e+13   \n",
       "host_id                                       4.648350e+07  2.289314e+08   \n",
       "host_listings_count                           2.000000e+00  6.000000e+00   \n",
       "host_total_listings_count                     3.000000e+00  8.000000e+00   \n",
       "latitude                                      4.100530e+01  4.103147e+01   \n",
       "longitude                                     2.897256e+01  2.898193e+01   \n",
       "accommodates                                  2.000000e+00  3.000000e+00   \n",
       "beds                                          1.000000e+00  2.000000e+00   \n",
       "minimum_nights                                1.000000e+00  2.000000e+00   \n",
       "maximum_nights                                3.650000e+02  3.650000e+02   \n",
       "minimum_minimum_nights                        1.000000e+00  2.000000e+00   \n",
       "maximum_minimum_nights                        1.000000e+00  2.000000e+00   \n",
       "minimum_maximum_nights                        3.650000e+02  1.125000e+03   \n",
       "maximum_maximum_nights                        3.650000e+02  1.125000e+03   \n",
       "minimum_nights_avg_ntm                        1.000000e+00  2.000000e+00   \n",
       "maximum_nights_avg_ntm                        3.650000e+02  1.125000e+03   \n",
       "availability_30                               1.000000e+01  2.300000e+01   \n",
       "availability_60                               3.000000e+01  5.200000e+01   \n",
       "availability_90                               5.600000e+01  8.100000e+01   \n",
       "availability_365                              9.000000e+01  2.690000e+02   \n",
       "number_of_reviews                             3.000000e+00  1.000000e+01   \n",
       "number_of_reviews_ltm                         2.000000e+00  5.000000e+00   \n",
       "number_of_reviews_l30d                        0.000000e+00  0.000000e+00   \n",
       "review_scores_rating                          4.592500e+00  4.830000e+00   \n",
       "review_scores_accuracy                        4.640000e+00  4.850000e+00   \n",
       "review_scores_cleanliness                     4.500000e+00  4.800000e+00   \n",
       "review_scores_checkin                         4.770000e+00  4.930000e+00   \n",
       "review_scores_communication                   4.800000e+00  4.960000e+00   \n",
       "review_scores_location                        4.620000e+00  4.850000e+00   \n",
       "review_scores_value                           4.540000e+00  4.760000e+00   \n",
       "calculated_host_listings_count                2.000000e+00  5.000000e+00   \n",
       "calculated_host_listings_count_entire_homes   1.000000e+00  4.000000e+00   \n",
       "calculated_host_listings_count_private_rooms  0.000000e+00  0.000000e+00   \n",
       "calculated_host_listings_count_shared_rooms   0.000000e+00  0.000000e+00   \n",
       "reviews_per_month                             3.600000e-01  8.800000e-01   \n",
       "\n",
       "                                                       75%           max  \n",
       "id                                            8.904785e+17  1.054471e+18  \n",
       "scrape_id                                     2.023123e+13  2.023123e+13  \n",
       "host_id                                       4.243197e+08  5.500382e+08  \n",
       "host_listings_count                           1.400000e+01  4.660000e+02  \n",
       "host_total_listings_count                     1.700000e+01  7.120000e+02  \n",
       "latitude                                      4.104598e+01  4.147988e+01  \n",
       "longitude                                     2.901028e+01  2.989056e+01  \n",
       "accommodates                                  4.000000e+00  6.000000e+00  \n",
       "beds                                          2.000000e+00  5.400000e+01  \n",
       "minimum_nights                                3.000000e+00  9.990000e+02  \n",
       "maximum_nights                                1.125000e+03  9.999000e+03  \n",
       "minimum_minimum_nights                        3.000000e+00  3.650000e+02  \n",
       "maximum_minimum_nights                        3.000000e+00  3.650000e+02  \n",
       "minimum_maximum_nights                        1.125000e+03  2.500000e+03  \n",
       "maximum_maximum_nights                        1.125000e+03  2.500000e+03  \n",
       "minimum_nights_avg_ntm                        3.000000e+00  3.650000e+02  \n",
       "maximum_nights_avg_ntm                        1.125000e+03  2.500000e+03  \n",
       "availability_30                               2.800000e+01  3.000000e+01  \n",
       "availability_60                               5.700000e+01  6.000000e+01  \n",
       "availability_90                               8.700000e+01  9.000000e+01  \n",
       "availability_365                              3.590000e+02  3.650000e+02  \n",
       "number_of_reviews                             2.900000e+01  1.248000e+03  \n",
       "number_of_reviews_ltm                         1.500000e+01  2.740000e+02  \n",
       "number_of_reviews_l30d                        1.000000e+00  2.600000e+01  \n",
       "review_scores_rating                          5.000000e+00  5.000000e+00  \n",
       "review_scores_accuracy                        5.000000e+00  5.000000e+00  \n",
       "review_scores_cleanliness                     5.000000e+00  5.000000e+00  \n",
       "review_scores_checkin                         5.000000e+00  5.000000e+00  \n",
       "review_scores_communication                   5.000000e+00  5.000000e+00  \n",
       "review_scores_location                        5.000000e+00  5.000000e+00  \n",
       "review_scores_value                           5.000000e+00  5.000000e+00  \n",
       "calculated_host_listings_count                1.300000e+01  3.700000e+02  \n",
       "calculated_host_listings_count_entire_homes   1.100000e+01  3.700000e+02  \n",
       "calculated_host_listings_count_private_rooms  1.000000e+00  5.100000e+01  \n",
       "calculated_host_listings_count_shared_rooms   0.000000e+00  1.300000e+01  \n",
       "reviews_per_month                             1.780000e+00  1.722000e+01  "
      ]
     },
     "execution_count": 18,
     "metadata": {},
     "output_type": "execute_result"
    }
   ],
   "source": [
    "# Summary statistics for numeric variables in raw data\n",
    "data.describe().T"
   ]
  },
  {
   "cell_type": "code",
   "execution_count": 19,
   "metadata": {
    "tags": []
   },
   "outputs": [
    {
     "data": {
      "text/plain": [
       "count     13,182.0\n",
       "mean       2,294.2\n",
       "std        5,803.4\n",
       "min          197.0\n",
       "1%           400.0\n",
       "10%          848.1\n",
       "25%        1,216.0\n",
       "50%        1,797.0\n",
       "75%        2,642.8\n",
       "90%        3,888.0\n",
       "99%        9,198.0\n",
       "max      600,000.0\n",
       "Name: price, dtype: object"
      ]
     },
     "execution_count": 19,
     "metadata": {},
     "output_type": "execute_result"
    }
   ],
   "source": [
    "# Price column will be our target column to predict \n",
    "# It is not numeric in original data\n",
    "# Remove dollar sign and commas, then convert to float\n",
    "data['price'] = data['price'].replace('[\\$,]', '', regex=True).astype(float)\n",
    "data.price.describe(percentiles = [0.01, 0.1, 0.25, 0.5, 0.75, 0.9, 0.99]).map('{:,.1f}'.format)"
   ]
  },
  {
   "cell_type": "markdown",
   "metadata": {},
   "source": [
    "The range of prices is quite wide. The maksimum value of 600K might not be a nightly price. The `mean` is `2,294 USD` and `median` is `1,797 USD`. We will handle extreme values before applying forecasting models."
   ]
  },
  {
   "cell_type": "code",
   "execution_count": 21,
   "metadata": {},
   "outputs": [],
   "source": [
    "# These rate columns are object-type in raw data and I converted to float-type\n",
    "# Remove '%' symbol and convert to float for 'host_response_rate' column\n",
    "data['host_response_rate'] = data['host_response_rate'].str.rstrip('%').astype(float)\n",
    "\n",
    "# Remove '%' symbol and convert to float for 'host_acceptance_rate' column\n",
    "data['host_acceptance_rate'] = data['host_acceptance_rate'].str.rstrip('%').astype(float)"
   ]
  },
  {
   "cell_type": "code",
   "execution_count": 27,
   "metadata": {
    "tags": []
   },
   "outputs": [
    {
     "data": {
      "text/plain": [
       "number_of_reviews\n",
       "1       1490\n",
       "2        969\n",
       "3        746\n",
       "4        635\n",
       "5        494\n",
       "        ... \n",
       "457        1\n",
       "473        1\n",
       "507        1\n",
       "705        1\n",
       "1248       1\n",
       "Name: count, Length: 290, dtype: int64"
      ]
     },
     "execution_count": 27,
     "metadata": {},
     "output_type": "execute_result"
    }
   ],
   "source": [
    "# Number of reviews\n",
    "data.number_of_reviews.value_counts().sort_index()"
   ]
  },
  {
   "cell_type": "markdown",
   "metadata": {},
   "source": [
    "The accomodation with the heighst review number has 1248 reviews."
   ]
  },
  {
   "cell_type": "markdown",
   "metadata": {},
   "source": [
    "***categorical variables***"
   ]
  },
  {
   "cell_type": "code",
   "execution_count": 160,
   "metadata": {},
   "outputs": [
    {
     "data": {
      "text/plain": [
       "array(['[]'], dtype=object)"
      ]
     },
     "execution_count": 160,
     "metadata": {},
     "output_type": "execute_result"
    }
   ],
   "source": [
    "# Although 'amenities' column looks like non-emty, it has empty lists. We will not be able to use this column\n",
    "data.amenities.unique()"
   ]
  },
  {
   "cell_type": "code",
   "execution_count": 161,
   "metadata": {
    "tags": []
   },
   "outputs": [
    {
     "data": {
      "text/plain": [
       "room_type\n",
       "Entire home/apt    10423\n",
       "Private room        1307\n",
       "Shared room           11\n",
       "Name: count, dtype: int64"
      ]
     },
     "execution_count": 161,
     "metadata": {},
     "output_type": "execute_result"
    }
   ],
   "source": [
    "# Room type\n",
    "data.room_type.value_counts()"
   ]
  },
  {
   "cell_type": "code",
   "execution_count": 23,
   "metadata": {},
   "outputs": [],
   "source": [
    "# I decided to remove the rows where `room_type` column has 'Hotel room', since we focus on apartments\n",
    "data = data[data['room_type'] != 'Hotel room']"
   ]
  },
  {
   "cell_type": "code",
   "execution_count": 24,
   "metadata": {
    "tags": []
   },
   "outputs": [
    {
     "data": {
      "text/plain": [
       "property_type\n",
       "Entire rental unit             8041\n",
       "Private room in rental unit     880\n",
       "Entire serviced apartment       807\n",
       "Entire condo                    779\n",
       "Entire home                     562\n",
       "                               ... \n",
       "Barn                              1\n",
       "Room in heritage hotel            1\n",
       "Boat                              1\n",
       "Island                            1\n",
       "Shared room in guesthouse         1\n",
       "Name: count, Length: 64, dtype: int64"
      ]
     },
     "execution_count": 24,
     "metadata": {},
     "output_type": "execute_result"
    }
   ],
   "source": [
    "# Property type\n",
    "data.property_type.value_counts()"
   ]
  },
  {
   "cell_type": "code",
   "execution_count": 25,
   "metadata": {},
   "outputs": [],
   "source": [
    "# I decided to remove the rows where `property_type` column contains words hotel or hostel.\n",
    "data = data[~data['property_type'].str.contains('hotel|hostel', case=False)]"
   ]
  },
  {
   "cell_type": "code",
   "execution_count": 26,
   "metadata": {},
   "outputs": [],
   "source": [
    "# Since there are too many property types and most of them have only few observations, I decided to remove types that\n",
    "# have less 10 observations\n",
    "# Count occurrences of each property type\n",
    "property_counts = data['property_type'].value_counts()\n",
    "\n",
    "# Filter out property types with less than 10 occurrences\n",
    "property_types_to_keep = property_counts[property_counts >= 10].index\n",
    "\n",
    "# Filter the DataFrame to keep only rows with property types that have at least 10 occurrences\n",
    "data = data[data['property_type'].isin(property_types_to_keep)]"
   ]
  },
  {
   "cell_type": "code",
   "execution_count": 28,
   "metadata": {
    "tags": []
   },
   "outputs": [
    {
     "data": {
      "text/plain": [
       "neighbourhood_cleansed\n",
       "Beyoglu          3683\n",
       "Sisli            1628\n",
       "Kadikoy          1355\n",
       "Fatih            1177\n",
       "Besiktas          802\n",
       "Esenyurt          357\n",
       "Uskudar           328\n",
       "Kagithane         307\n",
       "Bagcilar          257\n",
       "Atasehir          213\n",
       "Maltepe           163\n",
       "Bahcelievler      155\n",
       "Avcilar           112\n",
       "Pendik            110\n",
       "Sariyer           109\n",
       "Adalar            105\n",
       "Bakirkoy          101\n",
       "Umraniye           88\n",
       "Eyup               87\n",
       "Basaksehir         87\n",
       "Kartal             77\n",
       "Sile               77\n",
       "Zeytinburnu        73\n",
       "Kucukcekmece       71\n",
       "Beylikduzu         65\n",
       "Arnavutkoy         46\n",
       "Buyukcekmece       43\n",
       "Beykoz             36\n",
       "Gaziosmanpasa      28\n",
       "Tuzla              27\n",
       "Gungoren           22\n",
       "Bayrampasa         20\n",
       "Silivri            12\n",
       "Cekmekoy           11\n",
       "Esenler             9\n",
       "Sultangazi          7\n",
       "Catalca             5\n",
       "Sancaktepe          4\n",
       "Sultanbeyli         3\n",
       "Name: count, dtype: int64"
      ]
     },
     "execution_count": 28,
     "metadata": {},
     "output_type": "execute_result"
    }
   ],
   "source": [
    "# Check unique boroughs in Istanbul\n",
    "data.neighbourhood_cleansed.value_counts()"
   ]
  },
  {
   "cell_type": "code",
   "execution_count": 29,
   "metadata": {},
   "outputs": [
    {
     "data": {
      "text/plain": [
       "array(['1 bath', '2 baths', '1.5 baths', '1.5 shared baths',\n",
       "       '1 shared bath', '1 private bath', '2 shared baths', '2.5 baths',\n",
       "       'Half-bath', '3 baths', '3.5 baths', '0 baths', '5 baths',\n",
       "       '4 baths', '4 shared baths', 'Shared half-bath', '0 shared baths',\n",
       "       '3 shared baths', '2.5 shared baths'], dtype=object)"
      ]
     },
     "execution_count": 29,
     "metadata": {},
     "output_type": "execute_result"
    }
   ],
   "source": [
    "# We need to check the 'bathrooms_text' column as a potential explanatory variable ('bathrooms' column is empty)\n",
    "data.bathrooms_text.unique()"
   ]
  },
  {
   "cell_type": "code",
   "execution_count": 30,
   "metadata": {},
   "outputs": [],
   "source": [
    "# We need to convert the string values to numeric values to be able to use \n",
    "# Define a mapping dictionary\n",
    "mapping = {\n",
    "    '1 bath': 1,\n",
    "    '1.5 baths': 1.5,\n",
    "    '1 shared bath': 1,\n",
    "    '2 baths': 2,\n",
    "    '1.5 shared baths': 1.5,\n",
    "    '1 private bath': 1,\n",
    "    'Half-bath': 0.5,\n",
    "    'Shared half-bath': 0.5,\n",
    "    '3 baths': 3,\n",
    "    '3.5 baths': 3.5,\n",
    "    '0 baths': 0,\n",
    "    '0 shared baths': 0,\n",
    "    '2.5 baths': 2.5,\n",
    "    '2.5 shared baths': 2.5,\n",
    "    '2 shared baths': 2,\n",
    "    '3 shared baths': 3,\n",
    "    '4 baths': 4,\n",
    "    '4 shared baths': 4,\n",
    "    '5 baths': 5,\n",
    "    \n",
    "}\n",
    "\n",
    "# Map the values in the 'bathroom_description' column to numeric values using the mapping dictionary\n",
    "data['n_bathrooms'] = data['bathrooms_text'].map(mapping)"
   ]
  },
  {
   "cell_type": "code",
   "execution_count": 31,
   "metadata": {},
   "outputs": [
    {
     "data": {
      "text/plain": [
       "array(['t', 't', 't', ..., 'f', 't', 't'], dtype=object)"
      ]
     },
     "execution_count": 31,
     "metadata": {},
     "output_type": "execute_result"
    }
   ],
   "source": [
    "data.host_is_superhost.values"
   ]
  },
  {
   "cell_type": "code",
   "execution_count": 32,
   "metadata": {},
   "outputs": [
    {
     "data": {
      "text/plain": [
       "array([1, 0], dtype=int64)"
      ]
     },
     "execution_count": 32,
     "metadata": {},
     "output_type": "execute_result"
    }
   ],
   "source": [
    "# Convert the 'host_is_superhost' to a dummy variable\n",
    "data['host_is_superhost'] = data['host_is_superhost'].replace({'t': 1, 'f': 0})\n",
    "data.host_is_superhost.unique()"
   ]
  },
  {
   "cell_type": "code",
   "execution_count": 33,
   "metadata": {},
   "outputs": [
    {
     "data": {
      "image/png": "[encoded data removed]",
      "text/plain": [
       "<Figure size 1000x600 with 1 Axes>"
      ]
     },
     "metadata": {},
     "output_type": "display_data"
    },
    {
     "data": {
      "image/png": "[encoded data removed]",
      "text/plain": [
       "<Figure size 1000x600 with 1 Axes>"
      ]
     },
     "metadata": {},
     "output_type": "display_data"
    }
   ],
   "source": [
    "# Check for extreme values\n",
    "import matplotlib.pyplot as plt\n",
    "import seaborn as sns\n",
    "\n",
    "# Visualize distribution of 'price' column\n",
    "plt.figure(figsize=(10, 6))\n",
    "sns.histplot(data['price'], kde=True, color='blue', bins=30)\n",
    "plt.title('Distribution of Price')\n",
    "plt.xlabel('Price')\n",
    "plt.ylabel('Frequency')\n",
    "plt.show()\n",
    "\n",
    "# Define threshold for outliers (e.g., 99th percentile)\n",
    "threshold = data['price'].quantile(0.99)\n",
    "\n",
    "# Remove outliers\n",
    "data = data[data['price'] <= threshold]\n",
    "\n",
    "# Visualize distribution of 'price' column after removing outliers\n",
    "plt.figure(figsize=(10, 6))\n",
    "sns.histplot(data['price'], kde=True, color='green', bins=30)\n",
    "plt.title('Distribution of Price (After Removing Outliers)')\n",
    "plt.xlabel('Price')\n",
    "plt.ylabel('Frequency')\n",
    "plt.show()\n"
   ]
  },
  {
   "cell_type": "code",
   "execution_count": 34,
   "metadata": {},
   "outputs": [
    {
     "data": {
      "image/png": "[encoded data removed]",
      "text/plain": [
       "<Figure size 1000x600 with 1 Axes>"
      ]
     },
     "metadata": {},
     "output_type": "display_data"
    }
   ],
   "source": [
    "# Even after outlier/extreme value removal, the distribution of prices are right-skewed.\n",
    "# I decided to use ln(price) observations which have more normal distribution\n",
    "\n",
    "# Add a new column of ln(price)\n",
    "data['ln_price'] = np.log(data['price'])\n",
    "\n",
    "# Visualize distribution of ln(price) column\n",
    "plt.figure(figsize=(10, 6))\n",
    "sns.histplot(data['ln_price'], kde=True, color='orange', bins=30)\n",
    "plt.title('Distribution of ln(price)')\n",
    "plt.xlabel('ln(Price)')\n",
    "plt.ylabel('Frequency')\n",
    "plt.show()"
   ]
  },
  {
   "cell_type": "markdown",
   "metadata": {},
   "source": [
    "### Feature Engineering"
   ]
  },
  {
   "cell_type": "markdown",
   "metadata": {},
   "source": [
    "The most important task in this part is `variable selection`: what variables to have in the model\n",
    "and in what functional forms, including potential interactions. Another step in this part to split the data as train and test datasets. We train a model on the train data and then test the performance of the model on the test data that we do not use in any step of model creation."
   ]
  },
  {
   "cell_type": "code",
   "execution_count": 35,
   "metadata": {},
   "outputs": [],
   "source": [
    "# Rename the columns to have a better understanding\n",
    "# Define a mapping dictionary for renaming\n",
    "mapping = {'host_response_time': 'f_host_response_time', \n",
    "           'host_response_rate': 'n_host_response_rate',\n",
    "           'host_acceptance_rate': 'n_host_acceptance_rate', \n",
    "           'host_is_superhost': 'd_host_is_superhost',\n",
    "           'neighbourhood_cleansed': 'f_neighbourhood_cleansed', \n",
    "           'property_type': 'f_property_type',\n",
    "           'room_type': 'f_room_type', \n",
    "           'accommodates': 'n_accommodates', \n",
    "           'beds': 'n_beds', \n",
    "           'minimum_nights': 'n_minimum_nights', \n",
    "           'availability_365': 'n_availability_365',\n",
    "           'number_of_reviews': 'n_number_of_reviews', \n",
    "           'review_scores_rating': 'n_review_scores_rating'}\n",
    "\n",
    "# Rename columns using the mapping dictionary\n",
    "data_final = data.rename(columns=mapping)"
   ]
  },
  {
   "cell_type": "code",
   "execution_count": 162,
   "metadata": {
    "tags": []
   },
   "outputs": [],
   "source": [
    "# Split the data into two sets, namely train and test/holdout\n",
    "# Although the convention is to use 80/20 split, we use 70/30 split to work with a smaller train dataset\n",
    "data_train, data_holdout = train_test_split(data_final, train_size=0.7, random_state=42)"
   ]
  },
  {
   "cell_type": "code",
   "execution_count": 37,
   "metadata": {
    "tags": []
   },
   "outputs": [
    {
     "data": {
      "text/plain": [
       "((8218, 67), (3523, 67))"
      ]
     },
     "execution_count": 37,
     "metadata": {},
     "output_type": "execute_result"
    }
   ],
   "source": [
    "data_train.shape, data_holdout.shape"
   ]
  },
  {
   "cell_type": "code",
   "execution_count": 163,
   "metadata": {},
   "outputs": [
    {
     "data": {
      "text/plain": [
       "Index(['id', 'listing_url', 'scrape_id', 'last_scraped', 'source', 'name',\n",
       "       'picture_url', 'host_id', 'host_url', 'host_name', 'host_since',\n",
       "       'host_location', 'f_host_response_time', 'n_host_response_rate',\n",
       "       'n_host_acceptance_rate', 'd_host_is_superhost', 'host_thumbnail_url',\n",
       "       'host_picture_url', 'host_listings_count', 'host_total_listings_count',\n",
       "       'host_verifications', 'host_has_profile_pic', 'host_identity_verified',\n",
       "       'f_neighbourhood_cleansed', 'latitude', 'longitude', 'f_property_type',\n",
       "       'f_room_type', 'n_accommodates', 'bathrooms_text', 'n_beds',\n",
       "       'amenities', 'price', 'n_minimum_nights', 'maximum_nights',\n",
       "       'minimum_minimum_nights', 'maximum_minimum_nights',\n",
       "       'minimum_maximum_nights', 'maximum_maximum_nights',\n",
       "       'minimum_nights_avg_ntm', 'maximum_nights_avg_ntm', 'has_availability',\n",
       "       'availability_30', 'availability_60', 'availability_90',\n",
       "       'n_availability_365', 'calendar_last_scraped', 'n_number_of_reviews',\n",
       "       'number_of_reviews_ltm', 'number_of_reviews_l30d', 'first_review',\n",
       "       'last_review', 'n_review_scores_rating', 'review_scores_accuracy',\n",
       "       'review_scores_cleanliness', 'review_scores_checkin',\n",
       "       'review_scores_communication', 'review_scores_location',\n",
       "       'review_scores_value', 'instant_bookable',\n",
       "       'calculated_host_listings_count',\n",
       "       'calculated_host_listings_count_entire_homes',\n",
       "       'calculated_host_listings_count_private_rooms',\n",
       "       'calculated_host_listings_count_shared_rooms', 'reviews_per_month',\n",
       "       'n_bathrooms', 'ln_price'],\n",
       "      dtype='object')"
      ]
     },
     "execution_count": 163,
     "metadata": {},
     "output_type": "execute_result"
    }
   ],
   "source": [
    "# We renamed the columns in data to be used in our analysis by adding f_, n_ and d_ prefixes\n",
    "data_final.columns"
   ]
  },
  {
   "cell_type": "code",
   "execution_count": 39,
   "metadata": {},
   "outputs": [],
   "source": [
    "# We decided on the following group of variables to be used in ML models we will compare\n",
    "basic_vars = [\n",
    "    \"n_accommodates\",\n",
    "    \"n_beds\",\n",
    "    \"f_property_type\",\n",
    "    \"f_room_type\",\n",
    "    \"n_bathrooms\",\n",
    "    \"f_neighbourhood_cleansed\",\n",
    "    \"n_availability_365\", # column gives the number of days a listing is available out of 365 days\n",
    "    \"n_minimum_nights\", # Minimum number of nights to book the place\n",
    "    \"f_host_response_time\",\n",
    "    \"n_host_response_rate\",\n",
    "    \"n_host_acceptance_rate\",\n",
    "]\n",
    "\n",
    "# reviews\n",
    "reviews = [\n",
    "    \"n_number_of_reviews\",\n",
    "    \"n_review_scores_rating\",\n",
    "]\n",
    "\n",
    "# dummy variables\n",
    "super_host = [\"d_host_is_superhost\"]\n",
    "\n",
    "# interactions for the LASSO\n",
    "X1 = [\n",
    "    \"n_accommodates:f_property_type\",\n",
    "    \"f_room_type:f_property_type\",\n",
    "]\n",
    "# with boroughs\n",
    "X2 = [\n",
    "    \"f_property_type:f_neighbourhood_cleansed\",\n",
    "    \"f_room_type:f_neighbourhood_cleansed\",\n",
    "    \"n_accommodates:f_neighbourhood_cleansed\",\n",
    "]"
   ]
  },
  {
   "cell_type": "code",
   "execution_count": 40,
   "metadata": {},
   "outputs": [],
   "source": [
    "predictors_1 = basic_vars\n",
    "predictors_2 = basic_vars + reviews + super_host\n",
    "predictors_E = basic_vars + reviews + X1 + X2"
   ]
  },
  {
   "cell_type": "markdown",
   "metadata": {},
   "source": [
    "### Modelling"
   ]
  },
  {
   "cell_type": "markdown",
   "metadata": {},
   "source": [
    "We start modelling with Random Forest model. We will explore in details the contribution of factors that determines the price of an accommodation Then we compare the overall performance of this model with Ordinary Least Square (`OLS`), `LASSO` and Gradient Boosting Machine (`GBM`)."
   ]
  },
  {
   "cell_type": "markdown",
   "metadata": {
    "tags": []
   },
   "source": [
    "##### Model1: Random Forest"
   ]
  },
  {
   "cell_type": "markdown",
   "metadata": {},
   "source": [
    "A random forest is a meta estimator that fits a number of classifying decision trees on various sub-samples of the dataset and uses averaging to improve the predictive accuracy and control over-fitting. "
   ]
  },
  {
   "cell_type": "code",
   "execution_count": 41,
   "metadata": {},
   "outputs": [],
   "source": [
    "# Create y-vector (dependant variable) and X-matrice (explanatory variables)\n",
    "y, X = dmatrices(\"ln_price ~ \" + \" + \".join(predictors_2), data_train) # we created this to compare OLS with log(price)\n",
    "y2, X22 = dmatrices(\"price ~ \" + \" + \".join(predictors_2), data_train) "
   ]
  },
  {
   "cell_type": "code",
   "execution_count": 164,
   "metadata": {
    "tags": []
   },
   "outputs": [
    {
     "data": {
      "text/plain": [
       "DesignMatrix with shape (8218, 1091)\n",
       "  Columns:\n",
       "    ['Intercept',\n",
       "     'f_property_type[T.Entire condo]',\n",
       "     'f_property_type[T.Entire guest suite]',\n",
       "     'f_property_type[T.Entire guesthouse]',\n",
       "     'f_property_type[T.Entire home]',\n",
       "     'f_property_type[T.Entire loft]',\n",
       "     'f_property_type[T.Entire place]',\n",
       "     'f_property_type[T.Entire rental unit]',\n",
       "     'f_property_type[T.Entire serviced apartment]',\n",
       "     'f_property_type[T.Entire townhouse]',\n",
       "     'f_property_type[T.Entire vacation home]',\n",
       "     'f_property_type[T.Entire villa]',\n",
       "     'f_property_type[T.Private room in bed and breakfast]',\n",
       "     'f_property_type[T.Private room in condo]',\n",
       "     'f_property_type[T.Private room in guesthouse]',\n",
       "     'f_property_type[T.Private room in home]',\n",
       "     'f_property_type[T.Private room in loft]',\n",
       "     'f_property_type[T.Private room in rental unit]',\n",
       "     'f_property_type[T.Private room in serviced apartment]',\n",
       "     'f_property_type[T.Private room in townhouse]',\n",
       "     'f_property_type[T.Shared room in rental unit]',\n",
       "     'f_property_type[T.Tiny home]',\n",
       "     'f_property_type[T.Tower]',\n",
       "     'f_room_type[T.Private room]',\n",
       "     'f_room_type[T.Shared room]',\n",
       "     'f_neighbourhood_cleansed[T.Arnavutkoy]',\n",
       "     'f_neighbourhood_cleansed[T.Atasehir]',\n",
       "     'f_neighbourhood_cleansed[T.Avcilar]',\n",
       "     'f_neighbourhood_cleansed[T.Bagcilar]',\n",
       "     'f_neighbourhood_cleansed[T.Bahcelievler]',\n",
       "     'f_neighbourhood_cleansed[T.Bakirkoy]',\n",
       "     'f_neighbourhood_cleansed[T.Basaksehir]',\n",
       "     'f_neighbourhood_cleansed[T.Bayrampasa]',\n",
       "     'f_neighbourhood_cleansed[T.Besiktas]',\n",
       "     'f_neighbourhood_cleansed[T.Beykoz]',\n",
       "     'f_neighbourhood_cleansed[T.Beylikduzu]',\n",
       "     'f_neighbourhood_cleansed[T.Beyoglu]',\n",
       "     'f_neighbourhood_cleansed[T.Buyukcekmece]',\n",
       "     'f_neighbourhood_cleansed[T.Catalca]',\n",
       "     'f_neighbourhood_cleansed[T.Cekmekoy]',\n",
       "     'f_neighbourhood_cleansed[T.Esenler]',\n",
       "     'f_neighbourhood_cleansed[T.Esenyurt]',\n",
       "     'f_neighbourhood_cleansed[T.Eyup]',\n",
       "     'f_neighbourhood_cleansed[T.Fatih]',\n",
       "     'f_neighbourhood_cleansed[T.Gaziosmanpasa]',\n",
       "     'f_neighbourhood_cleansed[T.Gungoren]',\n",
       "     'f_neighbourhood_cleansed[T.Kadikoy]',\n",
       "     'f_neighbourhood_cleansed[T.Kagithane]',\n",
       "     'f_neighbourhood_cleansed[T.Kartal]',\n",
       "     'f_neighbourhood_cleansed[T.Kucukcekmece]',\n",
       "     'f_neighbourhood_cleansed[T.Maltepe]',\n",
       "     'f_neighbourhood_cleansed[T.Pendik]',\n",
       "     'f_neighbourhood_cleansed[T.Sancaktepe]',\n",
       "     'f_neighbourhood_cleansed[T.Sariyer]',\n",
       "     'f_neighbourhood_cleansed[T.Sile]',\n",
       "     'f_neighbourhood_cleansed[T.Silivri]',\n",
       "     'f_neighbourhood_cleansed[T.Sisli]',\n",
       "     'f_neighbourhood_cleansed[T.Sultanbeyli]',\n",
       "     'f_neighbourhood_cleansed[T.Sultangazi]',\n",
       "     'f_neighbourhood_cleansed[T.Tuzla]',\n",
       "     'f_neighbourhood_cleansed[T.Umraniye]',\n",
       "     'f_neighbourhood_cleansed[T.Uskudar]',\n",
       "     'f_neighbourhood_cleansed[T.Zeytinburnu]',\n",
       "     'f_host_response_time[T.within a day]',\n",
       "     'f_host_response_time[T.within a few hours]',\n",
       "     'f_host_response_time[T.within an hour]',\n",
       "     'f_room_type[T.Private room]:f_property_type[T.Entire condo]',\n",
       "     'f_room_type[T.Shared room]:f_property_type[T.Entire condo]',\n",
       "     'f_room_type[T.Private room]:f_property_type[T.Entire guest suite]',\n",
       "     'f_room_type[T.Shared room]:f_property_type[T.Entire guest suite]',\n",
       "     'f_room_type[T.Private room]:f_property_type[T.Entire guesthouse]',\n",
       "     'f_room_type[T.Shared room]:f_property_type[T.Entire guesthouse]',\n",
       "     'f_room_type[T.Private room]:f_property_type[T.Entire home]',\n",
       "     'f_room_type[T.Shared room]:f_property_type[T.Entire home]',\n",
       "     'f_room_type[T.Private room]:f_property_type[T.Entire loft]',\n",
       "     'f_room_type[T.Shared room]:f_property_type[T.Entire loft]',\n",
       "     'f_room_type[T.Private room]:f_property_type[T.Entire place]',\n",
       "     'f_room_type[T.Shared room]:f_property_type[T.Entire place]',\n",
       "     'f_room_type[T.Private room]:f_property_type[T.Entire rental unit]',\n",
       "     'f_room_type[T.Shared room]:f_property_type[T.Entire rental unit]',\n",
       "     'f_room_type[T.Private room]:f_property_type[T.Entire serviced apartment]',\n",
       "     'f_room_type[T.Shared room]:f_property_type[T.Entire serviced apartment]',\n",
       "     'f_room_type[T.Private room]:f_property_type[T.Entire townhouse]',\n",
       "     'f_room_type[T.Shared room]:f_property_type[T.Entire townhouse]',\n",
       "     'f_room_type[T.Private room]:f_property_type[T.Entire vacation home]',\n",
       "     'f_room_type[T.Shared room]:f_property_type[T.Entire vacation home]',\n",
       "     'f_room_type[T.Private room]:f_property_type[T.Entire villa]',\n",
       "     'f_room_type[T.Shared room]:f_property_type[T.Entire villa]',\n",
       "     'f_room_type[T.Private room]:f_property_type[T.Private room in bed and breakfast]',\n",
       "     'f_room_type[T.Shared room]:f_property_type[T.Private room in bed and breakfast]',\n",
       "     'f_room_type[T.Private room]:f_property_type[T.Private room in condo]',\n",
       "     'f_room_type[T.Shared room]:f_property_type[T.Private room in condo]',\n",
       "     'f_room_type[T.Private room]:f_property_type[T.Private room in guesthouse]',\n",
       "     'f_room_type[T.Shared room]:f_property_type[T.Private room in guesthouse]',\n",
       "     'f_room_type[T.Private room]:f_property_type[T.Private room in home]',\n",
       "     'f_room_type[T.Shared room]:f_property_type[T.Private room in home]',\n",
       "     'f_room_type[T.Private room]:f_property_type[T.Private room in loft]',\n",
       "     'f_room_type[T.Shared room]:f_property_type[T.Private room in loft]',\n",
       "     'f_room_type[T.Private room]:f_property_type[T.Private room in rental unit]',\n",
       "     'f_room_type[T.Shared room]:f_property_type[T.Private room in rental unit]',\n",
       "     'f_room_type[T.Private room]:f_property_type[T.Private room in serviced apartment]',\n",
       "     'f_room_type[T.Shared room]:f_property_type[T.Private room in serviced apartment]',\n",
       "     'f_room_type[T.Private room]:f_property_type[T.Private room in townhouse]',\n",
       "     'f_room_type[T.Shared room]:f_property_type[T.Private room in townhouse]',\n",
       "     'f_room_type[T.Private room]:f_property_type[T.Shared room in rental unit]',\n",
       "     'f_room_type[T.Shared room]:f_property_type[T.Shared room in rental unit]',\n",
       "     'f_room_type[T.Private room]:f_property_type[T.Tiny home]',\n",
       "     'f_room_type[T.Shared room]:f_property_type[T.Tiny home]',\n",
       "     'f_room_type[T.Private room]:f_property_type[T.Tower]',\n",
       "     'f_room_type[T.Shared room]:f_property_type[T.Tower]',\n",
       "     'f_property_type[T.Entire condo]:f_neighbourhood_cleansed[T.Arnavutkoy]',\n",
       "     'f_property_type[T.Entire guest suite]:f_neighbourhood_cleansed[T.Arnavutkoy]',\n",
       "     'f_property_type[T.Entire guesthouse]:f_neighbourhood_cleansed[T.Arnavutkoy]',\n",
       "     'f_property_type[T.Entire home]:f_neighbourhood_cleansed[T.Arnavutkoy]',\n",
       "     'f_property_type[T.Entire loft]:f_neighbourhood_cleansed[T.Arnavutkoy]',\n",
       "     'f_property_type[T.Entire place]:f_neighbourhood_cleansed[T.Arnavutkoy]',\n",
       "     'f_property_type[T.Entire rental unit]:f_neighbourhood_cleansed[T.Arnavutkoy]',\n",
       "     'f_property_type[T.Entire serviced apartment]:f_neighbourhood_cleansed[T.Arnavutkoy]',\n",
       "     'f_property_type[T.Entire townhouse]:f_neighbourhood_cleansed[T.Arnavutkoy]',\n",
       "     'f_property_type[T.Entire vacation home]:f_neighbourhood_cleansed[T.Arnavutkoy]',\n",
       "     'f_property_type[T.Entire villa]:f_neighbourhood_cleansed[T.Arnavutkoy]',\n",
       "     'f_property_type[T.Private room in bed and breakfast]:f_neighbourhood_cleansed[T.Arnavutkoy]',\n",
       "     'f_property_type[T.Private room in condo]:f_neighbourhood_cleansed[T.Arnavutkoy]',\n",
       "     'f_property_type[T.Private room in guesthouse]:f_neighbourhood_cleansed[T.Arnavutkoy]',\n",
       "     'f_property_type[T.Private room in home]:f_neighbourhood_cleansed[T.Arnavutkoy]',\n",
       "     'f_property_type[T.Private room in loft]:f_neighbourhood_cleansed[T.Arnavutkoy]',\n",
       "     'f_property_type[T.Private room in rental unit]:f_neighbourhood_cleansed[T.Arnavutkoy]',\n",
       "     'f_property_type[T.Private room in serviced apartment]:f_neighbourhood_cleansed[T.Arnavutkoy]',\n",
       "     'f_property_type[T.Private room in townhouse]:f_neighbourhood_cleansed[T.Arnavutkoy]',\n",
       "     'f_property_type[T.Shared room in rental unit]:f_neighbourhood_cleansed[T.Arnavutkoy]',\n",
       "     'f_property_type[T.Tiny home]:f_neighbourhood_cleansed[T.Arnavutkoy]',\n",
       "     'f_property_type[T.Tower]:f_neighbourhood_cleansed[T.Arnavutkoy]',\n",
       "     'f_property_type[T.Entire condo]:f_neighbourhood_cleansed[T.Atasehir]',\n",
       "     'f_property_type[T.Entire guest suite]:f_neighbourhood_cleansed[T.Atasehir]',\n",
       "     'f_property_type[T.Entire guesthouse]:f_neighbourhood_cleansed[T.Atasehir]',\n",
       "     'f_property_type[T.Entire home]:f_neighbourhood_cleansed[T.Atasehir]',\n",
       "     'f_property_type[T.Entire loft]:f_neighbourhood_cleansed[T.Atasehir]',\n",
       "     'f_property_type[T.Entire place]:f_neighbourhood_cleansed[T.Atasehir]',\n",
       "     'f_property_type[T.Entire rental unit]:f_neighbourhood_cleansed[T.Atasehir]',\n",
       "     'f_property_type[T.Entire serviced apartment]:f_neighbourhood_cleansed[T.Atasehir]',\n",
       "     'f_property_type[T.Entire townhouse]:f_neighbourhood_cleansed[T.Atasehir]',\n",
       "     'f_property_type[T.Entire vacation home]:f_neighbourhood_cleansed[T.Atasehir]',\n",
       "     'f_property_type[T.Entire villa]:f_neighbourhood_cleansed[T.Atasehir]',\n",
       "     'f_property_type[T.Private room in bed and breakfast]:f_neighbourhood_cleansed[T.Atasehir]',\n",
       "     'f_property_type[T.Private room in condo]:f_neighbourhood_cleansed[T.Atasehir]',\n",
       "     'f_property_type[T.Private room in guesthouse]:f_neighbourhood_cleansed[T.Atasehir]',\n",
       "     'f_property_type[T.Private room in home]:f_neighbourhood_cleansed[T.Atasehir]',\n",
       "     'f_property_type[T.Private room in loft]:f_neighbourhood_cleansed[T.Atasehir]',\n",
       "     'f_property_type[T.Private room in rental unit]:f_neighbourhood_cleansed[T.Atasehir]',\n",
       "     'f_property_type[T.Private room in serviced apartment]:f_neighbourhood_cleansed[T.Atasehir]',\n",
       "     'f_property_type[T.Private room in townhouse]:f_neighbourhood_cleansed[T.Atasehir]',\n",
       "     'f_property_type[T.Shared room in rental unit]:f_neighbourhood_cleansed[T.Atasehir]',\n",
       "     'f_property_type[T.Tiny home]:f_neighbourhood_cleansed[T.Atasehir]',\n",
       "     'f_property_type[T.Tower]:f_neighbourhood_cleansed[T.Atasehir]',\n",
       "     'f_property_type[T.Entire condo]:f_neighbourhood_cleansed[T.Avcilar]',\n",
       "     'f_property_type[T.Entire guest suite]:f_neighbourhood_cleansed[T.Avcilar]',\n",
       "     'f_property_type[T.Entire guesthouse]:f_neighbourhood_cleansed[T.Avcilar]',\n",
       "     'f_property_type[T.Entire home]:f_neighbourhood_cleansed[T.Avcilar]',\n",
       "     'f_property_type[T.Entire loft]:f_neighbourhood_cleansed[T.Avcilar]',\n",
       "     'f_property_type[T.Entire place]:f_neighbourhood_cleansed[T.Avcilar]',\n",
       "     'f_property_type[T.Entire rental unit]:f_neighbourhood_cleansed[T.Avcilar]',\n",
       "     'f_property_type[T.Entire serviced apartment]:f_neighbourhood_cleansed[T.Avcilar]',\n",
       "     'f_property_type[T.Entire townhouse]:f_neighbourhood_cleansed[T.Avcilar]',\n",
       "     'f_property_type[T.Entire vacation home]:f_neighbourhood_cleansed[T.Avcilar]',\n",
       "     'f_property_type[T.Entire villa]:f_neighbourhood_cleansed[T.Avcilar]',\n",
       "     'f_property_type[T.Private room in bed and breakfast]:f_neighbourhood_cleansed[T.Avcilar]',\n",
       "     'f_property_type[T.Private room in condo]:f_neighbourhood_cleansed[T.Avcilar]',\n",
       "     'f_property_type[T.Private room in guesthouse]:f_neighbourhood_cleansed[T.Avcilar]',\n",
       "     'f_property_type[T.Private room in home]:f_neighbourhood_cleansed[T.Avcilar]',\n",
       "     'f_property_type[T.Private room in loft]:f_neighbourhood_cleansed[T.Avcilar]',\n",
       "     'f_property_type[T.Private room in rental unit]:f_neighbourhood_cleansed[T.Avcilar]',\n",
       "     'f_property_type[T.Private room in serviced apartment]:f_neighbourhood_cleansed[T.Avcilar]',\n",
       "     'f_property_type[T.Private room in townhouse]:f_neighbourhood_cleansed[T.Avcilar]',\n",
       "     'f_property_type[T.Shared room in rental unit]:f_neighbourhood_cleansed[T.Avcilar]',\n",
       "     'f_property_type[T.Tiny home]:f_neighbourhood_cleansed[T.Avcilar]',\n",
       "     'f_property_type[T.Tower]:f_neighbourhood_cleansed[T.Avcilar]',\n",
       "     'f_property_type[T.Entire condo]:f_neighbourhood_cleansed[T.Bagcilar]',\n",
       "     'f_property_type[T.Entire guest suite]:f_neighbourhood_cleansed[T.Bagcilar]',\n",
       "     'f_property_type[T.Entire guesthouse]:f_neighbourhood_cleansed[T.Bagcilar]',\n",
       "     'f_property_type[T.Entire home]:f_neighbourhood_cleansed[T.Bagcilar]',\n",
       "     'f_property_type[T.Entire loft]:f_neighbourhood_cleansed[T.Bagcilar]',\n",
       "     'f_property_type[T.Entire place]:f_neighbourhood_cleansed[T.Bagcilar]',\n",
       "     'f_property_type[T.Entire rental unit]:f_neighbourhood_cleansed[T.Bagcilar]',\n",
       "     'f_property_type[T.Entire serviced apartment]:f_neighbourhood_cleansed[T.Bagcilar]',\n",
       "     'f_property_type[T.Entire townhouse]:f_neighbourhood_cleansed[T.Bagcilar]',\n",
       "     'f_property_type[T.Entire vacation home]:f_neighbourhood_cleansed[T.Bagcilar]',\n",
       "     'f_property_type[T.Entire villa]:f_neighbourhood_cleansed[T.Bagcilar]',\n",
       "     'f_property_type[T.Private room in bed and breakfast]:f_neighbourhood_cleansed[T.Bagcilar]',\n",
       "     'f_property_type[T.Private room in condo]:f_neighbourhood_cleansed[T.Bagcilar]',\n",
       "     'f_property_type[T.Private room in guesthouse]:f_neighbourhood_cleansed[T.Bagcilar]',\n",
       "     'f_property_type[T.Private room in home]:f_neighbourhood_cleansed[T.Bagcilar]',\n",
       "     'f_property_type[T.Private room in loft]:f_neighbourhood_cleansed[T.Bagcilar]',\n",
       "     'f_property_type[T.Private room in rental unit]:f_neighbourhood_cleansed[T.Bagcilar]',\n",
       "     'f_property_type[T.Private room in serviced apartment]:f_neighbourhood_cleansed[T.Bagcilar]',\n",
       "     'f_property_type[T.Private room in townhouse]:f_neighbourhood_cleansed[T.Bagcilar]',\n",
       "     'f_property_type[T.Shared room in rental unit]:f_neighbourhood_cleansed[T.Bagcilar]',\n",
       "     'f_property_type[T.Tiny home]:f_neighbourhood_cleansed[T.Bagcilar]',\n",
       "     'f_property_type[T.Tower]:f_neighbourhood_cleansed[T.Bagcilar]',\n",
       "     'f_property_type[T.Entire condo]:f_neighbourhood_cleansed[T.Bahcelievler]',\n",
       "     'f_property_type[T.Entire guest suite]:f_neighbourhood_cleansed[T.Bahcelievler]',\n",
       "     'f_property_type[T.Entire guesthouse]:f_neighbourhood_cleansed[T.Bahcelievler]',\n",
       "     'f_property_type[T.Entire home]:f_neighbourhood_cleansed[T.Bahcelievler]',\n",
       "     'f_property_type[T.Entire loft]:f_neighbourhood_cleansed[T.Bahcelievler]',\n",
       "     'f_property_type[T.Entire place]:f_neighbourhood_cleansed[T.Bahcelievler]',\n",
       "     'f_property_type[T.Entire rental unit]:f_neighbourhood_cleansed[T.Bahcelievler]',\n",
       "     'f_property_type[T.Entire serviced apartment]:f_neighbourhood_cleansed[T.Bahcelievler]',\n",
       "     'f_property_type[T.Entire townhouse]:f_neighbourhood_cleansed[T.Bahcelievler]',\n",
       "     'f_property_type[T.Entire vacation home]:f_neighbourhood_cleansed[T.Bahcelievler]',\n",
       "     'f_property_type[T.Entire villa]:f_neighbourhood_cleansed[T.Bahcelievler]',\n",
       "     'f_property_type[T.Private room in bed and breakfast]:f_neighbourhood_cleansed[T.Bahcelievler]',\n",
       "     'f_property_type[T.Private room in condo]:f_neighbourhood_cleansed[T.Bahcelievler]',\n",
       "     'f_property_type[T.Private room in guesthouse]:f_neighbourhood_cleansed[T.Bahcelievler]',\n",
       "     'f_property_type[T.Private room in home]:f_neighbourhood_cleansed[T.Bahcelievler]',\n",
       "     'f_property_type[T.Private room in loft]:f_neighbourhood_cleansed[T.Bahcelievler]',\n",
       "     'f_property_type[T.Private room in rental unit]:f_neighbourhood_cleansed[T.Bahcelievler]',\n",
       "     'f_property_type[T.Private room in serviced apartment]:f_neighbourhood_cleansed[T.Bahcelievler]',\n",
       "     'f_property_type[T.Private room in townhouse]:f_neighbourhood_cleansed[T.Bahcelievler]',\n",
       "     'f_property_type[T.Shared room in rental unit]:f_neighbourhood_cleansed[T.Bahcelievler]',\n",
       "     'f_property_type[T.Tiny home]:f_neighbourhood_cleansed[T.Bahcelievler]',\n",
       "     'f_property_type[T.Tower]:f_neighbourhood_cleansed[T.Bahcelievler]',\n",
       "     'f_property_type[T.Entire condo]:f_neighbourhood_cleansed[T.Bakirkoy]',\n",
       "     'f_property_type[T.Entire guest suite]:f_neighbourhood_cleansed[T.Bakirkoy]',\n",
       "     'f_property_type[T.Entire guesthouse]:f_neighbourhood_cleansed[T.Bakirkoy]',\n",
       "     'f_property_type[T.Entire home]:f_neighbourhood_cleansed[T.Bakirkoy]',\n",
       "     'f_property_type[T.Entire loft]:f_neighbourhood_cleansed[T.Bakirkoy]',\n",
       "     'f_property_type[T.Entire place]:f_neighbourhood_cleansed[T.Bakirkoy]',\n",
       "     'f_property_type[T.Entire rental unit]:f_neighbourhood_cleansed[T.Bakirkoy]',\n",
       "     'f_property_type[T.Entire serviced apartment]:f_neighbourhood_cleansed[T.Bakirkoy]',\n",
       "     'f_property_type[T.Entire townhouse]:f_neighbourhood_cleansed[T.Bakirkoy]',\n",
       "     'f_property_type[T.Entire vacation home]:f_neighbourhood_cleansed[T.Bakirkoy]',\n",
       "     'f_property_type[T.Entire villa]:f_neighbourhood_cleansed[T.Bakirkoy]',\n",
       "     'f_property_type[T.Private room in bed and breakfast]:f_neighbourhood_cleansed[T.Bakirkoy]',\n",
       "     'f_property_type[T.Private room in condo]:f_neighbourhood_cleansed[T.Bakirkoy]',\n",
       "     'f_property_type[T.Private room in guesthouse]:f_neighbourhood_cleansed[T.Bakirkoy]',\n",
       "     'f_property_type[T.Private room in home]:f_neighbourhood_cleansed[T.Bakirkoy]',\n",
       "     'f_property_type[T.Private room in loft]:f_neighbourhood_cleansed[T.Bakirkoy]',\n",
       "     'f_property_type[T.Private room in rental unit]:f_neighbourhood_cleansed[T.Bakirkoy]',\n",
       "     'f_property_type[T.Private room in serviced apartment]:f_neighbourhood_cleansed[T.Bakirkoy]',\n",
       "     'f_property_type[T.Private room in townhouse]:f_neighbourhood_cleansed[T.Bakirkoy]',\n",
       "     'f_property_type[T.Shared room in rental unit]:f_neighbourhood_cleansed[T.Bakirkoy]',\n",
       "     'f_property_type[T.Tiny home]:f_neighbourhood_cleansed[T.Bakirkoy]',\n",
       "     'f_property_type[T.Tower]:f_neighbourhood_cleansed[T.Bakirkoy]',\n",
       "     'f_property_type[T.Entire condo]:f_neighbourhood_cleansed[T.Basaksehir]',\n",
       "     'f_property_type[T.Entire guest suite]:f_neighbourhood_cleansed[T.Basaksehir]',\n",
       "     'f_property_type[T.Entire guesthouse]:f_neighbourhood_cleansed[T.Basaksehir]',\n",
       "     'f_property_type[T.Entire home]:f_neighbourhood_cleansed[T.Basaksehir]',\n",
       "     'f_property_type[T.Entire loft]:f_neighbourhood_cleansed[T.Basaksehir]',\n",
       "     'f_property_type[T.Entire place]:f_neighbourhood_cleansed[T.Basaksehir]',\n",
       "     'f_property_type[T.Entire rental unit]:f_neighbourhood_cleansed[T.Basaksehir]',\n",
       "     'f_property_type[T.Entire serviced apartment]:f_neighbourhood_cleansed[T.Basaksehir]',\n",
       "     'f_property_type[T.Entire townhouse]:f_neighbourhood_cleansed[T.Basaksehir]',\n",
       "     'f_property_type[T.Entire vacation home]:f_neighbourhood_cleansed[T.Basaksehir]',\n",
       "     'f_property_type[T.Entire villa]:f_neighbourhood_cleansed[T.Basaksehir]',\n",
       "     'f_property_type[T.Private room in bed and breakfast]:f_neighbourhood_cleansed[T.Basaksehir]',\n",
       "     'f_property_type[T.Private room in condo]:f_neighbourhood_cleansed[T.Basaksehir]',\n",
       "     'f_property_type[T.Private room in guesthouse]:f_neighbourhood_cleansed[T.Basaksehir]',\n",
       "     'f_property_type[T.Private room in home]:f_neighbourhood_cleansed[T.Basaksehir]',\n",
       "     'f_property_type[T.Private room in loft]:f_neighbourhood_cleansed[T.Basaksehir]',\n",
       "     'f_property_type[T.Private room in rental unit]:f_neighbourhood_cleansed[T.Basaksehir]',\n",
       "     'f_property_type[T.Private room in serviced apartment]:f_neighbourhood_cleansed[T.Basaksehir]',\n",
       "     'f_property_type[T.Private room in townhouse]:f_neighbourhood_cleansed[T.Basaksehir]',\n",
       "     'f_property_type[T.Shared room in rental unit]:f_neighbourhood_cleansed[T.Basaksehir]',\n",
       "     'f_property_type[T.Tiny home]:f_neighbourhood_cleansed[T.Basaksehir]',\n",
       "     'f_property_type[T.Tower]:f_neighbourhood_cleansed[T.Basaksehir]',\n",
       "     'f_property_type[T.Entire condo]:f_neighbourhood_cleansed[T.Bayrampasa]',\n",
       "     'f_property_type[T.Entire guest suite]:f_neighbourhood_cleansed[T.Bayrampasa]',\n",
       "     'f_property_type[T.Entire guesthouse]:f_neighbourhood_cleansed[T.Bayrampasa]',\n",
       "     'f_property_type[T.Entire home]:f_neighbourhood_cleansed[T.Bayrampasa]',\n",
       "     'f_property_type[T.Entire loft]:f_neighbourhood_cleansed[T.Bayrampasa]',\n",
       "     'f_property_type[T.Entire place]:f_neighbourhood_cleansed[T.Bayrampasa]',\n",
       "     'f_property_type[T.Entire rental unit]:f_neighbourhood_cleansed[T.Bayrampasa]',\n",
       "     'f_property_type[T.Entire serviced apartment]:f_neighbourhood_cleansed[T.Bayrampasa]',\n",
       "     'f_property_type[T.Entire townhouse]:f_neighbourhood_cleansed[T.Bayrampasa]',\n",
       "     'f_property_type[T.Entire vacation home]:f_neighbourhood_cleansed[T.Bayrampasa]',\n",
       "     'f_property_type[T.Entire villa]:f_neighbourhood_cleansed[T.Bayrampasa]',\n",
       "     'f_property_type[T.Private room in bed and breakfast]:f_neighbourhood_cleansed[T.Bayrampasa]',\n",
       "     'f_property_type[T.Private room in condo]:f_neighbourhood_cleansed[T.Bayrampasa]',\n",
       "     'f_property_type[T.Private room in guesthouse]:f_neighbourhood_cleansed[T.Bayrampasa]',\n",
       "     'f_property_type[T.Private room in home]:f_neighbourhood_cleansed[T.Bayrampasa]',\n",
       "     'f_property_type[T.Private room in loft]:f_neighbourhood_cleansed[T.Bayrampasa]',\n",
       "     'f_property_type[T.Private room in rental unit]:f_neighbourhood_cleansed[T.Bayrampasa]',\n",
       "     'f_property_type[T.Private room in serviced apartment]:f_neighbourhood_cleansed[T.Bayrampasa]',\n",
       "     'f_property_type[T.Private room in townhouse]:f_neighbourhood_cleansed[T.Bayrampasa]',\n",
       "     'f_property_type[T.Shared room in rental unit]:f_neighbourhood_cleansed[T.Bayrampasa]',\n",
       "     'f_property_type[T.Tiny home]:f_neighbourhood_cleansed[T.Bayrampasa]',\n",
       "     'f_property_type[T.Tower]:f_neighbourhood_cleansed[T.Bayrampasa]',\n",
       "     'f_property_type[T.Entire condo]:f_neighbourhood_cleansed[T.Besiktas]',\n",
       "     'f_property_type[T.Entire guest suite]:f_neighbourhood_cleansed[T.Besiktas]',\n",
       "     'f_property_type[T.Entire guesthouse]:f_neighbourhood_cleansed[T.Besiktas]',\n",
       "     'f_property_type[T.Entire home]:f_neighbourhood_cleansed[T.Besiktas]',\n",
       "     'f_property_type[T.Entire loft]:f_neighbourhood_cleansed[T.Besiktas]',\n",
       "     'f_property_type[T.Entire place]:f_neighbourhood_cleansed[T.Besiktas]',\n",
       "     'f_property_type[T.Entire rental unit]:f_neighbourhood_cleansed[T.Besiktas]',\n",
       "     'f_property_type[T.Entire serviced apartment]:f_neighbourhood_cleansed[T.Besiktas]',\n",
       "     'f_property_type[T.Entire townhouse]:f_neighbourhood_cleansed[T.Besiktas]',\n",
       "     'f_property_type[T.Entire vacation home]:f_neighbourhood_cleansed[T.Besiktas]',\n",
       "     'f_property_type[T.Entire villa]:f_neighbourhood_cleansed[T.Besiktas]',\n",
       "     'f_property_type[T.Private room in bed and breakfast]:f_neighbourhood_cleansed[T.Besiktas]',\n",
       "     'f_property_type[T.Private room in condo]:f_neighbourhood_cleansed[T.Besiktas]',\n",
       "     'f_property_type[T.Private room in guesthouse]:f_neighbourhood_cleansed[T.Besiktas]',\n",
       "     'f_property_type[T.Private room in home]:f_neighbourhood_cleansed[T.Besiktas]',\n",
       "     'f_property_type[T.Private room in loft]:f_neighbourhood_cleansed[T.Besiktas]',\n",
       "     'f_property_type[T.Private room in rental unit]:f_neighbourhood_cleansed[T.Besiktas]',\n",
       "     'f_property_type[T.Private room in serviced apartment]:f_neighbourhood_cleansed[T.Besiktas]',\n",
       "     'f_property_type[T.Private room in townhouse]:f_neighbourhood_cleansed[T.Besiktas]',\n",
       "     'f_property_type[T.Shared room in rental unit]:f_neighbourhood_cleansed[T.Besiktas]',\n",
       "     'f_property_type[T.Tiny home]:f_neighbourhood_cleansed[T.Besiktas]',\n",
       "     'f_property_type[T.Tower]:f_neighbourhood_cleansed[T.Besiktas]',\n",
       "     'f_property_type[T.Entire condo]:f_neighbourhood_cleansed[T.Beykoz]',\n",
       "     'f_property_type[T.Entire guest suite]:f_neighbourhood_cleansed[T.Beykoz]',\n",
       "     'f_property_type[T.Entire guesthouse]:f_neighbourhood_cleansed[T.Beykoz]',\n",
       "     'f_property_type[T.Entire home]:f_neighbourhood_cleansed[T.Beykoz]',\n",
       "     'f_property_type[T.Entire loft]:f_neighbourhood_cleansed[T.Beykoz]',\n",
       "     'f_property_type[T.Entire place]:f_neighbourhood_cleansed[T.Beykoz]',\n",
       "     'f_property_type[T.Entire rental unit]:f_neighbourhood_cleansed[T.Beykoz]',\n",
       "     'f_property_type[T.Entire serviced apartment]:f_neighbourhood_cleansed[T.Beykoz]',\n",
       "     'f_property_type[T.Entire townhouse]:f_neighbourhood_cleansed[T.Beykoz]',\n",
       "     'f_property_type[T.Entire vacation home]:f_neighbourhood_cleansed[T.Beykoz]',\n",
       "     'f_property_type[T.Entire villa]:f_neighbourhood_cleansed[T.Beykoz]',\n",
       "     'f_property_type[T.Private room in bed and breakfast]:f_neighbourhood_cleansed[T.Beykoz]',\n",
       "     'f_property_type[T.Private room in condo]:f_neighbourhood_cleansed[T.Beykoz]',\n",
       "     'f_property_type[T.Private room in guesthouse]:f_neighbourhood_cleansed[T.Beykoz]',\n",
       "     'f_property_type[T.Private room in home]:f_neighbourhood_cleansed[T.Beykoz]',\n",
       "     'f_property_type[T.Private room in loft]:f_neighbourhood_cleansed[T.Beykoz]',\n",
       "     'f_property_type[T.Private room in rental unit]:f_neighbourhood_cleansed[T.Beykoz]',\n",
       "     'f_property_type[T.Private room in serviced apartment]:f_neighbourhood_cleansed[T.Beykoz]',\n",
       "     'f_property_type[T.Private room in townhouse]:f_neighbourhood_cleansed[T.Beykoz]',\n",
       "     'f_property_type[T.Shared room in rental unit]:f_neighbourhood_cleansed[T.Beykoz]',\n",
       "     'f_property_type[T.Tiny home]:f_neighbourhood_cleansed[T.Beykoz]',\n",
       "     'f_property_type[T.Tower]:f_neighbourhood_cleansed[T.Beykoz]',\n",
       "     'f_property_type[T.Entire condo]:f_neighbourhood_cleansed[T.Beylikduzu]',\n",
       "     'f_property_type[T.Entire guest suite]:f_neighbourhood_cleansed[T.Beylikduzu]',\n",
       "     'f_property_type[T.Entire guesthouse]:f_neighbourhood_cleansed[T.Beylikduzu]',\n",
       "     'f_property_type[T.Entire home]:f_neighbourhood_cleansed[T.Beylikduzu]',\n",
       "     'f_property_type[T.Entire loft]:f_neighbourhood_cleansed[T.Beylikduzu]',\n",
       "     'f_property_type[T.Entire place]:f_neighbourhood_cleansed[T.Beylikduzu]',\n",
       "     'f_property_type[T.Entire rental unit]:f_neighbourhood_cleansed[T.Beylikduzu]',\n",
       "     'f_property_type[T.Entire serviced apartment]:f_neighbourhood_cleansed[T.Beylikduzu]',\n",
       "     'f_property_type[T.Entire townhouse]:f_neighbourhood_cleansed[T.Beylikduzu]',\n",
       "     'f_property_type[T.Entire vacation home]:f_neighbourhood_cleansed[T.Beylikduzu]',\n",
       "     'f_property_type[T.Entire villa]:f_neighbourhood_cleansed[T.Beylikduzu]',\n",
       "     'f_property_type[T.Private room in bed and breakfast]:f_neighbourhood_cleansed[T.Beylikduzu]',\n",
       "     'f_property_type[T.Private room in condo]:f_neighbourhood_cleansed[T.Beylikduzu]',\n",
       "     'f_property_type[T.Private room in guesthouse]:f_neighbourhood_cleansed[T.Beylikduzu]',\n",
       "     'f_property_type[T.Private room in home]:f_neighbourhood_cleansed[T.Beylikduzu]',\n",
       "     'f_property_type[T.Private room in loft]:f_neighbourhood_cleansed[T.Beylikduzu]',\n",
       "     'f_property_type[T.Private room in rental unit]:f_neighbourhood_cleansed[T.Beylikduzu]',\n",
       "     'f_property_type[T.Private room in serviced apartment]:f_neighbourhood_cleansed[T.Beylikduzu]',\n",
       "     'f_property_type[T.Private room in townhouse]:f_neighbourhood_cleansed[T.Beylikduzu]',\n",
       "     'f_property_type[T.Shared room in rental unit]:f_neighbourhood_cleansed[T.Beylikduzu]',\n",
       "     'f_property_type[T.Tiny home]:f_neighbourhood_cleansed[T.Beylikduzu]',\n",
       "     'f_property_type[T.Tower]:f_neighbourhood_cleansed[T.Beylikduzu]',\n",
       "     'f_property_type[T.Entire condo]:f_neighbourhood_cleansed[T.Beyoglu]',\n",
       "     'f_property_type[T.Entire guest suite]:f_neighbourhood_cleansed[T.Beyoglu]',\n",
       "     'f_property_type[T.Entire guesthouse]:f_neighbourhood_cleansed[T.Beyoglu]',\n",
       "     'f_property_type[T.Entire home]:f_neighbourhood_cleansed[T.Beyoglu]',\n",
       "     'f_property_type[T.Entire loft]:f_neighbourhood_cleansed[T.Beyoglu]',\n",
       "     'f_property_type[T.Entire place]:f_neighbourhood_cleansed[T.Beyoglu]',\n",
       "     'f_property_type[T.Entire rental unit]:f_neighbourhood_cleansed[T.Beyoglu]',\n",
       "     'f_property_type[T.Entire serviced apartment]:f_neighbourhood_cleansed[T.Beyoglu]',\n",
       "     'f_property_type[T.Entire townhouse]:f_neighbourhood_cleansed[T.Beyoglu]',\n",
       "     'f_property_type[T.Entire vacation home]:f_neighbourhood_cleansed[T.Beyoglu]',\n",
       "     'f_property_type[T.Entire villa]:f_neighbourhood_cleansed[T.Beyoglu]',\n",
       "     'f_property_type[T.Private room in bed and breakfast]:f_neighbourhood_cleansed[T.Beyoglu]',\n",
       "     'f_property_type[T.Private room in condo]:f_neighbourhood_cleansed[T.Beyoglu]',\n",
       "     'f_property_type[T.Private room in guesthouse]:f_neighbourhood_cleansed[T.Beyoglu]',\n",
       "     'f_property_type[T.Private room in home]:f_neighbourhood_cleansed[T.Beyoglu]',\n",
       "     'f_property_type[T.Private room in loft]:f_neighbourhood_cleansed[T.Beyoglu]',\n",
       "     'f_property_type[T.Private room in rental unit]:f_neighbourhood_cleansed[T.Beyoglu]',\n",
       "     'f_property_type[T.Private room in serviced apartment]:f_neighbourhood_cleansed[T.Beyoglu]',\n",
       "     'f_property_type[T.Private room in townhouse]:f_neighbourhood_cleansed[T.Beyoglu]',\n",
       "     'f_property_type[T.Shared room in rental unit]:f_neighbourhood_cleansed[T.Beyoglu]',\n",
       "     'f_property_type[T.Tiny home]:f_neighbourhood_cleansed[T.Beyoglu]',\n",
       "     'f_property_type[T.Tower]:f_neighbourhood_cleansed[T.Beyoglu]',\n",
       "     'f_property_type[T.Entire condo]:f_neighbourhood_cleansed[T.Buyukcekmece]',\n",
       "     'f_property_type[T.Entire guest suite]:f_neighbourhood_cleansed[T.Buyukcekmece]',\n",
       "     'f_property_type[T.Entire guesthouse]:f_neighbourhood_cleansed[T.Buyukcekmece]',\n",
       "     'f_property_type[T.Entire home]:f_neighbourhood_cleansed[T.Buyukcekmece]',\n",
       "     'f_property_type[T.Entire loft]:f_neighbourhood_cleansed[T.Buyukcekmece]',\n",
       "     'f_property_type[T.Entire place]:f_neighbourhood_cleansed[T.Buyukcekmece]',\n",
       "     'f_property_type[T.Entire rental unit]:f_neighbourhood_cleansed[T.Buyukcekmece]',\n",
       "     'f_property_type[T.Entire serviced apartment]:f_neighbourhood_cleansed[T.Buyukcekmece]',\n",
       "     'f_property_type[T.Entire townhouse]:f_neighbourhood_cleansed[T.Buyukcekmece]',\n",
       "     'f_property_type[T.Entire vacation home]:f_neighbourhood_cleansed[T.Buyukcekmece]',\n",
       "     'f_property_type[T.Entire villa]:f_neighbourhood_cleansed[T.Buyukcekmece]',\n",
       "     'f_property_type[T.Private room in bed and breakfast]:f_neighbourhood_cleansed[T.Buyukcekmece]',\n",
       "     'f_property_type[T.Private room in condo]:f_neighbourhood_cleansed[T.Buyukcekmece]',\n",
       "     'f_property_type[T.Private room in guesthouse]:f_neighbourhood_cleansed[T.Buyukcekmece]',\n",
       "     'f_property_type[T.Private room in home]:f_neighbourhood_cleansed[T.Buyukcekmece]',\n",
       "     'f_property_type[T.Private room in loft]:f_neighbourhood_cleansed[T.Buyukcekmece]',\n",
       "     'f_property_type[T.Private room in rental unit]:f_neighbourhood_cleansed[T.Buyukcekmece]',\n",
       "     'f_property_type[T.Private room in serviced apartment]:f_neighbourhood_cleansed[T.Buyukcekmece]',\n",
       "     'f_property_type[T.Private room in townhouse]:f_neighbourhood_cleansed[T.Buyukcekmece]',\n",
       "     'f_property_type[T.Shared room in rental unit]:f_neighbourhood_cleansed[T.Buyukcekmece]',\n",
       "     'f_property_type[T.Tiny home]:f_neighbourhood_cleansed[T.Buyukcekmece]',\n",
       "     'f_property_type[T.Tower]:f_neighbourhood_cleansed[T.Buyukcekmece]',\n",
       "     'f_property_type[T.Entire condo]:f_neighbourhood_cleansed[T.Catalca]',\n",
       "     'f_property_type[T.Entire guest suite]:f_neighbourhood_cleansed[T.Catalca]',\n",
       "     'f_property_type[T.Entire guesthouse]:f_neighbourhood_cleansed[T.Catalca]',\n",
       "     'f_property_type[T.Entire home]:f_neighbourhood_cleansed[T.Catalca]',\n",
       "     'f_property_type[T.Entire loft]:f_neighbourhood_cleansed[T.Catalca]',\n",
       "     'f_property_type[T.Entire place]:f_neighbourhood_cleansed[T.Catalca]',\n",
       "     'f_property_type[T.Entire rental unit]:f_neighbourhood_cleansed[T.Catalca]',\n",
       "     'f_property_type[T.Entire serviced apartment]:f_neighbourhood_cleansed[T.Catalca]',\n",
       "     'f_property_type[T.Entire townhouse]:f_neighbourhood_cleansed[T.Catalca]',\n",
       "     'f_property_type[T.Entire vacation home]:f_neighbourhood_cleansed[T.Catalca]',\n",
       "     'f_property_type[T.Entire villa]:f_neighbourhood_cleansed[T.Catalca]',\n",
       "     'f_property_type[T.Private room in bed and breakfast]:f_neighbourhood_cleansed[T.Catalca]',\n",
       "     'f_property_type[T.Private room in condo]:f_neighbourhood_cleansed[T.Catalca]',\n",
       "     'f_property_type[T.Private room in guesthouse]:f_neighbourhood_cleansed[T.Catalca]',\n",
       "     'f_property_type[T.Private room in home]:f_neighbourhood_cleansed[T.Catalca]',\n",
       "     'f_property_type[T.Private room in loft]:f_neighbourhood_cleansed[T.Catalca]',\n",
       "     'f_property_type[T.Private room in rental unit]:f_neighbourhood_cleansed[T.Catalca]',\n",
       "     'f_property_type[T.Private room in serviced apartment]:f_neighbourhood_cleansed[T.Catalca]',\n",
       "     'f_property_type[T.Private room in townhouse]:f_neighbourhood_cleansed[T.Catalca]',\n",
       "     'f_property_type[T.Shared room in rental unit]:f_neighbourhood_cleansed[T.Catalca]',\n",
       "     'f_property_type[T.Tiny home]:f_neighbourhood_cleansed[T.Catalca]',\n",
       "     'f_property_type[T.Tower]:f_neighbourhood_cleansed[T.Catalca]',\n",
       "     'f_property_type[T.Entire condo]:f_neighbourhood_cleansed[T.Cekmekoy]',\n",
       "     'f_property_type[T.Entire guest suite]:f_neighbourhood_cleansed[T.Cekmekoy]',\n",
       "     'f_property_type[T.Entire guesthouse]:f_neighbourhood_cleansed[T.Cekmekoy]',\n",
       "     'f_property_type[T.Entire home]:f_neighbourhood_cleansed[T.Cekmekoy]',\n",
       "     'f_property_type[T.Entire loft]:f_neighbourhood_cleansed[T.Cekmekoy]',\n",
       "     'f_property_type[T.Entire place]:f_neighbourhood_cleansed[T.Cekmekoy]',\n",
       "     'f_property_type[T.Entire rental unit]:f_neighbourhood_cleansed[T.Cekmekoy]',\n",
       "     'f_property_type[T.Entire serviced apartment]:f_neighbourhood_cleansed[T.Cekmekoy]',\n",
       "     'f_property_type[T.Entire townhouse]:f_neighbourhood_cleansed[T.Cekmekoy]',\n",
       "     'f_property_type[T.Entire vacation home]:f_neighbourhood_cleansed[T.Cekmekoy]',\n",
       "     'f_property_type[T.Entire villa]:f_neighbourhood_cleansed[T.Cekmekoy]',\n",
       "     'f_property_type[T.Private room in bed and breakfast]:f_neighbourhood_cleansed[T.Cekmekoy]',\n",
       "     'f_property_type[T.Private room in condo]:f_neighbourhood_cleansed[T.Cekmekoy]',\n",
       "     'f_property_type[T.Private room in guesthouse]:f_neighbourhood_cleansed[T.Cekmekoy]',\n",
       "     'f_property_type[T.Private room in home]:f_neighbourhood_cleansed[T.Cekmekoy]',\n",
       "     'f_property_type[T.Private room in loft]:f_neighbourhood_cleansed[T.Cekmekoy]',\n",
       "     'f_property_type[T.Private room in rental unit]:f_neighbourhood_cleansed[T.Cekmekoy]',\n",
       "     'f_property_type[T.Private room in serviced apartment]:f_neighbourhood_cleansed[T.Cekmekoy]',\n",
       "     'f_property_type[T.Private room in townhouse]:f_neighbourhood_cleansed[T.Cekmekoy]',\n",
       "     'f_property_type[T.Shared room in rental unit]:f_neighbourhood_cleansed[T.Cekmekoy]',\n",
       "     'f_property_type[T.Tiny home]:f_neighbourhood_cleansed[T.Cekmekoy]',\n",
       "     'f_property_type[T.Tower]:f_neighbourhood_cleansed[T.Cekmekoy]',\n",
       "     'f_property_type[T.Entire condo]:f_neighbourhood_cleansed[T.Esenler]',\n",
       "     'f_property_type[T.Entire guest suite]:f_neighbourhood_cleansed[T.Esenler]',\n",
       "     'f_property_type[T.Entire guesthouse]:f_neighbourhood_cleansed[T.Esenler]',\n",
       "     'f_property_type[T.Entire home]:f_neighbourhood_cleansed[T.Esenler]',\n",
       "     'f_property_type[T.Entire loft]:f_neighbourhood_cleansed[T.Esenler]',\n",
       "     'f_property_type[T.Entire place]:f_neighbourhood_cleansed[T.Esenler]',\n",
       "     'f_property_type[T.Entire rental unit]:f_neighbourhood_cleansed[T.Esenler]',\n",
       "     'f_property_type[T.Entire serviced apartment]:f_neighbourhood_cleansed[T.Esenler]',\n",
       "     'f_property_type[T.Entire townhouse]:f_neighbourhood_cleansed[T.Esenler]',\n",
       "     'f_property_type[T.Entire vacation home]:f_neighbourhood_cleansed[T.Esenler]',\n",
       "     'f_property_type[T.Entire villa]:f_neighbourhood_cleansed[T.Esenler]',\n",
       "     'f_property_type[T.Private room in bed and breakfast]:f_neighbourhood_cleansed[T.Esenler]',\n",
       "     'f_property_type[T.Private room in condo]:f_neighbourhood_cleansed[T.Esenler]',\n",
       "     'f_property_type[T.Private room in guesthouse]:f_neighbourhood_cleansed[T.Esenler]',\n",
       "     'f_property_type[T.Private room in home]:f_neighbourhood_cleansed[T.Esenler]',\n",
       "     'f_property_type[T.Private room in loft]:f_neighbourhood_cleansed[T.Esenler]',\n",
       "     'f_property_type[T.Private room in rental unit]:f_neighbourhood_cleansed[T.Esenler]',\n",
       "     'f_property_type[T.Private room in serviced apartment]:f_neighbourhood_cleansed[T.Esenler]',\n",
       "     'f_property_type[T.Private room in townhouse]:f_neighbourhood_cleansed[T.Esenler]',\n",
       "     'f_property_type[T.Shared room in rental unit]:f_neighbourhood_cleansed[T.Esenler]',\n",
       "     'f_property_type[T.Tiny home]:f_neighbourhood_cleansed[T.Esenler]',\n",
       "     'f_property_type[T.Tower]:f_neighbourhood_cleansed[T.Esenler]',\n",
       "     'f_property_type[T.Entire condo]:f_neighbourhood_cleansed[T.Esenyurt]',\n",
       "     'f_property_type[T.Entire guest suite]:f_neighbourhood_cleansed[T.Esenyurt]',\n",
       "     'f_property_type[T.Entire guesthouse]:f_neighbourhood_cleansed[T.Esenyurt]',\n",
       "     'f_property_type[T.Entire home]:f_neighbourhood_cleansed[T.Esenyurt]',\n",
       "     'f_property_type[T.Entire loft]:f_neighbourhood_cleansed[T.Esenyurt]',\n",
       "     'f_property_type[T.Entire place]:f_neighbourhood_cleansed[T.Esenyurt]',\n",
       "     'f_property_type[T.Entire rental unit]:f_neighbourhood_cleansed[T.Esenyurt]',\n",
       "     'f_property_type[T.Entire serviced apartment]:f_neighbourhood_cleansed[T.Esenyurt]',\n",
       "     'f_property_type[T.Entire townhouse]:f_neighbourhood_cleansed[T.Esenyurt]',\n",
       "     'f_property_type[T.Entire vacation home]:f_neighbourhood_cleansed[T.Esenyurt]',\n",
       "     'f_property_type[T.Entire villa]:f_neighbourhood_cleansed[T.Esenyurt]',\n",
       "     'f_property_type[T.Private room in bed and breakfast]:f_neighbourhood_cleansed[T.Esenyurt]',\n",
       "     'f_property_type[T.Private room in condo]:f_neighbourhood_cleansed[T.Esenyurt]',\n",
       "     'f_property_type[T.Private room in guesthouse]:f_neighbourhood_cleansed[T.Esenyurt]',\n",
       "     'f_property_type[T.Private room in home]:f_neighbourhood_cleansed[T.Esenyurt]',\n",
       "     'f_property_type[T.Private room in loft]:f_neighbourhood_cleansed[T.Esenyurt]',\n",
       "     'f_property_type[T.Private room in rental unit]:f_neighbourhood_cleansed[T.Esenyurt]',\n",
       "     'f_property_type[T.Private room in serviced apartment]:f_neighbourhood_cleansed[T.Esenyurt]',\n",
       "     'f_property_type[T.Private room in townhouse]:f_neighbourhood_cleansed[T.Esenyurt]',\n",
       "     'f_property_type[T.Shared room in rental unit]:f_neighbourhood_cleansed[T.Esenyurt]',\n",
       "     'f_property_type[T.Tiny home]:f_neighbourhood_cleansed[T.Esenyurt]',\n",
       "     'f_property_type[T.Tower]:f_neighbourhood_cleansed[T.Esenyurt]',\n",
       "     'f_property_type[T.Entire condo]:f_neighbourhood_cleansed[T.Eyup]',\n",
       "     'f_property_type[T.Entire guest suite]:f_neighbourhood_cleansed[T.Eyup]',\n",
       "     'f_property_type[T.Entire guesthouse]:f_neighbourhood_cleansed[T.Eyup]',\n",
       "     'f_property_type[T.Entire home]:f_neighbourhood_cleansed[T.Eyup]',\n",
       "     'f_property_type[T.Entire loft]:f_neighbourhood_cleansed[T.Eyup]',\n",
       "     'f_property_type[T.Entire place]:f_neighbourhood_cleansed[T.Eyup]',\n",
       "     'f_property_type[T.Entire rental unit]:f_neighbourhood_cleansed[T.Eyup]',\n",
       "     'f_property_type[T.Entire serviced apartment]:f_neighbourhood_cleansed[T.Eyup]',\n",
       "     'f_property_type[T.Entire townhouse]:f_neighbourhood_cleansed[T.Eyup]',\n",
       "     'f_property_type[T.Entire vacation home]:f_neighbourhood_cleansed[T.Eyup]',\n",
       "     'f_property_type[T.Entire villa]:f_neighbourhood_cleansed[T.Eyup]',\n",
       "     'f_property_type[T.Private room in bed and breakfast]:f_neighbourhood_cleansed[T.Eyup]',\n",
       "     'f_property_type[T.Private room in condo]:f_neighbourhood_cleansed[T.Eyup]',\n",
       "     'f_property_type[T.Private room in guesthouse]:f_neighbourhood_cleansed[T.Eyup]',\n",
       "     'f_property_type[T.Private room in home]:f_neighbourhood_cleansed[T.Eyup]',\n",
       "     'f_property_type[T.Private room in loft]:f_neighbourhood_cleansed[T.Eyup]',\n",
       "     'f_property_type[T.Private room in rental unit]:f_neighbourhood_cleansed[T.Eyup]',\n",
       "     'f_property_type[T.Private room in serviced apartment]:f_neighbourhood_cleansed[T.Eyup]',\n",
       "     'f_property_type[T.Private room in townhouse]:f_neighbourhood_cleansed[T.Eyup]',\n",
       "     'f_property_type[T.Shared room in rental unit]:f_neighbourhood_cleansed[T.Eyup]',\n",
       "     'f_property_type[T.Tiny home]:f_neighbourhood_cleansed[T.Eyup]',\n",
       "     'f_property_type[T.Tower]:f_neighbourhood_cleansed[T.Eyup]',\n",
       "     'f_property_type[T.Entire condo]:f_neighbourhood_cleansed[T.Fatih]',\n",
       "     'f_property_type[T.Entire guest suite]:f_neighbourhood_cleansed[T.Fatih]',\n",
       "     'f_property_type[T.Entire guesthouse]:f_neighbourhood_cleansed[T.Fatih]',\n",
       "     'f_property_type[T.Entire home]:f_neighbourhood_cleansed[T.Fatih]',\n",
       "     'f_property_type[T.Entire loft]:f_neighbourhood_cleansed[T.Fatih]',\n",
       "     'f_property_type[T.Entire place]:f_neighbourhood_cleansed[T.Fatih]',\n",
       "     'f_property_type[T.Entire rental unit]:f_neighbourhood_cleansed[T.Fatih]',\n",
       "     'f_property_type[T.Entire serviced apartment]:f_neighbourhood_cleansed[T.Fatih]',\n",
       "     'f_property_type[T.Entire townhouse]:f_neighbourhood_cleansed[T.Fatih]',\n",
       "     'f_property_type[T.Entire vacation home]:f_neighbourhood_cleansed[T.Fatih]',\n",
       "     'f_property_type[T.Entire villa]:f_neighbourhood_cleansed[T.Fatih]',\n",
       "     'f_property_type[T.Private room in bed and breakfast]:f_neighbourhood_cleansed[T.Fatih]',\n",
       "     'f_property_type[T.Private room in condo]:f_neighbourhood_cleansed[T.Fatih]',\n",
       "     'f_property_type[T.Private room in guesthouse]:f_neighbourhood_cleansed[T.Fatih]',\n",
       "     'f_property_type[T.Private room in home]:f_neighbourhood_cleansed[T.Fatih]',\n",
       "     'f_property_type[T.Private room in loft]:f_neighbourhood_cleansed[T.Fatih]',\n",
       "     'f_property_type[T.Private room in rental unit]:f_neighbourhood_cleansed[T.Fatih]',\n",
       "     'f_property_type[T.Private room in serviced apartment]:f_neighbourhood_cleansed[T.Fatih]',\n",
       "     'f_property_type[T.Private room in townhouse]:f_neighbourhood_cleansed[T.Fatih]',\n",
       "     'f_property_type[T.Shared room in rental unit]:f_neighbourhood_cleansed[T.Fatih]',\n",
       "     'f_property_type[T.Tiny home]:f_neighbourhood_cleansed[T.Fatih]',\n",
       "     'f_property_type[T.Tower]:f_neighbourhood_cleansed[T.Fatih]',\n",
       "     'f_property_type[T.Entire condo]:f_neighbourhood_cleansed[T.Gaziosmanpasa]',\n",
       "     'f_property_type[T.Entire guest suite]:f_neighbourhood_cleansed[T.Gaziosmanpasa]',\n",
       "     'f_property_type[T.Entire guesthouse]:f_neighbourhood_cleansed[T.Gaziosmanpasa]',\n",
       "     'f_property_type[T.Entire home]:f_neighbourhood_cleansed[T.Gaziosmanpasa]',\n",
       "     'f_property_type[T.Entire loft]:f_neighbourhood_cleansed[T.Gaziosmanpasa]',\n",
       "     'f_property_type[T.Entire place]:f_neighbourhood_cleansed[T.Gaziosmanpasa]',\n",
       "     'f_property_type[T.Entire rental unit]:f_neighbourhood_cleansed[T.Gaziosmanpasa]',\n",
       "     'f_property_type[T.Entire serviced apartment]:f_neighbourhood_cleansed[T.Gaziosmanpasa]',\n",
       "     'f_property_type[T.Entire townhouse]:f_neighbourhood_cleansed[T.Gaziosmanpasa]',\n",
       "     'f_property_type[T.Entire vacation home]:f_neighbourhood_cleansed[T.Gaziosmanpasa]',\n",
       "     'f_property_type[T.Entire villa]:f_neighbourhood_cleansed[T.Gaziosmanpasa]',\n",
       "     'f_property_type[T.Private room in bed and breakfast]:f_neighbourhood_cleansed[T.Gaziosmanpasa]',\n",
       "     'f_property_type[T.Private room in condo]:f_neighbourhood_cleansed[T.Gaziosmanpasa]',\n",
       "     'f_property_type[T.Private room in guesthouse]:f_neighbourhood_cleansed[T.Gaziosmanpasa]',\n",
       "     'f_property_type[T.Private room in home]:f_neighbourhood_cleansed[T.Gaziosmanpasa]',\n",
       "     'f_property_type[T.Private room in loft]:f_neighbourhood_cleansed[T.Gaziosmanpasa]',\n",
       "     'f_property_type[T.Private room in rental unit]:f_neighbourhood_cleansed[T.Gaziosmanpasa]',\n",
       "     'f_property_type[T.Private room in serviced apartment]:f_neighbourhood_cleansed[T.Gaziosmanpasa]',\n",
       "     'f_property_type[T.Private room in townhouse]:f_neighbourhood_cleansed[T.Gaziosmanpasa]',\n",
       "     'f_property_type[T.Shared room in rental unit]:f_neighbourhood_cleansed[T.Gaziosmanpasa]',\n",
       "     'f_property_type[T.Tiny home]:f_neighbourhood_cleansed[T.Gaziosmanpasa]',\n",
       "     'f_property_type[T.Tower]:f_neighbourhood_cleansed[T.Gaziosmanpasa]',\n",
       "     'f_property_type[T.Entire condo]:f_neighbourhood_cleansed[T.Gungoren]',\n",
       "     'f_property_type[T.Entire guest suite]:f_neighbourhood_cleansed[T.Gungoren]',\n",
       "     'f_property_type[T.Entire guesthouse]:f_neighbourhood_cleansed[T.Gungoren]',\n",
       "     'f_property_type[T.Entire home]:f_neighbourhood_cleansed[T.Gungoren]',\n",
       "     'f_property_type[T.Entire loft]:f_neighbourhood_cleansed[T.Gungoren]',\n",
       "     'f_property_type[T.Entire place]:f_neighbourhood_cleansed[T.Gungoren]',\n",
       "     'f_property_type[T.Entire rental unit]:f_neighbourhood_cleansed[T.Gungoren]',\n",
       "     'f_property_type[T.Entire serviced apartment]:f_neighbourhood_cleansed[T.Gungoren]',\n",
       "     'f_property_type[T.Entire townhouse]:f_neighbourhood_cleansed[T.Gungoren]',\n",
       "     'f_property_type[T.Entire vacation home]:f_neighbourhood_cleansed[T.Gungoren]',\n",
       "     'f_property_type[T.Entire villa]:f_neighbourhood_cleansed[T.Gungoren]',\n",
       "     'f_property_type[T.Private room in bed and breakfast]:f_neighbourhood_cleansed[T.Gungoren]',\n",
       "     'f_property_type[T.Private room in condo]:f_neighbourhood_cleansed[T.Gungoren]',\n",
       "     'f_property_type[T.Private room in guesthouse]:f_neighbourhood_cleansed[T.Gungoren]',\n",
       "     'f_property_type[T.Private room in home]:f_neighbourhood_cleansed[T.Gungoren]',\n",
       "     'f_property_type[T.Private room in loft]:f_neighbourhood_cleansed[T.Gungoren]',\n",
       "     'f_property_type[T.Private room in rental unit]:f_neighbourhood_cleansed[T.Gungoren]',\n",
       "     'f_property_type[T.Private room in serviced apartment]:f_neighbourhood_cleansed[T.Gungoren]',\n",
       "     'f_property_type[T.Private room in townhouse]:f_neighbourhood_cleansed[T.Gungoren]',\n",
       "     'f_property_type[T.Shared room in rental unit]:f_neighbourhood_cleansed[T.Gungoren]',\n",
       "     'f_property_type[T.Tiny home]:f_neighbourhood_cleansed[T.Gungoren]',\n",
       "     'f_property_type[T.Tower]:f_neighbourhood_cleansed[T.Gungoren]',\n",
       "     'f_property_type[T.Entire condo]:f_neighbourhood_cleansed[T.Kadikoy]',\n",
       "     'f_property_type[T.Entire guest suite]:f_neighbourhood_cleansed[T.Kadikoy]',\n",
       "     'f_property_type[T.Entire guesthouse]:f_neighbourhood_cleansed[T.Kadikoy]',\n",
       "     'f_property_type[T.Entire home]:f_neighbourhood_cleansed[T.Kadikoy]',\n",
       "     'f_property_type[T.Entire loft]:f_neighbourhood_cleansed[T.Kadikoy]',\n",
       "     'f_property_type[T.Entire place]:f_neighbourhood_cleansed[T.Kadikoy]',\n",
       "     'f_property_type[T.Entire rental unit]:f_neighbourhood_cleansed[T.Kadikoy]',\n",
       "     'f_property_type[T.Entire serviced apartment]:f_neighbourhood_cleansed[T.Kadikoy]',\n",
       "     'f_property_type[T.Entire townhouse]:f_neighbourhood_cleansed[T.Kadikoy]',\n",
       "     'f_property_type[T.Entire vacation home]:f_neighbourhood_cleansed[T.Kadikoy]',\n",
       "     'f_property_type[T.Entire villa]:f_neighbourhood_cleansed[T.Kadikoy]',\n",
       "     'f_property_type[T.Private room in bed and breakfast]:f_neighbourhood_cleansed[T.Kadikoy]',\n",
       "     'f_property_type[T.Private room in condo]:f_neighbourhood_cleansed[T.Kadikoy]',\n",
       "     'f_property_type[T.Private room in guesthouse]:f_neighbourhood_cleansed[T.Kadikoy]',\n",
       "     'f_property_type[T.Private room in home]:f_neighbourhood_cleansed[T.Kadikoy]',\n",
       "     'f_property_type[T.Private room in loft]:f_neighbourhood_cleansed[T.Kadikoy]',\n",
       "     'f_property_type[T.Private room in rental unit]:f_neighbourhood_cleansed[T.Kadikoy]',\n",
       "     'f_property_type[T.Private room in serviced apartment]:f_neighbourhood_cleansed[T.Kadikoy]',\n",
       "     'f_property_type[T.Private room in townhouse]:f_neighbourhood_cleansed[T.Kadikoy]',\n",
       "     'f_property_type[T.Shared room in rental unit]:f_neighbourhood_cleansed[T.Kadikoy]',\n",
       "     'f_property_type[T.Tiny home]:f_neighbourhood_cleansed[T.Kadikoy]',\n",
       "     'f_property_type[T.Tower]:f_neighbourhood_cleansed[T.Kadikoy]',\n",
       "     'f_property_type[T.Entire condo]:f_neighbourhood_cleansed[T.Kagithane]',\n",
       "     'f_property_type[T.Entire guest suite]:f_neighbourhood_cleansed[T.Kagithane]',\n",
       "     'f_property_type[T.Entire guesthouse]:f_neighbourhood_cleansed[T.Kagithane]',\n",
       "     'f_property_type[T.Entire home]:f_neighbourhood_cleansed[T.Kagithane]',\n",
       "     'f_property_type[T.Entire loft]:f_neighbourhood_cleansed[T.Kagithane]',\n",
       "     'f_property_type[T.Entire place]:f_neighbourhood_cleansed[T.Kagithane]',\n",
       "     'f_property_type[T.Entire rental unit]:f_neighbourhood_cleansed[T.Kagithane]',\n",
       "     'f_property_type[T.Entire serviced apartment]:f_neighbourhood_cleansed[T.Kagithane]',\n",
       "     'f_property_type[T.Entire townhouse]:f_neighbourhood_cleansed[T.Kagithane]',\n",
       "     'f_property_type[T.Entire vacation home]:f_neighbourhood_cleansed[T.Kagithane]',\n",
       "     'f_property_type[T.Entire villa]:f_neighbourhood_cleansed[T.Kagithane]',\n",
       "     'f_property_type[T.Private room in bed and breakfast]:f_neighbourhood_cleansed[T.Kagithane]',\n",
       "     'f_property_type[T.Private room in condo]:f_neighbourhood_cleansed[T.Kagithane]',\n",
       "     'f_property_type[T.Private room in guesthouse]:f_neighbourhood_cleansed[T.Kagithane]',\n",
       "     'f_property_type[T.Private room in home]:f_neighbourhood_cleansed[T.Kagithane]',\n",
       "     'f_property_type[T.Private room in loft]:f_neighbourhood_cleansed[T.Kagithane]',\n",
       "     'f_property_type[T.Private room in rental unit]:f_neighbourhood_cleansed[T.Kagithane]',\n",
       "     'f_property_type[T.Private room in serviced apartment]:f_neighbourhood_cleansed[T.Kagithane]',\n",
       "     'f_property_type[T.Private room in townhouse]:f_neighbourhood_cleansed[T.Kagithane]',\n",
       "     'f_property_type[T.Shared room in rental unit]:f_neighbourhood_cleansed[T.Kagithane]',\n",
       "     'f_property_type[T.Tiny home]:f_neighbourhood_cleansed[T.Kagithane]',\n",
       "     'f_property_type[T.Tower]:f_neighbourhood_cleansed[T.Kagithane]',\n",
       "     'f_property_type[T.Entire condo]:f_neighbourhood_cleansed[T.Kartal]',\n",
       "     'f_property_type[T.Entire guest suite]:f_neighbourhood_cleansed[T.Kartal]',\n",
       "     'f_property_type[T.Entire guesthouse]:f_neighbourhood_cleansed[T.Kartal]',\n",
       "     'f_property_type[T.Entire home]:f_neighbourhood_cleansed[T.Kartal]',\n",
       "     'f_property_type[T.Entire loft]:f_neighbourhood_cleansed[T.Kartal]',\n",
       "     'f_property_type[T.Entire place]:f_neighbourhood_cleansed[T.Kartal]',\n",
       "     'f_property_type[T.Entire rental unit]:f_neighbourhood_cleansed[T.Kartal]',\n",
       "     'f_property_type[T.Entire serviced apartment]:f_neighbourhood_cleansed[T.Kartal]',\n",
       "     'f_property_type[T.Entire townhouse]:f_neighbourhood_cleansed[T.Kartal]',\n",
       "     'f_property_type[T.Entire vacation home]:f_neighbourhood_cleansed[T.Kartal]',\n",
       "     'f_property_type[T.Entire villa]:f_neighbourhood_cleansed[T.Kartal]',\n",
       "     'f_property_type[T.Private room in bed and breakfast]:f_neighbourhood_cleansed[T.Kartal]',\n",
       "     'f_property_type[T.Private room in condo]:f_neighbourhood_cleansed[T.Kartal]',\n",
       "     'f_property_type[T.Private room in guesthouse]:f_neighbourhood_cleansed[T.Kartal]',\n",
       "     'f_property_type[T.Private room in home]:f_neighbourhood_cleansed[T.Kartal]',\n",
       "     'f_property_type[T.Private room in loft]:f_neighbourhood_cleansed[T.Kartal]',\n",
       "     'f_property_type[T.Private room in rental unit]:f_neighbourhood_cleansed[T.Kartal]',\n",
       "     'f_property_type[T.Private room in serviced apartment]:f_neighbourhood_cleansed[T.Kartal]',\n",
       "     'f_property_type[T.Private room in townhouse]:f_neighbourhood_cleansed[T.Kartal]',\n",
       "     'f_property_type[T.Shared room in rental unit]:f_neighbourhood_cleansed[T.Kartal]',\n",
       "     'f_property_type[T.Tiny home]:f_neighbourhood_cleansed[T.Kartal]',\n",
       "     'f_property_type[T.Tower]:f_neighbourhood_cleansed[T.Kartal]',\n",
       "     'f_property_type[T.Entire condo]:f_neighbourhood_cleansed[T.Kucukcekmece]',\n",
       "     'f_property_type[T.Entire guest suite]:f_neighbourhood_cleansed[T.Kucukcekmece]',\n",
       "     'f_property_type[T.Entire guesthouse]:f_neighbourhood_cleansed[T.Kucukcekmece]',\n",
       "     'f_property_type[T.Entire home]:f_neighbourhood_cleansed[T.Kucukcekmece]',\n",
       "     'f_property_type[T.Entire loft]:f_neighbourhood_cleansed[T.Kucukcekmece]',\n",
       "     'f_property_type[T.Entire place]:f_neighbourhood_cleansed[T.Kucukcekmece]',\n",
       "     'f_property_type[T.Entire rental unit]:f_neighbourhood_cleansed[T.Kucukcekmece]',\n",
       "     'f_property_type[T.Entire serviced apartment]:f_neighbourhood_cleansed[T.Kucukcekmece]',\n",
       "     'f_property_type[T.Entire townhouse]:f_neighbourhood_cleansed[T.Kucukcekmece]',\n",
       "     'f_property_type[T.Entire vacation home]:f_neighbourhood_cleansed[T.Kucukcekmece]',\n",
       "     'f_property_type[T.Entire villa]:f_neighbourhood_cleansed[T.Kucukcekmece]',\n",
       "     'f_property_type[T.Private room in bed and breakfast]:f_neighbourhood_cleansed[T.Kucukcekmece]',\n",
       "     'f_property_type[T.Private room in condo]:f_neighbourhood_cleansed[T.Kucukcekmece]',\n",
       "     'f_property_type[T.Private room in guesthouse]:f_neighbourhood_cleansed[T.Kucukcekmece]',\n",
       "     'f_property_type[T.Private room in home]:f_neighbourhood_cleansed[T.Kucukcekmece]',\n",
       "     'f_property_type[T.Private room in loft]:f_neighbourhood_cleansed[T.Kucukcekmece]',\n",
       "     'f_property_type[T.Private room in rental unit]:f_neighbourhood_cleansed[T.Kucukcekmece]',\n",
       "     'f_property_type[T.Private room in serviced apartment]:f_neighbourhood_cleansed[T.Kucukcekmece]',\n",
       "     'f_property_type[T.Private room in townhouse]:f_neighbourhood_cleansed[T.Kucukcekmece]',\n",
       "     'f_property_type[T.Shared room in rental unit]:f_neighbourhood_cleansed[T.Kucukcekmece]',\n",
       "     'f_property_type[T.Tiny home]:f_neighbourhood_cleansed[T.Kucukcekmece]',\n",
       "     'f_property_type[T.Tower]:f_neighbourhood_cleansed[T.Kucukcekmece]',\n",
       "     'f_property_type[T.Entire condo]:f_neighbourhood_cleansed[T.Maltepe]',\n",
       "     'f_property_type[T.Entire guest suite]:f_neighbourhood_cleansed[T.Maltepe]',\n",
       "     'f_property_type[T.Entire guesthouse]:f_neighbourhood_cleansed[T.Maltepe]',\n",
       "     'f_property_type[T.Entire home]:f_neighbourhood_cleansed[T.Maltepe]',\n",
       "     'f_property_type[T.Entire loft]:f_neighbourhood_cleansed[T.Maltepe]',\n",
       "     'f_property_type[T.Entire place]:f_neighbourhood_cleansed[T.Maltepe]',\n",
       "     'f_property_type[T.Entire rental unit]:f_neighbourhood_cleansed[T.Maltepe]',\n",
       "     'f_property_type[T.Entire serviced apartment]:f_neighbourhood_cleansed[T.Maltepe]',\n",
       "     'f_property_type[T.Entire townhouse]:f_neighbourhood_cleansed[T.Maltepe]',\n",
       "     'f_property_type[T.Entire vacation home]:f_neighbourhood_cleansed[T.Maltepe]',\n",
       "     'f_property_type[T.Entire villa]:f_neighbourhood_cleansed[T.Maltepe]',\n",
       "     'f_property_type[T.Private room in bed and breakfast]:f_neighbourhood_cleansed[T.Maltepe]',\n",
       "     'f_property_type[T.Private room in condo]:f_neighbourhood_cleansed[T.Maltepe]',\n",
       "     'f_property_type[T.Private room in guesthouse]:f_neighbourhood_cleansed[T.Maltepe]',\n",
       "     'f_property_type[T.Private room in home]:f_neighbourhood_cleansed[T.Maltepe]',\n",
       "     'f_property_type[T.Private room in loft]:f_neighbourhood_cleansed[T.Maltepe]',\n",
       "     'f_property_type[T.Private room in rental unit]:f_neighbourhood_cleansed[T.Maltepe]',\n",
       "     'f_property_type[T.Private room in serviced apartment]:f_neighbourhood_cleansed[T.Maltepe]',\n",
       "     'f_property_type[T.Private room in townhouse]:f_neighbourhood_cleansed[T.Maltepe]',\n",
       "     'f_property_type[T.Shared room in rental unit]:f_neighbourhood_cleansed[T.Maltepe]',\n",
       "     'f_property_type[T.Tiny home]:f_neighbourhood_cleansed[T.Maltepe]',\n",
       "     'f_property_type[T.Tower]:f_neighbourhood_cleansed[T.Maltepe]',\n",
       "     'f_property_type[T.Entire condo]:f_neighbourhood_cleansed[T.Pendik]',\n",
       "     'f_property_type[T.Entire guest suite]:f_neighbourhood_cleansed[T.Pendik]',\n",
       "     'f_property_type[T.Entire guesthouse]:f_neighbourhood_cleansed[T.Pendik]',\n",
       "     'f_property_type[T.Entire home]:f_neighbourhood_cleansed[T.Pendik]',\n",
       "     'f_property_type[T.Entire loft]:f_neighbourhood_cleansed[T.Pendik]',\n",
       "     'f_property_type[T.Entire place]:f_neighbourhood_cleansed[T.Pendik]',\n",
       "     'f_property_type[T.Entire rental unit]:f_neighbourhood_cleansed[T.Pendik]',\n",
       "     'f_property_type[T.Entire serviced apartment]:f_neighbourhood_cleansed[T.Pendik]',\n",
       "     'f_property_type[T.Entire townhouse]:f_neighbourhood_cleansed[T.Pendik]',\n",
       "     'f_property_type[T.Entire vacation home]:f_neighbourhood_cleansed[T.Pendik]',\n",
       "     'f_property_type[T.Entire villa]:f_neighbourhood_cleansed[T.Pendik]',\n",
       "     'f_property_type[T.Private room in bed and breakfast]:f_neighbourhood_cleansed[T.Pendik]',\n",
       "     'f_property_type[T.Private room in condo]:f_neighbourhood_cleansed[T.Pendik]',\n",
       "     'f_property_type[T.Private room in guesthouse]:f_neighbourhood_cleansed[T.Pendik]',\n",
       "     'f_property_type[T.Private room in home]:f_neighbourhood_cleansed[T.Pendik]',\n",
       "     'f_property_type[T.Private room in loft]:f_neighbourhood_cleansed[T.Pendik]',\n",
       "     'f_property_type[T.Private room in rental unit]:f_neighbourhood_cleansed[T.Pendik]',\n",
       "     'f_property_type[T.Private room in serviced apartment]:f_neighbourhood_cleansed[T.Pendik]',\n",
       "     'f_property_type[T.Private room in townhouse]:f_neighbourhood_cleansed[T.Pendik]',\n",
       "     'f_property_type[T.Shared room in rental unit]:f_neighbourhood_cleansed[T.Pendik]',\n",
       "     'f_property_type[T.Tiny home]:f_neighbourhood_cleansed[T.Pendik]',\n",
       "     'f_property_type[T.Tower]:f_neighbourhood_cleansed[T.Pendik]',\n",
       "     'f_property_type[T.Entire condo]:f_neighbourhood_cleansed[T.Sancaktepe]',\n",
       "     'f_property_type[T.Entire guest suite]:f_neighbourhood_cleansed[T.Sancaktepe]',\n",
       "     'f_property_type[T.Entire guesthouse]:f_neighbourhood_cleansed[T.Sancaktepe]',\n",
       "     'f_property_type[T.Entire home]:f_neighbourhood_cleansed[T.Sancaktepe]',\n",
       "     'f_property_type[T.Entire loft]:f_neighbourhood_cleansed[T.Sancaktepe]',\n",
       "     'f_property_type[T.Entire place]:f_neighbourhood_cleansed[T.Sancaktepe]',\n",
       "     'f_property_type[T.Entire rental unit]:f_neighbourhood_cleansed[T.Sancaktepe]',\n",
       "     'f_property_type[T.Entire serviced apartment]:f_neighbourhood_cleansed[T.Sancaktepe]',\n",
       "     'f_property_type[T.Entire townhouse]:f_neighbourhood_cleansed[T.Sancaktepe]',\n",
       "     'f_property_type[T.Entire vacation home]:f_neighbourhood_cleansed[T.Sancaktepe]',\n",
       "     'f_property_type[T.Entire villa]:f_neighbourhood_cleansed[T.Sancaktepe]',\n",
       "     'f_property_type[T.Private room in bed and breakfast]:f_neighbourhood_cleansed[T.Sancaktepe]',\n",
       "     'f_property_type[T.Private room in condo]:f_neighbourhood_cleansed[T.Sancaktepe]',\n",
       "     'f_property_type[T.Private room in guesthouse]:f_neighbourhood_cleansed[T.Sancaktepe]',\n",
       "     'f_property_type[T.Private room in home]:f_neighbourhood_cleansed[T.Sancaktepe]',\n",
       "     'f_property_type[T.Private room in loft]:f_neighbourhood_cleansed[T.Sancaktepe]',\n",
       "     'f_property_type[T.Private room in rental unit]:f_neighbourhood_cleansed[T.Sancaktepe]',\n",
       "     'f_property_type[T.Private room in serviced apartment]:f_neighbourhood_cleansed[T.Sancaktepe]',\n",
       "     'f_property_type[T.Private room in townhouse]:f_neighbourhood_cleansed[T.Sancaktepe]',\n",
       "     'f_property_type[T.Shared room in rental unit]:f_neighbourhood_cleansed[T.Sancaktepe]',\n",
       "     'f_property_type[T.Tiny home]:f_neighbourhood_cleansed[T.Sancaktepe]',\n",
       "     'f_property_type[T.Tower]:f_neighbourhood_cleansed[T.Sancaktepe]',\n",
       "     'f_property_type[T.Entire condo]:f_neighbourhood_cleansed[T.Sariyer]',\n",
       "     'f_property_type[T.Entire guest suite]:f_neighbourhood_cleansed[T.Sariyer]',\n",
       "     'f_property_type[T.Entire guesthouse]:f_neighbourhood_cleansed[T.Sariyer]',\n",
       "     'f_property_type[T.Entire home]:f_neighbourhood_cleansed[T.Sariyer]',\n",
       "     'f_property_type[T.Entire loft]:f_neighbourhood_cleansed[T.Sariyer]',\n",
       "     'f_property_type[T.Entire place]:f_neighbourhood_cleansed[T.Sariyer]',\n",
       "     'f_property_type[T.Entire rental unit]:f_neighbourhood_cleansed[T.Sariyer]',\n",
       "     'f_property_type[T.Entire serviced apartment]:f_neighbourhood_cleansed[T.Sariyer]',\n",
       "     'f_property_type[T.Entire townhouse]:f_neighbourhood_cleansed[T.Sariyer]',\n",
       "     'f_property_type[T.Entire vacation home]:f_neighbourhood_cleansed[T.Sariyer]',\n",
       "     'f_property_type[T.Entire villa]:f_neighbourhood_cleansed[T.Sariyer]',\n",
       "     'f_property_type[T.Private room in bed and breakfast]:f_neighbourhood_cleansed[T.Sariyer]',\n",
       "     'f_property_type[T.Private room in condo]:f_neighbourhood_cleansed[T.Sariyer]',\n",
       "     'f_property_type[T.Private room in guesthouse]:f_neighbourhood_cleansed[T.Sariyer]',\n",
       "     'f_property_type[T.Private room in home]:f_neighbourhood_cleansed[T.Sariyer]',\n",
       "     'f_property_type[T.Private room in loft]:f_neighbourhood_cleansed[T.Sariyer]',\n",
       "     'f_property_type[T.Private room in rental unit]:f_neighbourhood_cleansed[T.Sariyer]',\n",
       "     'f_property_type[T.Private room in serviced apartment]:f_neighbourhood_cleansed[T.Sariyer]',\n",
       "     'f_property_type[T.Private room in townhouse]:f_neighbourhood_cleansed[T.Sariyer]',\n",
       "     'f_property_type[T.Shared room in rental unit]:f_neighbourhood_cleansed[T.Sariyer]',\n",
       "     'f_property_type[T.Tiny home]:f_neighbourhood_cleansed[T.Sariyer]',\n",
       "     'f_property_type[T.Tower]:f_neighbourhood_cleansed[T.Sariyer]',\n",
       "     'f_property_type[T.Entire condo]:f_neighbourhood_cleansed[T.Sile]',\n",
       "     'f_property_type[T.Entire guest suite]:f_neighbourhood_cleansed[T.Sile]',\n",
       "     'f_property_type[T.Entire guesthouse]:f_neighbourhood_cleansed[T.Sile]',\n",
       "     'f_property_type[T.Entire home]:f_neighbourhood_cleansed[T.Sile]',\n",
       "     'f_property_type[T.Entire loft]:f_neighbourhood_cleansed[T.Sile]',\n",
       "     'f_property_type[T.Entire place]:f_neighbourhood_cleansed[T.Sile]',\n",
       "     'f_property_type[T.Entire rental unit]:f_neighbourhood_cleansed[T.Sile]',\n",
       "     'f_property_type[T.Entire serviced apartment]:f_neighbourhood_cleansed[T.Sile]',\n",
       "     'f_property_type[T.Entire townhouse]:f_neighbourhood_cleansed[T.Sile]',\n",
       "     'f_property_type[T.Entire vacation home]:f_neighbourhood_cleansed[T.Sile]',\n",
       "     'f_property_type[T.Entire villa]:f_neighbourhood_cleansed[T.Sile]',\n",
       "     'f_property_type[T.Private room in bed and breakfast]:f_neighbourhood_cleansed[T.Sile]',\n",
       "     'f_property_type[T.Private room in condo]:f_neighbourhood_cleansed[T.Sile]',\n",
       "     'f_property_type[T.Private room in guesthouse]:f_neighbourhood_cleansed[T.Sile]',\n",
       "     'f_property_type[T.Private room in home]:f_neighbourhood_cleansed[T.Sile]',\n",
       "     'f_property_type[T.Private room in loft]:f_neighbourhood_cleansed[T.Sile]',\n",
       "     'f_property_type[T.Private room in rental unit]:f_neighbourhood_cleansed[T.Sile]',\n",
       "     'f_property_type[T.Private room in serviced apartment]:f_neighbourhood_cleansed[T.Sile]',\n",
       "     'f_property_type[T.Private room in townhouse]:f_neighbourhood_cleansed[T.Sile]',\n",
       "     'f_property_type[T.Shared room in rental unit]:f_neighbourhood_cleansed[T.Sile]',\n",
       "     'f_property_type[T.Tiny home]:f_neighbourhood_cleansed[T.Sile]',\n",
       "     'f_property_type[T.Tower]:f_neighbourhood_cleansed[T.Sile]',\n",
       "     'f_property_type[T.Entire condo]:f_neighbourhood_cleansed[T.Silivri]',\n",
       "     'f_property_type[T.Entire guest suite]:f_neighbourhood_cleansed[T.Silivri]',\n",
       "     'f_property_type[T.Entire guesthouse]:f_neighbourhood_cleansed[T.Silivri]',\n",
       "     'f_property_type[T.Entire home]:f_neighbourhood_cleansed[T.Silivri]',\n",
       "     'f_property_type[T.Entire loft]:f_neighbourhood_cleansed[T.Silivri]',\n",
       "     'f_property_type[T.Entire place]:f_neighbourhood_cleansed[T.Silivri]',\n",
       "     'f_property_type[T.Entire rental unit]:f_neighbourhood_cleansed[T.Silivri]',\n",
       "     'f_property_type[T.Entire serviced apartment]:f_neighbourhood_cleansed[T.Silivri]',\n",
       "     'f_property_type[T.Entire townhouse]:f_neighbourhood_cleansed[T.Silivri]',\n",
       "     'f_property_type[T.Entire vacation home]:f_neighbourhood_cleansed[T.Silivri]',\n",
       "     'f_property_type[T.Entire villa]:f_neighbourhood_cleansed[T.Silivri]',\n",
       "     'f_property_type[T.Private room in bed and breakfast]:f_neighbourhood_cleansed[T.Silivri]',\n",
       "     'f_property_type[T.Private room in condo]:f_neighbourhood_cleansed[T.Silivri]',\n",
       "     'f_property_type[T.Private room in guesthouse]:f_neighbourhood_cleansed[T.Silivri]',\n",
       "     'f_property_type[T.Private room in home]:f_neighbourhood_cleansed[T.Silivri]',\n",
       "     'f_property_type[T.Private room in loft]:f_neighbourhood_cleansed[T.Silivri]',\n",
       "     'f_property_type[T.Private room in rental unit]:f_neighbourhood_cleansed[T.Silivri]',\n",
       "     'f_property_type[T.Private room in serviced apartment]:f_neighbourhood_cleansed[T.Silivri]',\n",
       "     'f_property_type[T.Private room in townhouse]:f_neighbourhood_cleansed[T.Silivri]',\n",
       "     'f_property_type[T.Shared room in rental unit]:f_neighbourhood_cleansed[T.Silivri]',\n",
       "     'f_property_type[T.Tiny home]:f_neighbourhood_cleansed[T.Silivri]',\n",
       "     'f_property_type[T.Tower]:f_neighbourhood_cleansed[T.Silivri]',\n",
       "     'f_property_type[T.Entire condo]:f_neighbourhood_cleansed[T.Sisli]',\n",
       "     'f_property_type[T.Entire guest suite]:f_neighbourhood_cleansed[T.Sisli]',\n",
       "     'f_property_type[T.Entire guesthouse]:f_neighbourhood_cleansed[T.Sisli]',\n",
       "     'f_property_type[T.Entire home]:f_neighbourhood_cleansed[T.Sisli]',\n",
       "     'f_property_type[T.Entire loft]:f_neighbourhood_cleansed[T.Sisli]',\n",
       "     'f_property_type[T.Entire place]:f_neighbourhood_cleansed[T.Sisli]',\n",
       "     'f_property_type[T.Entire rental unit]:f_neighbourhood_cleansed[T.Sisli]',\n",
       "     'f_property_type[T.Entire serviced apartment]:f_neighbourhood_cleansed[T.Sisli]',\n",
       "     'f_property_type[T.Entire townhouse]:f_neighbourhood_cleansed[T.Sisli]',\n",
       "     'f_property_type[T.Entire vacation home]:f_neighbourhood_cleansed[T.Sisli]',\n",
       "     'f_property_type[T.Entire villa]:f_neighbourhood_cleansed[T.Sisli]',\n",
       "     'f_property_type[T.Private room in bed and breakfast]:f_neighbourhood_cleansed[T.Sisli]',\n",
       "     'f_property_type[T.Private room in condo]:f_neighbourhood_cleansed[T.Sisli]',\n",
       "     'f_property_type[T.Private room in guesthouse]:f_neighbourhood_cleansed[T.Sisli]',\n",
       "     'f_property_type[T.Private room in home]:f_neighbourhood_cleansed[T.Sisli]',\n",
       "     'f_property_type[T.Private room in loft]:f_neighbourhood_cleansed[T.Sisli]',\n",
       "     'f_property_type[T.Private room in rental unit]:f_neighbourhood_cleansed[T.Sisli]',\n",
       "     'f_property_type[T.Private room in serviced apartment]:f_neighbourhood_cleansed[T.Sisli]',\n",
       "     'f_property_type[T.Private room in townhouse]:f_neighbourhood_cleansed[T.Sisli]',\n",
       "     'f_property_type[T.Shared room in rental unit]:f_neighbourhood_cleansed[T.Sisli]',\n",
       "     'f_property_type[T.Tiny home]:f_neighbourhood_cleansed[T.Sisli]',\n",
       "     'f_property_type[T.Tower]:f_neighbourhood_cleansed[T.Sisli]',\n",
       "     'f_property_type[T.Entire condo]:f_neighbourhood_cleansed[T.Sultanbeyli]',\n",
       "     'f_property_type[T.Entire guest suite]:f_neighbourhood_cleansed[T.Sultanbeyli]',\n",
       "     'f_property_type[T.Entire guesthouse]:f_neighbourhood_cleansed[T.Sultanbeyli]',\n",
       "     'f_property_type[T.Entire home]:f_neighbourhood_cleansed[T.Sultanbeyli]',\n",
       "     'f_property_type[T.Entire loft]:f_neighbourhood_cleansed[T.Sultanbeyli]',\n",
       "     'f_property_type[T.Entire place]:f_neighbourhood_cleansed[T.Sultanbeyli]',\n",
       "     'f_property_type[T.Entire rental unit]:f_neighbourhood_cleansed[T.Sultanbeyli]',\n",
       "     'f_property_type[T.Entire serviced apartment]:f_neighbourhood_cleansed[T.Sultanbeyli]',\n",
       "     'f_property_type[T.Entire townhouse]:f_neighbourhood_cleansed[T.Sultanbeyli]',\n",
       "     'f_property_type[T.Entire vacation home]:f_neighbourhood_cleansed[T.Sultanbeyli]',\n",
       "     'f_property_type[T.Entire villa]:f_neighbourhood_cleansed[T.Sultanbeyli]',\n",
       "     'f_property_type[T.Private room in bed and breakfast]:f_neighbourhood_cleansed[T.Sultanbeyli]',\n",
       "     'f_property_type[T.Private room in condo]:f_neighbourhood_cleansed[T.Sultanbeyli]',\n",
       "     'f_property_type[T.Private room in guesthouse]:f_neighbourhood_cleansed[T.Sultanbeyli]',\n",
       "     'f_property_type[T.Private room in home]:f_neighbourhood_cleansed[T.Sultanbeyli]',\n",
       "     'f_property_type[T.Private room in loft]:f_neighbourhood_cleansed[T.Sultanbeyli]',\n",
       "     'f_property_type[T.Private room in rental unit]:f_neighbourhood_cleansed[T.Sultanbeyli]',\n",
       "     'f_property_type[T.Private room in serviced apartment]:f_neighbourhood_cleansed[T.Sultanbeyli]',\n",
       "     'f_property_type[T.Private room in townhouse]:f_neighbourhood_cleansed[T.Sultanbeyli]',\n",
       "     'f_property_type[T.Shared room in rental unit]:f_neighbourhood_cleansed[T.Sultanbeyli]',\n",
       "     'f_property_type[T.Tiny home]:f_neighbourhood_cleansed[T.Sultanbeyli]',\n",
       "     'f_property_type[T.Tower]:f_neighbourhood_cleansed[T.Sultanbeyli]',\n",
       "     'f_property_type[T.Entire condo]:f_neighbourhood_cleansed[T.Sultangazi]',\n",
       "     'f_property_type[T.Entire guest suite]:f_neighbourhood_cleansed[T.Sultangazi]',\n",
       "     'f_property_type[T.Entire guesthouse]:f_neighbourhood_cleansed[T.Sultangazi]',\n",
       "     'f_property_type[T.Entire home]:f_neighbourhood_cleansed[T.Sultangazi]',\n",
       "     'f_property_type[T.Entire loft]:f_neighbourhood_cleansed[T.Sultangazi]',\n",
       "     'f_property_type[T.Entire place]:f_neighbourhood_cleansed[T.Sultangazi]',\n",
       "     'f_property_type[T.Entire rental unit]:f_neighbourhood_cleansed[T.Sultangazi]',\n",
       "     'f_property_type[T.Entire serviced apartment]:f_neighbourhood_cleansed[T.Sultangazi]',\n",
       "     'f_property_type[T.Entire townhouse]:f_neighbourhood_cleansed[T.Sultangazi]',\n",
       "     'f_property_type[T.Entire vacation home]:f_neighbourhood_cleansed[T.Sultangazi]',\n",
       "     'f_property_type[T.Entire villa]:f_neighbourhood_cleansed[T.Sultangazi]',\n",
       "     'f_property_type[T.Private room in bed and breakfast]:f_neighbourhood_cleansed[T.Sultangazi]',\n",
       "     'f_property_type[T.Private room in condo]:f_neighbourhood_cleansed[T.Sultangazi]',\n",
       "     'f_property_type[T.Private room in guesthouse]:f_neighbourhood_cleansed[T.Sultangazi]',\n",
       "     'f_property_type[T.Private room in home]:f_neighbourhood_cleansed[T.Sultangazi]',\n",
       "     'f_property_type[T.Private room in loft]:f_neighbourhood_cleansed[T.Sultangazi]',\n",
       "     'f_property_type[T.Private room in rental unit]:f_neighbourhood_cleansed[T.Sultangazi]',\n",
       "     'f_property_type[T.Private room in serviced apartment]:f_neighbourhood_cleansed[T.Sultangazi]',\n",
       "     'f_property_type[T.Private room in townhouse]:f_neighbourhood_cleansed[T.Sultangazi]',\n",
       "     'f_property_type[T.Shared room in rental unit]:f_neighbourhood_cleansed[T.Sultangazi]',\n",
       "     'f_property_type[T.Tiny home]:f_neighbourhood_cleansed[T.Sultangazi]',\n",
       "     'f_property_type[T.Tower]:f_neighbourhood_cleansed[T.Sultangazi]',\n",
       "     'f_property_type[T.Entire condo]:f_neighbourhood_cleansed[T.Tuzla]',\n",
       "     'f_property_type[T.Entire guest suite]:f_neighbourhood_cleansed[T.Tuzla]',\n",
       "     'f_property_type[T.Entire guesthouse]:f_neighbourhood_cleansed[T.Tuzla]',\n",
       "     'f_property_type[T.Entire home]:f_neighbourhood_cleansed[T.Tuzla]',\n",
       "     'f_property_type[T.Entire loft]:f_neighbourhood_cleansed[T.Tuzla]',\n",
       "     'f_property_type[T.Entire place]:f_neighbourhood_cleansed[T.Tuzla]',\n",
       "     'f_property_type[T.Entire rental unit]:f_neighbourhood_cleansed[T.Tuzla]',\n",
       "     'f_property_type[T.Entire serviced apartment]:f_neighbourhood_cleansed[T.Tuzla]',\n",
       "     'f_property_type[T.Entire townhouse]:f_neighbourhood_cleansed[T.Tuzla]',\n",
       "     'f_property_type[T.Entire vacation home]:f_neighbourhood_cleansed[T.Tuzla]',\n",
       "     'f_property_type[T.Entire villa]:f_neighbourhood_cleansed[T.Tuzla]',\n",
       "     'f_property_type[T.Private room in bed and breakfast]:f_neighbourhood_cleansed[T.Tuzla]',\n",
       "     'f_property_type[T.Private room in condo]:f_neighbourhood_cleansed[T.Tuzla]',\n",
       "     'f_property_type[T.Private room in guesthouse]:f_neighbourhood_cleansed[T.Tuzla]',\n",
       "     'f_property_type[T.Private room in home]:f_neighbourhood_cleansed[T.Tuzla]',\n",
       "     'f_property_type[T.Private room in loft]:f_neighbourhood_cleansed[T.Tuzla]',\n",
       "     'f_property_type[T.Private room in rental unit]:f_neighbourhood_cleansed[T.Tuzla]',\n",
       "     'f_property_type[T.Private room in serviced apartment]:f_neighbourhood_cleansed[T.Tuzla]',\n",
       "     'f_property_type[T.Private room in townhouse]:f_neighbourhood_cleansed[T.Tuzla]',\n",
       "     'f_property_type[T.Shared room in rental unit]:f_neighbourhood_cleansed[T.Tuzla]',\n",
       "     'f_property_type[T.Tiny home]:f_neighbourhood_cleansed[T.Tuzla]',\n",
       "     'f_property_type[T.Tower]:f_neighbourhood_cleansed[T.Tuzla]',\n",
       "     'f_property_type[T.Entire condo]:f_neighbourhood_cleansed[T.Umraniye]',\n",
       "     'f_property_type[T.Entire guest suite]:f_neighbourhood_cleansed[T.Umraniye]',\n",
       "     'f_property_type[T.Entire guesthouse]:f_neighbourhood_cleansed[T.Umraniye]',\n",
       "     'f_property_type[T.Entire home]:f_neighbourhood_cleansed[T.Umraniye]',\n",
       "     'f_property_type[T.Entire loft]:f_neighbourhood_cleansed[T.Umraniye]',\n",
       "     'f_property_type[T.Entire place]:f_neighbourhood_cleansed[T.Umraniye]',\n",
       "     'f_property_type[T.Entire rental unit]:f_neighbourhood_cleansed[T.Umraniye]',\n",
       "     'f_property_type[T.Entire serviced apartment]:f_neighbourhood_cleansed[T.Umraniye]',\n",
       "     'f_property_type[T.Entire townhouse]:f_neighbourhood_cleansed[T.Umraniye]',\n",
       "     'f_property_type[T.Entire vacation home]:f_neighbourhood_cleansed[T.Umraniye]',\n",
       "     'f_property_type[T.Entire villa]:f_neighbourhood_cleansed[T.Umraniye]',\n",
       "     'f_property_type[T.Private room in bed and breakfast]:f_neighbourhood_cleansed[T.Umraniye]',\n",
       "     'f_property_type[T.Private room in condo]:f_neighbourhood_cleansed[T.Umraniye]',\n",
       "     'f_property_type[T.Private room in guesthouse]:f_neighbourhood_cleansed[T.Umraniye]',\n",
       "     'f_property_type[T.Private room in home]:f_neighbourhood_cleansed[T.Umraniye]',\n",
       "     'f_property_type[T.Private room in loft]:f_neighbourhood_cleansed[T.Umraniye]',\n",
       "     'f_property_type[T.Private room in rental unit]:f_neighbourhood_cleansed[T.Umraniye]',\n",
       "     'f_property_type[T.Private room in serviced apartment]:f_neighbourhood_cleansed[T.Umraniye]',\n",
       "     'f_property_type[T.Private room in townhouse]:f_neighbourhood_cleansed[T.Umraniye]',\n",
       "     'f_property_type[T.Shared room in rental unit]:f_neighbourhood_cleansed[T.Umraniye]',\n",
       "     'f_property_type[T.Tiny home]:f_neighbourhood_cleansed[T.Umraniye]',\n",
       "     'f_property_type[T.Tower]:f_neighbourhood_cleansed[T.Umraniye]',\n",
       "     'f_property_type[T.Entire condo]:f_neighbourhood_cleansed[T.Uskudar]',\n",
       "     'f_property_type[T.Entire guest suite]:f_neighbourhood_cleansed[T.Uskudar]',\n",
       "     'f_property_type[T.Entire guesthouse]:f_neighbourhood_cleansed[T.Uskudar]',\n",
       "     'f_property_type[T.Entire home]:f_neighbourhood_cleansed[T.Uskudar]',\n",
       "     'f_property_type[T.Entire loft]:f_neighbourhood_cleansed[T.Uskudar]',\n",
       "     'f_property_type[T.Entire place]:f_neighbourhood_cleansed[T.Uskudar]',\n",
       "     'f_property_type[T.Entire rental unit]:f_neighbourhood_cleansed[T.Uskudar]',\n",
       "     'f_property_type[T.Entire serviced apartment]:f_neighbourhood_cleansed[T.Uskudar]',\n",
       "     'f_property_type[T.Entire townhouse]:f_neighbourhood_cleansed[T.Uskudar]',\n",
       "     'f_property_type[T.Entire vacation home]:f_neighbourhood_cleansed[T.Uskudar]',\n",
       "     'f_property_type[T.Entire villa]:f_neighbourhood_cleansed[T.Uskudar]',\n",
       "     'f_property_type[T.Private room in bed and breakfast]:f_neighbourhood_cleansed[T.Uskudar]',\n",
       "     'f_property_type[T.Private room in condo]:f_neighbourhood_cleansed[T.Uskudar]',\n",
       "     'f_property_type[T.Private room in guesthouse]:f_neighbourhood_cleansed[T.Uskudar]',\n",
       "     'f_property_type[T.Private room in home]:f_neighbourhood_cleansed[T.Uskudar]',\n",
       "     'f_property_type[T.Private room in loft]:f_neighbourhood_cleansed[T.Uskudar]',\n",
       "     'f_property_type[T.Private room in rental unit]:f_neighbourhood_cleansed[T.Uskudar]',\n",
       "     'f_property_type[T.Private room in serviced apartment]:f_neighbourhood_cleansed[T.Uskudar]',\n",
       "     'f_property_type[T.Private room in townhouse]:f_neighbourhood_cleansed[T.Uskudar]',\n",
       "     'f_property_type[T.Shared room in rental unit]:f_neighbourhood_cleansed[T.Uskudar]',\n",
       "     'f_property_type[T.Tiny home]:f_neighbourhood_cleansed[T.Uskudar]',\n",
       "     'f_property_type[T.Tower]:f_neighbourhood_cleansed[T.Uskudar]',\n",
       "     'f_property_type[T.Entire condo]:f_neighbourhood_cleansed[T.Zeytinburnu]',\n",
       "     'f_property_type[T.Entire guest suite]:f_neighbourhood_cleansed[T.Zeytinburnu]',\n",
       "     'f_property_type[T.Entire guesthouse]:f_neighbourhood_cleansed[T.Zeytinburnu]',\n",
       "     'f_property_type[T.Entire home]:f_neighbourhood_cleansed[T.Zeytinburnu]',\n",
       "     'f_property_type[T.Entire loft]:f_neighbourhood_cleansed[T.Zeytinburnu]',\n",
       "     'f_property_type[T.Entire place]:f_neighbourhood_cleansed[T.Zeytinburnu]',\n",
       "     'f_property_type[T.Entire rental unit]:f_neighbourhood_cleansed[T.Zeytinburnu]',\n",
       "     'f_property_type[T.Entire serviced apartment]:f_neighbourhood_cleansed[T.Zeytinburnu]',\n",
       "     'f_property_type[T.Entire townhouse]:f_neighbourhood_cleansed[T.Zeytinburnu]',\n",
       "     'f_property_type[T.Entire vacation home]:f_neighbourhood_cleansed[T.Zeytinburnu]',\n",
       "     'f_property_type[T.Entire villa]:f_neighbourhood_cleansed[T.Zeytinburnu]',\n",
       "     'f_property_type[T.Private room in bed and breakfast]:f_neighbourhood_cleansed[T.Zeytinburnu]',\n",
       "     'f_property_type[T.Private room in condo]:f_neighbourhood_cleansed[T.Zeytinburnu]',\n",
       "     'f_property_type[T.Private room in guesthouse]:f_neighbourhood_cleansed[T.Zeytinburnu]',\n",
       "     'f_property_type[T.Private room in home]:f_neighbourhood_cleansed[T.Zeytinburnu]',\n",
       "     'f_property_type[T.Private room in loft]:f_neighbourhood_cleansed[T.Zeytinburnu]',\n",
       "     'f_property_type[T.Private room in rental unit]:f_neighbourhood_cleansed[T.Zeytinburnu]',\n",
       "     'f_property_type[T.Private room in serviced apartment]:f_neighbourhood_cleansed[T.Zeytinburnu]',\n",
       "     'f_property_type[T.Private room in townhouse]:f_neighbourhood_cleansed[T.Zeytinburnu]',\n",
       "     'f_property_type[T.Shared room in rental unit]:f_neighbourhood_cleansed[T.Zeytinburnu]',\n",
       "     'f_property_type[T.Tiny home]:f_neighbourhood_cleansed[T.Zeytinburnu]',\n",
       "     'f_property_type[T.Tower]:f_neighbourhood_cleansed[T.Zeytinburnu]',\n",
       "     'f_room_type[T.Private room]:f_neighbourhood_cleansed[T.Arnavutkoy]',\n",
       "     'f_room_type[T.Shared room]:f_neighbourhood_cleansed[T.Arnavutkoy]',\n",
       "     'f_room_type[T.Private room]:f_neighbourhood_cleansed[T.Atasehir]',\n",
       "     'f_room_type[T.Shared room]:f_neighbourhood_cleansed[T.Atasehir]',\n",
       "     'f_room_type[T.Private room]:f_neighbourhood_cleansed[T.Avcilar]',\n",
       "     'f_room_type[T.Shared room]:f_neighbourhood_cleansed[T.Avcilar]',\n",
       "     'f_room_type[T.Private room]:f_neighbourhood_cleansed[T.Bagcilar]',\n",
       "     'f_room_type[T.Shared room]:f_neighbourhood_cleansed[T.Bagcilar]',\n",
       "     'f_room_type[T.Private room]:f_neighbourhood_cleansed[T.Bahcelievler]',\n",
       "     'f_room_type[T.Shared room]:f_neighbourhood_cleansed[T.Bahcelievler]',\n",
       "     'f_room_type[T.Private room]:f_neighbourhood_cleansed[T.Bakirkoy]',\n",
       "     'f_room_type[T.Shared room]:f_neighbourhood_cleansed[T.Bakirkoy]',\n",
       "     'f_room_type[T.Private room]:f_neighbourhood_cleansed[T.Basaksehir]',\n",
       "     'f_room_type[T.Shared room]:f_neighbourhood_cleansed[T.Basaksehir]',\n",
       "     'f_room_type[T.Private room]:f_neighbourhood_cleansed[T.Bayrampasa]',\n",
       "     'f_room_type[T.Shared room]:f_neighbourhood_cleansed[T.Bayrampasa]',\n",
       "     'f_room_type[T.Private room]:f_neighbourhood_cleansed[T.Besiktas]',\n",
       "     'f_room_type[T.Shared room]:f_neighbourhood_cleansed[T.Besiktas]',\n",
       "     'f_room_type[T.Private room]:f_neighbourhood_cleansed[T.Beykoz]',\n",
       "     'f_room_type[T.Shared room]:f_neighbourhood_cleansed[T.Beykoz]',\n",
       "     'f_room_type[T.Private room]:f_neighbourhood_cleansed[T.Beylikduzu]',\n",
       "     'f_room_type[T.Shared room]:f_neighbourhood_cleansed[T.Beylikduzu]',\n",
       "     'f_room_type[T.Private room]:f_neighbourhood_cleansed[T.Beyoglu]',\n",
       "     'f_room_type[T.Shared room]:f_neighbourhood_cleansed[T.Beyoglu]',\n",
       "     'f_room_type[T.Private room]:f_neighbourhood_cleansed[T.Buyukcekmece]',\n",
       "     'f_room_type[T.Shared room]:f_neighbourhood_cleansed[T.Buyukcekmece]',\n",
       "     'f_room_type[T.Private room]:f_neighbourhood_cleansed[T.Catalca]',\n",
       "     'f_room_type[T.Shared room]:f_neighbourhood_cleansed[T.Catalca]',\n",
       "     'f_room_type[T.Private room]:f_neighbourhood_cleansed[T.Cekmekoy]',\n",
       "     'f_room_type[T.Shared room]:f_neighbourhood_cleansed[T.Cekmekoy]',\n",
       "     'f_room_type[T.Private room]:f_neighbourhood_cleansed[T.Esenler]',\n",
       "     'f_room_type[T.Shared room]:f_neighbourhood_cleansed[T.Esenler]',\n",
       "     'f_room_type[T.Private room]:f_neighbourhood_cleansed[T.Esenyurt]',\n",
       "     'f_room_type[T.Shared room]:f_neighbourhood_cleansed[T.Esenyurt]',\n",
       "     'f_room_type[T.Private room]:f_neighbourhood_cleansed[T.Eyup]',\n",
       "     'f_room_type[T.Shared room]:f_neighbourhood_cleansed[T.Eyup]',\n",
       "     'f_room_type[T.Private room]:f_neighbourhood_cleansed[T.Fatih]',\n",
       "     'f_room_type[T.Shared room]:f_neighbourhood_cleansed[T.Fatih]',\n",
       "     'f_room_type[T.Private room]:f_neighbourhood_cleansed[T.Gaziosmanpasa]',\n",
       "     'f_room_type[T.Shared room]:f_neighbourhood_cleansed[T.Gaziosmanpasa]',\n",
       "     'f_room_type[T.Private room]:f_neighbourhood_cleansed[T.Gungoren]',\n",
       "     'f_room_type[T.Shared room]:f_neighbourhood_cleansed[T.Gungoren]',\n",
       "     'f_room_type[T.Private room]:f_neighbourhood_cleansed[T.Kadikoy]',\n",
       "     'f_room_type[T.Shared room]:f_neighbourhood_cleansed[T.Kadikoy]',\n",
       "     'f_room_type[T.Private room]:f_neighbourhood_cleansed[T.Kagithane]',\n",
       "     'f_room_type[T.Shared room]:f_neighbourhood_cleansed[T.Kagithane]',\n",
       "     'f_room_type[T.Private room]:f_neighbourhood_cleansed[T.Kartal]',\n",
       "     'f_room_type[T.Shared room]:f_neighbourhood_cleansed[T.Kartal]',\n",
       "     'f_room_type[T.Private room]:f_neighbourhood_cleansed[T.Kucukcekmece]',\n",
       "     'f_room_type[T.Shared room]:f_neighbourhood_cleansed[T.Kucukcekmece]',\n",
       "     'f_room_type[T.Private room]:f_neighbourhood_cleansed[T.Maltepe]',\n",
       "     'f_room_type[T.Shared room]:f_neighbourhood_cleansed[T.Maltepe]',\n",
       "     'f_room_type[T.Private room]:f_neighbourhood_cleansed[T.Pendik]',\n",
       "     'f_room_type[T.Shared room]:f_neighbourhood_cleansed[T.Pendik]',\n",
       "     ...]\n",
       "  Terms:\n",
       "    'Intercept' (column 0)\n",
       "    'f_property_type' (columns 1:23)\n",
       "    'f_room_type' (columns 23:25)\n",
       "    'f_neighbourhood_cleansed' (columns 25:63)\n",
       "    'f_host_response_time' (columns 63:66)\n",
       "    'f_room_type:f_property_type' (columns 66:110)\n",
       "    'f_property_type:f_neighbourhood_cleansed' (columns 110:946)\n",
       "    'f_room_type:f_neighbourhood_cleansed' (columns 946:1022)\n",
       "    'n_accommodates' (column 1022)\n",
       "    'n_accommodates:f_property_type' (columns 1023:1045)\n",
       "    'n_accommodates:f_neighbourhood_cleansed' (columns 1045:1083)\n",
       "    'n_beds' (column 1083)\n",
       "    'n_bathrooms' (column 1084)\n",
       "    'n_availability_365' (column 1085)\n",
       "    'n_minimum_nights' (column 1086)\n",
       "    'n_host_response_rate' (column 1087)\n",
       "    'n_host_acceptance_rate' (column 1088)\n",
       "    'n_number_of_reviews' (column 1089)\n",
       "    'n_review_scores_rating' (column 1090)\n",
       "  (to view full data, use np.asarray(this_obj))"
      ]
     },
     "execution_count": 164,
     "metadata": {},
     "output_type": "execute_result"
    }
   ],
   "source": [
    "# X matrice is created in a way that every category in categorical variable is taken as a seperate column\n",
    "X"
   ]
  },
  {
   "cell_type": "code",
   "execution_count": 51,
   "metadata": {
    "tags": []
   },
   "outputs": [
    {
     "data": {
      "text/plain": [
       "(8218, 1)"
      ]
     },
     "execution_count": 51,
     "metadata": {},
     "output_type": "execute_result"
    }
   ],
   "source": [
    "# a two-dimensional object\n",
    "y.shape"
   ]
  },
  {
   "cell_type": "code",
   "execution_count": 53,
   "metadata": {
    "tags": []
   },
   "outputs": [
    {
     "data": {
      "text/plain": [
       "(8218,)"
      ]
     },
     "execution_count": 53,
     "metadata": {},
     "output_type": "execute_result"
    }
   ],
   "source": [
    "# using ravel() we flatten it to a one-dimensional data object. \n",
    "y.ravel().shape"
   ]
  },
  {
   "cell_type": "code",
   "execution_count": 54,
   "metadata": {},
   "outputs": [],
   "source": [
    "# Create the Random Forest Regressor of sklearn package\n",
    "rfr = RandomForestRegressor(random_state = 20240129)"
   ]
  },
  {
   "cell_type": "code",
   "execution_count": 55,
   "metadata": {},
   "outputs": [],
   "source": [
    "tune_grid = {\"max_features\": [6, 8, 10, 12], \"min_samples_leaf\": [5, 10, 15]}"
   ]
  },
  {
   "cell_type": "code",
   "execution_count": 56,
   "metadata": {},
   "outputs": [],
   "source": [
    "# Created one for level prices and one for log prices\n",
    "# Find the best values for hyperparameters of a model\n",
    "\n",
    "rf_random = GridSearchCV(\n",
    "    rfr,\n",
    "    tune_grid,\n",
    "    cv=5,\n",
    "    scoring=\"neg_root_mean_squared_error\",\n",
    "    verbose=3,\n",
    ")\n",
    "\n",
    "\n",
    "rf_random2 = GridSearchCV(\n",
    "    rfr,\n",
    "    tune_grid,\n",
    "    cv=5,\n",
    "    scoring=\"neg_root_mean_squared_error\",\n",
    "    verbose=3,\n",
    ")"
   ]
  },
  {
   "cell_type": "markdown",
   "metadata": {},
   "source": [
    "`GridsearchCV()` is an exhaustive search over specified parameter values for an estimator."
   ]
  },
  {
   "cell_type": "code",
   "execution_count": 57,
   "metadata": {
    "tags": []
   },
   "outputs": [
    {
     "name": "stdout",
     "output_type": "stream",
     "text": [
      "Fitting 5 folds for each of 12 candidates, totalling 60 fits\n",
      "[CV 1/5] END max_features=6, min_samples_leaf=5;, score=-0.460 total time=   0.8s\n",
      "[CV 2/5] END max_features=6, min_samples_leaf=5;, score=-0.475 total time=   0.8s\n",
      "[CV 3/5] END max_features=6, min_samples_leaf=5;, score=-0.454 total time=   0.8s\n",
      "[CV 4/5] END max_features=6, min_samples_leaf=5;, score=-0.469 total time=   0.8s\n",
      "[CV 5/5] END max_features=6, min_samples_leaf=5;, score=-0.459 total time=   0.8s\n",
      "[CV 1/5] END max_features=6, min_samples_leaf=10;, score=-0.473 total time=   0.6s\n",
      "[CV 2/5] END max_features=6, min_samples_leaf=10;, score=-0.487 total time=   0.6s\n",
      "[CV 3/5] END max_features=6, min_samples_leaf=10;, score=-0.469 total time=   0.6s\n",
      "[CV 4/5] END max_features=6, min_samples_leaf=10;, score=-0.480 total time=   0.6s\n",
      "[CV 5/5] END max_features=6, min_samples_leaf=10;, score=-0.475 total time=   0.6s\n",
      "[CV 1/5] END max_features=6, min_samples_leaf=15;, score=-0.479 total time=   0.6s\n",
      "[CV 2/5] END max_features=6, min_samples_leaf=15;, score=-0.495 total time=   0.6s\n",
      "[CV 3/5] END max_features=6, min_samples_leaf=15;, score=-0.476 total time=   0.5s\n",
      "[CV 4/5] END max_features=6, min_samples_leaf=15;, score=-0.490 total time=   0.5s\n",
      "[CV 5/5] END max_features=6, min_samples_leaf=15;, score=-0.481 total time=   0.5s\n",
      "[CV 1/5] END max_features=8, min_samples_leaf=5;, score=-0.449 total time=   1.0s\n",
      "[CV 2/5] END max_features=8, min_samples_leaf=5;, score=-0.465 total time=   1.0s\n",
      "[CV 3/5] END max_features=8, min_samples_leaf=5;, score=-0.442 total time=   1.0s\n",
      "[CV 4/5] END max_features=8, min_samples_leaf=5;, score=-0.457 total time=   1.0s\n",
      "[CV 5/5] END max_features=8, min_samples_leaf=5;, score=-0.449 total time=   1.0s\n",
      "[CV 1/5] END max_features=8, min_samples_leaf=10;, score=-0.461 total time=   0.8s\n",
      "[CV 2/5] END max_features=8, min_samples_leaf=10;, score=-0.477 total time=   0.8s\n",
      "[CV 3/5] END max_features=8, min_samples_leaf=10;, score=-0.457 total time=   0.8s\n",
      "[CV 4/5] END max_features=8, min_samples_leaf=10;, score=-0.469 total time=   0.8s\n",
      "[CV 5/5] END max_features=8, min_samples_leaf=10;, score=-0.463 total time=   0.9s\n",
      "[CV 1/5] END max_features=8, min_samples_leaf=15;, score=-0.468 total time=   1.0s\n",
      "[CV 2/5] END max_features=8, min_samples_leaf=15;, score=-0.483 total time=   0.7s\n",
      "[CV 3/5] END max_features=8, min_samples_leaf=15;, score=-0.464 total time=   0.7s\n",
      "[CV 4/5] END max_features=8, min_samples_leaf=15;, score=-0.477 total time=   0.7s\n",
      "[CV 5/5] END max_features=8, min_samples_leaf=15;, score=-0.470 total time=   0.7s\n",
      "[CV 1/5] END max_features=10, min_samples_leaf=5;, score=-0.445 total time=   1.3s\n",
      "[CV 2/5] END max_features=10, min_samples_leaf=5;, score=-0.460 total time=   1.3s\n",
      "[CV 3/5] END max_features=10, min_samples_leaf=5;, score=-0.435 total time=   1.3s\n",
      "[CV 4/5] END max_features=10, min_samples_leaf=5;, score=-0.451 total time=   1.3s\n",
      "[CV 5/5] END max_features=10, min_samples_leaf=5;, score=-0.444 total time=   1.3s\n",
      "[CV 1/5] END max_features=10, min_samples_leaf=10;, score=-0.456 total time=   1.0s\n",
      "[CV 2/5] END max_features=10, min_samples_leaf=10;, score=-0.472 total time=   1.0s\n",
      "[CV 3/5] END max_features=10, min_samples_leaf=10;, score=-0.449 total time=   1.0s\n",
      "[CV 4/5] END max_features=10, min_samples_leaf=10;, score=-0.463 total time=   1.0s\n",
      "[CV 5/5] END max_features=10, min_samples_leaf=10;, score=-0.456 total time=   1.0s\n",
      "[CV 1/5] END max_features=10, min_samples_leaf=15;, score=-0.462 total time=   0.9s\n",
      "[CV 2/5] END max_features=10, min_samples_leaf=15;, score=-0.476 total time=   0.8s\n",
      "[CV 3/5] END max_features=10, min_samples_leaf=15;, score=-0.455 total time=   0.8s\n",
      "[CV 4/5] END max_features=10, min_samples_leaf=15;, score=-0.469 total time=   0.8s\n",
      "[CV 5/5] END max_features=10, min_samples_leaf=15;, score=-0.463 total time=   0.8s\n",
      "[CV 1/5] END max_features=12, min_samples_leaf=5;, score=-0.443 total time=   1.5s\n",
      "[CV 2/5] END max_features=12, min_samples_leaf=5;, score=-0.459 total time=   1.5s\n",
      "[CV 3/5] END max_features=12, min_samples_leaf=5;, score=-0.433 total time=   1.5s\n",
      "[CV 4/5] END max_features=12, min_samples_leaf=5;, score=-0.446 total time=   1.5s\n",
      "[CV 5/5] END max_features=12, min_samples_leaf=5;, score=-0.440 total time=   1.5s\n",
      "[CV 1/5] END max_features=12, min_samples_leaf=10;, score=-0.453 total time=   1.1s\n",
      "[CV 2/5] END max_features=12, min_samples_leaf=10;, score=-0.467 total time=   1.1s\n",
      "[CV 3/5] END max_features=12, min_samples_leaf=10;, score=-0.443 total time=   1.2s\n",
      "[CV 4/5] END max_features=12, min_samples_leaf=10;, score=-0.457 total time=   1.1s\n",
      "[CV 5/5] END max_features=12, min_samples_leaf=10;, score=-0.450 total time=   1.1s\n",
      "[CV 1/5] END max_features=12, min_samples_leaf=15;, score=-0.459 total time=   1.0s\n",
      "[CV 2/5] END max_features=12, min_samples_leaf=15;, score=-0.472 total time=   1.0s\n",
      "[CV 3/5] END max_features=12, min_samples_leaf=15;, score=-0.449 total time=   1.0s\n",
      "[CV 4/5] END max_features=12, min_samples_leaf=15;, score=-0.464 total time=   1.0s\n",
      "[CV 5/5] END max_features=12, min_samples_leaf=15;, score=-0.458 total time=   1.0s\n",
      "Fitting 5 folds for each of 12 candidates, totalling 60 fits\n",
      "[CV 1/5] END max_features=6, min_samples_leaf=5;, score=-1091.878 total time=   0.8s\n",
      "[CV 2/5] END max_features=6, min_samples_leaf=5;, score=-1143.865 total time=   0.8s\n",
      "[CV 3/5] END max_features=6, min_samples_leaf=5;, score=-1094.257 total time=   0.8s\n",
      "[CV 4/5] END max_features=6, min_samples_leaf=5;, score=-1101.028 total time=   0.8s\n",
      "[CV 5/5] END max_features=6, min_samples_leaf=5;, score=-1067.127 total time=   0.8s\n",
      "[CV 1/5] END max_features=6, min_samples_leaf=10;, score=-1117.942 total time=   0.6s\n",
      "[CV 2/5] END max_features=6, min_samples_leaf=10;, score=-1170.341 total time=   0.6s\n",
      "[CV 3/5] END max_features=6, min_samples_leaf=10;, score=-1121.561 total time=   0.7s\n",
      "[CV 4/5] END max_features=6, min_samples_leaf=10;, score=-1126.017 total time=   0.6s\n",
      "[CV 5/5] END max_features=6, min_samples_leaf=10;, score=-1092.847 total time=   0.6s\n",
      "[CV 1/5] END max_features=6, min_samples_leaf=15;, score=-1131.736 total time=   0.7s\n",
      "[CV 2/5] END max_features=6, min_samples_leaf=15;, score=-1181.602 total time=   0.5s\n",
      "[CV 3/5] END max_features=6, min_samples_leaf=15;, score=-1137.929 total time=   0.5s\n",
      "[CV 4/5] END max_features=6, min_samples_leaf=15;, score=-1141.574 total time=   0.5s\n",
      "[CV 5/5] END max_features=6, min_samples_leaf=15;, score=-1105.857 total time=   0.6s\n",
      "[CV 1/5] END max_features=8, min_samples_leaf=5;, score=-1069.396 total time=   1.1s\n",
      "[CV 2/5] END max_features=8, min_samples_leaf=5;, score=-1131.797 total time=   1.1s\n",
      "[CV 3/5] END max_features=8, min_samples_leaf=5;, score=-1076.407 total time=   1.0s\n",
      "[CV 4/5] END max_features=8, min_samples_leaf=5;, score=-1079.596 total time=   1.0s\n",
      "[CV 5/5] END max_features=8, min_samples_leaf=5;, score=-1053.227 total time=   1.0s\n",
      "[CV 1/5] END max_features=8, min_samples_leaf=10;, score=-1097.343 total time=   0.8s\n",
      "[CV 2/5] END max_features=8, min_samples_leaf=10;, score=-1153.758 total time=   0.8s\n",
      "[CV 3/5] END max_features=8, min_samples_leaf=10;, score=-1102.564 total time=   0.8s\n",
      "[CV 4/5] END max_features=8, min_samples_leaf=10;, score=-1097.781 total time=   0.8s\n",
      "[CV 5/5] END max_features=8, min_samples_leaf=10;, score=-1077.412 total time=   0.8s\n",
      "[CV 1/5] END max_features=8, min_samples_leaf=15;, score=-1104.050 total time=   0.7s\n",
      "[CV 2/5] END max_features=8, min_samples_leaf=15;, score=-1160.466 total time=   0.8s\n",
      "[CV 3/5] END max_features=8, min_samples_leaf=15;, score=-1112.204 total time=   0.7s\n",
      "[CV 4/5] END max_features=8, min_samples_leaf=15;, score=-1111.057 total time=   0.7s\n",
      "[CV 5/5] END max_features=8, min_samples_leaf=15;, score=-1084.041 total time=   0.7s\n",
      "[CV 1/5] END max_features=10, min_samples_leaf=5;, score=-1060.125 total time=   1.3s\n",
      "[CV 2/5] END max_features=10, min_samples_leaf=5;, score=-1119.958 total time=   1.3s\n",
      "[CV 3/5] END max_features=10, min_samples_leaf=5;, score=-1061.043 total time=   1.3s\n",
      "[CV 4/5] END max_features=10, min_samples_leaf=5;, score=-1064.492 total time=   1.3s\n",
      "[CV 5/5] END max_features=10, min_samples_leaf=5;, score=-1044.082 total time=   1.3s\n",
      "[CV 1/5] END max_features=10, min_samples_leaf=10;, score=-1082.158 total time=   1.0s\n"
     ]
    },
    {
     "name": "stdout",
     "output_type": "stream",
     "text": [
      "[CV 2/5] END max_features=10, min_samples_leaf=10;, score=-1140.338 total time=   1.0s\n",
      "[CV 3/5] END max_features=10, min_samples_leaf=10;, score=-1086.463 total time=   1.0s\n",
      "[CV 4/5] END max_features=10, min_samples_leaf=10;, score=-1090.417 total time=   0.9s\n",
      "[CV 5/5] END max_features=10, min_samples_leaf=10;, score=-1064.439 total time=   1.0s\n",
      "[CV 1/5] END max_features=10, min_samples_leaf=15;, score=-1094.791 total time=   0.9s\n",
      "[CV 2/5] END max_features=10, min_samples_leaf=15;, score=-1154.678 total time=   0.8s\n",
      "[CV 3/5] END max_features=10, min_samples_leaf=15;, score=-1097.906 total time=   0.8s\n",
      "[CV 4/5] END max_features=10, min_samples_leaf=15;, score=-1101.011 total time=   0.9s\n",
      "[CV 5/5] END max_features=10, min_samples_leaf=15;, score=-1074.466 total time=   0.8s\n",
      "[CV 1/5] END max_features=12, min_samples_leaf=5;, score=-1054.841 total time=   1.5s\n",
      "[CV 2/5] END max_features=12, min_samples_leaf=5;, score=-1114.515 total time=   1.5s\n",
      "[CV 3/5] END max_features=12, min_samples_leaf=5;, score=-1052.042 total time=   1.6s\n",
      "[CV 4/5] END max_features=12, min_samples_leaf=5;, score=-1056.847 total time=   1.6s\n",
      "[CV 5/5] END max_features=12, min_samples_leaf=5;, score=-1038.132 total time=   1.5s\n",
      "[CV 1/5] END max_features=12, min_samples_leaf=10;, score=-1076.988 total time=   1.1s\n",
      "[CV 2/5] END max_features=12, min_samples_leaf=10;, score=-1130.216 total time=   1.1s\n",
      "[CV 3/5] END max_features=12, min_samples_leaf=10;, score=-1074.944 total time=   1.1s\n",
      "[CV 4/5] END max_features=12, min_samples_leaf=10;, score=-1076.203 total time=   1.1s\n",
      "[CV 5/5] END max_features=12, min_samples_leaf=10;, score=-1054.156 total time=   1.1s\n",
      "[CV 1/5] END max_features=12, min_samples_leaf=15;, score=-1087.494 total time=   1.0s\n",
      "[CV 2/5] END max_features=12, min_samples_leaf=15;, score=-1144.663 total time=   1.0s\n",
      "[CV 3/5] END max_features=12, min_samples_leaf=15;, score=-1087.401 total time=   1.0s\n",
      "[CV 4/5] END max_features=12, min_samples_leaf=15;, score=-1090.002 total time=   1.0s\n",
      "[CV 5/5] END max_features=12, min_samples_leaf=15;, score=-1063.809 total time=   1.0s\n",
      "CPU times: total: 2min 8s\n",
      "Wall time: 2min 8s\n"
     ]
    }
   ],
   "source": [
    "%%time\n",
    "rf_model = rf_random.fit(X, y.ravel())\n",
    "rf_model2 = rf_random2.fit(X22, y2.ravel())"
   ]
  },
  {
   "cell_type": "markdown",
   "metadata": {},
   "source": [
    "<br>\n",
    "\n",
    "Cross-validated results are saved in the grid search object's `cv_results_` attribute. *RMSE* is displayed as a negative number. "
   ]
  },
  {
   "cell_type": "code",
   "execution_count": 59,
   "metadata": {
    "tags": []
   },
   "outputs": [],
   "source": [
    "df_rf_model_cv_results = pd.DataFrame(rf_model.cv_results_)[[\n",
    "    'param_max_features', 'param_min_samples_leaf', 'mean_test_score']]\n",
    "df_rf_model2_cv_results = pd.DataFrame(rf_model2.cv_results_)[[\n",
    "    'param_max_features', 'param_min_samples_leaf', 'mean_test_score']]"
   ]
  },
  {
   "cell_type": "code",
   "execution_count": 60,
   "metadata": {},
   "outputs": [],
   "source": [
    "# Rename columns of the results of first random forest model (df_rf_model with ln(price))\n",
    "df_rf_model_cv_results.columns = ['max features', 'min node size', 'RMSE_ln']\n",
    "\n",
    "# Calculate mean price\n",
    "mean_price_ln = np.mean(y)\n",
    "mean_price_level = np.mean(y2)\n",
    "\n",
    "# Calculate prediction error percentage\n",
    "rmse_values_ln = -df_rf_model_cv_results['RMSE_ln']\n",
    "df_rf_model_cv_results['RMSE_ln'] = rmse_values_ln\n",
    "error_percentage_ln = (rmse_values_ln / mean_price_ln)\n",
    "\n",
    "rmse_values_level = -df_rf_model2_cv_results['mean_test_score']\n",
    "error_percentage_level = (rmse_values_level / mean_price_level)\n",
    "\n",
    "# Add prediction error percentage to the DataFrame\n",
    "df_rf_model_cv_results['RMSE_percentage_ln'] = error_percentage_ln\n",
    "\n",
    "# Add RMSE of level price as y to the DataFrame\n",
    "df_rf_model_cv_results['RMSE_level'] = rmse_values_level\n",
    "\n",
    "# Add prediction error percentage of level price as y to the DataFrame\n",
    "df_rf_model_cv_results['RMSE_percentage_level'] = error_percentage_level"
   ]
  },
  {
   "cell_type": "code",
   "execution_count": 61,
   "metadata": {
    "tags": []
   },
   "outputs": [
    {
     "data": {
      "text/html": [
       "<div>\n",
       "<style scoped>\n",
       "    .dataframe tbody tr th:only-of-type {\n",
       "        vertical-align: middle;\n",
       "    }\n",
       "\n",
       "    .dataframe tbody tr th {\n",
       "        vertical-align: top;\n",
       "    }\n",
       "\n",
       "    .dataframe thead th {\n",
       "        text-align: right;\n",
       "    }\n",
       "</style>\n",
       "<table border=\"1\" class=\"dataframe\">\n",
       "  <thead>\n",
       "    <tr style=\"text-align: right;\">\n",
       "      <th></th>\n",
       "      <th>max features</th>\n",
       "      <th>min node size</th>\n",
       "      <th>RMSE_ln</th>\n",
       "      <th>RMSE_percentage_ln</th>\n",
       "      <th>RMSE_level</th>\n",
       "      <th>RMSE_percentage_level</th>\n",
       "    </tr>\n",
       "  </thead>\n",
       "  <tbody>\n",
       "    <tr>\n",
       "      <th>0</th>\n",
       "      <td>6</td>\n",
       "      <td>5</td>\n",
       "      <td>0.463479</td>\n",
       "      <td>0.062034</td>\n",
       "      <td>1099.631051</td>\n",
       "      <td>0.524614</td>\n",
       "    </tr>\n",
       "    <tr>\n",
       "      <th>1</th>\n",
       "      <td>6</td>\n",
       "      <td>10</td>\n",
       "      <td>0.476894</td>\n",
       "      <td>0.063830</td>\n",
       "      <td>1125.741635</td>\n",
       "      <td>0.537071</td>\n",
       "    </tr>\n",
       "    <tr>\n",
       "      <th>2</th>\n",
       "      <td>6</td>\n",
       "      <td>15</td>\n",
       "      <td>0.484348</td>\n",
       "      <td>0.064827</td>\n",
       "      <td>1139.739740</td>\n",
       "      <td>0.543749</td>\n",
       "    </tr>\n",
       "    <tr>\n",
       "      <th>3</th>\n",
       "      <td>8</td>\n",
       "      <td>5</td>\n",
       "      <td>0.452446</td>\n",
       "      <td>0.060557</td>\n",
       "      <td>1082.084618</td>\n",
       "      <td>0.516243</td>\n",
       "    </tr>\n",
       "    <tr>\n",
       "      <th>4</th>\n",
       "      <td>8</td>\n",
       "      <td>10</td>\n",
       "      <td>0.465354</td>\n",
       "      <td>0.062285</td>\n",
       "      <td>1105.771394</td>\n",
       "      <td>0.527543</td>\n",
       "    </tr>\n",
       "    <tr>\n",
       "      <th>5</th>\n",
       "      <td>8</td>\n",
       "      <td>15</td>\n",
       "      <td>0.472312</td>\n",
       "      <td>0.063216</td>\n",
       "      <td>1114.363726</td>\n",
       "      <td>0.531643</td>\n",
       "    </tr>\n",
       "    <tr>\n",
       "      <th>6</th>\n",
       "      <td>10</td>\n",
       "      <td>5</td>\n",
       "      <td>0.447108</td>\n",
       "      <td>0.059843</td>\n",
       "      <td>1069.940128</td>\n",
       "      <td>0.510449</td>\n",
       "    </tr>\n",
       "    <tr>\n",
       "      <th>7</th>\n",
       "      <td>10</td>\n",
       "      <td>10</td>\n",
       "      <td>0.459301</td>\n",
       "      <td>0.061475</td>\n",
       "      <td>1092.762778</td>\n",
       "      <td>0.521337</td>\n",
       "    </tr>\n",
       "    <tr>\n",
       "      <th>8</th>\n",
       "      <td>10</td>\n",
       "      <td>15</td>\n",
       "      <td>0.464863</td>\n",
       "      <td>0.062219</td>\n",
       "      <td>1104.570262</td>\n",
       "      <td>0.526970</td>\n",
       "    </tr>\n",
       "    <tr>\n",
       "      <th>9</th>\n",
       "      <td>12</td>\n",
       "      <td>5</td>\n",
       "      <td>0.444084</td>\n",
       "      <td>0.059438</td>\n",
       "      <td>1063.275360</td>\n",
       "      <td>0.507269</td>\n",
       "    </tr>\n",
       "    <tr>\n",
       "      <th>10</th>\n",
       "      <td>12</td>\n",
       "      <td>10</td>\n",
       "      <td>0.454145</td>\n",
       "      <td>0.060785</td>\n",
       "      <td>1082.501295</td>\n",
       "      <td>0.516442</td>\n",
       "    </tr>\n",
       "    <tr>\n",
       "      <th>11</th>\n",
       "      <td>12</td>\n",
       "      <td>15</td>\n",
       "      <td>0.460644</td>\n",
       "      <td>0.061655</td>\n",
       "      <td>1094.674040</td>\n",
       "      <td>0.522249</td>\n",
       "    </tr>\n",
       "  </tbody>\n",
       "</table>\n",
       "</div>"
      ],
      "text/plain": [
       "   max features min node size   RMSE_ln  RMSE_percentage_ln   RMSE_level  \\\n",
       "0             6             5  0.463479            0.062034  1099.631051   \n",
       "1             6            10  0.476894            0.063830  1125.741635   \n",
       "2             6            15  0.484348            0.064827  1139.739740   \n",
       "3             8             5  0.452446            0.060557  1082.084618   \n",
       "4             8            10  0.465354            0.062285  1105.771394   \n",
       "5             8            15  0.472312            0.063216  1114.363726   \n",
       "6            10             5  0.447108            0.059843  1069.940128   \n",
       "7            10            10  0.459301            0.061475  1092.762778   \n",
       "8            10            15  0.464863            0.062219  1104.570262   \n",
       "9            12             5  0.444084            0.059438  1063.275360   \n",
       "10           12            10  0.454145            0.060785  1082.501295   \n",
       "11           12            15  0.460644            0.061655  1094.674040   \n",
       "\n",
       "    RMSE_percentage_level  \n",
       "0                0.524614  \n",
       "1                0.537071  \n",
       "2                0.543749  \n",
       "3                0.516243  \n",
       "4                0.527543  \n",
       "5                0.531643  \n",
       "6                0.510449  \n",
       "7                0.521337  \n",
       "8                0.526970  \n",
       "9                0.507269  \n",
       "10               0.516442  \n",
       "11               0.522249  "
      ]
     },
     "execution_count": 61,
     "metadata": {},
     "output_type": "execute_result"
    }
   ],
   "source": [
    "df_rf_model_cv_results"
   ]
  },
  {
   "cell_type": "markdown",
   "metadata": {},
   "source": [
    "RMSE for level prices for different models of Random Forest is between 1,063 and 1,139. And comparing these values to mean prices, we get approximately 50% error. For log transformed predictions, this raito is around 5-6%. Although, Random Forest is said to not sensitive to non-normality, the results are a bit confusing."
   ]
  },
  {
   "cell_type": "code",
   "execution_count": 165,
   "metadata": {
    "tags": []
   },
   "outputs": [
    {
     "name": "stdout",
     "output_type": "stream",
     "text": [
      "1063.2753596533155\n",
      "{'max_features': 12, 'min_samples_leaf': 5}\n"
     ]
    }
   ],
   "source": [
    "# The best Random Forest model has minimum 5 observations in a terminal node \n",
    "# with 12 number of features that are considered when splitting a node\n",
    "print(-rf_model2.best_score_)\n",
    "print(rf_model2.best_params_)"
   ]
  },
  {
   "cell_type": "code",
   "execution_count": 66,
   "metadata": {
    "tags": []
   },
   "outputs": [
    {
     "data": {
      "text/html": [
       "<style>#sk-container-id-1 {color: black;}#sk-container-id-1 pre{padding: 0;}#sk-container-id-1 div.sk-toggleable {background-color: white;}#sk-container-id-1 label.sk-toggleable__label {cursor: pointer;display: block;width: 100%;margin-bottom: 0;padding: 0.3em;box-sizing: border-box;text-align: center;}#sk-container-id-1 label.sk-toggleable__label-arrow:before {content: \"▸\";float: left;margin-right: 0.25em;color: #696969;}#sk-container-id-1 label.sk-toggleable__label-arrow:hover:before {color: black;}#sk-container-id-1 div.sk-estimator:hover label.sk-toggleable__label-arrow:before {color: black;}#sk-container-id-1 div.sk-toggleable__content {max-height: 0;max-width: 0;overflow: hidden;text-align: left;background-color: #f0f8ff;}#sk-container-id-1 div.sk-toggleable__content pre {margin: 0.2em;color: black;border-radius: 0.25em;background-color: #f0f8ff;}#sk-container-id-1 input.sk-toggleable__control:checked~div.sk-toggleable__content {max-height: 200px;max-width: 100%;overflow: auto;}#sk-container-id-1 input.sk-toggleable__control:checked~label.sk-toggleable__label-arrow:before {content: \"▾\";}#sk-container-id-1 div.sk-estimator input.sk-toggleable__control:checked~label.sk-toggleable__label {background-color: #d4ebff;}#sk-container-id-1 div.sk-label input.sk-toggleable__control:checked~label.sk-toggleable__label {background-color: #d4ebff;}#sk-container-id-1 input.sk-hidden--visually {border: 0;clip: rect(1px 1px 1px 1px);clip: rect(1px, 1px, 1px, 1px);height: 1px;margin: -1px;overflow: hidden;padding: 0;position: absolute;width: 1px;}#sk-container-id-1 div.sk-estimator {font-family: monospace;background-color: #f0f8ff;border: 1px dotted black;border-radius: 0.25em;box-sizing: border-box;margin-bottom: 0.5em;}#sk-container-id-1 div.sk-estimator:hover {background-color: #d4ebff;}#sk-container-id-1 div.sk-parallel-item::after {content: \"\";width: 100%;border-bottom: 1px solid gray;flex-grow: 1;}#sk-container-id-1 div.sk-label:hover label.sk-toggleable__label {background-color: #d4ebff;}#sk-container-id-1 div.sk-serial::before {content: \"\";position: absolute;border-left: 1px solid gray;box-sizing: border-box;top: 0;bottom: 0;left: 50%;z-index: 0;}#sk-container-id-1 div.sk-serial {display: flex;flex-direction: column;align-items: center;background-color: white;padding-right: 0.2em;padding-left: 0.2em;position: relative;}#sk-container-id-1 div.sk-item {position: relative;z-index: 1;}#sk-container-id-1 div.sk-parallel {display: flex;align-items: stretch;justify-content: center;background-color: white;position: relative;}#sk-container-id-1 div.sk-item::before, #sk-container-id-1 div.sk-parallel-item::before {content: \"\";position: absolute;border-left: 1px solid gray;box-sizing: border-box;top: 0;bottom: 0;left: 50%;z-index: -1;}#sk-container-id-1 div.sk-parallel-item {display: flex;flex-direction: column;z-index: 1;position: relative;background-color: white;}#sk-container-id-1 div.sk-parallel-item:first-child::after {align-self: flex-end;width: 50%;}#sk-container-id-1 div.sk-parallel-item:last-child::after {align-self: flex-start;width: 50%;}#sk-container-id-1 div.sk-parallel-item:only-child::after {width: 0;}#sk-container-id-1 div.sk-dashed-wrapped {border: 1px dashed gray;margin: 0 0.4em 0.5em 0.4em;box-sizing: border-box;padding-bottom: 0.4em;background-color: white;}#sk-container-id-1 div.sk-label label {font-family: monospace;font-weight: bold;display: inline-block;line-height: 1.2em;}#sk-container-id-1 div.sk-label-container {text-align: center;}#sk-container-id-1 div.sk-container {/* jupyter's `normalize.less` sets `[hidden] { display: none; }` but bootstrap.min.css set `[hidden] { display: none !important; }` so we also need the `!important` here to be able to override the default hidden behavior on the sphinx rendered scikit-learn.org. See: https://github.com/scikit-learn/scikit-learn/issues/21755 */display: inline-block !important;position: relative;}#sk-container-id-1 div.sk-text-repr-fallback {display: none;}</style><div id=\"sk-container-id-1\" class=\"sk-top-container\"><div class=\"sk-text-repr-fallback\"><pre>RandomForestRegressor(max_features=12, min_samples_leaf=5,\n",
       "                      random_state=20240129)</pre><b>In a Jupyter environment, please rerun this cell to show the HTML representation or trust the notebook. <br />On GitHub, the HTML representation is unable to render, please try loading this page with nbviewer.org.</b></div><div class=\"sk-container\" hidden><div class=\"sk-item\"><div class=\"sk-estimator sk-toggleable\"><input class=\"sk-toggleable__control sk-hidden--visually\" id=\"sk-estimator-id-1\" type=\"checkbox\" checked><label for=\"sk-estimator-id-1\" class=\"sk-toggleable__label sk-toggleable__label-arrow\">RandomForestRegressor</label><div class=\"sk-toggleable__content\"><pre>RandomForestRegressor(max_features=12, min_samples_leaf=5,\n",
       "                      random_state=20240129)</pre></div></div></div></div></div>"
      ],
      "text/plain": [
       "RandomForestRegressor(max_features=12, min_samples_leaf=5,\n",
       "                      random_state=20240129)"
      ]
     },
     "execution_count": 66,
     "metadata": {},
     "output_type": "execute_result"
    }
   ],
   "source": [
    "rf_model2.best_estimator_"
   ]
  },
  {
   "cell_type": "markdown",
   "metadata": {},
   "source": [
    "We have used some different columns than London data in our analysis and found similar results. The best model hast 12 features and 5 leafs similar to London data. However, we found larger RMSE values and the reason is that we have higher average prices and wider range. "
   ]
  },
  {
   "cell_type": "markdown",
   "metadata": {},
   "source": [
    "We also applied $log(price)$ as dependant variable and compared the results with level-prices. Random forest finds the best model with same specifications but `RMSE/mean(price)` ratio is very different in case of log-transformed prices as `y-variable`."
   ]
  },
  {
   "cell_type": "markdown",
   "metadata": {
    "tags": []
   },
   "source": [
    "**Model1 Diagnostics**"
   ]
  },
  {
   "cell_type": "code",
   "execution_count": 67,
   "metadata": {},
   "outputs": [
    {
     "data": {
      "text/plain": [
       "array([0.00000000e+00, 3.00404462e-03, 3.81315661e-05, 6.75331382e-04,\n",
       "       4.92572827e-03, 1.27800844e-03, 0.00000000e+00, 1.09686269e-02,\n",
       "       8.41334326e-03, 0.00000000e+00, 0.00000000e+00, 1.14016824e-04,\n",
       "       6.84640659e-03, 1.44555938e-03, 0.00000000e+00, 3.09527434e-03,\n",
       "       5.55626171e-05, 4.80247119e-02, 2.75520683e-04, 1.32936479e-05,\n",
       "       9.18156951e-05, 3.02482458e-04, 0.00000000e+00, 7.63971400e-02,\n",
       "       2.77326817e-05, 1.57192130e-04, 4.83166684e-04, 1.70357846e-03,\n",
       "       2.99908035e-03, 1.02508074e-03, 2.28047612e-04, 3.40521238e-04,\n",
       "       0.00000000e+00, 1.72410902e-02, 1.89778428e-04, 3.49862734e-04,\n",
       "       2.48631418e-02, 3.16228971e-04, 0.00000000e+00, 0.00000000e+00,\n",
       "       0.00000000e+00, 1.50651392e-02, 6.08379596e-04, 7.58497195e-03,\n",
       "       4.27311968e-04, 3.47942958e-05, 6.55443016e-03, 1.39394303e-03,\n",
       "       7.22688278e-05, 1.12347420e-04, 1.13544143e-03, 5.60227246e-04,\n",
       "       0.00000000e+00, 4.79001861e-03, 4.85462745e-03, 0.00000000e+00,\n",
       "       1.12859665e-02, 0.00000000e+00, 0.00000000e+00, 0.00000000e+00,\n",
       "       1.38133530e-04, 1.08119980e-03, 1.42909499e-04, 3.07764737e-03,\n",
       "       3.78704355e-03, 6.66132522e-03, 1.77100157e-01, 6.51384480e-02,\n",
       "       8.89967437e-02, 8.12193901e-02, 5.86014280e-02, 2.92338977e-02,\n",
       "       7.30376761e-02, 5.86460561e-02, 6.06956197e-02, 2.20729564e-02])"
      ]
     },
     "execution_count": 67,
     "metadata": {},
     "output_type": "execute_result"
    }
   ],
   "source": [
    "rf_model2.best_estimator_.feature_importances_"
   ]
  },
  {
   "cell_type": "code",
   "execution_count": 69,
   "metadata": {
    "tags": []
   },
   "outputs": [],
   "source": [
    "df_var_imp = pd.DataFrame(\n",
    "    rf_model2.best_estimator_.feature_importances_, \n",
    "    X.design_info.column_names)\\\n",
    "    .reset_index()\\\n",
    "    .rename({\"index\": \"variable\", 0: \"imp\"}, axis=1)\\\n",
    "    .sort_values(by=[\"imp\"], ascending=False)\\\n",
    "    .reset_index(drop = True)\n",
    "\n",
    "df_var_imp['cumulative_imp'] = df_var_imp['imp'].cumsum()"
   ]
  },
  {
   "cell_type": "code",
   "execution_count": 70,
   "metadata": {
    "tags": []
   },
   "outputs": [
    {
     "data": {
      "text/html": [
       "<style type=\"text/css\">\n",
       "</style>\n",
       "<table id=\"T_1f94e\">\n",
       "  <thead>\n",
       "    <tr>\n",
       "      <th class=\"blank level0\" >&nbsp;</th>\n",
       "      <th id=\"T_1f94e_level0_col0\" class=\"col_heading level0 col0\" >variable</th>\n",
       "      <th id=\"T_1f94e_level0_col1\" class=\"col_heading level0 col1\" >imp</th>\n",
       "      <th id=\"T_1f94e_level0_col2\" class=\"col_heading level0 col2\" >cumulative_imp</th>\n",
       "    </tr>\n",
       "  </thead>\n",
       "  <tbody>\n",
       "    <tr>\n",
       "      <th id=\"T_1f94e_level0_row0\" class=\"row_heading level0 row0\" >0</th>\n",
       "      <td id=\"T_1f94e_row0_col0\" class=\"data row0 col0\" >n_accommodates</td>\n",
       "      <td id=\"T_1f94e_row0_col1\" class=\"data row0 col1\" >17.7%</td>\n",
       "      <td id=\"T_1f94e_row0_col2\" class=\"data row0 col2\" >17.7%</td>\n",
       "    </tr>\n",
       "    <tr>\n",
       "      <th id=\"T_1f94e_level0_row1\" class=\"row_heading level0 row1\" >1</th>\n",
       "      <td id=\"T_1f94e_row1_col0\" class=\"data row1 col0\" >n_bathrooms</td>\n",
       "      <td id=\"T_1f94e_row1_col1\" class=\"data row1 col1\" >8.9%</td>\n",
       "      <td id=\"T_1f94e_row1_col2\" class=\"data row1 col2\" >26.6%</td>\n",
       "    </tr>\n",
       "    <tr>\n",
       "      <th id=\"T_1f94e_level0_row2\" class=\"row_heading level0 row2\" >2</th>\n",
       "      <td id=\"T_1f94e_row2_col0\" class=\"data row2 col0\" >n_availability_365</td>\n",
       "      <td id=\"T_1f94e_row2_col1\" class=\"data row2 col1\" >8.1%</td>\n",
       "      <td id=\"T_1f94e_row2_col2\" class=\"data row2 col2\" >34.7%</td>\n",
       "    </tr>\n",
       "    <tr>\n",
       "      <th id=\"T_1f94e_level0_row3\" class=\"row_heading level0 row3\" >3</th>\n",
       "      <td id=\"T_1f94e_row3_col0\" class=\"data row3 col0\" >f_room_type[T.Private room]</td>\n",
       "      <td id=\"T_1f94e_row3_col1\" class=\"data row3 col1\" >7.6%</td>\n",
       "      <td id=\"T_1f94e_row3_col2\" class=\"data row3 col2\" >42.4%</td>\n",
       "    </tr>\n",
       "    <tr>\n",
       "      <th id=\"T_1f94e_level0_row4\" class=\"row_heading level0 row4\" >4</th>\n",
       "      <td id=\"T_1f94e_row4_col0\" class=\"data row4 col0\" >n_host_acceptance_rate</td>\n",
       "      <td id=\"T_1f94e_row4_col1\" class=\"data row4 col1\" >7.3%</td>\n",
       "      <td id=\"T_1f94e_row4_col2\" class=\"data row4 col2\" >49.7%</td>\n",
       "    </tr>\n",
       "    <tr>\n",
       "      <th id=\"T_1f94e_level0_row5\" class=\"row_heading level0 row5\" >5</th>\n",
       "      <td id=\"T_1f94e_row5_col0\" class=\"data row5 col0\" >n_beds</td>\n",
       "      <td id=\"T_1f94e_row5_col1\" class=\"data row5 col1\" >6.5%</td>\n",
       "      <td id=\"T_1f94e_row5_col2\" class=\"data row5 col2\" >56.2%</td>\n",
       "    </tr>\n",
       "    <tr>\n",
       "      <th id=\"T_1f94e_level0_row6\" class=\"row_heading level0 row6\" >6</th>\n",
       "      <td id=\"T_1f94e_row6_col0\" class=\"data row6 col0\" >n_review_scores_rating</td>\n",
       "      <td id=\"T_1f94e_row6_col1\" class=\"data row6 col1\" >6.1%</td>\n",
       "      <td id=\"T_1f94e_row6_col2\" class=\"data row6 col2\" >62.3%</td>\n",
       "    </tr>\n",
       "    <tr>\n",
       "      <th id=\"T_1f94e_level0_row7\" class=\"row_heading level0 row7\" >7</th>\n",
       "      <td id=\"T_1f94e_row7_col0\" class=\"data row7 col0\" >n_number_of_reviews</td>\n",
       "      <td id=\"T_1f94e_row7_col1\" class=\"data row7 col1\" >5.9%</td>\n",
       "      <td id=\"T_1f94e_row7_col2\" class=\"data row7 col2\" >68.1%</td>\n",
       "    </tr>\n",
       "    <tr>\n",
       "      <th id=\"T_1f94e_level0_row8\" class=\"row_heading level0 row8\" >8</th>\n",
       "      <td id=\"T_1f94e_row8_col0\" class=\"data row8 col0\" >n_minimum_nights</td>\n",
       "      <td id=\"T_1f94e_row8_col1\" class=\"data row8 col1\" >5.9%</td>\n",
       "      <td id=\"T_1f94e_row8_col2\" class=\"data row8 col2\" >74.0%</td>\n",
       "    </tr>\n",
       "    <tr>\n",
       "      <th id=\"T_1f94e_level0_row9\" class=\"row_heading level0 row9\" >9</th>\n",
       "      <td id=\"T_1f94e_row9_col0\" class=\"data row9 col0\" >f_property_type[T.Private room in rental unit]</td>\n",
       "      <td id=\"T_1f94e_row9_col1\" class=\"data row9 col1\" >4.8%</td>\n",
       "      <td id=\"T_1f94e_row9_col2\" class=\"data row9 col2\" >78.8%</td>\n",
       "    </tr>\n",
       "    <tr>\n",
       "      <th id=\"T_1f94e_level0_row10\" class=\"row_heading level0 row10\" >10</th>\n",
       "      <td id=\"T_1f94e_row10_col0\" class=\"data row10 col0\" >n_host_response_rate</td>\n",
       "      <td id=\"T_1f94e_row10_col1\" class=\"data row10 col1\" >2.9%</td>\n",
       "      <td id=\"T_1f94e_row10_col2\" class=\"data row10 col2\" >81.7%</td>\n",
       "    </tr>\n",
       "    <tr>\n",
       "      <th id=\"T_1f94e_level0_row11\" class=\"row_heading level0 row11\" >11</th>\n",
       "      <td id=\"T_1f94e_row11_col0\" class=\"data row11 col0\" >f_neighbourhood_cleansed[T.Beyoglu]</td>\n",
       "      <td id=\"T_1f94e_row11_col1\" class=\"data row11 col1\" >2.5%</td>\n",
       "      <td id=\"T_1f94e_row11_col2\" class=\"data row11 col2\" >84.2%</td>\n",
       "    </tr>\n",
       "    <tr>\n",
       "      <th id=\"T_1f94e_level0_row12\" class=\"row_heading level0 row12\" >12</th>\n",
       "      <td id=\"T_1f94e_row12_col0\" class=\"data row12 col0\" >d_host_is_superhost</td>\n",
       "      <td id=\"T_1f94e_row12_col1\" class=\"data row12 col1\" >2.2%</td>\n",
       "      <td id=\"T_1f94e_row12_col2\" class=\"data row12 col2\" >86.4%</td>\n",
       "    </tr>\n",
       "    <tr>\n",
       "      <th id=\"T_1f94e_level0_row13\" class=\"row_heading level0 row13\" >13</th>\n",
       "      <td id=\"T_1f94e_row13_col0\" class=\"data row13 col0\" >f_neighbourhood_cleansed[T.Besiktas]</td>\n",
       "      <td id=\"T_1f94e_row13_col1\" class=\"data row13 col1\" >1.7%</td>\n",
       "      <td id=\"T_1f94e_row13_col2\" class=\"data row13 col2\" >88.1%</td>\n",
       "    </tr>\n",
       "    <tr>\n",
       "      <th id=\"T_1f94e_level0_row14\" class=\"row_heading level0 row14\" >14</th>\n",
       "      <td id=\"T_1f94e_row14_col0\" class=\"data row14 col0\" >f_neighbourhood_cleansed[T.Esenyurt]</td>\n",
       "      <td id=\"T_1f94e_row14_col1\" class=\"data row14 col1\" >1.5%</td>\n",
       "      <td id=\"T_1f94e_row14_col2\" class=\"data row14 col2\" >89.6%</td>\n",
       "    </tr>\n",
       "    <tr>\n",
       "      <th id=\"T_1f94e_level0_row15\" class=\"row_heading level0 row15\" >15</th>\n",
       "      <td id=\"T_1f94e_row15_col0\" class=\"data row15 col0\" >f_neighbourhood_cleansed[T.Sisli]</td>\n",
       "      <td id=\"T_1f94e_row15_col1\" class=\"data row15 col1\" >1.1%</td>\n",
       "      <td id=\"T_1f94e_row15_col2\" class=\"data row15 col2\" >90.8%</td>\n",
       "    </tr>\n",
       "    <tr>\n",
       "      <th id=\"T_1f94e_level0_row16\" class=\"row_heading level0 row16\" >16</th>\n",
       "      <td id=\"T_1f94e_row16_col0\" class=\"data row16 col0\" >f_property_type[T.Entire rental unit]</td>\n",
       "      <td id=\"T_1f94e_row16_col1\" class=\"data row16 col1\" >1.1%</td>\n",
       "      <td id=\"T_1f94e_row16_col2\" class=\"data row16 col2\" >91.9%</td>\n",
       "    </tr>\n",
       "    <tr>\n",
       "      <th id=\"T_1f94e_level0_row17\" class=\"row_heading level0 row17\" >17</th>\n",
       "      <td id=\"T_1f94e_row17_col0\" class=\"data row17 col0\" >f_property_type[T.Entire serviced apartment]</td>\n",
       "      <td id=\"T_1f94e_row17_col1\" class=\"data row17 col1\" >0.8%</td>\n",
       "      <td id=\"T_1f94e_row17_col2\" class=\"data row17 col2\" >92.7%</td>\n",
       "    </tr>\n",
       "    <tr>\n",
       "      <th id=\"T_1f94e_level0_row18\" class=\"row_heading level0 row18\" >18</th>\n",
       "      <td id=\"T_1f94e_row18_col0\" class=\"data row18 col0\" >f_neighbourhood_cleansed[T.Fatih]</td>\n",
       "      <td id=\"T_1f94e_row18_col1\" class=\"data row18 col1\" >0.8%</td>\n",
       "      <td id=\"T_1f94e_row18_col2\" class=\"data row18 col2\" >93.5%</td>\n",
       "    </tr>\n",
       "    <tr>\n",
       "      <th id=\"T_1f94e_level0_row19\" class=\"row_heading level0 row19\" >19</th>\n",
       "      <td id=\"T_1f94e_row19_col0\" class=\"data row19 col0\" >f_property_type[T.Private room in bed and breakfast]</td>\n",
       "      <td id=\"T_1f94e_row19_col1\" class=\"data row19 col1\" >0.7%</td>\n",
       "      <td id=\"T_1f94e_row19_col2\" class=\"data row19 col2\" >94.1%</td>\n",
       "    </tr>\n",
       "    <tr>\n",
       "      <th id=\"T_1f94e_level0_row20\" class=\"row_heading level0 row20\" >20</th>\n",
       "      <td id=\"T_1f94e_row20_col0\" class=\"data row20 col0\" >f_host_response_time[T.within an hour]</td>\n",
       "      <td id=\"T_1f94e_row20_col1\" class=\"data row20 col1\" >0.7%</td>\n",
       "      <td id=\"T_1f94e_row20_col2\" class=\"data row20 col2\" >94.8%</td>\n",
       "    </tr>\n",
       "    <tr>\n",
       "      <th id=\"T_1f94e_level0_row21\" class=\"row_heading level0 row21\" >21</th>\n",
       "      <td id=\"T_1f94e_row21_col0\" class=\"data row21 col0\" >f_neighbourhood_cleansed[T.Kadikoy]</td>\n",
       "      <td id=\"T_1f94e_row21_col1\" class=\"data row21 col1\" >0.7%</td>\n",
       "      <td id=\"T_1f94e_row21_col2\" class=\"data row21 col2\" >95.5%</td>\n",
       "    </tr>\n",
       "    <tr>\n",
       "      <th id=\"T_1f94e_level0_row22\" class=\"row_heading level0 row22\" >22</th>\n",
       "      <td id=\"T_1f94e_row22_col0\" class=\"data row22 col0\" >f_property_type[T.Entire home]</td>\n",
       "      <td id=\"T_1f94e_row22_col1\" class=\"data row22 col1\" >0.5%</td>\n",
       "      <td id=\"T_1f94e_row22_col2\" class=\"data row22 col2\" >96.0%</td>\n",
       "    </tr>\n",
       "    <tr>\n",
       "      <th id=\"T_1f94e_level0_row23\" class=\"row_heading level0 row23\" >23</th>\n",
       "      <td id=\"T_1f94e_row23_col0\" class=\"data row23 col0\" >f_neighbourhood_cleansed[T.Sile]</td>\n",
       "      <td id=\"T_1f94e_row23_col1\" class=\"data row23 col1\" >0.5%</td>\n",
       "      <td id=\"T_1f94e_row23_col2\" class=\"data row23 col2\" >96.4%</td>\n",
       "    </tr>\n",
       "    <tr>\n",
       "      <th id=\"T_1f94e_level0_row24\" class=\"row_heading level0 row24\" >24</th>\n",
       "      <td id=\"T_1f94e_row24_col0\" class=\"data row24 col0\" >f_neighbourhood_cleansed[T.Sariyer]</td>\n",
       "      <td id=\"T_1f94e_row24_col1\" class=\"data row24 col1\" >0.5%</td>\n",
       "      <td id=\"T_1f94e_row24_col2\" class=\"data row24 col2\" >96.9%</td>\n",
       "    </tr>\n",
       "    <tr>\n",
       "      <th id=\"T_1f94e_level0_row25\" class=\"row_heading level0 row25\" >25</th>\n",
       "      <td id=\"T_1f94e_row25_col0\" class=\"data row25 col0\" >f_host_response_time[T.within a few hours]</td>\n",
       "      <td id=\"T_1f94e_row25_col1\" class=\"data row25 col1\" >0.4%</td>\n",
       "      <td id=\"T_1f94e_row25_col2\" class=\"data row25 col2\" >97.3%</td>\n",
       "    </tr>\n",
       "    <tr>\n",
       "      <th id=\"T_1f94e_level0_row26\" class=\"row_heading level0 row26\" >26</th>\n",
       "      <td id=\"T_1f94e_row26_col0\" class=\"data row26 col0\" >f_property_type[T.Private room in home]</td>\n",
       "      <td id=\"T_1f94e_row26_col1\" class=\"data row26 col1\" >0.3%</td>\n",
       "      <td id=\"T_1f94e_row26_col2\" class=\"data row26 col2\" >97.6%</td>\n",
       "    </tr>\n",
       "    <tr>\n",
       "      <th id=\"T_1f94e_level0_row27\" class=\"row_heading level0 row27\" >27</th>\n",
       "      <td id=\"T_1f94e_row27_col0\" class=\"data row27 col0\" >f_host_response_time[T.within a day]</td>\n",
       "      <td id=\"T_1f94e_row27_col1\" class=\"data row27 col1\" >0.3%</td>\n",
       "      <td id=\"T_1f94e_row27_col2\" class=\"data row27 col2\" >97.9%</td>\n",
       "    </tr>\n",
       "    <tr>\n",
       "      <th id=\"T_1f94e_level0_row28\" class=\"row_heading level0 row28\" >28</th>\n",
       "      <td id=\"T_1f94e_row28_col0\" class=\"data row28 col0\" >f_property_type[T.Entire condo]</td>\n",
       "      <td id=\"T_1f94e_row28_col1\" class=\"data row28 col1\" >0.3%</td>\n",
       "      <td id=\"T_1f94e_row28_col2\" class=\"data row28 col2\" >98.2%</td>\n",
       "    </tr>\n",
       "    <tr>\n",
       "      <th id=\"T_1f94e_level0_row29\" class=\"row_heading level0 row29\" >29</th>\n",
       "      <td id=\"T_1f94e_row29_col0\" class=\"data row29 col0\" >f_neighbourhood_cleansed[T.Bagcilar]</td>\n",
       "      <td id=\"T_1f94e_row29_col1\" class=\"data row29 col1\" >0.3%</td>\n",
       "      <td id=\"T_1f94e_row29_col2\" class=\"data row29 col2\" >98.5%</td>\n",
       "    </tr>\n",
       "    <tr>\n",
       "      <th id=\"T_1f94e_level0_row30\" class=\"row_heading level0 row30\" >30</th>\n",
       "      <td id=\"T_1f94e_row30_col0\" class=\"data row30 col0\" >f_neighbourhood_cleansed[T.Avcilar]</td>\n",
       "      <td id=\"T_1f94e_row30_col1\" class=\"data row30 col1\" >0.2%</td>\n",
       "      <td id=\"T_1f94e_row30_col2\" class=\"data row30 col2\" >98.7%</td>\n",
       "    </tr>\n",
       "    <tr>\n",
       "      <th id=\"T_1f94e_level0_row31\" class=\"row_heading level0 row31\" >31</th>\n",
       "      <td id=\"T_1f94e_row31_col0\" class=\"data row31 col0\" >f_property_type[T.Private room in condo]</td>\n",
       "      <td id=\"T_1f94e_row31_col1\" class=\"data row31 col1\" >0.1%</td>\n",
       "      <td id=\"T_1f94e_row31_col2\" class=\"data row31 col2\" >98.8%</td>\n",
       "    </tr>\n",
       "    <tr>\n",
       "      <th id=\"T_1f94e_level0_row32\" class=\"row_heading level0 row32\" >32</th>\n",
       "      <td id=\"T_1f94e_row32_col0\" class=\"data row32 col0\" >f_neighbourhood_cleansed[T.Kagithane]</td>\n",
       "      <td id=\"T_1f94e_row32_col1\" class=\"data row32 col1\" >0.1%</td>\n",
       "      <td id=\"T_1f94e_row32_col2\" class=\"data row32 col2\" >99.0%</td>\n",
       "    </tr>\n",
       "    <tr>\n",
       "      <th id=\"T_1f94e_level0_row33\" class=\"row_heading level0 row33\" >33</th>\n",
       "      <td id=\"T_1f94e_row33_col0\" class=\"data row33 col0\" >f_property_type[T.Entire loft]</td>\n",
       "      <td id=\"T_1f94e_row33_col1\" class=\"data row33 col1\" >0.1%</td>\n",
       "      <td id=\"T_1f94e_row33_col2\" class=\"data row33 col2\" >99.1%</td>\n",
       "    </tr>\n",
       "    <tr>\n",
       "      <th id=\"T_1f94e_level0_row34\" class=\"row_heading level0 row34\" >34</th>\n",
       "      <td id=\"T_1f94e_row34_col0\" class=\"data row34 col0\" >f_neighbourhood_cleansed[T.Maltepe]</td>\n",
       "      <td id=\"T_1f94e_row34_col1\" class=\"data row34 col1\" >0.1%</td>\n",
       "      <td id=\"T_1f94e_row34_col2\" class=\"data row34 col2\" >99.2%</td>\n",
       "    </tr>\n",
       "    <tr>\n",
       "      <th id=\"T_1f94e_level0_row35\" class=\"row_heading level0 row35\" >35</th>\n",
       "      <td id=\"T_1f94e_row35_col0\" class=\"data row35 col0\" >f_neighbourhood_cleansed[T.Uskudar]</td>\n",
       "      <td id=\"T_1f94e_row35_col1\" class=\"data row35 col1\" >0.1%</td>\n",
       "      <td id=\"T_1f94e_row35_col2\" class=\"data row35 col2\" >99.3%</td>\n",
       "    </tr>\n",
       "    <tr>\n",
       "      <th id=\"T_1f94e_level0_row36\" class=\"row_heading level0 row36\" >36</th>\n",
       "      <td id=\"T_1f94e_row36_col0\" class=\"data row36 col0\" >f_neighbourhood_cleansed[T.Bahcelievler]</td>\n",
       "      <td id=\"T_1f94e_row36_col1\" class=\"data row36 col1\" >0.1%</td>\n",
       "      <td id=\"T_1f94e_row36_col2\" class=\"data row36 col2\" >99.4%</td>\n",
       "    </tr>\n",
       "    <tr>\n",
       "      <th id=\"T_1f94e_level0_row37\" class=\"row_heading level0 row37\" >37</th>\n",
       "      <td id=\"T_1f94e_row37_col0\" class=\"data row37 col0\" >f_property_type[T.Entire guesthouse]</td>\n",
       "      <td id=\"T_1f94e_row37_col1\" class=\"data row37 col1\" >0.1%</td>\n",
       "      <td id=\"T_1f94e_row37_col2\" class=\"data row37 col2\" >99.5%</td>\n",
       "    </tr>\n",
       "    <tr>\n",
       "      <th id=\"T_1f94e_level0_row38\" class=\"row_heading level0 row38\" >38</th>\n",
       "      <td id=\"T_1f94e_row38_col0\" class=\"data row38 col0\" >f_neighbourhood_cleansed[T.Eyup]</td>\n",
       "      <td id=\"T_1f94e_row38_col1\" class=\"data row38 col1\" >0.1%</td>\n",
       "      <td id=\"T_1f94e_row38_col2\" class=\"data row38 col2\" >99.6%</td>\n",
       "    </tr>\n",
       "    <tr>\n",
       "      <th id=\"T_1f94e_level0_row39\" class=\"row_heading level0 row39\" >39</th>\n",
       "      <td id=\"T_1f94e_row39_col0\" class=\"data row39 col0\" >f_neighbourhood_cleansed[T.Pendik]</td>\n",
       "      <td id=\"T_1f94e_row39_col1\" class=\"data row39 col1\" >0.1%</td>\n",
       "      <td id=\"T_1f94e_row39_col2\" class=\"data row39 col2\" >99.6%</td>\n",
       "    </tr>\n",
       "    <tr>\n",
       "      <th id=\"T_1f94e_level0_row40\" class=\"row_heading level0 row40\" >40</th>\n",
       "      <td id=\"T_1f94e_row40_col0\" class=\"data row40 col0\" >f_neighbourhood_cleansed[T.Atasehir]</td>\n",
       "      <td id=\"T_1f94e_row40_col1\" class=\"data row40 col1\" >0.0%</td>\n",
       "      <td id=\"T_1f94e_row40_col2\" class=\"data row40 col2\" >99.7%</td>\n",
       "    </tr>\n",
       "    <tr>\n",
       "      <th id=\"T_1f94e_level0_row41\" class=\"row_heading level0 row41\" >41</th>\n",
       "      <td id=\"T_1f94e_row41_col0\" class=\"data row41 col0\" >f_neighbourhood_cleansed[T.Gaziosmanpasa]</td>\n",
       "      <td id=\"T_1f94e_row41_col1\" class=\"data row41 col1\" >0.0%</td>\n",
       "      <td id=\"T_1f94e_row41_col2\" class=\"data row41 col2\" >99.7%</td>\n",
       "    </tr>\n",
       "    <tr>\n",
       "      <th id=\"T_1f94e_level0_row42\" class=\"row_heading level0 row42\" >42</th>\n",
       "      <td id=\"T_1f94e_row42_col0\" class=\"data row42 col0\" >f_neighbourhood_cleansed[T.Beylikduzu]</td>\n",
       "      <td id=\"T_1f94e_row42_col1\" class=\"data row42 col1\" >0.0%</td>\n",
       "      <td id=\"T_1f94e_row42_col2\" class=\"data row42 col2\" >99.7%</td>\n",
       "    </tr>\n",
       "    <tr>\n",
       "      <th id=\"T_1f94e_level0_row43\" class=\"row_heading level0 row43\" >43</th>\n",
       "      <td id=\"T_1f94e_row43_col0\" class=\"data row43 col0\" >f_neighbourhood_cleansed[T.Basaksehir]</td>\n",
       "      <td id=\"T_1f94e_row43_col1\" class=\"data row43 col1\" >0.0%</td>\n",
       "      <td id=\"T_1f94e_row43_col2\" class=\"data row43 col2\" >99.8%</td>\n",
       "    </tr>\n",
       "    <tr>\n",
       "      <th id=\"T_1f94e_level0_row44\" class=\"row_heading level0 row44\" >44</th>\n",
       "      <td id=\"T_1f94e_row44_col0\" class=\"data row44 col0\" >f_neighbourhood_cleansed[T.Buyukcekmece]</td>\n",
       "      <td id=\"T_1f94e_row44_col1\" class=\"data row44 col1\" >0.0%</td>\n",
       "      <td id=\"T_1f94e_row44_col2\" class=\"data row44 col2\" >99.8%</td>\n",
       "    </tr>\n",
       "    <tr>\n",
       "      <th id=\"T_1f94e_level0_row45\" class=\"row_heading level0 row45\" >45</th>\n",
       "      <td id=\"T_1f94e_row45_col0\" class=\"data row45 col0\" >f_property_type[T.Tiny home]</td>\n",
       "      <td id=\"T_1f94e_row45_col1\" class=\"data row45 col1\" >0.0%</td>\n",
       "      <td id=\"T_1f94e_row45_col2\" class=\"data row45 col2\" >99.8%</td>\n",
       "    </tr>\n",
       "    <tr>\n",
       "      <th id=\"T_1f94e_level0_row46\" class=\"row_heading level0 row46\" >46</th>\n",
       "      <td id=\"T_1f94e_row46_col0\" class=\"data row46 col0\" >f_property_type[T.Private room in serviced apartment]</td>\n",
       "      <td id=\"T_1f94e_row46_col1\" class=\"data row46 col1\" >0.0%</td>\n",
       "      <td id=\"T_1f94e_row46_col2\" class=\"data row46 col2\" >99.9%</td>\n",
       "    </tr>\n",
       "    <tr>\n",
       "      <th id=\"T_1f94e_level0_row47\" class=\"row_heading level0 row47\" >47</th>\n",
       "      <td id=\"T_1f94e_row47_col0\" class=\"data row47 col0\" >f_neighbourhood_cleansed[T.Bakirkoy]</td>\n",
       "      <td id=\"T_1f94e_row47_col1\" class=\"data row47 col1\" >0.0%</td>\n",
       "      <td id=\"T_1f94e_row47_col2\" class=\"data row47 col2\" >99.9%</td>\n",
       "    </tr>\n",
       "    <tr>\n",
       "      <th id=\"T_1f94e_level0_row48\" class=\"row_heading level0 row48\" >48</th>\n",
       "      <td id=\"T_1f94e_row48_col0\" class=\"data row48 col0\" >f_neighbourhood_cleansed[T.Beykoz]</td>\n",
       "      <td id=\"T_1f94e_row48_col1\" class=\"data row48 col1\" >0.0%</td>\n",
       "      <td id=\"T_1f94e_row48_col2\" class=\"data row48 col2\" >99.9%</td>\n",
       "    </tr>\n",
       "    <tr>\n",
       "      <th id=\"T_1f94e_level0_row49\" class=\"row_heading level0 row49\" >49</th>\n",
       "      <td id=\"T_1f94e_row49_col0\" class=\"data row49 col0\" >f_neighbourhood_cleansed[T.Arnavutkoy]</td>\n",
       "      <td id=\"T_1f94e_row49_col1\" class=\"data row49 col1\" >0.0%</td>\n",
       "      <td id=\"T_1f94e_row49_col2\" class=\"data row49 col2\" >99.9%</td>\n",
       "    </tr>\n",
       "    <tr>\n",
       "      <th id=\"T_1f94e_level0_row50\" class=\"row_heading level0 row50\" >50</th>\n",
       "      <td id=\"T_1f94e_row50_col0\" class=\"data row50 col0\" >f_neighbourhood_cleansed[T.Zeytinburnu]</td>\n",
       "      <td id=\"T_1f94e_row50_col1\" class=\"data row50 col1\" >0.0%</td>\n",
       "      <td id=\"T_1f94e_row50_col2\" class=\"data row50 col2\" >99.9%</td>\n",
       "    </tr>\n",
       "    <tr>\n",
       "      <th id=\"T_1f94e_level0_row51\" class=\"row_heading level0 row51\" >51</th>\n",
       "      <td id=\"T_1f94e_row51_col0\" class=\"data row51 col0\" >f_neighbourhood_cleansed[T.Umraniye]</td>\n",
       "      <td id=\"T_1f94e_row51_col1\" class=\"data row51 col1\" >0.0%</td>\n",
       "      <td id=\"T_1f94e_row51_col2\" class=\"data row51 col2\" >99.9%</td>\n",
       "    </tr>\n",
       "    <tr>\n",
       "      <th id=\"T_1f94e_level0_row52\" class=\"row_heading level0 row52\" >52</th>\n",
       "      <td id=\"T_1f94e_row52_col0\" class=\"data row52 col0\" >f_property_type[T.Entire villa]</td>\n",
       "      <td id=\"T_1f94e_row52_col1\" class=\"data row52 col1\" >0.0%</td>\n",
       "      <td id=\"T_1f94e_row52_col2\" class=\"data row52 col2\" >100.0%</td>\n",
       "    </tr>\n",
       "    <tr>\n",
       "      <th id=\"T_1f94e_level0_row53\" class=\"row_heading level0 row53\" >53</th>\n",
       "      <td id=\"T_1f94e_row53_col0\" class=\"data row53 col0\" >f_neighbourhood_cleansed[T.Kucukcekmece]</td>\n",
       "      <td id=\"T_1f94e_row53_col1\" class=\"data row53 col1\" >0.0%</td>\n",
       "      <td id=\"T_1f94e_row53_col2\" class=\"data row53 col2\" >100.0%</td>\n",
       "    </tr>\n",
       "    <tr>\n",
       "      <th id=\"T_1f94e_level0_row54\" class=\"row_heading level0 row54\" >54</th>\n",
       "      <td id=\"T_1f94e_row54_col0\" class=\"data row54 col0\" >f_property_type[T.Shared room in rental unit]</td>\n",
       "      <td id=\"T_1f94e_row54_col1\" class=\"data row54 col1\" >0.0%</td>\n",
       "      <td id=\"T_1f94e_row54_col2\" class=\"data row54 col2\" >100.0%</td>\n",
       "    </tr>\n",
       "    <tr>\n",
       "      <th id=\"T_1f94e_level0_row55\" class=\"row_heading level0 row55\" >55</th>\n",
       "      <td id=\"T_1f94e_row55_col0\" class=\"data row55 col0\" >f_neighbourhood_cleansed[T.Kartal]</td>\n",
       "      <td id=\"T_1f94e_row55_col1\" class=\"data row55 col1\" >0.0%</td>\n",
       "      <td id=\"T_1f94e_row55_col2\" class=\"data row55 col2\" >100.0%</td>\n",
       "    </tr>\n",
       "    <tr>\n",
       "      <th id=\"T_1f94e_level0_row56\" class=\"row_heading level0 row56\" >56</th>\n",
       "      <td id=\"T_1f94e_row56_col0\" class=\"data row56 col0\" >f_property_type[T.Private room in loft]</td>\n",
       "      <td id=\"T_1f94e_row56_col1\" class=\"data row56 col1\" >0.0%</td>\n",
       "      <td id=\"T_1f94e_row56_col2\" class=\"data row56 col2\" >100.0%</td>\n",
       "    </tr>\n",
       "    <tr>\n",
       "      <th id=\"T_1f94e_level0_row57\" class=\"row_heading level0 row57\" >57</th>\n",
       "      <td id=\"T_1f94e_row57_col0\" class=\"data row57 col0\" >f_property_type[T.Entire guest suite]</td>\n",
       "      <td id=\"T_1f94e_row57_col1\" class=\"data row57 col1\" >0.0%</td>\n",
       "      <td id=\"T_1f94e_row57_col2\" class=\"data row57 col2\" >100.0%</td>\n",
       "    </tr>\n",
       "    <tr>\n",
       "      <th id=\"T_1f94e_level0_row58\" class=\"row_heading level0 row58\" >58</th>\n",
       "      <td id=\"T_1f94e_row58_col0\" class=\"data row58 col0\" >f_neighbourhood_cleansed[T.Gungoren]</td>\n",
       "      <td id=\"T_1f94e_row58_col1\" class=\"data row58 col1\" >0.0%</td>\n",
       "      <td id=\"T_1f94e_row58_col2\" class=\"data row58 col2\" >100.0%</td>\n",
       "    </tr>\n",
       "    <tr>\n",
       "      <th id=\"T_1f94e_level0_row59\" class=\"row_heading level0 row59\" >59</th>\n",
       "      <td id=\"T_1f94e_row59_col0\" class=\"data row59 col0\" >f_room_type[T.Shared room]</td>\n",
       "      <td id=\"T_1f94e_row59_col1\" class=\"data row59 col1\" >0.0%</td>\n",
       "      <td id=\"T_1f94e_row59_col2\" class=\"data row59 col2\" >100.0%</td>\n",
       "    </tr>\n",
       "    <tr>\n",
       "      <th id=\"T_1f94e_level0_row60\" class=\"row_heading level0 row60\" >60</th>\n",
       "      <td id=\"T_1f94e_row60_col0\" class=\"data row60 col0\" >f_property_type[T.Private room in townhouse]</td>\n",
       "      <td id=\"T_1f94e_row60_col1\" class=\"data row60 col1\" >0.0%</td>\n",
       "      <td id=\"T_1f94e_row60_col2\" class=\"data row60 col2\" >100.0%</td>\n",
       "    </tr>\n",
       "    <tr>\n",
       "      <th id=\"T_1f94e_level0_row61\" class=\"row_heading level0 row61\" >61</th>\n",
       "      <td id=\"T_1f94e_row61_col0\" class=\"data row61 col0\" >Intercept</td>\n",
       "      <td id=\"T_1f94e_row61_col1\" class=\"data row61 col1\" >0.0%</td>\n",
       "      <td id=\"T_1f94e_row61_col2\" class=\"data row61 col2\" >100.0%</td>\n",
       "    </tr>\n",
       "    <tr>\n",
       "      <th id=\"T_1f94e_level0_row62\" class=\"row_heading level0 row62\" >62</th>\n",
       "      <td id=\"T_1f94e_row62_col0\" class=\"data row62 col0\" >f_neighbourhood_cleansed[T.Tuzla]</td>\n",
       "      <td id=\"T_1f94e_row62_col1\" class=\"data row62 col1\" >0.0%</td>\n",
       "      <td id=\"T_1f94e_row62_col2\" class=\"data row62 col2\" >100.0%</td>\n",
       "    </tr>\n",
       "    <tr>\n",
       "      <th id=\"T_1f94e_level0_row63\" class=\"row_heading level0 row63\" >63</th>\n",
       "      <td id=\"T_1f94e_row63_col0\" class=\"data row63 col0\" >f_neighbourhood_cleansed[T.Sultangazi]</td>\n",
       "      <td id=\"T_1f94e_row63_col1\" class=\"data row63 col1\" >0.0%</td>\n",
       "      <td id=\"T_1f94e_row63_col2\" class=\"data row63 col2\" >100.0%</td>\n",
       "    </tr>\n",
       "    <tr>\n",
       "      <th id=\"T_1f94e_level0_row64\" class=\"row_heading level0 row64\" >64</th>\n",
       "      <td id=\"T_1f94e_row64_col0\" class=\"data row64 col0\" >f_neighbourhood_cleansed[T.Sultanbeyli]</td>\n",
       "      <td id=\"T_1f94e_row64_col1\" class=\"data row64 col1\" >0.0%</td>\n",
       "      <td id=\"T_1f94e_row64_col2\" class=\"data row64 col2\" >100.0%</td>\n",
       "    </tr>\n",
       "    <tr>\n",
       "      <th id=\"T_1f94e_level0_row65\" class=\"row_heading level0 row65\" >65</th>\n",
       "      <td id=\"T_1f94e_row65_col0\" class=\"data row65 col0\" >f_neighbourhood_cleansed[T.Silivri]</td>\n",
       "      <td id=\"T_1f94e_row65_col1\" class=\"data row65 col1\" >0.0%</td>\n",
       "      <td id=\"T_1f94e_row65_col2\" class=\"data row65 col2\" >100.0%</td>\n",
       "    </tr>\n",
       "    <tr>\n",
       "      <th id=\"T_1f94e_level0_row66\" class=\"row_heading level0 row66\" >66</th>\n",
       "      <td id=\"T_1f94e_row66_col0\" class=\"data row66 col0\" >f_neighbourhood_cleansed[T.Sancaktepe]</td>\n",
       "      <td id=\"T_1f94e_row66_col1\" class=\"data row66 col1\" >0.0%</td>\n",
       "      <td id=\"T_1f94e_row66_col2\" class=\"data row66 col2\" >100.0%</td>\n",
       "    </tr>\n",
       "    <tr>\n",
       "      <th id=\"T_1f94e_level0_row67\" class=\"row_heading level0 row67\" >67</th>\n",
       "      <td id=\"T_1f94e_row67_col0\" class=\"data row67 col0\" >f_neighbourhood_cleansed[T.Esenler]</td>\n",
       "      <td id=\"T_1f94e_row67_col1\" class=\"data row67 col1\" >0.0%</td>\n",
       "      <td id=\"T_1f94e_row67_col2\" class=\"data row67 col2\" >100.0%</td>\n",
       "    </tr>\n",
       "    <tr>\n",
       "      <th id=\"T_1f94e_level0_row68\" class=\"row_heading level0 row68\" >68</th>\n",
       "      <td id=\"T_1f94e_row68_col0\" class=\"data row68 col0\" >f_neighbourhood_cleansed[T.Cekmekoy]</td>\n",
       "      <td id=\"T_1f94e_row68_col1\" class=\"data row68 col1\" >0.0%</td>\n",
       "      <td id=\"T_1f94e_row68_col2\" class=\"data row68 col2\" >100.0%</td>\n",
       "    </tr>\n",
       "    <tr>\n",
       "      <th id=\"T_1f94e_level0_row69\" class=\"row_heading level0 row69\" >69</th>\n",
       "      <td id=\"T_1f94e_row69_col0\" class=\"data row69 col0\" >f_neighbourhood_cleansed[T.Bayrampasa]</td>\n",
       "      <td id=\"T_1f94e_row69_col1\" class=\"data row69 col1\" >0.0%</td>\n",
       "      <td id=\"T_1f94e_row69_col2\" class=\"data row69 col2\" >100.0%</td>\n",
       "    </tr>\n",
       "    <tr>\n",
       "      <th id=\"T_1f94e_level0_row70\" class=\"row_heading level0 row70\" >70</th>\n",
       "      <td id=\"T_1f94e_row70_col0\" class=\"data row70 col0\" >f_property_type[T.Tower]</td>\n",
       "      <td id=\"T_1f94e_row70_col1\" class=\"data row70 col1\" >0.0%</td>\n",
       "      <td id=\"T_1f94e_row70_col2\" class=\"data row70 col2\" >100.0%</td>\n",
       "    </tr>\n",
       "    <tr>\n",
       "      <th id=\"T_1f94e_level0_row71\" class=\"row_heading level0 row71\" >71</th>\n",
       "      <td id=\"T_1f94e_row71_col0\" class=\"data row71 col0\" >f_property_type[T.Private room in guesthouse]</td>\n",
       "      <td id=\"T_1f94e_row71_col1\" class=\"data row71 col1\" >0.0%</td>\n",
       "      <td id=\"T_1f94e_row71_col2\" class=\"data row71 col2\" >100.0%</td>\n",
       "    </tr>\n",
       "    <tr>\n",
       "      <th id=\"T_1f94e_level0_row72\" class=\"row_heading level0 row72\" >72</th>\n",
       "      <td id=\"T_1f94e_row72_col0\" class=\"data row72 col0\" >f_property_type[T.Entire vacation home]</td>\n",
       "      <td id=\"T_1f94e_row72_col1\" class=\"data row72 col1\" >0.0%</td>\n",
       "      <td id=\"T_1f94e_row72_col2\" class=\"data row72 col2\" >100.0%</td>\n",
       "    </tr>\n",
       "    <tr>\n",
       "      <th id=\"T_1f94e_level0_row73\" class=\"row_heading level0 row73\" >73</th>\n",
       "      <td id=\"T_1f94e_row73_col0\" class=\"data row73 col0\" >f_property_type[T.Entire townhouse]</td>\n",
       "      <td id=\"T_1f94e_row73_col1\" class=\"data row73 col1\" >0.0%</td>\n",
       "      <td id=\"T_1f94e_row73_col2\" class=\"data row73 col2\" >100.0%</td>\n",
       "    </tr>\n",
       "    <tr>\n",
       "      <th id=\"T_1f94e_level0_row74\" class=\"row_heading level0 row74\" >74</th>\n",
       "      <td id=\"T_1f94e_row74_col0\" class=\"data row74 col0\" >f_property_type[T.Entire place]</td>\n",
       "      <td id=\"T_1f94e_row74_col1\" class=\"data row74 col1\" >0.0%</td>\n",
       "      <td id=\"T_1f94e_row74_col2\" class=\"data row74 col2\" >100.0%</td>\n",
       "    </tr>\n",
       "    <tr>\n",
       "      <th id=\"T_1f94e_level0_row75\" class=\"row_heading level0 row75\" >75</th>\n",
       "      <td id=\"T_1f94e_row75_col0\" class=\"data row75 col0\" >f_neighbourhood_cleansed[T.Catalca]</td>\n",
       "      <td id=\"T_1f94e_row75_col1\" class=\"data row75 col1\" >0.0%</td>\n",
       "      <td id=\"T_1f94e_row75_col2\" class=\"data row75 col2\" >100.0%</td>\n",
       "    </tr>\n",
       "  </tbody>\n",
       "</table>\n"
      ],
      "text/plain": [
       "<pandas.io.formats.style.Styler at 0x1b2847ded90>"
      ]
     },
     "execution_count": 70,
     "metadata": {},
     "output_type": "execute_result"
    }
   ],
   "source": [
    "df_var_imp.style.format({\n",
    "    'imp': lambda x: f'{x:,.1%}',\n",
    "    'cumulative_imp': lambda x: f'{x:,.1%}'})"
   ]
  },
  {
   "cell_type": "markdown",
   "metadata": {},
   "source": [
    "In terms of individual importances, `number of accommodates` that can stay at the listing have highest importance."
   ]
  },
  {
   "cell_type": "code",
   "execution_count": 72,
   "metadata": {},
   "outputs": [],
   "source": [
    "# we only care for variables with an importance of more than 1%\n",
    "cutoff = 0.01"
   ]
  },
  {
   "cell_type": "code",
   "execution_count": 73,
   "metadata": {
    "tags": []
   },
   "outputs": [
    {
     "data": {
      "image/png": "[encoded data removed]",
      "text/plain": [
       "<Figure size 1000x600 with 1 Axes>"
      ]
     },
     "metadata": {},
     "output_type": "display_data"
    }
   ],
   "source": [
    "df_var_imp[df_var_imp.imp > cutoff]\\\n",
    "    .sort_values(by = 'imp')\\\n",
    "    .plot(kind = 'barh', \n",
    "          x = 'variable', y = 'imp', \n",
    "          figsize = (10,6), grid = True, \n",
    "          title = 'Random forest model highest feature importances', \n",
    "          xlabel = 'variables', legend = False\n",
    "         );"
   ]
  },
  {
   "cell_type": "markdown",
   "metadata": {},
   "source": [
    "Now we group variable importance. In other words, instead of looking at the individual categories of a categorical variable, we look at the total effect of the category."
   ]
  },
  {
   "cell_type": "code",
   "execution_count": 74,
   "metadata": {},
   "outputs": [],
   "source": [
    "categorical_columns = [col for col in predictors_2 if col.startswith(\"f_\")]\n",
    "numerical_columns = [col for col in predictors_2 if col not in categorical_columns]"
   ]
  },
  {
   "cell_type": "code",
   "execution_count": 75,
   "metadata": {},
   "outputs": [],
   "source": [
    "categorical_encoder = OneHotEncoder(handle_unknown=\"ignore\")\n",
    "\n",
    "preprocessing = ColumnTransformer([\n",
    "    (\"cat\", categorical_encoder, categorical_columns),\n",
    "    (\"num\", \"passthrough\", numerical_columns)])\n",
    "\n",
    "rf_pipeline = Pipeline(\n",
    "    [(\"preprocess\", preprocessing), \n",
    "     (\"regressor\", rf_model2.best_estimator_)] # put best model to pipeline\n",
    ")\n",
    "\n",
    "rf_pipeline2 = Pipeline(\n",
    "    [(\"preprocess\", preprocessing), \n",
    "     (\"regressor\", rf_model.best_estimator_)] # put best model to pipeline\n",
    ")"
   ]
  },
  {
   "cell_type": "code",
   "execution_count": 76,
   "metadata": {},
   "outputs": [
    {
     "name": "stdout",
     "output_type": "stream",
     "text": [
      "CPU times: total: 5.41 s\n",
      "Wall time: 5.39 s\n"
     ]
    },
    {
     "data": {
      "text/html": [
       "<style>#sk-container-id-2 {color: black;}#sk-container-id-2 pre{padding: 0;}#sk-container-id-2 div.sk-toggleable {background-color: white;}#sk-container-id-2 label.sk-toggleable__label {cursor: pointer;display: block;width: 100%;margin-bottom: 0;padding: 0.3em;box-sizing: border-box;text-align: center;}#sk-container-id-2 label.sk-toggleable__label-arrow:before {content: \"▸\";float: left;margin-right: 0.25em;color: #696969;}#sk-container-id-2 label.sk-toggleable__label-arrow:hover:before {color: black;}#sk-container-id-2 div.sk-estimator:hover label.sk-toggleable__label-arrow:before {color: black;}#sk-container-id-2 div.sk-toggleable__content {max-height: 0;max-width: 0;overflow: hidden;text-align: left;background-color: #f0f8ff;}#sk-container-id-2 div.sk-toggleable__content pre {margin: 0.2em;color: black;border-radius: 0.25em;background-color: #f0f8ff;}#sk-container-id-2 input.sk-toggleable__control:checked~div.sk-toggleable__content {max-height: 200px;max-width: 100%;overflow: auto;}#sk-container-id-2 input.sk-toggleable__control:checked~label.sk-toggleable__label-arrow:before {content: \"▾\";}#sk-container-id-2 div.sk-estimator input.sk-toggleable__control:checked~label.sk-toggleable__label {background-color: #d4ebff;}#sk-container-id-2 div.sk-label input.sk-toggleable__control:checked~label.sk-toggleable__label {background-color: #d4ebff;}#sk-container-id-2 input.sk-hidden--visually {border: 0;clip: rect(1px 1px 1px 1px);clip: rect(1px, 1px, 1px, 1px);height: 1px;margin: -1px;overflow: hidden;padding: 0;position: absolute;width: 1px;}#sk-container-id-2 div.sk-estimator {font-family: monospace;background-color: #f0f8ff;border: 1px dotted black;border-radius: 0.25em;box-sizing: border-box;margin-bottom: 0.5em;}#sk-container-id-2 div.sk-estimator:hover {background-color: #d4ebff;}#sk-container-id-2 div.sk-parallel-item::after {content: \"\";width: 100%;border-bottom: 1px solid gray;flex-grow: 1;}#sk-container-id-2 div.sk-label:hover label.sk-toggleable__label {background-color: #d4ebff;}#sk-container-id-2 div.sk-serial::before {content: \"\";position: absolute;border-left: 1px solid gray;box-sizing: border-box;top: 0;bottom: 0;left: 50%;z-index: 0;}#sk-container-id-2 div.sk-serial {display: flex;flex-direction: column;align-items: center;background-color: white;padding-right: 0.2em;padding-left: 0.2em;position: relative;}#sk-container-id-2 div.sk-item {position: relative;z-index: 1;}#sk-container-id-2 div.sk-parallel {display: flex;align-items: stretch;justify-content: center;background-color: white;position: relative;}#sk-container-id-2 div.sk-item::before, #sk-container-id-2 div.sk-parallel-item::before {content: \"\";position: absolute;border-left: 1px solid gray;box-sizing: border-box;top: 0;bottom: 0;left: 50%;z-index: -1;}#sk-container-id-2 div.sk-parallel-item {display: flex;flex-direction: column;z-index: 1;position: relative;background-color: white;}#sk-container-id-2 div.sk-parallel-item:first-child::after {align-self: flex-end;width: 50%;}#sk-container-id-2 div.sk-parallel-item:last-child::after {align-self: flex-start;width: 50%;}#sk-container-id-2 div.sk-parallel-item:only-child::after {width: 0;}#sk-container-id-2 div.sk-dashed-wrapped {border: 1px dashed gray;margin: 0 0.4em 0.5em 0.4em;box-sizing: border-box;padding-bottom: 0.4em;background-color: white;}#sk-container-id-2 div.sk-label label {font-family: monospace;font-weight: bold;display: inline-block;line-height: 1.2em;}#sk-container-id-2 div.sk-label-container {text-align: center;}#sk-container-id-2 div.sk-container {/* jupyter's `normalize.less` sets `[hidden] { display: none; }` but bootstrap.min.css set `[hidden] { display: none !important; }` so we also need the `!important` here to be able to override the default hidden behavior on the sphinx rendered scikit-learn.org. See: https://github.com/scikit-learn/scikit-learn/issues/21755 */display: inline-block !important;position: relative;}#sk-container-id-2 div.sk-text-repr-fallback {display: none;}</style><div id=\"sk-container-id-2\" class=\"sk-top-container\"><div class=\"sk-text-repr-fallback\"><pre>Pipeline(steps=[(&#x27;preprocess&#x27;,\n",
       "                 ColumnTransformer(transformers=[(&#x27;cat&#x27;,\n",
       "                                                  OneHotEncoder(handle_unknown=&#x27;ignore&#x27;),\n",
       "                                                  [&#x27;f_property_type&#x27;,\n",
       "                                                   &#x27;f_room_type&#x27;,\n",
       "                                                   &#x27;f_neighbourhood_cleansed&#x27;,\n",
       "                                                   &#x27;f_host_response_time&#x27;]),\n",
       "                                                 (&#x27;num&#x27;, &#x27;passthrough&#x27;,\n",
       "                                                  [&#x27;n_accommodates&#x27;, &#x27;n_beds&#x27;,\n",
       "                                                   &#x27;n_bathrooms&#x27;,\n",
       "                                                   &#x27;n_availability_365&#x27;,\n",
       "                                                   &#x27;n_minimum_nights&#x27;,\n",
       "                                                   &#x27;n_host_response_rate&#x27;,\n",
       "                                                   &#x27;n_host_acceptance_rate&#x27;,\n",
       "                                                   &#x27;n_number_of_reviews&#x27;,\n",
       "                                                   &#x27;n_review_scores_rating&#x27;,\n",
       "                                                   &#x27;d_host_is_superhost&#x27;])])),\n",
       "                (&#x27;regressor&#x27;,\n",
       "                 RandomForestRegressor(max_features=12, min_samples_leaf=5,\n",
       "                                       random_state=20240129))])</pre><b>In a Jupyter environment, please rerun this cell to show the HTML representation or trust the notebook. <br />On GitHub, the HTML representation is unable to render, please try loading this page with nbviewer.org.</b></div><div class=\"sk-container\" hidden><div class=\"sk-item sk-dashed-wrapped\"><div class=\"sk-label-container\"><div class=\"sk-label sk-toggleable\"><input class=\"sk-toggleable__control sk-hidden--visually\" id=\"sk-estimator-id-2\" type=\"checkbox\" ><label for=\"sk-estimator-id-2\" class=\"sk-toggleable__label sk-toggleable__label-arrow\">Pipeline</label><div class=\"sk-toggleable__content\"><pre>Pipeline(steps=[(&#x27;preprocess&#x27;,\n",
       "                 ColumnTransformer(transformers=[(&#x27;cat&#x27;,\n",
       "                                                  OneHotEncoder(handle_unknown=&#x27;ignore&#x27;),\n",
       "                                                  [&#x27;f_property_type&#x27;,\n",
       "                                                   &#x27;f_room_type&#x27;,\n",
       "                                                   &#x27;f_neighbourhood_cleansed&#x27;,\n",
       "                                                   &#x27;f_host_response_time&#x27;]),\n",
       "                                                 (&#x27;num&#x27;, &#x27;passthrough&#x27;,\n",
       "                                                  [&#x27;n_accommodates&#x27;, &#x27;n_beds&#x27;,\n",
       "                                                   &#x27;n_bathrooms&#x27;,\n",
       "                                                   &#x27;n_availability_365&#x27;,\n",
       "                                                   &#x27;n_minimum_nights&#x27;,\n",
       "                                                   &#x27;n_host_response_rate&#x27;,\n",
       "                                                   &#x27;n_host_acceptance_rate&#x27;,\n",
       "                                                   &#x27;n_number_of_reviews&#x27;,\n",
       "                                                   &#x27;n_review_scores_rating&#x27;,\n",
       "                                                   &#x27;d_host_is_superhost&#x27;])])),\n",
       "                (&#x27;regressor&#x27;,\n",
       "                 RandomForestRegressor(max_features=12, min_samples_leaf=5,\n",
       "                                       random_state=20240129))])</pre></div></div></div><div class=\"sk-serial\"><div class=\"sk-item sk-dashed-wrapped\"><div class=\"sk-label-container\"><div class=\"sk-label sk-toggleable\"><input class=\"sk-toggleable__control sk-hidden--visually\" id=\"sk-estimator-id-3\" type=\"checkbox\" ><label for=\"sk-estimator-id-3\" class=\"sk-toggleable__label sk-toggleable__label-arrow\">preprocess: ColumnTransformer</label><div class=\"sk-toggleable__content\"><pre>ColumnTransformer(transformers=[(&#x27;cat&#x27;, OneHotEncoder(handle_unknown=&#x27;ignore&#x27;),\n",
       "                                 [&#x27;f_property_type&#x27;, &#x27;f_room_type&#x27;,\n",
       "                                  &#x27;f_neighbourhood_cleansed&#x27;,\n",
       "                                  &#x27;f_host_response_time&#x27;]),\n",
       "                                (&#x27;num&#x27;, &#x27;passthrough&#x27;,\n",
       "                                 [&#x27;n_accommodates&#x27;, &#x27;n_beds&#x27;, &#x27;n_bathrooms&#x27;,\n",
       "                                  &#x27;n_availability_365&#x27;, &#x27;n_minimum_nights&#x27;,\n",
       "                                  &#x27;n_host_response_rate&#x27;,\n",
       "                                  &#x27;n_host_acceptance_rate&#x27;,\n",
       "                                  &#x27;n_number_of_reviews&#x27;,\n",
       "                                  &#x27;n_review_scores_rating&#x27;,\n",
       "                                  &#x27;d_host_is_superhost&#x27;])])</pre></div></div></div><div class=\"sk-parallel\"><div class=\"sk-parallel-item\"><div class=\"sk-item\"><div class=\"sk-label-container\"><div class=\"sk-label sk-toggleable\"><input class=\"sk-toggleable__control sk-hidden--visually\" id=\"sk-estimator-id-4\" type=\"checkbox\" ><label for=\"sk-estimator-id-4\" class=\"sk-toggleable__label sk-toggleable__label-arrow\">cat</label><div class=\"sk-toggleable__content\"><pre>[&#x27;f_property_type&#x27;, &#x27;f_room_type&#x27;, &#x27;f_neighbourhood_cleansed&#x27;, &#x27;f_host_response_time&#x27;]</pre></div></div></div><div class=\"sk-serial\"><div class=\"sk-item\"><div class=\"sk-estimator sk-toggleable\"><input class=\"sk-toggleable__control sk-hidden--visually\" id=\"sk-estimator-id-5\" type=\"checkbox\" ><label for=\"sk-estimator-id-5\" class=\"sk-toggleable__label sk-toggleable__label-arrow\">OneHotEncoder</label><div class=\"sk-toggleable__content\"><pre>OneHotEncoder(handle_unknown=&#x27;ignore&#x27;)</pre></div></div></div></div></div></div><div class=\"sk-parallel-item\"><div class=\"sk-item\"><div class=\"sk-label-container\"><div class=\"sk-label sk-toggleable\"><input class=\"sk-toggleable__control sk-hidden--visually\" id=\"sk-estimator-id-6\" type=\"checkbox\" ><label for=\"sk-estimator-id-6\" class=\"sk-toggleable__label sk-toggleable__label-arrow\">num</label><div class=\"sk-toggleable__content\"><pre>[&#x27;n_accommodates&#x27;, &#x27;n_beds&#x27;, &#x27;n_bathrooms&#x27;, &#x27;n_availability_365&#x27;, &#x27;n_minimum_nights&#x27;, &#x27;n_host_response_rate&#x27;, &#x27;n_host_acceptance_rate&#x27;, &#x27;n_number_of_reviews&#x27;, &#x27;n_review_scores_rating&#x27;, &#x27;d_host_is_superhost&#x27;]</pre></div></div></div><div class=\"sk-serial\"><div class=\"sk-item\"><div class=\"sk-estimator sk-toggleable\"><input class=\"sk-toggleable__control sk-hidden--visually\" id=\"sk-estimator-id-7\" type=\"checkbox\" ><label for=\"sk-estimator-id-7\" class=\"sk-toggleable__label sk-toggleable__label-arrow\">passthrough</label><div class=\"sk-toggleable__content\"><pre>passthrough</pre></div></div></div></div></div></div></div></div><div class=\"sk-item\"><div class=\"sk-estimator sk-toggleable\"><input class=\"sk-toggleable__control sk-hidden--visually\" id=\"sk-estimator-id-8\" type=\"checkbox\" ><label for=\"sk-estimator-id-8\" class=\"sk-toggleable__label sk-toggleable__label-arrow\">RandomForestRegressor</label><div class=\"sk-toggleable__content\"><pre>RandomForestRegressor(max_features=12, min_samples_leaf=5,\n",
       "                      random_state=20240129)</pre></div></div></div></div></div></div></div>"
      ],
      "text/plain": [
       "Pipeline(steps=[('preprocess',\n",
       "                 ColumnTransformer(transformers=[('cat',\n",
       "                                                  OneHotEncoder(handle_unknown='ignore'),\n",
       "                                                  ['f_property_type',\n",
       "                                                   'f_room_type',\n",
       "                                                   'f_neighbourhood_cleansed',\n",
       "                                                   'f_host_response_time']),\n",
       "                                                 ('num', 'passthrough',\n",
       "                                                  ['n_accommodates', 'n_beds',\n",
       "                                                   'n_bathrooms',\n",
       "                                                   'n_availability_365',\n",
       "                                                   'n_minimum_nights',\n",
       "                                                   'n_host_response_rate',\n",
       "                                                   'n_host_acceptance_rate',\n",
       "                                                   'n_number_of_reviews',\n",
       "                                                   'n_review_scores_rating',\n",
       "                                                   'd_host_is_superhost'])])),\n",
       "                ('regressor',\n",
       "                 RandomForestRegressor(max_features=12, min_samples_leaf=5,\n",
       "                                       random_state=20240129))])"
      ]
     },
     "execution_count": 76,
     "metadata": {},
     "output_type": "execute_result"
    }
   ],
   "source": [
    "%%time\n",
    "rf_pipeline.fit(data_train[predictors_2],data_train.price)"
   ]
  },
  {
   "cell_type": "code",
   "execution_count": 77,
   "metadata": {},
   "outputs": [
    {
     "name": "stdout",
     "output_type": "stream",
     "text": [
      "CPU times: total: 5.38 s\n",
      "Wall time: 5.39 s\n"
     ]
    },
    {
     "data": {
      "text/html": [
       "<style>#sk-container-id-3 {color: black;}#sk-container-id-3 pre{padding: 0;}#sk-container-id-3 div.sk-toggleable {background-color: white;}#sk-container-id-3 label.sk-toggleable__label {cursor: pointer;display: block;width: 100%;margin-bottom: 0;padding: 0.3em;box-sizing: border-box;text-align: center;}#sk-container-id-3 label.sk-toggleable__label-arrow:before {content: \"▸\";float: left;margin-right: 0.25em;color: #696969;}#sk-container-id-3 label.sk-toggleable__label-arrow:hover:before {color: black;}#sk-container-id-3 div.sk-estimator:hover label.sk-toggleable__label-arrow:before {color: black;}#sk-container-id-3 div.sk-toggleable__content {max-height: 0;max-width: 0;overflow: hidden;text-align: left;background-color: #f0f8ff;}#sk-container-id-3 div.sk-toggleable__content pre {margin: 0.2em;color: black;border-radius: 0.25em;background-color: #f0f8ff;}#sk-container-id-3 input.sk-toggleable__control:checked~div.sk-toggleable__content {max-height: 200px;max-width: 100%;overflow: auto;}#sk-container-id-3 input.sk-toggleable__control:checked~label.sk-toggleable__label-arrow:before {content: \"▾\";}#sk-container-id-3 div.sk-estimator input.sk-toggleable__control:checked~label.sk-toggleable__label {background-color: #d4ebff;}#sk-container-id-3 div.sk-label input.sk-toggleable__control:checked~label.sk-toggleable__label {background-color: #d4ebff;}#sk-container-id-3 input.sk-hidden--visually {border: 0;clip: rect(1px 1px 1px 1px);clip: rect(1px, 1px, 1px, 1px);height: 1px;margin: -1px;overflow: hidden;padding: 0;position: absolute;width: 1px;}#sk-container-id-3 div.sk-estimator {font-family: monospace;background-color: #f0f8ff;border: 1px dotted black;border-radius: 0.25em;box-sizing: border-box;margin-bottom: 0.5em;}#sk-container-id-3 div.sk-estimator:hover {background-color: #d4ebff;}#sk-container-id-3 div.sk-parallel-item::after {content: \"\";width: 100%;border-bottom: 1px solid gray;flex-grow: 1;}#sk-container-id-3 div.sk-label:hover label.sk-toggleable__label {background-color: #d4ebff;}#sk-container-id-3 div.sk-serial::before {content: \"\";position: absolute;border-left: 1px solid gray;box-sizing: border-box;top: 0;bottom: 0;left: 50%;z-index: 0;}#sk-container-id-3 div.sk-serial {display: flex;flex-direction: column;align-items: center;background-color: white;padding-right: 0.2em;padding-left: 0.2em;position: relative;}#sk-container-id-3 div.sk-item {position: relative;z-index: 1;}#sk-container-id-3 div.sk-parallel {display: flex;align-items: stretch;justify-content: center;background-color: white;position: relative;}#sk-container-id-3 div.sk-item::before, #sk-container-id-3 div.sk-parallel-item::before {content: \"\";position: absolute;border-left: 1px solid gray;box-sizing: border-box;top: 0;bottom: 0;left: 50%;z-index: -1;}#sk-container-id-3 div.sk-parallel-item {display: flex;flex-direction: column;z-index: 1;position: relative;background-color: white;}#sk-container-id-3 div.sk-parallel-item:first-child::after {align-self: flex-end;width: 50%;}#sk-container-id-3 div.sk-parallel-item:last-child::after {align-self: flex-start;width: 50%;}#sk-container-id-3 div.sk-parallel-item:only-child::after {width: 0;}#sk-container-id-3 div.sk-dashed-wrapped {border: 1px dashed gray;margin: 0 0.4em 0.5em 0.4em;box-sizing: border-box;padding-bottom: 0.4em;background-color: white;}#sk-container-id-3 div.sk-label label {font-family: monospace;font-weight: bold;display: inline-block;line-height: 1.2em;}#sk-container-id-3 div.sk-label-container {text-align: center;}#sk-container-id-3 div.sk-container {/* jupyter's `normalize.less` sets `[hidden] { display: none; }` but bootstrap.min.css set `[hidden] { display: none !important; }` so we also need the `!important` here to be able to override the default hidden behavior on the sphinx rendered scikit-learn.org. See: https://github.com/scikit-learn/scikit-learn/issues/21755 */display: inline-block !important;position: relative;}#sk-container-id-3 div.sk-text-repr-fallback {display: none;}</style><div id=\"sk-container-id-3\" class=\"sk-top-container\"><div class=\"sk-text-repr-fallback\"><pre>Pipeline(steps=[(&#x27;preprocess&#x27;,\n",
       "                 ColumnTransformer(transformers=[(&#x27;cat&#x27;,\n",
       "                                                  OneHotEncoder(handle_unknown=&#x27;ignore&#x27;),\n",
       "                                                  [&#x27;f_property_type&#x27;,\n",
       "                                                   &#x27;f_room_type&#x27;,\n",
       "                                                   &#x27;f_neighbourhood_cleansed&#x27;,\n",
       "                                                   &#x27;f_host_response_time&#x27;]),\n",
       "                                                 (&#x27;num&#x27;, &#x27;passthrough&#x27;,\n",
       "                                                  [&#x27;n_accommodates&#x27;, &#x27;n_beds&#x27;,\n",
       "                                                   &#x27;n_bathrooms&#x27;,\n",
       "                                                   &#x27;n_availability_365&#x27;,\n",
       "                                                   &#x27;n_minimum_nights&#x27;,\n",
       "                                                   &#x27;n_host_response_rate&#x27;,\n",
       "                                                   &#x27;n_host_acceptance_rate&#x27;,\n",
       "                                                   &#x27;n_number_of_reviews&#x27;,\n",
       "                                                   &#x27;n_review_scores_rating&#x27;,\n",
       "                                                   &#x27;d_host_is_superhost&#x27;])])),\n",
       "                (&#x27;regressor&#x27;,\n",
       "                 RandomForestRegressor(max_features=12, min_samples_leaf=5,\n",
       "                                       random_state=20240129))])</pre><b>In a Jupyter environment, please rerun this cell to show the HTML representation or trust the notebook. <br />On GitHub, the HTML representation is unable to render, please try loading this page with nbviewer.org.</b></div><div class=\"sk-container\" hidden><div class=\"sk-item sk-dashed-wrapped\"><div class=\"sk-label-container\"><div class=\"sk-label sk-toggleable\"><input class=\"sk-toggleable__control sk-hidden--visually\" id=\"sk-estimator-id-9\" type=\"checkbox\" ><label for=\"sk-estimator-id-9\" class=\"sk-toggleable__label sk-toggleable__label-arrow\">Pipeline</label><div class=\"sk-toggleable__content\"><pre>Pipeline(steps=[(&#x27;preprocess&#x27;,\n",
       "                 ColumnTransformer(transformers=[(&#x27;cat&#x27;,\n",
       "                                                  OneHotEncoder(handle_unknown=&#x27;ignore&#x27;),\n",
       "                                                  [&#x27;f_property_type&#x27;,\n",
       "                                                   &#x27;f_room_type&#x27;,\n",
       "                                                   &#x27;f_neighbourhood_cleansed&#x27;,\n",
       "                                                   &#x27;f_host_response_time&#x27;]),\n",
       "                                                 (&#x27;num&#x27;, &#x27;passthrough&#x27;,\n",
       "                                                  [&#x27;n_accommodates&#x27;, &#x27;n_beds&#x27;,\n",
       "                                                   &#x27;n_bathrooms&#x27;,\n",
       "                                                   &#x27;n_availability_365&#x27;,\n",
       "                                                   &#x27;n_minimum_nights&#x27;,\n",
       "                                                   &#x27;n_host_response_rate&#x27;,\n",
       "                                                   &#x27;n_host_acceptance_rate&#x27;,\n",
       "                                                   &#x27;n_number_of_reviews&#x27;,\n",
       "                                                   &#x27;n_review_scores_rating&#x27;,\n",
       "                                                   &#x27;d_host_is_superhost&#x27;])])),\n",
       "                (&#x27;regressor&#x27;,\n",
       "                 RandomForestRegressor(max_features=12, min_samples_leaf=5,\n",
       "                                       random_state=20240129))])</pre></div></div></div><div class=\"sk-serial\"><div class=\"sk-item sk-dashed-wrapped\"><div class=\"sk-label-container\"><div class=\"sk-label sk-toggleable\"><input class=\"sk-toggleable__control sk-hidden--visually\" id=\"sk-estimator-id-10\" type=\"checkbox\" ><label for=\"sk-estimator-id-10\" class=\"sk-toggleable__label sk-toggleable__label-arrow\">preprocess: ColumnTransformer</label><div class=\"sk-toggleable__content\"><pre>ColumnTransformer(transformers=[(&#x27;cat&#x27;, OneHotEncoder(handle_unknown=&#x27;ignore&#x27;),\n",
       "                                 [&#x27;f_property_type&#x27;, &#x27;f_room_type&#x27;,\n",
       "                                  &#x27;f_neighbourhood_cleansed&#x27;,\n",
       "                                  &#x27;f_host_response_time&#x27;]),\n",
       "                                (&#x27;num&#x27;, &#x27;passthrough&#x27;,\n",
       "                                 [&#x27;n_accommodates&#x27;, &#x27;n_beds&#x27;, &#x27;n_bathrooms&#x27;,\n",
       "                                  &#x27;n_availability_365&#x27;, &#x27;n_minimum_nights&#x27;,\n",
       "                                  &#x27;n_host_response_rate&#x27;,\n",
       "                                  &#x27;n_host_acceptance_rate&#x27;,\n",
       "                                  &#x27;n_number_of_reviews&#x27;,\n",
       "                                  &#x27;n_review_scores_rating&#x27;,\n",
       "                                  &#x27;d_host_is_superhost&#x27;])])</pre></div></div></div><div class=\"sk-parallel\"><div class=\"sk-parallel-item\"><div class=\"sk-item\"><div class=\"sk-label-container\"><div class=\"sk-label sk-toggleable\"><input class=\"sk-toggleable__control sk-hidden--visually\" id=\"sk-estimator-id-11\" type=\"checkbox\" ><label for=\"sk-estimator-id-11\" class=\"sk-toggleable__label sk-toggleable__label-arrow\">cat</label><div class=\"sk-toggleable__content\"><pre>[&#x27;f_property_type&#x27;, &#x27;f_room_type&#x27;, &#x27;f_neighbourhood_cleansed&#x27;, &#x27;f_host_response_time&#x27;]</pre></div></div></div><div class=\"sk-serial\"><div class=\"sk-item\"><div class=\"sk-estimator sk-toggleable\"><input class=\"sk-toggleable__control sk-hidden--visually\" id=\"sk-estimator-id-12\" type=\"checkbox\" ><label for=\"sk-estimator-id-12\" class=\"sk-toggleable__label sk-toggleable__label-arrow\">OneHotEncoder</label><div class=\"sk-toggleable__content\"><pre>OneHotEncoder(handle_unknown=&#x27;ignore&#x27;)</pre></div></div></div></div></div></div><div class=\"sk-parallel-item\"><div class=\"sk-item\"><div class=\"sk-label-container\"><div class=\"sk-label sk-toggleable\"><input class=\"sk-toggleable__control sk-hidden--visually\" id=\"sk-estimator-id-13\" type=\"checkbox\" ><label for=\"sk-estimator-id-13\" class=\"sk-toggleable__label sk-toggleable__label-arrow\">num</label><div class=\"sk-toggleable__content\"><pre>[&#x27;n_accommodates&#x27;, &#x27;n_beds&#x27;, &#x27;n_bathrooms&#x27;, &#x27;n_availability_365&#x27;, &#x27;n_minimum_nights&#x27;, &#x27;n_host_response_rate&#x27;, &#x27;n_host_acceptance_rate&#x27;, &#x27;n_number_of_reviews&#x27;, &#x27;n_review_scores_rating&#x27;, &#x27;d_host_is_superhost&#x27;]</pre></div></div></div><div class=\"sk-serial\"><div class=\"sk-item\"><div class=\"sk-estimator sk-toggleable\"><input class=\"sk-toggleable__control sk-hidden--visually\" id=\"sk-estimator-id-14\" type=\"checkbox\" ><label for=\"sk-estimator-id-14\" class=\"sk-toggleable__label sk-toggleable__label-arrow\">passthrough</label><div class=\"sk-toggleable__content\"><pre>passthrough</pre></div></div></div></div></div></div></div></div><div class=\"sk-item\"><div class=\"sk-estimator sk-toggleable\"><input class=\"sk-toggleable__control sk-hidden--visually\" id=\"sk-estimator-id-15\" type=\"checkbox\" ><label for=\"sk-estimator-id-15\" class=\"sk-toggleable__label sk-toggleable__label-arrow\">RandomForestRegressor</label><div class=\"sk-toggleable__content\"><pre>RandomForestRegressor(max_features=12, min_samples_leaf=5,\n",
       "                      random_state=20240129)</pre></div></div></div></div></div></div></div>"
      ],
      "text/plain": [
       "Pipeline(steps=[('preprocess',\n",
       "                 ColumnTransformer(transformers=[('cat',\n",
       "                                                  OneHotEncoder(handle_unknown='ignore'),\n",
       "                                                  ['f_property_type',\n",
       "                                                   'f_room_type',\n",
       "                                                   'f_neighbourhood_cleansed',\n",
       "                                                   'f_host_response_time']),\n",
       "                                                 ('num', 'passthrough',\n",
       "                                                  ['n_accommodates', 'n_beds',\n",
       "                                                   'n_bathrooms',\n",
       "                                                   'n_availability_365',\n",
       "                                                   'n_minimum_nights',\n",
       "                                                   'n_host_response_rate',\n",
       "                                                   'n_host_acceptance_rate',\n",
       "                                                   'n_number_of_reviews',\n",
       "                                                   'n_review_scores_rating',\n",
       "                                                   'd_host_is_superhost'])])),\n",
       "                ('regressor',\n",
       "                 RandomForestRegressor(max_features=12, min_samples_leaf=5,\n",
       "                                       random_state=20240129))])"
      ]
     },
     "execution_count": 77,
     "metadata": {},
     "output_type": "execute_result"
    }
   ],
   "source": [
    "%%time\n",
    "rf_pipeline2.fit(data_train[predictors_2],data_train.ln_price)"
   ]
  },
  {
   "cell_type": "code",
   "execution_count": 78,
   "metadata": {
    "tags": []
   },
   "outputs": [
    {
     "name": "stdout",
     "output_type": "stream",
     "text": [
      "CPU times: total: 12.2 s\n",
      "Wall time: 12.2 s\n"
     ]
    }
   ],
   "source": [
    "%%time\n",
    "result = permutation_importance(\n",
    "    rf_pipeline,\n",
    "    data_holdout[predictors_2],\n",
    "    data_holdout.price,\n",
    "    n_repeats=10,\n",
    "    random_state=45,\n",
    ")"
   ]
  },
  {
   "cell_type": "code",
   "execution_count": 80,
   "metadata": {
    "tags": []
   },
   "outputs": [
    {
     "data": {
      "text/html": [
       "<div>\n",
       "<style scoped>\n",
       "    .dataframe tbody tr th:only-of-type {\n",
       "        vertical-align: middle;\n",
       "    }\n",
       "\n",
       "    .dataframe tbody tr th {\n",
       "        vertical-align: top;\n",
       "    }\n",
       "\n",
       "    .dataframe thead th {\n",
       "        text-align: right;\n",
       "    }\n",
       "</style>\n",
       "<table border=\"1\" class=\"dataframe\">\n",
       "  <thead>\n",
       "    <tr style=\"text-align: right;\">\n",
       "      <th></th>\n",
       "      <th>0</th>\n",
       "    </tr>\n",
       "  </thead>\n",
       "  <tbody>\n",
       "    <tr>\n",
       "      <th>n_accommodates</th>\n",
       "      <td>0.108039</td>\n",
       "    </tr>\n",
       "    <tr>\n",
       "      <th>n_beds</th>\n",
       "      <td>0.021519</td>\n",
       "    </tr>\n",
       "    <tr>\n",
       "      <th>f_property_type</th>\n",
       "      <td>0.031530</td>\n",
       "    </tr>\n",
       "    <tr>\n",
       "      <th>f_room_type</th>\n",
       "      <td>0.081053</td>\n",
       "    </tr>\n",
       "    <tr>\n",
       "      <th>n_bathrooms</th>\n",
       "      <td>0.070506</td>\n",
       "    </tr>\n",
       "    <tr>\n",
       "      <th>f_neighbourhood_cleansed</th>\n",
       "      <td>0.072460</td>\n",
       "    </tr>\n",
       "    <tr>\n",
       "      <th>n_availability_365</th>\n",
       "      <td>0.027792</td>\n",
       "    </tr>\n",
       "    <tr>\n",
       "      <th>n_minimum_nights</th>\n",
       "      <td>0.033756</td>\n",
       "    </tr>\n",
       "    <tr>\n",
       "      <th>f_host_response_time</th>\n",
       "      <td>0.005312</td>\n",
       "    </tr>\n",
       "    <tr>\n",
       "      <th>n_host_response_rate</th>\n",
       "      <td>0.009747</td>\n",
       "    </tr>\n",
       "    <tr>\n",
       "      <th>n_host_acceptance_rate</th>\n",
       "      <td>0.033363</td>\n",
       "    </tr>\n",
       "    <tr>\n",
       "      <th>n_number_of_reviews</th>\n",
       "      <td>0.007082</td>\n",
       "    </tr>\n",
       "    <tr>\n",
       "      <th>n_review_scores_rating</th>\n",
       "      <td>0.021767</td>\n",
       "    </tr>\n",
       "    <tr>\n",
       "      <th>d_host_is_superhost</th>\n",
       "      <td>0.022283</td>\n",
       "    </tr>\n",
       "  </tbody>\n",
       "</table>\n",
       "</div>"
      ],
      "text/plain": [
       "                                 0\n",
       "n_accommodates            0.108039\n",
       "n_beds                    0.021519\n",
       "f_property_type           0.031530\n",
       "f_room_type               0.081053\n",
       "n_bathrooms               0.070506\n",
       "f_neighbourhood_cleansed  0.072460\n",
       "n_availability_365        0.027792\n",
       "n_minimum_nights          0.033756\n",
       "f_host_response_time      0.005312\n",
       "n_host_response_rate      0.009747\n",
       "n_host_acceptance_rate    0.033363\n",
       "n_number_of_reviews       0.007082\n",
       "n_review_scores_rating    0.021767\n",
       "d_host_is_superhost       0.022283"
      ]
     },
     "execution_count": 80,
     "metadata": {},
     "output_type": "execute_result"
    }
   ],
   "source": [
    "pd.DataFrame(\n",
    "        result.importances_mean,\n",
    "        data_train[predictors_2].columns)"
   ]
  },
  {
   "cell_type": "code",
   "execution_count": 81,
   "metadata": {},
   "outputs": [],
   "source": [
    "grouped = [\n",
    "    \"n_beds\",\n",
    "    \"f_property_type\",\n",
    "    \"f_room_type\",\n",
    "    \"n_accommodates\",\n",
    "    \"n_bathrooms\",\n",
    "    \"f_neighbourhood_cleansed\",\n",
    "    \"n_availability_365\",\n",
    "    \"n_minimum_nights\",\n",
    "    \"f_host_response_time\",\n",
    "    \"n_host_response_rate\",\n",
    "    \"n_host_acceptance_rate\",\n",
    "    \"n_number_of_reviews\",\n",
    "    \"n_review_scores_rating\",\n",
    "    \"d_host_is_superhost\"\n",
    "]"
   ]
  },
  {
   "cell_type": "code",
   "execution_count": 82,
   "metadata": {
    "tags": []
   },
   "outputs": [],
   "source": [
    "df_grouped_var_imp = pd.DataFrame(\n",
    "        result.importances_mean,\n",
    "        data_train[predictors_2].columns)\\\n",
    "    .loc[grouped]\\\n",
    "    .sort_values(by = 0, ascending = False)\\\n",
    "    .reset_index()\\\n",
    "    .rename({'index': 'variable', 0: 'imp'}, axis = 1)\n",
    "df_grouped_var_imp['cumulative_imp'] = df_grouped_var_imp.imp.cumsum()"
   ]
  },
  {
   "cell_type": "code",
   "execution_count": 83,
   "metadata": {
    "tags": []
   },
   "outputs": [
    {
     "data": {
      "text/html": [
       "<style type=\"text/css\">\n",
       "</style>\n",
       "<table id=\"T_3f59e\">\n",
       "  <thead>\n",
       "    <tr>\n",
       "      <th class=\"blank level0\" >&nbsp;</th>\n",
       "      <th id=\"T_3f59e_level0_col0\" class=\"col_heading level0 col0\" >variable</th>\n",
       "      <th id=\"T_3f59e_level0_col1\" class=\"col_heading level0 col1\" >imp</th>\n",
       "      <th id=\"T_3f59e_level0_col2\" class=\"col_heading level0 col2\" >cumulative_imp</th>\n",
       "    </tr>\n",
       "  </thead>\n",
       "  <tbody>\n",
       "    <tr>\n",
       "      <th id=\"T_3f59e_level0_row0\" class=\"row_heading level0 row0\" >0</th>\n",
       "      <td id=\"T_3f59e_row0_col0\" class=\"data row0 col0\" >f_room_type</td>\n",
       "      <td id=\"T_3f59e_row0_col1\" class=\"data row0 col1\" >8.1%</td>\n",
       "      <td id=\"T_3f59e_row0_col2\" class=\"data row0 col2\" >8.1%</td>\n",
       "    </tr>\n",
       "    <tr>\n",
       "      <th id=\"T_3f59e_level0_row1\" class=\"row_heading level0 row1\" >1</th>\n",
       "      <td id=\"T_3f59e_row1_col0\" class=\"data row1 col0\" >f_neighbourhood_cleansed</td>\n",
       "      <td id=\"T_3f59e_row1_col1\" class=\"data row1 col1\" >7.2%</td>\n",
       "      <td id=\"T_3f59e_row1_col2\" class=\"data row1 col2\" >15.4%</td>\n",
       "    </tr>\n",
       "    <tr>\n",
       "      <th id=\"T_3f59e_level0_row2\" class=\"row_heading level0 row2\" >2</th>\n",
       "      <td id=\"T_3f59e_row2_col0\" class=\"data row2 col0\" >n_bathrooms</td>\n",
       "      <td id=\"T_3f59e_row2_col1\" class=\"data row2 col1\" >7.1%</td>\n",
       "      <td id=\"T_3f59e_row2_col2\" class=\"data row2 col2\" >22.4%</td>\n",
       "    </tr>\n",
       "    <tr>\n",
       "      <th id=\"T_3f59e_level0_row3\" class=\"row_heading level0 row3\" >3</th>\n",
       "      <td id=\"T_3f59e_row3_col0\" class=\"data row3 col0\" >n_minimum_nights</td>\n",
       "      <td id=\"T_3f59e_row3_col1\" class=\"data row3 col1\" >3.4%</td>\n",
       "      <td id=\"T_3f59e_row3_col2\" class=\"data row3 col2\" >25.8%</td>\n",
       "    </tr>\n",
       "    <tr>\n",
       "      <th id=\"T_3f59e_level0_row4\" class=\"row_heading level0 row4\" >4</th>\n",
       "      <td id=\"T_3f59e_row4_col0\" class=\"data row4 col0\" >n_host_acceptance_rate</td>\n",
       "      <td id=\"T_3f59e_row4_col1\" class=\"data row4 col1\" >3.3%</td>\n",
       "      <td id=\"T_3f59e_row4_col2\" class=\"data row4 col2\" >29.1%</td>\n",
       "    </tr>\n",
       "    <tr>\n",
       "      <th id=\"T_3f59e_level0_row5\" class=\"row_heading level0 row5\" >5</th>\n",
       "      <td id=\"T_3f59e_row5_col0\" class=\"data row5 col0\" >f_property_type</td>\n",
       "      <td id=\"T_3f59e_row5_col1\" class=\"data row5 col1\" >3.2%</td>\n",
       "      <td id=\"T_3f59e_row5_col2\" class=\"data row5 col2\" >32.3%</td>\n",
       "    </tr>\n",
       "    <tr>\n",
       "      <th id=\"T_3f59e_level0_row6\" class=\"row_heading level0 row6\" >6</th>\n",
       "      <td id=\"T_3f59e_row6_col0\" class=\"data row6 col0\" >n_availability_365</td>\n",
       "      <td id=\"T_3f59e_row6_col1\" class=\"data row6 col1\" >2.8%</td>\n",
       "      <td id=\"T_3f59e_row6_col2\" class=\"data row6 col2\" >35.0%</td>\n",
       "    </tr>\n",
       "    <tr>\n",
       "      <th id=\"T_3f59e_level0_row7\" class=\"row_heading level0 row7\" >7</th>\n",
       "      <td id=\"T_3f59e_row7_col0\" class=\"data row7 col0\" >d_host_is_superhost</td>\n",
       "      <td id=\"T_3f59e_row7_col1\" class=\"data row7 col1\" >2.2%</td>\n",
       "      <td id=\"T_3f59e_row7_col2\" class=\"data row7 col2\" >37.3%</td>\n",
       "    </tr>\n",
       "    <tr>\n",
       "      <th id=\"T_3f59e_level0_row8\" class=\"row_heading level0 row8\" >8</th>\n",
       "      <td id=\"T_3f59e_row8_col0\" class=\"data row8 col0\" >n_review_scores_rating</td>\n",
       "      <td id=\"T_3f59e_row8_col1\" class=\"data row8 col1\" >2.2%</td>\n",
       "      <td id=\"T_3f59e_row8_col2\" class=\"data row8 col2\" >39.5%</td>\n",
       "    </tr>\n",
       "    <tr>\n",
       "      <th id=\"T_3f59e_level0_row9\" class=\"row_heading level0 row9\" >9</th>\n",
       "      <td id=\"T_3f59e_row9_col0\" class=\"data row9 col0\" >n_beds</td>\n",
       "      <td id=\"T_3f59e_row9_col1\" class=\"data row9 col1\" >2.2%</td>\n",
       "      <td id=\"T_3f59e_row9_col2\" class=\"data row9 col2\" >41.6%</td>\n",
       "    </tr>\n",
       "    <tr>\n",
       "      <th id=\"T_3f59e_level0_row10\" class=\"row_heading level0 row10\" >10</th>\n",
       "      <td id=\"T_3f59e_row10_col0\" class=\"data row10 col0\" >n_host_response_rate</td>\n",
       "      <td id=\"T_3f59e_row10_col1\" class=\"data row10 col1\" >1.0%</td>\n",
       "      <td id=\"T_3f59e_row10_col2\" class=\"data row10 col2\" >42.6%</td>\n",
       "    </tr>\n",
       "    <tr>\n",
       "      <th id=\"T_3f59e_level0_row11\" class=\"row_heading level0 row11\" >11</th>\n",
       "      <td id=\"T_3f59e_row11_col0\" class=\"data row11 col0\" >n_number_of_reviews</td>\n",
       "      <td id=\"T_3f59e_row11_col1\" class=\"data row11 col1\" >0.7%</td>\n",
       "      <td id=\"T_3f59e_row11_col2\" class=\"data row11 col2\" >43.3%</td>\n",
       "    </tr>\n",
       "    <tr>\n",
       "      <th id=\"T_3f59e_level0_row12\" class=\"row_heading level0 row12\" >12</th>\n",
       "      <td id=\"T_3f59e_row12_col0\" class=\"data row12 col0\" >f_host_response_time</td>\n",
       "      <td id=\"T_3f59e_row12_col1\" class=\"data row12 col1\" >0.5%</td>\n",
       "      <td id=\"T_3f59e_row12_col2\" class=\"data row12 col2\" >43.8%</td>\n",
       "    </tr>\n",
       "  </tbody>\n",
       "</table>\n"
      ],
      "text/plain": [
       "<pandas.io.formats.style.Styler at 0x1b2ff06a950>"
      ]
     },
     "execution_count": 83,
     "metadata": {},
     "output_type": "execute_result"
    }
   ],
   "source": [
    "df_grouped_var_imp.style.format({\n",
    "    'imp': lambda x: f'{x:,.1%}',\n",
    "    'cumulative_imp': lambda x: f'{x:,.1%}'})"
   ]
  },
  {
   "cell_type": "code",
   "execution_count": 84,
   "metadata": {},
   "outputs": [
    {
     "data": {
      "image/png": "[encoded data removed]",
      "text/plain": [
       "<Figure size 1000x600 with 1 Axes>"
      ]
     },
     "metadata": {},
     "output_type": "display_data"
    }
   ],
   "source": [
    "df_grouped_var_imp\\\n",
    "    .sort_values(by = 'imp')\\\n",
    "    .plot(kind = 'barh', \n",
    "          x = 'variable', y = 'imp', \n",
    "          figsize = (10,6), grid = True, \n",
    "          title = 'Random forest model grouped feature importances', \n",
    "          xlabel = 'variables', legend = False\n",
    "         );"
   ]
  },
  {
   "cell_type": "code",
   "execution_count": 85,
   "metadata": {
    "tags": []
   },
   "outputs": [
    {
     "data": {
      "text/html": [
       "<div>\n",
       "<style scoped>\n",
       "    .dataframe tbody tr th:only-of-type {\n",
       "        vertical-align: middle;\n",
       "    }\n",
       "\n",
       "    .dataframe tbody tr th {\n",
       "        vertical-align: top;\n",
       "    }\n",
       "\n",
       "    .dataframe thead th {\n",
       "        text-align: right;\n",
       "    }\n",
       "</style>\n",
       "<table border=\"1\" class=\"dataframe\">\n",
       "  <thead>\n",
       "    <tr style=\"text-align: right;\">\n",
       "      <th></th>\n",
       "      <th>variable</th>\n",
       "      <th>imp</th>\n",
       "      <th>cumulative_imp</th>\n",
       "    </tr>\n",
       "  </thead>\n",
       "  <tbody>\n",
       "    <tr>\n",
       "      <th>0</th>\n",
       "      <td>n_accommodates</td>\n",
       "      <td>0.108039</td>\n",
       "      <td>0.177100</td>\n",
       "    </tr>\n",
       "    <tr>\n",
       "      <th>1</th>\n",
       "      <td>f_room_type</td>\n",
       "      <td>0.081053</td>\n",
       "      <td>0.266097</td>\n",
       "    </tr>\n",
       "    <tr>\n",
       "      <th>2</th>\n",
       "      <td>f_neighbourhood_cleansed</td>\n",
       "      <td>0.072460</td>\n",
       "      <td>0.347316</td>\n",
       "    </tr>\n",
       "    <tr>\n",
       "      <th>3</th>\n",
       "      <td>n_bathrooms</td>\n",
       "      <td>0.070506</td>\n",
       "      <td>0.423713</td>\n",
       "    </tr>\n",
       "    <tr>\n",
       "      <th>4</th>\n",
       "      <td>n_minimum_nights</td>\n",
       "      <td>0.033756</td>\n",
       "      <td>0.496751</td>\n",
       "    </tr>\n",
       "    <tr>\n",
       "      <th>5</th>\n",
       "      <td>n_host_acceptance_rate</td>\n",
       "      <td>0.033363</td>\n",
       "      <td>0.561890</td>\n",
       "    </tr>\n",
       "    <tr>\n",
       "      <th>6</th>\n",
       "      <td>f_property_type</td>\n",
       "      <td>0.031530</td>\n",
       "      <td>0.622585</td>\n",
       "    </tr>\n",
       "    <tr>\n",
       "      <th>7</th>\n",
       "      <td>n_availability_365</td>\n",
       "      <td>0.027792</td>\n",
       "      <td>0.681231</td>\n",
       "    </tr>\n",
       "    <tr>\n",
       "      <th>8</th>\n",
       "      <td>d_host_is_superhost</td>\n",
       "      <td>0.022283</td>\n",
       "      <td>0.739833</td>\n",
       "    </tr>\n",
       "    <tr>\n",
       "      <th>9</th>\n",
       "      <td>n_review_scores_rating</td>\n",
       "      <td>0.021767</td>\n",
       "      <td>0.787857</td>\n",
       "    </tr>\n",
       "    <tr>\n",
       "      <th>10</th>\n",
       "      <td>n_beds</td>\n",
       "      <td>0.021519</td>\n",
       "      <td>0.817091</td>\n",
       "    </tr>\n",
       "    <tr>\n",
       "      <th>11</th>\n",
       "      <td>n_host_response_rate</td>\n",
       "      <td>0.009747</td>\n",
       "      <td>0.841954</td>\n",
       "    </tr>\n",
       "    <tr>\n",
       "      <th>12</th>\n",
       "      <td>n_number_of_reviews</td>\n",
       "      <td>0.007082</td>\n",
       "      <td>0.864027</td>\n",
       "    </tr>\n",
       "    <tr>\n",
       "      <th>13</th>\n",
       "      <td>f_host_response_time</td>\n",
       "      <td>0.005312</td>\n",
       "      <td>0.881268</td>\n",
       "    </tr>\n",
       "  </tbody>\n",
       "</table>\n",
       "</div>"
      ],
      "text/plain": [
       "                    variable       imp  cumulative_imp\n",
       "0             n_accommodates  0.108039        0.177100\n",
       "1                f_room_type  0.081053        0.266097\n",
       "2   f_neighbourhood_cleansed  0.072460        0.347316\n",
       "3                n_bathrooms  0.070506        0.423713\n",
       "4           n_minimum_nights  0.033756        0.496751\n",
       "5     n_host_acceptance_rate  0.033363        0.561890\n",
       "6            f_property_type  0.031530        0.622585\n",
       "7         n_availability_365  0.027792        0.681231\n",
       "8        d_host_is_superhost  0.022283        0.739833\n",
       "9     n_review_scores_rating  0.021767        0.787857\n",
       "10                    n_beds  0.021519        0.817091\n",
       "11      n_host_response_rate  0.009747        0.841954\n",
       "12       n_number_of_reviews  0.007082        0.864027\n",
       "13      f_host_response_time  0.005312        0.881268"
      ]
     },
     "execution_count": 85,
     "metadata": {},
     "output_type": "execute_result"
    }
   ],
   "source": [
    "df_clean_varimp = pd.DataFrame(\n",
    "        result.importances_mean,\n",
    "        data_train[predictors_2].columns)\\\n",
    "    .sort_values(by = 0, ascending = False)\\\n",
    "    .reset_index()\\\n",
    "    .rename({'index': 'variable', 0: 'imp'}, axis = 1)\n",
    "\n",
    "df_clean_varimp['cumulative_imp'] = df_var_imp['imp'].cumsum()\n",
    "df_clean_varimp[df_clean_varimp.cumulative_imp < 0.91]"
   ]
  },
  {
   "cell_type": "code",
   "execution_count": 86,
   "metadata": {
    "tags": []
   },
   "outputs": [
    {
     "data": {
      "image/png": "[encoded data removed]",
      "text/plain": [
       "<Figure size 1000x600 with 1 Axes>"
      ]
     },
     "metadata": {},
     "output_type": "display_data"
    }
   ],
   "source": [
    "df_clean_varimp.iloc[0:10]\\\n",
    "    .sort_values(by = 'imp')\\\n",
    "    .plot(kind = 'barh', \n",
    "          x = 'variable', y = 'imp', \n",
    "          figsize = (10,6), grid = True, \n",
    "          title = 'Random forest model top 10 feature importances with grouped variables', \n",
    "          xlabel = 'variables', legend = False\n",
    "         );"
   ]
  },
  {
   "cell_type": "markdown",
   "metadata": {},
   "source": [
    "Variable importances analysis show that, the most important factor (10.8%)for apartments in Istanbul is the number of `accomodates` that the apartment can host. `Room type` and `neighbourhood` are the 2nd and 3th important factors, respectively."
   ]
  },
  {
   "cell_type": "markdown",
   "metadata": {},
   "source": [
    "**Partial dependence plots** "
   ]
  },
  {
   "cell_type": "markdown",
   "metadata": {
    "tags": []
   },
   "source": [
    "Partial dependence plots show the dependence between the target function and a set of features of interest, marginalizing over the values of all other features (the complement features). While feature importance shows what variables most affect predictions, partial dependence plots show how a feature affects predictions."
   ]
  },
  {
   "cell_type": "code",
   "execution_count": 166,
   "metadata": {},
   "outputs": [],
   "source": [
    "# We check how number of accommodates (found to most important factor) affect prices\n",
    "accomodates_pdp = partial_dependence(\n",
    "    rf_pipeline, data_holdout[predictors_2], [\"n_accommodates\"], kind=\"average\"\n",
    ")"
   ]
  },
  {
   "cell_type": "code",
   "execution_count": 90,
   "metadata": {},
   "outputs": [
    {
     "data": {
      "text/html": [
       "<div>\n",
       "<style scoped>\n",
       "    .dataframe tbody tr th:only-of-type {\n",
       "        vertical-align: middle;\n",
       "    }\n",
       "\n",
       "    .dataframe tbody tr th {\n",
       "        vertical-align: top;\n",
       "    }\n",
       "\n",
       "    .dataframe thead th {\n",
       "        text-align: right;\n",
       "    }\n",
       "</style>\n",
       "<table border=\"1\" class=\"dataframe\">\n",
       "  <thead>\n",
       "    <tr style=\"text-align: right;\">\n",
       "      <th></th>\n",
       "      <th>number of accomodates</th>\n",
       "      <th>average price</th>\n",
       "    </tr>\n",
       "  </thead>\n",
       "  <tbody>\n",
       "    <tr>\n",
       "      <th>0</th>\n",
       "      <td>2</td>\n",
       "      <td>1847.720944</td>\n",
       "    </tr>\n",
       "    <tr>\n",
       "      <th>1</th>\n",
       "      <td>3</td>\n",
       "      <td>1945.110714</td>\n",
       "    </tr>\n",
       "    <tr>\n",
       "      <th>2</th>\n",
       "      <td>4</td>\n",
       "      <td>2193.856781</td>\n",
       "    </tr>\n",
       "    <tr>\n",
       "      <th>3</th>\n",
       "      <td>5</td>\n",
       "      <td>2446.939891</td>\n",
       "    </tr>\n",
       "    <tr>\n",
       "      <th>4</th>\n",
       "      <td>6</td>\n",
       "      <td>2584.463840</td>\n",
       "    </tr>\n",
       "  </tbody>\n",
       "</table>\n",
       "</div>"
      ],
      "text/plain": [
       "   number of accomodates  average price\n",
       "0                      2    1847.720944\n",
       "1                      3    1945.110714\n",
       "2                      4    2193.856781\n",
       "3                      5    2446.939891\n",
       "4                      6    2584.463840"
      ]
     },
     "execution_count": 90,
     "metadata": {},
     "output_type": "execute_result"
    }
   ],
   "source": [
    "pd.DataFrame(\n",
    "    {'number of accomodates': accomodates_pdp['values'][0], \n",
    "     'average price': accomodates_pdp['average'][0]}\n",
    "    )"
   ]
  },
  {
   "cell_type": "code",
   "execution_count": 92,
   "metadata": {},
   "outputs": [
    {
     "data": {
      "image/png": "[encoded data removed]",
      "text/plain": [
       "<Figure size 640x480 with 2 Axes>"
      ]
     },
     "metadata": {},
     "output_type": "display_data"
    }
   ],
   "source": [
    "display = PartialDependenceDisplay(\n",
    "    pd_results = [accomodates_pdp],\n",
    "    features = [(0,)], \n",
    "    feature_names = data_holdout[predictors_2].columns.tolist(), \n",
    "    target_idx = 0,\n",
    "    deciles = {0: np.linspace(1, 7, num=7)}\n",
    ")\n",
    "display.plot()\n",
    "plt.title('Partial dependence plot for n_accomodates')\n",
    "plt.show();"
   ]
  },
  {
   "cell_type": "markdown",
   "metadata": {},
   "source": [
    "There is a clear effect in the expected direction of number of acoomodates on prices."
   ]
  },
  {
   "cell_type": "code",
   "execution_count": 93,
   "metadata": {},
   "outputs": [],
   "source": [
    "roomtype_pdp = partial_dependence(\n",
    "    rf_pipeline, data_holdout[predictors_2], [\"f_room_type\"], kind=\"average\"\n",
    ")"
   ]
  },
  {
   "cell_type": "code",
   "execution_count": 94,
   "metadata": {
    "tags": []
   },
   "outputs": [
    {
     "data": {
      "image/png": "[encoded data removed]",
      "text/plain": [
       "<Figure size 1000x600 with 1 Axes>"
      ]
     },
     "metadata": {},
     "output_type": "display_data"
    }
   ],
   "source": [
    "pd.DataFrame(\n",
    "    {'room type': roomtype_pdp['values'][0], \n",
    "     'average price': roomtype_pdp['average'][0]}\n",
    "    ).sort_values(by = 'average price').plot(\n",
    "    kind = 'line', color = 'k', marker = 'o', markersize = 10, linewidth = 0,\n",
    "    figsize = (10,6), legend = False, grid = True,\n",
    "    x = 'room type', y = 'average price', ylim = (0, 3000), \n",
    "    title = 'Partial dependence plot: room type'\n",
    ");"
   ]
  },
  {
   "cell_type": "markdown",
   "metadata": {},
   "source": [
    "Room type which is categorical variable found to be second most important factor that affect the prices. Private rooms seem cheaper than an entire home, which is expected."
   ]
  },
  {
   "cell_type": "markdown",
   "metadata": {},
   "source": [
    "**SHAP Importance**"
   ]
  },
  {
   "cell_type": "markdown",
   "metadata": {},
   "source": [
    "Permutation importance and SHAP importance are alternative ways of measuring feature importance. The main difference is that permutation importance is based on the decrease in model performance, while SHAP importance is based on magnitude of feature attributions."
   ]
  },
  {
   "cell_type": "code",
   "execution_count": 177,
   "metadata": {},
   "outputs": [
    {
     "ename": "TypeError",
     "evalue": "Cannot cast array data from dtype('O') to dtype('float64') according to the rule 'safe'",
     "output_type": "error",
     "traceback": [
      "\u001b[1;31m---------------------------------------------------------------------------\u001b[0m",
      "\u001b[1;31mTypeError\u001b[0m                                 Traceback (most recent call last)",
      "Cell \u001b[1;32mIn[177], line 25\u001b[0m\n\u001b[0;32m     19\u001b[0m data_train_shap \u001b[38;5;241m=\u001b[39m pd\u001b[38;5;241m.\u001b[39mget_dummies(data_train, columns\u001b[38;5;241m=\u001b[39m[\u001b[38;5;124m\"\u001b[39m\u001b[38;5;124mf_property_type\u001b[39m\u001b[38;5;124m\"\u001b[39m,\n\u001b[0;32m     20\u001b[0m                                                  \u001b[38;5;124m\"\u001b[39m\u001b[38;5;124mf_room_type\u001b[39m\u001b[38;5;124m\"\u001b[39m,\n\u001b[0;32m     21\u001b[0m                                                  \u001b[38;5;124m\"\u001b[39m\u001b[38;5;124mf_neighbourhood_cleansed\u001b[39m\u001b[38;5;124m\"\u001b[39m,\n\u001b[0;32m     22\u001b[0m                                                  \u001b[38;5;124m\"\u001b[39m\u001b[38;5;124mf_host_response_time\u001b[39m\u001b[38;5;124m\"\u001b[39m,])\n\u001b[0;32m     24\u001b[0m \u001b[38;5;66;03m# Initialize explainer with our model and dataset\u001b[39;00m\n\u001b[1;32m---> 25\u001b[0m explainer \u001b[38;5;241m=\u001b[39m shap\u001b[38;5;241m.\u001b[39mExplainer(rf_model2\u001b[38;5;241m.\u001b[39mbest_estimator_, data_train_shap)\n\u001b[0;32m     27\u001b[0m \u001b[38;5;66;03m# Calculate Shapley values\u001b[39;00m\n\u001b[0;32m     28\u001b[0m shap_values \u001b[38;5;241m=\u001b[39m explainer(data_holdout)\n",
      "File \u001b[1;32m~\\anaconda3\\Lib\\site-packages\\shap\\explainers\\_explainer.py:188\u001b[0m, in \u001b[0;36mExplainer.__init__\u001b[1;34m(self, model, masker, link, algorithm, output_names, feature_names, linearize_link, seed, **kwargs)\u001b[0m\n\u001b[0;32m    186\u001b[0m \u001b[38;5;28;01melif\u001b[39;00m algorithm \u001b[38;5;241m==\u001b[39m \u001b[38;5;124m\"\u001b[39m\u001b[38;5;124mtree\u001b[39m\u001b[38;5;124m\"\u001b[39m:\n\u001b[0;32m    187\u001b[0m     \u001b[38;5;28mself\u001b[39m\u001b[38;5;241m.\u001b[39m\u001b[38;5;18m__class__\u001b[39m \u001b[38;5;241m=\u001b[39m explainers\u001b[38;5;241m.\u001b[39mTreeExplainer\n\u001b[1;32m--> 188\u001b[0m     explainers\u001b[38;5;241m.\u001b[39mTreeExplainer\u001b[38;5;241m.\u001b[39m\u001b[38;5;21m__init__\u001b[39m(\u001b[38;5;28mself\u001b[39m, \u001b[38;5;28mself\u001b[39m\u001b[38;5;241m.\u001b[39mmodel, \u001b[38;5;28mself\u001b[39m\u001b[38;5;241m.\u001b[39mmasker, link\u001b[38;5;241m=\u001b[39m\u001b[38;5;28mself\u001b[39m\u001b[38;5;241m.\u001b[39mlink, feature_names\u001b[38;5;241m=\u001b[39m\u001b[38;5;28mself\u001b[39m\u001b[38;5;241m.\u001b[39mfeature_names, linearize_link\u001b[38;5;241m=\u001b[39mlinearize_link, \u001b[38;5;241m*\u001b[39m\u001b[38;5;241m*\u001b[39mkwargs)\n\u001b[0;32m    189\u001b[0m \u001b[38;5;28;01melif\u001b[39;00m algorithm \u001b[38;5;241m==\u001b[39m \u001b[38;5;124m\"\u001b[39m\u001b[38;5;124madditive\u001b[39m\u001b[38;5;124m\"\u001b[39m:\n\u001b[0;32m    190\u001b[0m     \u001b[38;5;28mself\u001b[39m\u001b[38;5;241m.\u001b[39m\u001b[38;5;18m__class__\u001b[39m \u001b[38;5;241m=\u001b[39m explainers\u001b[38;5;241m.\u001b[39mAdditiveExplainer\n",
      "File \u001b[1;32m~\\anaconda3\\Lib\\site-packages\\shap\\explainers\\_tree.py:175\u001b[0m, in \u001b[0;36mTreeExplainer.__init__\u001b[1;34m(self, model, data, model_output, feature_perturbation, feature_names, approximate, **deprecated_options)\u001b[0m\n\u001b[0;32m    173\u001b[0m \u001b[38;5;28mself\u001b[39m\u001b[38;5;241m.\u001b[39mfeature_perturbation \u001b[38;5;241m=\u001b[39m feature_perturbation\n\u001b[0;32m    174\u001b[0m \u001b[38;5;28mself\u001b[39m\u001b[38;5;241m.\u001b[39mexpected_value \u001b[38;5;241m=\u001b[39m \u001b[38;5;28;01mNone\u001b[39;00m\n\u001b[1;32m--> 175\u001b[0m \u001b[38;5;28mself\u001b[39m\u001b[38;5;241m.\u001b[39mmodel \u001b[38;5;241m=\u001b[39m TreeEnsemble(model, \u001b[38;5;28mself\u001b[39m\u001b[38;5;241m.\u001b[39mdata, \u001b[38;5;28mself\u001b[39m\u001b[38;5;241m.\u001b[39mdata_missing, model_output)\n\u001b[0;32m    176\u001b[0m \u001b[38;5;28mself\u001b[39m\u001b[38;5;241m.\u001b[39mmodel_output \u001b[38;5;241m=\u001b[39m model_output\n\u001b[0;32m    177\u001b[0m \u001b[38;5;66;03m#self.model_output = self.model.model_output # this allows the TreeEnsemble to translate model outputs types by how it loads the model\u001b[39;00m\n",
      "File \u001b[1;32m~\\anaconda3\\Lib\\site-packages\\shap\\explainers\\_tree.py:735\u001b[0m, in \u001b[0;36mTreeEnsemble.__init__\u001b[1;34m(self, model, data, data_missing, model_output)\u001b[0m\n\u001b[0;32m    733\u001b[0m \u001b[38;5;28mself\u001b[39m\u001b[38;5;241m.\u001b[39minput_dtype \u001b[38;5;241m=\u001b[39m np\u001b[38;5;241m.\u001b[39mfloat32\n\u001b[0;32m    734\u001b[0m scaling \u001b[38;5;241m=\u001b[39m \u001b[38;5;241m1.0\u001b[39m \u001b[38;5;241m/\u001b[39m \u001b[38;5;28mlen\u001b[39m(model\u001b[38;5;241m.\u001b[39mestimators_) \u001b[38;5;66;03m# output is average of trees\u001b[39;00m\n\u001b[1;32m--> 735\u001b[0m \u001b[38;5;28mself\u001b[39m\u001b[38;5;241m.\u001b[39mtrees \u001b[38;5;241m=\u001b[39m [SingleTree(e\u001b[38;5;241m.\u001b[39mtree_, scaling\u001b[38;5;241m=\u001b[39mscaling, data\u001b[38;5;241m=\u001b[39mdata, data_missing\u001b[38;5;241m=\u001b[39mdata_missing) \u001b[38;5;28;01mfor\u001b[39;00m e \u001b[38;5;129;01min\u001b[39;00m model\u001b[38;5;241m.\u001b[39mestimators_]\n\u001b[0;32m    736\u001b[0m \u001b[38;5;28mself\u001b[39m\u001b[38;5;241m.\u001b[39mobjective \u001b[38;5;241m=\u001b[39m objective_name_map\u001b[38;5;241m.\u001b[39mget(model\u001b[38;5;241m.\u001b[39mcriterion, \u001b[38;5;28;01mNone\u001b[39;00m)\n\u001b[0;32m    737\u001b[0m \u001b[38;5;28mself\u001b[39m\u001b[38;5;241m.\u001b[39mtree_output \u001b[38;5;241m=\u001b[39m \u001b[38;5;124m\"\u001b[39m\u001b[38;5;124mraw_value\u001b[39m\u001b[38;5;124m\"\u001b[39m\n",
      "File \u001b[1;32m~\\anaconda3\\Lib\\site-packages\\shap\\explainers\\_tree.py:735\u001b[0m, in \u001b[0;36m<listcomp>\u001b[1;34m(.0)\u001b[0m\n\u001b[0;32m    733\u001b[0m \u001b[38;5;28mself\u001b[39m\u001b[38;5;241m.\u001b[39minput_dtype \u001b[38;5;241m=\u001b[39m np\u001b[38;5;241m.\u001b[39mfloat32\n\u001b[0;32m    734\u001b[0m scaling \u001b[38;5;241m=\u001b[39m \u001b[38;5;241m1.0\u001b[39m \u001b[38;5;241m/\u001b[39m \u001b[38;5;28mlen\u001b[39m(model\u001b[38;5;241m.\u001b[39mestimators_) \u001b[38;5;66;03m# output is average of trees\u001b[39;00m\n\u001b[1;32m--> 735\u001b[0m \u001b[38;5;28mself\u001b[39m\u001b[38;5;241m.\u001b[39mtrees \u001b[38;5;241m=\u001b[39m [SingleTree(e\u001b[38;5;241m.\u001b[39mtree_, scaling\u001b[38;5;241m=\u001b[39mscaling, data\u001b[38;5;241m=\u001b[39mdata, data_missing\u001b[38;5;241m=\u001b[39mdata_missing) \u001b[38;5;28;01mfor\u001b[39;00m e \u001b[38;5;129;01min\u001b[39;00m model\u001b[38;5;241m.\u001b[39mestimators_]\n\u001b[0;32m    736\u001b[0m \u001b[38;5;28mself\u001b[39m\u001b[38;5;241m.\u001b[39mobjective \u001b[38;5;241m=\u001b[39m objective_name_map\u001b[38;5;241m.\u001b[39mget(model\u001b[38;5;241m.\u001b[39mcriterion, \u001b[38;5;28;01mNone\u001b[39;00m)\n\u001b[0;32m    737\u001b[0m \u001b[38;5;28mself\u001b[39m\u001b[38;5;241m.\u001b[39mtree_output \u001b[38;5;241m=\u001b[39m \u001b[38;5;124m\"\u001b[39m\u001b[38;5;124mraw_value\u001b[39m\u001b[38;5;124m\"\u001b[39m\n",
      "File \u001b[1;32m~\\anaconda3\\Lib\\site-packages\\shap\\explainers\\_tree.py:1678\u001b[0m, in \u001b[0;36mSingleTree.__init__\u001b[1;34m(self, tree, normalize, scaling, data, data_missing)\u001b[0m\n\u001b[0;32m   1676\u001b[0m \u001b[38;5;28;01mif\u001b[39;00m data \u001b[38;5;129;01mis\u001b[39;00m \u001b[38;5;129;01mnot\u001b[39;00m \u001b[38;5;28;01mNone\u001b[39;00m \u001b[38;5;129;01mand\u001b[39;00m data_missing \u001b[38;5;129;01mis\u001b[39;00m \u001b[38;5;129;01mnot\u001b[39;00m \u001b[38;5;28;01mNone\u001b[39;00m:\n\u001b[0;32m   1677\u001b[0m     \u001b[38;5;28mself\u001b[39m\u001b[38;5;241m.\u001b[39mnode_sample_weight\u001b[38;5;241m.\u001b[39mfill(\u001b[38;5;241m0.0\u001b[39m)\n\u001b[1;32m-> 1678\u001b[0m     _cext\u001b[38;5;241m.\u001b[39mdense_tree_update_weights(\n\u001b[0;32m   1679\u001b[0m         \u001b[38;5;28mself\u001b[39m\u001b[38;5;241m.\u001b[39mchildren_left, \u001b[38;5;28mself\u001b[39m\u001b[38;5;241m.\u001b[39mchildren_right, \u001b[38;5;28mself\u001b[39m\u001b[38;5;241m.\u001b[39mchildren_default, \u001b[38;5;28mself\u001b[39m\u001b[38;5;241m.\u001b[39mfeatures,\n\u001b[0;32m   1680\u001b[0m         \u001b[38;5;28mself\u001b[39m\u001b[38;5;241m.\u001b[39mthresholds, \u001b[38;5;28mself\u001b[39m\u001b[38;5;241m.\u001b[39mvalues, \u001b[38;5;241m1\u001b[39m, \u001b[38;5;28mself\u001b[39m\u001b[38;5;241m.\u001b[39mnode_sample_weight, data, data_missing\n\u001b[0;32m   1681\u001b[0m     )\n\u001b[0;32m   1683\u001b[0m \u001b[38;5;66;03m# we compute the expectations to make sure they follow the SHAP logic\u001b[39;00m\n\u001b[0;32m   1684\u001b[0m \u001b[38;5;28mself\u001b[39m\u001b[38;5;241m.\u001b[39mmax_depth \u001b[38;5;241m=\u001b[39m _cext\u001b[38;5;241m.\u001b[39mcompute_expectations(\n\u001b[0;32m   1685\u001b[0m     \u001b[38;5;28mself\u001b[39m\u001b[38;5;241m.\u001b[39mchildren_left, \u001b[38;5;28mself\u001b[39m\u001b[38;5;241m.\u001b[39mchildren_right, \u001b[38;5;28mself\u001b[39m\u001b[38;5;241m.\u001b[39mnode_sample_weight,\n\u001b[0;32m   1686\u001b[0m     \u001b[38;5;28mself\u001b[39m\u001b[38;5;241m.\u001b[39mvalues\n\u001b[0;32m   1687\u001b[0m )\n",
      "\u001b[1;31mTypeError\u001b[0m: Cannot cast array data from dtype('O') to dtype('float64') according to the rule 'safe'"
     ]
    }
   ],
   "source": [
    "import shap\n",
    "\n",
    "object_columns = [\"n_beds\",\n",
    "    \"f_property_type\",\n",
    "    \"f_room_type\",\n",
    "    \"n_accommodates\",\n",
    "    \"n_bathrooms\",\n",
    "    \"f_neighbourhood_cleansed\",\n",
    "    \"n_availability_365\",\n",
    "    \"n_minimum_nights\",\n",
    "    \"f_host_response_time\",\n",
    "    \"n_host_response_rate\",\n",
    "    \"n_host_acceptance_rate\",\n",
    "    \"n_number_of_reviews\",\n",
    "    \"n_review_scores_rating\",\n",
    "    \"d_host_is_superhost\"]\n",
    "\n",
    "# Convert object columns to one-hot encoded features\n",
    "data_train_shap = pd.get_dummies(data_train, columns=[\"f_property_type\",\n",
    "                                                 \"f_room_type\",\n",
    "                                                 \"f_neighbourhood_cleansed\",\n",
    "                                                 \"f_host_response_time\",])\n",
    "\n",
    "# Initialize explainer with our model and dataset\n",
    "explainer = shap.Explainer(rf_model2.best_estimator_, data_train_shap)\n",
    "\n",
    "# Calculate Shapley values\n",
    "shap_values = explainer(data_holdout)"
   ]
  },
  {
   "cell_type": "code",
   "execution_count": null,
   "metadata": {},
   "outputs": [],
   "source": []
  },
  {
   "cell_type": "markdown",
   "metadata": {},
   "source": [
    "**Subsample performance: RMSE / mean(y)**\n",
    "\n",
    "Test/Holdout RMSE is calculated using test data and predicted values with this data. We will compare the both cross-validated RMSE values and test RMSE values among alternative ML models.\n"
   ]
  },
  {
   "cell_type": "code",
   "execution_count": 95,
   "metadata": {},
   "outputs": [],
   "source": [
    "data_holdout_w_prediction = data_holdout.assign(\n",
    "    predicted_price=rf_pipeline.predict(data_holdout[predictors_2])\n",
    ")"
   ]
  },
  {
   "cell_type": "code",
   "execution_count": 96,
   "metadata": {},
   "outputs": [],
   "source": [
    "data_holdout_w_prediction2 = data_holdout.assign(\n",
    "    predicted_price=rf_pipeline2.predict(data_holdout[predictors_2])\n",
    ")"
   ]
  },
  {
   "cell_type": "code",
   "execution_count": 170,
   "metadata": {},
   "outputs": [
    {
     "name": "stdout",
     "output_type": "stream",
     "text": [
      "RMSE on Holdout/Test Data for Random Forest With Level Prices: 1035.445347572873\n"
     ]
    }
   ],
   "source": [
    "# RMSE on holdout/test data\n",
    "\n",
    "rf_test_rmse_level_price = np.sqrt((sum((data_holdout_w_prediction['predicted_price']-\n",
    "                                         data_holdout_w_prediction['price'])**2))/len(data_holdout_w_prediction))\n",
    "print(\"RMSE on Holdout/Test Data for Random Forest With Level Prices:\", rf_test_rmse_level_price)"
   ]
  },
  {
   "cell_type": "code",
   "execution_count": 100,
   "metadata": {},
   "outputs": [
    {
     "name": "stdout",
     "output_type": "stream",
     "text": [
      "0.4378263561343563\n"
     ]
    }
   ],
   "source": [
    "# RMSE of ln_price on holdout/test data\n",
    "\n",
    "rf_test_rmse_log_price = np.sqrt((sum((data_holdout_w_prediction2['predicted_price']-\n",
    "                                      data_holdout_w_prediction2['ln_price'])**2))/len(data_holdout_w_prediction2))\n",
    "print(\"RMSE on Holdout/Test Data for Random Forest With Log Prices:\", rf_test_rmse_log_price)"
   ]
  },
  {
   "cell_type": "markdown",
   "metadata": {},
   "source": [
    "**Creating tables of heterogeneity by various grouping factors**\n",
    "\n",
    "In this part we can check how model performance changes for different categories of categorical variables. By creating a new grouping using a numeric variable, model performance can even be tested on these artificially produced groups."
   ]
  },
  {
   "cell_type": "markdown",
   "metadata": {},
   "source": [
    "- Apartment size: In our analysis for Istanbul, apartment sizes are between 2-6 people. If we assume apartments with 2-3 people are small apartments and  4-6 are large apartments, we can compare the model performance between these two grpups."
   ]
  },
  {
   "cell_type": "code",
   "execution_count": 101,
   "metadata": {},
   "outputs": [],
   "source": [
    "data_holdout_w_prediction['is_low_size'] = data_holdout_w_prediction.n_accommodates.map(lambda x: 'small apt' \n",
    "                                                                                        if x <= 3 else 'large apt')"
   ]
  },
  {
   "cell_type": "code",
   "execution_count": 167,
   "metadata": {},
   "outputs": [
    {
     "data": {
      "text/html": [
       "<div>\n",
       "<style scoped>\n",
       "    .dataframe tbody tr th:only-of-type {\n",
       "        vertical-align: middle;\n",
       "    }\n",
       "\n",
       "    .dataframe tbody tr th {\n",
       "        vertical-align: top;\n",
       "    }\n",
       "\n",
       "    .dataframe thead th {\n",
       "        text-align: right;\n",
       "    }\n",
       "</style>\n",
       "<table border=\"1\" class=\"dataframe\">\n",
       "  <thead>\n",
       "    <tr style=\"text-align: right;\">\n",
       "      <th></th>\n",
       "      <th>ln_price</th>\n",
       "      <th>predicted_price</th>\n",
       "      <th>is_low_size</th>\n",
       "    </tr>\n",
       "  </thead>\n",
       "  <tbody>\n",
       "    <tr>\n",
       "      <th>8298</th>\n",
       "      <td>7.954021</td>\n",
       "      <td>1902.889167</td>\n",
       "      <td>small apt</td>\n",
       "    </tr>\n",
       "    <tr>\n",
       "      <th>3199</th>\n",
       "      <td>7.942718</td>\n",
       "      <td>2847.650996</td>\n",
       "      <td>large apt</td>\n",
       "    </tr>\n",
       "    <tr>\n",
       "      <th>5270</th>\n",
       "      <td>7.800163</td>\n",
       "      <td>2558.428226</td>\n",
       "      <td>small apt</td>\n",
       "    </tr>\n",
       "    <tr>\n",
       "      <th>8728</th>\n",
       "      <td>6.978214</td>\n",
       "      <td>1609.682224</td>\n",
       "      <td>large apt</td>\n",
       "    </tr>\n",
       "    <tr>\n",
       "      <th>7217</th>\n",
       "      <td>7.962416</td>\n",
       "      <td>2243.762914</td>\n",
       "      <td>large apt</td>\n",
       "    </tr>\n",
       "  </tbody>\n",
       "</table>\n",
       "</div>"
      ],
      "text/plain": [
       "      ln_price  predicted_price is_low_size\n",
       "8298  7.954021      1902.889167   small apt\n",
       "3199  7.942718      2847.650996   large apt\n",
       "5270  7.800163      2558.428226   small apt\n",
       "8728  6.978214      1609.682224   large apt\n",
       "7217  7.962416      2243.762914   large apt"
      ]
     },
     "execution_count": 167,
     "metadata": {},
     "output_type": "execute_result"
    }
   ],
   "source": [
    "data_holdout_w_prediction.iloc[0:5, -3:]"
   ]
  },
  {
   "cell_type": "code",
   "execution_count": 103,
   "metadata": {
    "tags": []
   },
   "outputs": [
    {
     "data": {
      "text/plain": [
       "is_low_size\n",
       "large apt    1120.267587\n",
       "small apt     823.267380\n",
       "dtype: float64"
      ]
     },
     "execution_count": 103,
     "metadata": {},
     "output_type": "execute_result"
    }
   ],
   "source": [
    "data_holdout_w_prediction.groupby('is_low_size').apply(lambda x: mean_squared_error(x.predicted_price, x.price, squared=False))"
   ]
  },
  {
   "cell_type": "markdown",
   "metadata": {},
   "source": [
    "Putting it in a function with additional columns"
   ]
  },
  {
   "cell_type": "code",
   "execution_count": 104,
   "metadata": {},
   "outputs": [],
   "source": [
    "def calculate_rmse(groupby_obj):\n",
    "    return (\n",
    "        groupby_obj.apply(\n",
    "            lambda x: mean_squared_error(x.predicted_price, x.price, squared=False),\n",
    "        )\n",
    "        .to_frame(name=\"rmse\")\n",
    "        .assign(mean_price=groupby_obj.apply(lambda x: np.mean(x.price)).values)\n",
    "        .assign(rmse_norm=lambda x: x.rmse / x.mean_price).round(2)\n",
    "    )"
   ]
  },
  {
   "cell_type": "code",
   "execution_count": 105,
   "metadata": {
    "tags": []
   },
   "outputs": [],
   "source": [
    "# cheaper or more expensive flats \n",
    "grouped_object = data_holdout_w_prediction.assign(\n",
    "    is_low_size=lambda x: np.where(x.n_accommodates <= 3, \"small apt\", \"large apt\")\n",
    ").groupby(\"is_low_size\")\n",
    "accom_subset = calculate_rmse(grouped_object)"
   ]
  },
  {
   "cell_type": "code",
   "execution_count": 106,
   "metadata": {
    "tags": []
   },
   "outputs": [
    {
     "data": {
      "text/html": [
       "<div>\n",
       "<style scoped>\n",
       "    .dataframe tbody tr th:only-of-type {\n",
       "        vertical-align: middle;\n",
       "    }\n",
       "\n",
       "    .dataframe tbody tr th {\n",
       "        vertical-align: top;\n",
       "    }\n",
       "\n",
       "    .dataframe thead th {\n",
       "        text-align: right;\n",
       "    }\n",
       "</style>\n",
       "<table border=\"1\" class=\"dataframe\">\n",
       "  <thead>\n",
       "    <tr style=\"text-align: right;\">\n",
       "      <th></th>\n",
       "      <th>rmse</th>\n",
       "      <th>mean_price</th>\n",
       "      <th>rmse_norm</th>\n",
       "    </tr>\n",
       "    <tr>\n",
       "      <th>is_low_size</th>\n",
       "      <th></th>\n",
       "      <th></th>\n",
       "      <th></th>\n",
       "    </tr>\n",
       "  </thead>\n",
       "  <tbody>\n",
       "    <tr>\n",
       "      <th>large apt</th>\n",
       "      <td>1219.28</td>\n",
       "      <td>2574.59</td>\n",
       "      <td>0.47</td>\n",
       "    </tr>\n",
       "    <tr>\n",
       "      <th>small apt</th>\n",
       "      <td>852.57</td>\n",
       "      <td>1714.00</td>\n",
       "      <td>0.50</td>\n",
       "    </tr>\n",
       "  </tbody>\n",
       "</table>\n",
       "</div>"
      ],
      "text/plain": [
       "                rmse  mean_price  rmse_norm\n",
       "is_low_size                                \n",
       "large apt    1219.28     2574.59       0.47\n",
       "small apt     852.57     1714.00       0.50"
      ]
     },
     "execution_count": 106,
     "metadata": {},
     "output_type": "execute_result"
    }
   ],
   "source": [
    "accom_subset"
   ]
  },
  {
   "cell_type": "markdown",
   "metadata": {},
   "source": [
    "Although the mean prices is lower for small size apartments, we found a higher RMSE/mean(y) for this category."
   ]
  },
  {
   "cell_type": "markdown",
   "metadata": {},
   "source": [
    "The analysis can be extended to compare room types, property types and neighbourhoods. In order not to make the analysis too long, we will only compare model performance according to apartment sizes."
   ]
  },
  {
   "cell_type": "markdown",
   "metadata": {},
   "source": [
    "##### Model2: Ordinary Least Squares Regression (OLS)"
   ]
  },
  {
   "cell_type": "markdown",
   "metadata": {},
   "source": [
    "In case of OLS and LASSO, it is better to use log-transformed price data since OLS is sensitive to non-normal data unlike Random Forest. Then we can compare RMSE values for all three models where target variable is `ln(price)`. We run every model (Random Forest, OLS, LASSO and GBM) both in level and log prices."
   ]
  },
  {
   "cell_type": "code",
   "execution_count": 114,
   "metadata": {},
   "outputs": [],
   "source": [
    "from sklearn.linear_model import LinearRegression"
   ]
  },
  {
   "cell_type": "code",
   "execution_count": 115,
   "metadata": {
    "tags": []
   },
   "outputs": [],
   "source": [
    "y, X = dmatrices(\"price ~ \" + \" + \".join(predictors_2), data_train)\n",
    "y2, X22 = dmatrices(\"ln_price ~ \" + \" + \".join(predictors_2), data_train)\n",
    "\n",
    "ols_model = LinearRegression().fit(X,y)\n",
    "ols_model2 = LinearRegression().fit(X22,y2)\n",
    "\n",
    "y_hat = ols_model.predict(X)\n",
    "y_hat2 = ols_model2.predict(X22)"
   ]
  },
  {
   "cell_type": "code",
   "execution_count": 116,
   "metadata": {},
   "outputs": [
    {
     "name": "stdout",
     "output_type": "stream",
     "text": [
      "RMSE: 1098.569541565023\n",
      "RMSE of log model: 0.4562726867867421\n",
      "R-squared: 0.3054101373542193\n",
      "R-squared of log model: 0.4263173550933068\n"
     ]
    }
   ],
   "source": [
    "# 1. Evaluate Model Performance\n",
    "ols_rmse = mean_squared_error(y,y_hat,squared=False)\n",
    "print(\"RMSE:\", ols_rmse)\n",
    "\n",
    "ols_rmse_log = mean_squared_error(y2,y_hat2,squared=False)\n",
    "print(\"RMSE of log model:\", ols_rmse_log)\n",
    "\n",
    "from sklearn.metrics import r2_score\n",
    "r2 = r2_score(y, y_hat)\n",
    "print(\"R-squared:\", r2)\n",
    "\n",
    "r2_ln = r2_score(y2, y_hat2)\n",
    "print(\"R-squared of log model:\", r2_ln)"
   ]
  },
  {
   "cell_type": "code",
   "execution_count": 117,
   "metadata": {},
   "outputs": [
    {
     "name": "stdout",
     "output_type": "stream",
     "text": [
      "                            OLS Regression Results                            \n",
      "==============================================================================\n",
      "Dep. Variable:                  price   R-squared:                       0.305\n",
      "Model:                            OLS   Adj. R-squared:                  0.299\n",
      "Method:                 Least Squares   F-statistic:                     49.05\n",
      "Date:                Fri, 09 Feb 2024   Prob (F-statistic):               0.00\n",
      "Time:                        23:13:15   Log-Likelihood:                -69201.\n",
      "No. Observations:                8218   AIC:                         1.386e+05\n",
      "Df Residuals:                    8144   BIC:                         1.391e+05\n",
      "Df Model:                          73                                         \n",
      "Covariance Type:            nonrobust                                         \n",
      "=========================================================================================================================\n",
      "                                                            coef    std err          t      P>|t|      [0.025      0.975]\n",
      "-------------------------------------------------------------------------------------------------------------------------\n",
      "Intercept                                              1245.8829    448.878      2.776      0.006     365.967    2125.799\n",
      "f_property_type[T.Entire condo]                       -1648.2983    407.226     -4.048      0.000   -2446.565    -850.031\n",
      "f_property_type[T.Entire guest suite]                  -954.9926    494.701     -1.930      0.054   -1924.733      14.748\n",
      "f_property_type[T.Entire guesthouse]                  -2226.3466    486.515     -4.576      0.000   -3180.040   -1272.653\n",
      "f_property_type[T.Entire home]                        -1569.8046    407.293     -3.854      0.000   -2368.203    -771.407\n",
      "f_property_type[T.Entire loft]                        -1256.8914    419.944     -2.993      0.003   -2080.088    -433.694\n",
      "f_property_type[T.Entire place]                       -1155.8221    683.175     -1.692      0.091   -2495.020     183.376\n",
      "f_property_type[T.Entire rental unit]                 -1722.9874    405.084     -4.253      0.000   -2517.056    -928.919\n",
      "f_property_type[T.Entire serviced apartment]          -1513.1958    407.450     -3.714      0.000   -2311.901    -714.490\n",
      "f_property_type[T.Entire townhouse]                   -2092.9185    486.439     -4.303      0.000   -3046.462   -1139.375\n",
      "f_property_type[T.Entire vacation home]               -1658.2842    454.172     -3.651      0.000   -2548.578    -767.990\n",
      "f_property_type[T.Entire villa]                        -943.4155    486.733     -1.938      0.053   -1897.536      10.705\n",
      "f_property_type[T.Private room in bed and breakfast]    876.4005    137.234      6.386      0.000     607.386    1145.414\n",
      "f_property_type[T.Private room in condo]               -346.6257    147.628     -2.348      0.019    -636.015     -57.236\n",
      "f_property_type[T.Private room in guesthouse]          -378.2723    378.790     -0.999      0.318   -1120.798     364.253\n",
      "f_property_type[T.Private room in home]                -666.2618    141.557     -4.707      0.000    -943.751    -388.773\n",
      "f_property_type[T.Private room in loft]                 -89.6164    236.470     -0.379      0.705    -553.158     373.925\n",
      "f_property_type[T.Private room in rental unit]         -481.7877     97.453     -4.944      0.000    -672.821    -290.755\n",
      "f_property_type[T.Private room in serviced apartment]  -143.4788    183.699     -0.781      0.435    -503.576     216.619\n",
      "f_property_type[T.Private room in townhouse]           -859.7259    356.497     -2.412      0.016   -1558.551    -160.901\n",
      "f_property_type[T.Shared room in rental unit]         -1347.4829    281.647     -4.784      0.000   -1899.583    -795.383\n",
      "f_property_type[T.Tiny home]                           -471.1295    471.890     -0.998      0.318   -1396.155     453.896\n",
      "f_property_type[T.Tower]                               -384.1704    639.386     -0.601      0.548   -1637.530     869.189\n",
      "f_room_type[T.Private room]                           -2089.3680    367.233     -5.689      0.000   -2809.238   -1369.498\n",
      "f_room_type[T.Shared room]                            -1347.4829    281.647     -4.784      0.000   -1899.583    -795.383\n",
      "f_neighbourhood_cleansed[T.Arnavutkoy]                -1229.1279    252.427     -4.869      0.000   -1723.948    -734.307\n",
      "f_neighbourhood_cleansed[T.Atasehir]                   -430.3514    159.968     -2.690      0.007    -743.929    -116.774\n",
      "f_neighbourhood_cleansed[T.Avcilar]                   -1155.0708    185.751     -6.218      0.000   -1519.189    -790.952\n",
      "f_neighbourhood_cleansed[T.Bagcilar]                   -894.5384    153.096     -5.843      0.000   -1194.646    -594.431\n",
      "f_neighbourhood_cleansed[T.Bahcelievler]               -871.7283    168.853     -5.163      0.000   -1202.723    -540.733\n",
      "f_neighbourhood_cleansed[T.Bakirkoy]                   -351.5323    185.985     -1.890      0.059    -716.111      13.046\n",
      "f_neighbourhood_cleansed[T.Basaksehir]                 -818.7474    193.167     -4.239      0.000   -1197.404    -440.090\n",
      "f_neighbourhood_cleansed[T.Bayrampasa]                 -650.9953    333.184     -1.954      0.051   -1304.121       2.131\n",
      "f_neighbourhood_cleansed[T.Besiktas]                    130.0157    138.267      0.940      0.347    -141.022     401.054\n",
      "f_neighbourhood_cleansed[T.Beykoz]                     -651.4910    260.132     -2.504      0.012   -1161.417    -141.566\n",
      "f_neighbourhood_cleansed[T.Beylikduzu]                 -947.3501    197.092     -4.807      0.000   -1333.701    -560.999\n",
      "f_neighbourhood_cleansed[T.Beyoglu]                    -113.4873    132.178     -0.859      0.391    -372.590     145.616\n",
      "f_neighbourhood_cleansed[T.Buyukcekmece]               -674.3024    228.915     -2.946      0.003   -1123.035    -225.570\n",
      "f_neighbourhood_cleansed[T.Catalca]                   -1286.3425    657.165     -1.957      0.050   -2574.553       1.868\n",
      "f_neighbourhood_cleansed[T.Cekmekoy]                  -1413.0754    411.930     -3.430      0.001   -2220.564    -605.587\n",
      "f_neighbourhood_cleansed[T.Esenler]                   -1156.0289    469.572     -2.462      0.014   -2076.510    -235.548\n",
      "f_neighbourhood_cleansed[T.Esenyurt]                  -1156.5314    147.722     -7.829      0.000   -1446.104    -866.959\n",
      "f_neighbourhood_cleansed[T.Eyup]                       -840.6132    192.207     -4.373      0.000   -1217.389    -463.838\n",
      "f_neighbourhood_cleansed[T.Fatih]                      -285.2976    135.379     -2.107      0.035    -550.676     -19.919\n",
      "f_neighbourhood_cleansed[T.Gaziosmanpasa]             -1013.5809    269.884     -3.756      0.000   -1542.622    -484.539\n",
      "f_neighbourhood_cleansed[T.Gungoren]                  -1138.5421    305.482     -3.727      0.000   -1737.364    -539.720\n",
      "f_neighbourhood_cleansed[T.Kadikoy]                    -475.3337    135.264     -3.514      0.000    -740.486    -210.182\n",
      "f_neighbourhood_cleansed[T.Kagithane]                  -526.6896    150.620     -3.497      0.000    -821.943    -231.437\n",
      "f_neighbourhood_cleansed[T.Kartal]                     -522.0549    199.172     -2.621      0.009    -912.482    -131.628\n",
      "f_neighbourhood_cleansed[T.Kucukcekmece]               -618.0006    194.538     -3.177      0.001    -999.345    -236.656\n",
      "f_neighbourhood_cleansed[T.Maltepe]                    -835.1456    164.748     -5.069      0.000   -1158.093    -512.198\n",
      "f_neighbourhood_cleansed[T.Pendik]                     -515.5224    178.785     -2.883      0.004    -865.987    -165.058\n",
      "f_neighbourhood_cleansed[T.Sancaktepe]                -1753.1933    651.244     -2.692      0.007   -3029.797    -476.589\n",
      "f_neighbourhood_cleansed[T.Sariyer]                     652.6558    195.912      3.331      0.001     268.619    1036.693\n",
      "f_neighbourhood_cleansed[T.Sile]                       -146.7293    211.941     -0.692      0.489    -562.187     268.729\n",
      "f_neighbourhood_cleansed[T.Silivri]                    -330.4350    360.354     -0.917      0.359   -1036.821     375.951\n",
      "f_neighbourhood_cleansed[T.Sisli]                      -223.5678    134.323     -1.664      0.096    -486.876      39.740\n",
      "f_neighbourhood_cleansed[T.Sultanbeyli]               -1020.4241   1111.520     -0.918      0.359   -3199.287    1158.439\n",
      "f_neighbourhood_cleansed[T.Sultangazi]                -1375.0340    469.119     -2.931      0.003   -2294.626    -455.442\n",
      "f_neighbourhood_cleansed[T.Tuzla]                     -1211.6302    292.798     -4.138      0.000   -1785.589    -637.671\n",
      "f_neighbourhood_cleansed[T.Umraniye]                   -666.2592    200.208     -3.328      0.001   -1058.718    -273.800\n",
      "f_neighbourhood_cleansed[T.Uskudar]                    -455.5879    148.621     -3.065      0.002    -746.924    -164.252\n",
      "f_neighbourhood_cleansed[T.Zeytinburnu]                -157.5838    201.108     -0.784      0.433    -551.807     236.639\n",
      "f_host_response_time[T.within a day]                    -18.9852    133.605     -0.142      0.887    -280.886     242.915\n",
      "f_host_response_time[T.within a few hours]             -156.2777    148.209     -1.054      0.292    -446.805     134.249\n",
      "f_host_response_time[T.within an hour]                  -87.2599    151.760     -0.575      0.565    -384.749     210.229\n",
      "n_accommodates                                          279.2854     13.517     20.662      0.000     252.788     305.782\n",
      "n_beds                                                   23.7372     15.029      1.579      0.114      -5.723      53.198\n",
      "n_bathrooms                                             711.4624     39.488     18.017      0.000     634.055     788.869\n",
      "n_availability_365                                        0.6012      0.095      6.333      0.000       0.415       0.787\n",
      "n_minimum_nights                                         -2.7141      0.568     -4.777      0.000      -3.828      -1.600\n",
      "n_host_response_rate                                      2.4151      1.689      1.430      0.153      -0.895       5.726\n",
      "n_host_acceptance_rate                                    3.8899      0.771      5.044      0.000       2.378       5.402\n",
      "n_number_of_reviews                                      -0.4272      0.280     -1.526      0.127      -0.976       0.122\n",
      "n_review_scores_rating                                  102.3814     24.951      4.103      0.000      53.471     151.292\n",
      "d_host_is_superhost                                     190.0307     27.256      6.972      0.000     136.602     243.460\n",
      "==============================================================================\n",
      "Omnibus:                     2933.196   Durbin-Watson:                   2.059\n",
      "Prob(Omnibus):                  0.000   Jarque-Bera (JB):            12755.555\n",
      "Skew:                           1.709   Prob(JB):                         0.00\n",
      "Kurtosis:                       8.057   Cond. No.                     1.09e+16\n",
      "==============================================================================\n",
      "\n",
      "Notes:\n",
      "[1] Standard Errors assume that the covariance matrix of the errors is correctly specified.\n",
      "[2] The smallest eigenvalue is 5.78e-24. This might indicate that there are\n",
      "strong multicollinearity problems or that the design matrix is singular.\n"
     ]
    }
   ],
   "source": [
    "# 2. Check for Assumptions\n",
    "# Use statsmodels' OLS to perform diagnostic tests\n",
    "import statsmodels.api as sm\n",
    "\n",
    "ols_model_stats = sm.OLS(y, X).fit()\n",
    "print(ols_model_stats.summary())"
   ]
  },
  {
   "cell_type": "code",
   "execution_count": 118,
   "metadata": {},
   "outputs": [
    {
     "name": "stdout",
     "output_type": "stream",
     "text": [
      "Cross-Validation RMSE Scores: [1089.71457531 1156.44602178 1105.45116672 1107.19877846 1100.83480385]\n",
      "Average Cross-Validation RMSE Score (level prices): 1111.9290692230672\n",
      "Cross-Validation RMSE Scores For Log-Transformed Prices: [0.45509809 0.47102775 0.45754209 0.46397842 0.4638589 ]\n",
      "Average Cross-Validation RMSE Score (log prices): 0.4623010511027399\n"
     ]
    }
   ],
   "source": [
    "# 3. Cross-validation\n",
    "# Perform 5-fold cross-validation\n",
    "from sklearn.model_selection import cross_val_score\n",
    "\n",
    "cv_scores = cross_val_score(ols_model, X, y, cv=5, scoring='neg_mean_squared_error')\n",
    "cv_rmse_scores = np.sqrt(-cv_scores)\n",
    "\n",
    "cv_scores_log = cross_val_score(ols_model, X22, y2, cv=5, scoring='neg_mean_squared_error')\n",
    "cv_rmse_scores_log = np.sqrt(-cv_scores_log)\n",
    "\n",
    "print(\"Cross-Validation RMSE Scores:\", cv_rmse_scores)\n",
    "print(\"Average Cross-Validation RMSE Score (level prices):\", np.average(cv_rmse_scores))\n",
    "\n",
    "print(\"Cross-Validation RMSE Scores For Log-Transformed Prices:\", cv_rmse_scores_log)\n",
    "print(\"Average Cross-Validation RMSE Score (log prices):\", np.average(cv_rmse_scores_log))"
   ]
  },
  {
   "cell_type": "code",
   "execution_count": 119,
   "metadata": {},
   "outputs": [
    {
     "data": {
      "image/png": "[encoded data removed]",
      "text/plain": [
       "<Figure size 640x480 with 1 Axes>"
      ]
     },
     "metadata": {},
     "output_type": "display_data"
    }
   ],
   "source": [
    "# 4. Visualization\n",
    "# Plot residuals\n",
    "residuals = y - y_hat\n",
    "plt.scatter(y_hat, residuals)\n",
    "plt.xlabel(\"Predicted Values\")\n",
    "plt.ylabel(\"Residuals\")\n",
    "plt.title(\"Residuals vs. Predicted Values\")\n",
    "plt.show()\n"
   ]
  },
  {
   "cell_type": "markdown",
   "metadata": {},
   "source": [
    "Residuals are not homoskedastic, we should have log prices used."
   ]
  },
  {
   "cell_type": "code",
   "execution_count": 120,
   "metadata": {},
   "outputs": [
    {
     "data": {
      "image/png": "[encoded data removed]",
      "text/plain": [
       "<Figure size 640x480 with 1 Axes>"
      ]
     },
     "metadata": {},
     "output_type": "display_data"
    }
   ],
   "source": [
    "# Plot residuals of log transformed prices\n",
    "residuals2 = y2 - y_hat2\n",
    "plt.scatter(y_hat2, residuals2)\n",
    "plt.xlabel(\"Predicted Values\")\n",
    "plt.ylabel(\"Residuals\")\n",
    "plt.title(\"Residuals vs. Predicted Values\")\n",
    "plt.show()"
   ]
  },
  {
   "cell_type": "markdown",
   "metadata": {},
   "source": [
    "Although not perfect, heteroskedasticity seems less when we work with log transformed price data."
   ]
  },
  {
   "cell_type": "code",
   "execution_count": 121,
   "metadata": {},
   "outputs": [
    {
     "name": "stdout",
     "output_type": "stream",
     "text": [
      "Test RMSE for OLS model: 1078.2952367390967\n",
      "Test RMSE for log transformed OLS model: 0.4573711907307754\n"
     ]
    }
   ],
   "source": [
    "# 5. Calculate RMSE on test/holdout data\n",
    "\n",
    "y_test, X_test = dmatrices(\"price ~ \" + \" + \".join(predictors_2), data_holdout)\n",
    "y_test2, X_test2 = dmatrices(\"ln_price ~ \" + \" + \".join(predictors_2), data_holdout)\n",
    "\n",
    "# Predict the target variable on the test dataset\n",
    "y_hat_test = ols_model.predict(X_test)\n",
    "y_hat_test2 = ols_model2.predict(X_test2)\n",
    "\n",
    "\n",
    "# Compute the RMSE\n",
    "ols_rmse_test = mean_squared_error(y_test, y_hat_test, squared=False)\n",
    "ols_rmse_test2 = mean_squared_error(y_test2, y_hat_test2, squared=False)\n",
    "\n",
    "print(\"Test RMSE for OLS model:\", ols_rmse_test)\n",
    "print(\"Test RMSE for log transformed OLS model:\", ols_rmse_test2)"
   ]
  },
  {
   "cell_type": "markdown",
   "metadata": {},
   "source": [
    "##### Model3: LASSO Regression"
   ]
  },
  {
   "cell_type": "code",
   "execution_count": 122,
   "metadata": {},
   "outputs": [],
   "source": [
    "from sklearn.linear_model import ElasticNet"
   ]
  },
  {
   "cell_type": "code",
   "execution_count": 123,
   "metadata": {},
   "outputs": [],
   "source": [
    "lasso_model =  ElasticNet(l1_ratio = 1, fit_intercept = True)\n",
    "lasso_model_ln =  ElasticNet(l1_ratio = 1, fit_intercept = True)"
   ]
  },
  {
   "cell_type": "code",
   "execution_count": 124,
   "metadata": {},
   "outputs": [],
   "source": [
    "lasso_model_cv = GridSearchCV(\n",
    "    lasso_model,\n",
    "    {\"alpha\":[i/100 for i in range(5, 26, 5)]},\n",
    "    cv=5,\n",
    "    scoring=\"neg_root_mean_squared_error\",\n",
    "    verbose=3,\n",
    ")\n",
    "\n",
    "lasso_model_cv2 = GridSearchCV(\n",
    "    lasso_model_ln,\n",
    "    {\"alpha\":[i/100 for i in range(5, 26, 5)]},\n",
    "    cv=5,\n",
    "    scoring=\"neg_root_mean_squared_error\",\n",
    "    verbose=3,\n",
    ")"
   ]
  },
  {
   "cell_type": "code",
   "execution_count": 125,
   "metadata": {},
   "outputs": [],
   "source": [
    "y, X = dmatrices(\"price ~ \" + \" + \".join(predictors_E), data_train)\n",
    "y2, X22 = dmatrices(\"ln_price ~ \" + \" + \".join(predictors_E), data_train)"
   ]
  },
  {
   "cell_type": "code",
   "execution_count": 126,
   "metadata": {
    "tags": []
   },
   "outputs": [
    {
     "name": "stdout",
     "output_type": "stream",
     "text": [
      "Fitting 5 folds for each of 5 candidates, totalling 25 fits\n",
      "[CV 1/5] END ....................alpha=0.05;, score=-1115.517 total time=   5.6s\n",
      "[CV 2/5] END ....................alpha=0.05;, score=-1180.271 total time=   6.2s\n",
      "[CV 3/5] END ....................alpha=0.05;, score=-1123.267 total time=   5.5s\n",
      "[CV 4/5] END ....................alpha=0.05;, score=-1110.690 total time=   5.7s\n",
      "[CV 5/5] END ....................alpha=0.05;, score=-1107.345 total time=   6.2s\n",
      "[CV 1/5] END .....................alpha=0.1;, score=-1108.166 total time=  12.1s\n",
      "[CV 2/5] END .....................alpha=0.1;, score=-1172.726 total time=   5.2s\n",
      "[CV 3/5] END .....................alpha=0.1;, score=-1115.167 total time=   6.8s\n",
      "[CV 4/5] END .....................alpha=0.1;, score=-1106.937 total time=   6.4s\n",
      "[CV 5/5] END .....................alpha=0.1;, score=-1104.174 total time=   6.8s\n",
      "[CV 1/5] END ....................alpha=0.15;, score=-1102.574 total time=   6.2s\n",
      "[CV 2/5] END ....................alpha=0.15;, score=-1166.860 total time=   4.2s\n",
      "[CV 3/5] END ....................alpha=0.15;, score=-1110.340 total time=   6.7s\n",
      "[CV 4/5] END ....................alpha=0.15;, score=-1103.394 total time=   5.3s\n",
      "[CV 5/5] END ....................alpha=0.15;, score=-1103.187 total time=   6.3s\n",
      "[CV 1/5] END .....................alpha=0.2;, score=-1098.437 total time=   6.3s\n",
      "[CV 2/5] END .....................alpha=0.2;, score=-1162.829 total time=   3.0s\n",
      "[CV 3/5] END .....................alpha=0.2;, score=-1106.946 total time=   6.6s\n",
      "[CV 4/5] END .....................alpha=0.2;, score=-1100.969 total time=   4.2s\n",
      "[CV 5/5] END .....................alpha=0.2;, score=-1103.750 total time=   5.7s\n",
      "[CV 1/5] END ....................alpha=0.25;, score=-1094.978 total time=   6.1s\n",
      "[CV 2/5] END ....................alpha=0.25;, score=-1161.776 total time=   5.1s\n",
      "[CV 3/5] END ....................alpha=0.25;, score=-1103.951 total time=   6.5s\n",
      "[CV 4/5] END ....................alpha=0.25;, score=-1099.059 total time=   4.1s\n",
      "[CV 5/5] END ....................alpha=0.25;, score=-1103.754 total time=   5.1s\n",
      "CPU times: total: 4min 53s\n",
      "Wall time: 2min 33s\n"
     ]
    },
    {
     "data": {
      "text/html": [
       "<style>#sk-container-id-4 {color: black;}#sk-container-id-4 pre{padding: 0;}#sk-container-id-4 div.sk-toggleable {background-color: white;}#sk-container-id-4 label.sk-toggleable__label {cursor: pointer;display: block;width: 100%;margin-bottom: 0;padding: 0.3em;box-sizing: border-box;text-align: center;}#sk-container-id-4 label.sk-toggleable__label-arrow:before {content: \"▸\";float: left;margin-right: 0.25em;color: #696969;}#sk-container-id-4 label.sk-toggleable__label-arrow:hover:before {color: black;}#sk-container-id-4 div.sk-estimator:hover label.sk-toggleable__label-arrow:before {color: black;}#sk-container-id-4 div.sk-toggleable__content {max-height: 0;max-width: 0;overflow: hidden;text-align: left;background-color: #f0f8ff;}#sk-container-id-4 div.sk-toggleable__content pre {margin: 0.2em;color: black;border-radius: 0.25em;background-color: #f0f8ff;}#sk-container-id-4 input.sk-toggleable__control:checked~div.sk-toggleable__content {max-height: 200px;max-width: 100%;overflow: auto;}#sk-container-id-4 input.sk-toggleable__control:checked~label.sk-toggleable__label-arrow:before {content: \"▾\";}#sk-container-id-4 div.sk-estimator input.sk-toggleable__control:checked~label.sk-toggleable__label {background-color: #d4ebff;}#sk-container-id-4 div.sk-label input.sk-toggleable__control:checked~label.sk-toggleable__label {background-color: #d4ebff;}#sk-container-id-4 input.sk-hidden--visually {border: 0;clip: rect(1px 1px 1px 1px);clip: rect(1px, 1px, 1px, 1px);height: 1px;margin: -1px;overflow: hidden;padding: 0;position: absolute;width: 1px;}#sk-container-id-4 div.sk-estimator {font-family: monospace;background-color: #f0f8ff;border: 1px dotted black;border-radius: 0.25em;box-sizing: border-box;margin-bottom: 0.5em;}#sk-container-id-4 div.sk-estimator:hover {background-color: #d4ebff;}#sk-container-id-4 div.sk-parallel-item::after {content: \"\";width: 100%;border-bottom: 1px solid gray;flex-grow: 1;}#sk-container-id-4 div.sk-label:hover label.sk-toggleable__label {background-color: #d4ebff;}#sk-container-id-4 div.sk-serial::before {content: \"\";position: absolute;border-left: 1px solid gray;box-sizing: border-box;top: 0;bottom: 0;left: 50%;z-index: 0;}#sk-container-id-4 div.sk-serial {display: flex;flex-direction: column;align-items: center;background-color: white;padding-right: 0.2em;padding-left: 0.2em;position: relative;}#sk-container-id-4 div.sk-item {position: relative;z-index: 1;}#sk-container-id-4 div.sk-parallel {display: flex;align-items: stretch;justify-content: center;background-color: white;position: relative;}#sk-container-id-4 div.sk-item::before, #sk-container-id-4 div.sk-parallel-item::before {content: \"\";position: absolute;border-left: 1px solid gray;box-sizing: border-box;top: 0;bottom: 0;left: 50%;z-index: -1;}#sk-container-id-4 div.sk-parallel-item {display: flex;flex-direction: column;z-index: 1;position: relative;background-color: white;}#sk-container-id-4 div.sk-parallel-item:first-child::after {align-self: flex-end;width: 50%;}#sk-container-id-4 div.sk-parallel-item:last-child::after {align-self: flex-start;width: 50%;}#sk-container-id-4 div.sk-parallel-item:only-child::after {width: 0;}#sk-container-id-4 div.sk-dashed-wrapped {border: 1px dashed gray;margin: 0 0.4em 0.5em 0.4em;box-sizing: border-box;padding-bottom: 0.4em;background-color: white;}#sk-container-id-4 div.sk-label label {font-family: monospace;font-weight: bold;display: inline-block;line-height: 1.2em;}#sk-container-id-4 div.sk-label-container {text-align: center;}#sk-container-id-4 div.sk-container {/* jupyter's `normalize.less` sets `[hidden] { display: none; }` but bootstrap.min.css set `[hidden] { display: none !important; }` so we also need the `!important` here to be able to override the default hidden behavior on the sphinx rendered scikit-learn.org. See: https://github.com/scikit-learn/scikit-learn/issues/21755 */display: inline-block !important;position: relative;}#sk-container-id-4 div.sk-text-repr-fallback {display: none;}</style><div id=\"sk-container-id-4\" class=\"sk-top-container\"><div class=\"sk-text-repr-fallback\"><pre>GridSearchCV(cv=5, estimator=ElasticNet(l1_ratio=1),\n",
       "             param_grid={&#x27;alpha&#x27;: [0.05, 0.1, 0.15, 0.2, 0.25]},\n",
       "             scoring=&#x27;neg_root_mean_squared_error&#x27;, verbose=3)</pre><b>In a Jupyter environment, please rerun this cell to show the HTML representation or trust the notebook. <br />On GitHub, the HTML representation is unable to render, please try loading this page with nbviewer.org.</b></div><div class=\"sk-container\" hidden><div class=\"sk-item sk-dashed-wrapped\"><div class=\"sk-label-container\"><div class=\"sk-label sk-toggleable\"><input class=\"sk-toggleable__control sk-hidden--visually\" id=\"sk-estimator-id-16\" type=\"checkbox\" ><label for=\"sk-estimator-id-16\" class=\"sk-toggleable__label sk-toggleable__label-arrow\">GridSearchCV</label><div class=\"sk-toggleable__content\"><pre>GridSearchCV(cv=5, estimator=ElasticNet(l1_ratio=1),\n",
       "             param_grid={&#x27;alpha&#x27;: [0.05, 0.1, 0.15, 0.2, 0.25]},\n",
       "             scoring=&#x27;neg_root_mean_squared_error&#x27;, verbose=3)</pre></div></div></div><div class=\"sk-parallel\"><div class=\"sk-parallel-item\"><div class=\"sk-item\"><div class=\"sk-label-container\"><div class=\"sk-label sk-toggleable\"><input class=\"sk-toggleable__control sk-hidden--visually\" id=\"sk-estimator-id-17\" type=\"checkbox\" ><label for=\"sk-estimator-id-17\" class=\"sk-toggleable__label sk-toggleable__label-arrow\">estimator: ElasticNet</label><div class=\"sk-toggleable__content\"><pre>ElasticNet(l1_ratio=1)</pre></div></div></div><div class=\"sk-serial\"><div class=\"sk-item\"><div class=\"sk-estimator sk-toggleable\"><input class=\"sk-toggleable__control sk-hidden--visually\" id=\"sk-estimator-id-18\" type=\"checkbox\" ><label for=\"sk-estimator-id-18\" class=\"sk-toggleable__label sk-toggleable__label-arrow\">ElasticNet</label><div class=\"sk-toggleable__content\"><pre>ElasticNet(l1_ratio=1)</pre></div></div></div></div></div></div></div></div></div></div>"
      ],
      "text/plain": [
       "GridSearchCV(cv=5, estimator=ElasticNet(l1_ratio=1),\n",
       "             param_grid={'alpha': [0.05, 0.1, 0.15, 0.2, 0.25]},\n",
       "             scoring='neg_root_mean_squared_error', verbose=3)"
      ]
     },
     "execution_count": 126,
     "metadata": {},
     "output_type": "execute_result"
    }
   ],
   "source": [
    "%%time\n",
    "lasso_model_cv.fit(X, y.ravel())"
   ]
  },
  {
   "cell_type": "code",
   "execution_count": 127,
   "metadata": {},
   "outputs": [
    {
     "name": "stdout",
     "output_type": "stream",
     "text": [
      "Fitting 5 folds for each of 5 candidates, totalling 25 fits\n",
      "[CV 1/5] END .......................alpha=0.05;, score=-0.502 total time=   0.5s\n",
      "[CV 2/5] END .......................alpha=0.05;, score=-0.521 total time=   0.5s\n",
      "[CV 3/5] END .......................alpha=0.05;, score=-0.498 total time=   0.4s\n",
      "[CV 4/5] END .......................alpha=0.05;, score=-0.514 total time=   0.3s\n",
      "[CV 5/5] END .......................alpha=0.05;, score=-0.513 total time=   0.2s\n",
      "[CV 1/5] END ........................alpha=0.1;, score=-0.525 total time=   0.2s\n",
      "[CV 2/5] END ........................alpha=0.1;, score=-0.541 total time=   0.2s\n",
      "[CV 3/5] END ........................alpha=0.1;, score=-0.524 total time=   0.2s\n",
      "[CV 4/5] END ........................alpha=0.1;, score=-0.536 total time=   0.2s\n",
      "[CV 5/5] END ........................alpha=0.1;, score=-0.537 total time=   0.2s\n",
      "[CV 1/5] END .......................alpha=0.15;, score=-0.536 total time=   0.2s\n",
      "[CV 2/5] END .......................alpha=0.15;, score=-0.550 total time=   0.2s\n",
      "[CV 3/5] END .......................alpha=0.15;, score=-0.533 total time=   0.2s\n",
      "[CV 4/5] END .......................alpha=0.15;, score=-0.548 total time=   0.2s\n",
      "[CV 5/5] END .......................alpha=0.15;, score=-0.544 total time=   0.3s\n",
      "[CV 1/5] END ........................alpha=0.2;, score=-0.548 total time=   0.3s\n",
      "[CV 2/5] END ........................alpha=0.2;, score=-0.559 total time=   0.2s\n",
      "[CV 3/5] END ........................alpha=0.2;, score=-0.543 total time=   0.3s\n",
      "[CV 4/5] END ........................alpha=0.2;, score=-0.559 total time=   0.3s\n",
      "[CV 5/5] END ........................alpha=0.2;, score=-0.552 total time=   0.3s\n",
      "[CV 1/5] END .......................alpha=0.25;, score=-0.561 total time=   0.3s\n",
      "[CV 2/5] END .......................alpha=0.25;, score=-0.571 total time=   0.2s\n",
      "[CV 3/5] END .......................alpha=0.25;, score=-0.556 total time=   0.2s\n",
      "[CV 4/5] END .......................alpha=0.25;, score=-0.572 total time=   0.2s\n",
      "[CV 5/5] END .......................alpha=0.25;, score=-0.563 total time=   0.2s\n",
      "CPU times: total: 15.3 s\n",
      "Wall time: 9.89 s\n"
     ]
    },
    {
     "data": {
      "text/html": [
       "<style>#sk-container-id-5 {color: black;}#sk-container-id-5 pre{padding: 0;}#sk-container-id-5 div.sk-toggleable {background-color: white;}#sk-container-id-5 label.sk-toggleable__label {cursor: pointer;display: block;width: 100%;margin-bottom: 0;padding: 0.3em;box-sizing: border-box;text-align: center;}#sk-container-id-5 label.sk-toggleable__label-arrow:before {content: \"▸\";float: left;margin-right: 0.25em;color: #696969;}#sk-container-id-5 label.sk-toggleable__label-arrow:hover:before {color: black;}#sk-container-id-5 div.sk-estimator:hover label.sk-toggleable__label-arrow:before {color: black;}#sk-container-id-5 div.sk-toggleable__content {max-height: 0;max-width: 0;overflow: hidden;text-align: left;background-color: #f0f8ff;}#sk-container-id-5 div.sk-toggleable__content pre {margin: 0.2em;color: black;border-radius: 0.25em;background-color: #f0f8ff;}#sk-container-id-5 input.sk-toggleable__control:checked~div.sk-toggleable__content {max-height: 200px;max-width: 100%;overflow: auto;}#sk-container-id-5 input.sk-toggleable__control:checked~label.sk-toggleable__label-arrow:before {content: \"▾\";}#sk-container-id-5 div.sk-estimator input.sk-toggleable__control:checked~label.sk-toggleable__label {background-color: #d4ebff;}#sk-container-id-5 div.sk-label input.sk-toggleable__control:checked~label.sk-toggleable__label {background-color: #d4ebff;}#sk-container-id-5 input.sk-hidden--visually {border: 0;clip: rect(1px 1px 1px 1px);clip: rect(1px, 1px, 1px, 1px);height: 1px;margin: -1px;overflow: hidden;padding: 0;position: absolute;width: 1px;}#sk-container-id-5 div.sk-estimator {font-family: monospace;background-color: #f0f8ff;border: 1px dotted black;border-radius: 0.25em;box-sizing: border-box;margin-bottom: 0.5em;}#sk-container-id-5 div.sk-estimator:hover {background-color: #d4ebff;}#sk-container-id-5 div.sk-parallel-item::after {content: \"\";width: 100%;border-bottom: 1px solid gray;flex-grow: 1;}#sk-container-id-5 div.sk-label:hover label.sk-toggleable__label {background-color: #d4ebff;}#sk-container-id-5 div.sk-serial::before {content: \"\";position: absolute;border-left: 1px solid gray;box-sizing: border-box;top: 0;bottom: 0;left: 50%;z-index: 0;}#sk-container-id-5 div.sk-serial {display: flex;flex-direction: column;align-items: center;background-color: white;padding-right: 0.2em;padding-left: 0.2em;position: relative;}#sk-container-id-5 div.sk-item {position: relative;z-index: 1;}#sk-container-id-5 div.sk-parallel {display: flex;align-items: stretch;justify-content: center;background-color: white;position: relative;}#sk-container-id-5 div.sk-item::before, #sk-container-id-5 div.sk-parallel-item::before {content: \"\";position: absolute;border-left: 1px solid gray;box-sizing: border-box;top: 0;bottom: 0;left: 50%;z-index: -1;}#sk-container-id-5 div.sk-parallel-item {display: flex;flex-direction: column;z-index: 1;position: relative;background-color: white;}#sk-container-id-5 div.sk-parallel-item:first-child::after {align-self: flex-end;width: 50%;}#sk-container-id-5 div.sk-parallel-item:last-child::after {align-self: flex-start;width: 50%;}#sk-container-id-5 div.sk-parallel-item:only-child::after {width: 0;}#sk-container-id-5 div.sk-dashed-wrapped {border: 1px dashed gray;margin: 0 0.4em 0.5em 0.4em;box-sizing: border-box;padding-bottom: 0.4em;background-color: white;}#sk-container-id-5 div.sk-label label {font-family: monospace;font-weight: bold;display: inline-block;line-height: 1.2em;}#sk-container-id-5 div.sk-label-container {text-align: center;}#sk-container-id-5 div.sk-container {/* jupyter's `normalize.less` sets `[hidden] { display: none; }` but bootstrap.min.css set `[hidden] { display: none !important; }` so we also need the `!important` here to be able to override the default hidden behavior on the sphinx rendered scikit-learn.org. See: https://github.com/scikit-learn/scikit-learn/issues/21755 */display: inline-block !important;position: relative;}#sk-container-id-5 div.sk-text-repr-fallback {display: none;}</style><div id=\"sk-container-id-5\" class=\"sk-top-container\"><div class=\"sk-text-repr-fallback\"><pre>GridSearchCV(cv=5, estimator=ElasticNet(l1_ratio=1),\n",
       "             param_grid={&#x27;alpha&#x27;: [0.05, 0.1, 0.15, 0.2, 0.25]},\n",
       "             scoring=&#x27;neg_root_mean_squared_error&#x27;, verbose=3)</pre><b>In a Jupyter environment, please rerun this cell to show the HTML representation or trust the notebook. <br />On GitHub, the HTML representation is unable to render, please try loading this page with nbviewer.org.</b></div><div class=\"sk-container\" hidden><div class=\"sk-item sk-dashed-wrapped\"><div class=\"sk-label-container\"><div class=\"sk-label sk-toggleable\"><input class=\"sk-toggleable__control sk-hidden--visually\" id=\"sk-estimator-id-19\" type=\"checkbox\" ><label for=\"sk-estimator-id-19\" class=\"sk-toggleable__label sk-toggleable__label-arrow\">GridSearchCV</label><div class=\"sk-toggleable__content\"><pre>GridSearchCV(cv=5, estimator=ElasticNet(l1_ratio=1),\n",
       "             param_grid={&#x27;alpha&#x27;: [0.05, 0.1, 0.15, 0.2, 0.25]},\n",
       "             scoring=&#x27;neg_root_mean_squared_error&#x27;, verbose=3)</pre></div></div></div><div class=\"sk-parallel\"><div class=\"sk-parallel-item\"><div class=\"sk-item\"><div class=\"sk-label-container\"><div class=\"sk-label sk-toggleable\"><input class=\"sk-toggleable__control sk-hidden--visually\" id=\"sk-estimator-id-20\" type=\"checkbox\" ><label for=\"sk-estimator-id-20\" class=\"sk-toggleable__label sk-toggleable__label-arrow\">estimator: ElasticNet</label><div class=\"sk-toggleable__content\"><pre>ElasticNet(l1_ratio=1)</pre></div></div></div><div class=\"sk-serial\"><div class=\"sk-item\"><div class=\"sk-estimator sk-toggleable\"><input class=\"sk-toggleable__control sk-hidden--visually\" id=\"sk-estimator-id-21\" type=\"checkbox\" ><label for=\"sk-estimator-id-21\" class=\"sk-toggleable__label sk-toggleable__label-arrow\">ElasticNet</label><div class=\"sk-toggleable__content\"><pre>ElasticNet(l1_ratio=1)</pre></div></div></div></div></div></div></div></div></div></div>"
      ],
      "text/plain": [
       "GridSearchCV(cv=5, estimator=ElasticNet(l1_ratio=1),\n",
       "             param_grid={'alpha': [0.05, 0.1, 0.15, 0.2, 0.25]},\n",
       "             scoring='neg_root_mean_squared_error', verbose=3)"
      ]
     },
     "execution_count": 127,
     "metadata": {},
     "output_type": "execute_result"
    }
   ],
   "source": [
    "%%time\n",
    "lasso_model_cv2.fit(X22, y2.ravel())"
   ]
  },
  {
   "cell_type": "code",
   "execution_count": 128,
   "metadata": {},
   "outputs": [
    {
     "data": {
      "text/html": [
       "<div>\n",
       "<style scoped>\n",
       "    .dataframe tbody tr th:only-of-type {\n",
       "        vertical-align: middle;\n",
       "    }\n",
       "\n",
       "    .dataframe tbody tr th {\n",
       "        vertical-align: top;\n",
       "    }\n",
       "\n",
       "    .dataframe thead th {\n",
       "        text-align: right;\n",
       "    }\n",
       "</style>\n",
       "<table border=\"1\" class=\"dataframe\">\n",
       "  <thead>\n",
       "    <tr style=\"text-align: right;\">\n",
       "      <th></th>\n",
       "      <th>lasso_coefficient</th>\n",
       "    </tr>\n",
       "  </thead>\n",
       "  <tbody>\n",
       "    <tr>\n",
       "      <th>f_property_type[T.Entire condo]</th>\n",
       "      <td>-275.308</td>\n",
       "    </tr>\n",
       "    <tr>\n",
       "      <th>f_property_type[T.Entire guest suite]</th>\n",
       "      <td>-77.466</td>\n",
       "    </tr>\n",
       "    <tr>\n",
       "      <th>f_property_type[T.Entire guesthouse]</th>\n",
       "      <td>-870.147</td>\n",
       "    </tr>\n",
       "    <tr>\n",
       "      <th>f_property_type[T.Entire home]</th>\n",
       "      <td>130.540</td>\n",
       "    </tr>\n",
       "    <tr>\n",
       "      <th>f_property_type[T.Entire rental unit]</th>\n",
       "      <td>-450.218</td>\n",
       "    </tr>\n",
       "    <tr>\n",
       "      <th>...</th>\n",
       "      <td>...</td>\n",
       "    </tr>\n",
       "    <tr>\n",
       "      <th>n_minimum_nights</th>\n",
       "      <td>-2.723</td>\n",
       "    </tr>\n",
       "    <tr>\n",
       "      <th>n_host_response_rate</th>\n",
       "      <td>2.721</td>\n",
       "    </tr>\n",
       "    <tr>\n",
       "      <th>n_host_acceptance_rate</th>\n",
       "      <td>4.386</td>\n",
       "    </tr>\n",
       "    <tr>\n",
       "      <th>n_number_of_reviews</th>\n",
       "      <td>-0.264</td>\n",
       "    </tr>\n",
       "    <tr>\n",
       "      <th>n_review_scores_rating</th>\n",
       "      <td>135.998</td>\n",
       "    </tr>\n",
       "  </tbody>\n",
       "</table>\n",
       "<p>183 rows × 1 columns</p>\n",
       "</div>"
      ],
      "text/plain": [
       "                                       lasso_coefficient\n",
       "f_property_type[T.Entire condo]                 -275.308\n",
       "f_property_type[T.Entire guest suite]            -77.466\n",
       "f_property_type[T.Entire guesthouse]            -870.147\n",
       "f_property_type[T.Entire home]                   130.540\n",
       "f_property_type[T.Entire rental unit]           -450.218\n",
       "...                                                  ...\n",
       "n_minimum_nights                                  -2.723\n",
       "n_host_response_rate                               2.721\n",
       "n_host_acceptance_rate                             4.386\n",
       "n_number_of_reviews                               -0.264\n",
       "n_review_scores_rating                           135.998\n",
       "\n",
       "[183 rows x 1 columns]"
      ]
     },
     "execution_count": 128,
     "metadata": {},
     "output_type": "execute_result"
    }
   ],
   "source": [
    "pd.DataFrame(\n",
    "    lasso_model_cv.best_estimator_.coef_.tolist(),\n",
    "    index=X.design_info.column_names,\n",
    "    columns=[\"lasso_coefficient\"],\n",
    ").assign(lasso_coefficient=lambda x: x.lasso_coefficient.round(3)).loc[\n",
    "    lambda x: x.lasso_coefficient != 0\n",
    "]"
   ]
  },
  {
   "cell_type": "code",
   "execution_count": 129,
   "metadata": {},
   "outputs": [
    {
     "data": {
      "text/html": [
       "<style>#sk-container-id-6 {color: black;}#sk-container-id-6 pre{padding: 0;}#sk-container-id-6 div.sk-toggleable {background-color: white;}#sk-container-id-6 label.sk-toggleable__label {cursor: pointer;display: block;width: 100%;margin-bottom: 0;padding: 0.3em;box-sizing: border-box;text-align: center;}#sk-container-id-6 label.sk-toggleable__label-arrow:before {content: \"▸\";float: left;margin-right: 0.25em;color: #696969;}#sk-container-id-6 label.sk-toggleable__label-arrow:hover:before {color: black;}#sk-container-id-6 div.sk-estimator:hover label.sk-toggleable__label-arrow:before {color: black;}#sk-container-id-6 div.sk-toggleable__content {max-height: 0;max-width: 0;overflow: hidden;text-align: left;background-color: #f0f8ff;}#sk-container-id-6 div.sk-toggleable__content pre {margin: 0.2em;color: black;border-radius: 0.25em;background-color: #f0f8ff;}#sk-container-id-6 input.sk-toggleable__control:checked~div.sk-toggleable__content {max-height: 200px;max-width: 100%;overflow: auto;}#sk-container-id-6 input.sk-toggleable__control:checked~label.sk-toggleable__label-arrow:before {content: \"▾\";}#sk-container-id-6 div.sk-estimator input.sk-toggleable__control:checked~label.sk-toggleable__label {background-color: #d4ebff;}#sk-container-id-6 div.sk-label input.sk-toggleable__control:checked~label.sk-toggleable__label {background-color: #d4ebff;}#sk-container-id-6 input.sk-hidden--visually {border: 0;clip: rect(1px 1px 1px 1px);clip: rect(1px, 1px, 1px, 1px);height: 1px;margin: -1px;overflow: hidden;padding: 0;position: absolute;width: 1px;}#sk-container-id-6 div.sk-estimator {font-family: monospace;background-color: #f0f8ff;border: 1px dotted black;border-radius: 0.25em;box-sizing: border-box;margin-bottom: 0.5em;}#sk-container-id-6 div.sk-estimator:hover {background-color: #d4ebff;}#sk-container-id-6 div.sk-parallel-item::after {content: \"\";width: 100%;border-bottom: 1px solid gray;flex-grow: 1;}#sk-container-id-6 div.sk-label:hover label.sk-toggleable__label {background-color: #d4ebff;}#sk-container-id-6 div.sk-serial::before {content: \"\";position: absolute;border-left: 1px solid gray;box-sizing: border-box;top: 0;bottom: 0;left: 50%;z-index: 0;}#sk-container-id-6 div.sk-serial {display: flex;flex-direction: column;align-items: center;background-color: white;padding-right: 0.2em;padding-left: 0.2em;position: relative;}#sk-container-id-6 div.sk-item {position: relative;z-index: 1;}#sk-container-id-6 div.sk-parallel {display: flex;align-items: stretch;justify-content: center;background-color: white;position: relative;}#sk-container-id-6 div.sk-item::before, #sk-container-id-6 div.sk-parallel-item::before {content: \"\";position: absolute;border-left: 1px solid gray;box-sizing: border-box;top: 0;bottom: 0;left: 50%;z-index: -1;}#sk-container-id-6 div.sk-parallel-item {display: flex;flex-direction: column;z-index: 1;position: relative;background-color: white;}#sk-container-id-6 div.sk-parallel-item:first-child::after {align-self: flex-end;width: 50%;}#sk-container-id-6 div.sk-parallel-item:last-child::after {align-self: flex-start;width: 50%;}#sk-container-id-6 div.sk-parallel-item:only-child::after {width: 0;}#sk-container-id-6 div.sk-dashed-wrapped {border: 1px dashed gray;margin: 0 0.4em 0.5em 0.4em;box-sizing: border-box;padding-bottom: 0.4em;background-color: white;}#sk-container-id-6 div.sk-label label {font-family: monospace;font-weight: bold;display: inline-block;line-height: 1.2em;}#sk-container-id-6 div.sk-label-container {text-align: center;}#sk-container-id-6 div.sk-container {/* jupyter's `normalize.less` sets `[hidden] { display: none; }` but bootstrap.min.css set `[hidden] { display: none !important; }` so we also need the `!important` here to be able to override the default hidden behavior on the sphinx rendered scikit-learn.org. See: https://github.com/scikit-learn/scikit-learn/issues/21755 */display: inline-block !important;position: relative;}#sk-container-id-6 div.sk-text-repr-fallback {display: none;}</style><div id=\"sk-container-id-6\" class=\"sk-top-container\"><div class=\"sk-text-repr-fallback\"><pre>ElasticNet(alpha=0.25, l1_ratio=1)</pre><b>In a Jupyter environment, please rerun this cell to show the HTML representation or trust the notebook. <br />On GitHub, the HTML representation is unable to render, please try loading this page with nbviewer.org.</b></div><div class=\"sk-container\" hidden><div class=\"sk-item\"><div class=\"sk-estimator sk-toggleable\"><input class=\"sk-toggleable__control sk-hidden--visually\" id=\"sk-estimator-id-22\" type=\"checkbox\" checked><label for=\"sk-estimator-id-22\" class=\"sk-toggleable__label sk-toggleable__label-arrow\">ElasticNet</label><div class=\"sk-toggleable__content\"><pre>ElasticNet(alpha=0.25, l1_ratio=1)</pre></div></div></div></div></div>"
      ],
      "text/plain": [
       "ElasticNet(alpha=0.25, l1_ratio=1)"
      ]
     },
     "execution_count": 129,
     "metadata": {},
     "output_type": "execute_result"
    }
   ],
   "source": [
    "lasso_model_cv.best_estimator_"
   ]
  },
  {
   "cell_type": "code",
   "execution_count": 169,
   "metadata": {
    "scrolled": true,
    "tags": []
   },
   "outputs": [
    {
     "name": "stdout",
     "output_type": "stream",
     "text": [
      "LASSO Cross-Validated RMSE For Level Prices: 1112.7035667943026\n"
     ]
    }
   ],
   "source": [
    "lasso_rmse = pd.DataFrame(lasso_model_cv.cv_results_).loc[\n",
    "    lambda x: x.param_alpha == lasso_model_cv.best_estimator_.alpha\n",
    "].mean_test_score.values[0] * -1\n",
    "print(\"LASSO Cross-Validated RMSE for Level Prices:\", lasso_rmse)"
   ]
  },
  {
   "cell_type": "code",
   "execution_count": 168,
   "metadata": {},
   "outputs": [
    {
     "name": "stdout",
     "output_type": "stream",
     "text": [
      "LASSO Cross-Validated RMSE For Log Prices: 0.5094302202019957\n"
     ]
    }
   ],
   "source": [
    "lasso_rmse_ln = pd.DataFrame(lasso_model_cv2.cv_results_).loc[\n",
    "    lambda x: x.param_alpha == lasso_model_cv2.best_estimator_.alpha\n",
    "].mean_test_score.values[0] * -1\n",
    "print(\"LASSO Cross-Validated RMSE for Log Prices:\", lasso_rmse_ln)"
   ]
  },
  {
   "cell_type": "code",
   "execution_count": 133,
   "metadata": {},
   "outputs": [
    {
     "name": "stdout",
     "output_type": "stream",
     "text": [
      "Test RMSE for LASSO model: 1073.326679397617\n",
      "Test RMSE for LASSO model: 0.5046298251355317\n"
     ]
    }
   ],
   "source": [
    "y_test, X_test = dmatrices(\"price ~ \" + \" + \".join(predictors_E), data_holdout)\n",
    "y_test2, X_test2 = dmatrices(\"ln_price ~ \" + \" + \".join(predictors_E), data_holdout)\n",
    "\n",
    "# Predict the target variable on the test dataset\n",
    "y_hat_test_lasso_level = lasso_model_cv.predict(X_test)\n",
    "y_hat_test_lasso_log = lasso_model_cv2.predict(X_test2)\n",
    "\n",
    "# Compute the RMSE\n",
    "lasso_rmse_test_level = mean_squared_error(y_test, y_hat_test_lasso_level, squared=False)\n",
    "print(\"Test RMSE for LASSO Model With Level Prices:\", lasso_rmse_test_level)\n",
    "\n",
    "lasso_rmse_test_log = mean_squared_error(y_test2, y_hat_test_lasso_log, squared=False)\n",
    "print(\"Test RMSE for LASSO Model With Log Prices:\", lasso_rmse_test_log)"
   ]
  },
  {
   "cell_type": "markdown",
   "metadata": {},
   "source": [
    "##### Model4: Gradient Boosting Machines (GBM)"
   ]
  },
  {
   "cell_type": "code",
   "execution_count": 135,
   "metadata": {},
   "outputs": [],
   "source": [
    "from sklearn.ensemble import GradientBoostingRegressor"
   ]
  },
  {
   "cell_type": "code",
   "execution_count": 136,
   "metadata": {},
   "outputs": [],
   "source": [
    "gbm = GradientBoostingRegressor(learning_rate=0.1, min_samples_split=20, max_features = 10\n",
    "                               )\n",
    "\n",
    "tune_grid = {\"n_estimators\": [200, 300], \"max_depth\": [5, 10]}\n",
    "\n",
    "gbm_model_cv = GridSearchCV(\n",
    "    gbm,\n",
    "    tune_grid,\n",
    "    cv=5,\n",
    "    scoring=\"neg_root_mean_squared_error\",\n",
    "    verbose=10,\n",
    "    n_jobs=-1\n",
    ")"
   ]
  },
  {
   "cell_type": "code",
   "execution_count": 137,
   "metadata": {},
   "outputs": [],
   "source": [
    "categorical_columns = [col for col in predictors_2 if col.startswith(\"f_\")]\n",
    "numerical_columns = [col for col in predictors_2 if col not in categorical_columns]\n",
    "\n",
    "categorical_encoder = OneHotEncoder(handle_unknown=\"ignore\")\n",
    "\n",
    "preprocessing = ColumnTransformer(\n",
    "    [\n",
    "        (\"cat\", categorical_encoder, categorical_columns),\n",
    "        (\"num\", \"passthrough\", numerical_columns),\n",
    "    ]\n",
    ")\n",
    "\n",
    "gbm_pipe = Pipeline(\n",
    "    [(\"preprocess\", preprocessing), (\"regressor\", gbm_model_cv)], verbose=True\n",
    ")"
   ]
  },
  {
   "cell_type": "code",
   "execution_count": 138,
   "metadata": {},
   "outputs": [
    {
     "name": "stdout",
     "output_type": "stream",
     "text": [
      "[Pipeline] ........ (step 1 of 2) Processing preprocess, total=   0.0s\n",
      "Fitting 5 folds for each of 4 candidates, totalling 20 fits\n",
      "[Pipeline] ......... (step 2 of 2) Processing regressor, total=  36.2s\n",
      "CPU times: total: 4.53 s\n",
      "Wall time: 36.2 s\n"
     ]
    },
    {
     "data": {
      "text/html": [
       "<style>#sk-container-id-7 {color: black;}#sk-container-id-7 pre{padding: 0;}#sk-container-id-7 div.sk-toggleable {background-color: white;}#sk-container-id-7 label.sk-toggleable__label {cursor: pointer;display: block;width: 100%;margin-bottom: 0;padding: 0.3em;box-sizing: border-box;text-align: center;}#sk-container-id-7 label.sk-toggleable__label-arrow:before {content: \"▸\";float: left;margin-right: 0.25em;color: #696969;}#sk-container-id-7 label.sk-toggleable__label-arrow:hover:before {color: black;}#sk-container-id-7 div.sk-estimator:hover label.sk-toggleable__label-arrow:before {color: black;}#sk-container-id-7 div.sk-toggleable__content {max-height: 0;max-width: 0;overflow: hidden;text-align: left;background-color: #f0f8ff;}#sk-container-id-7 div.sk-toggleable__content pre {margin: 0.2em;color: black;border-radius: 0.25em;background-color: #f0f8ff;}#sk-container-id-7 input.sk-toggleable__control:checked~div.sk-toggleable__content {max-height: 200px;max-width: 100%;overflow: auto;}#sk-container-id-7 input.sk-toggleable__control:checked~label.sk-toggleable__label-arrow:before {content: \"▾\";}#sk-container-id-7 div.sk-estimator input.sk-toggleable__control:checked~label.sk-toggleable__label {background-color: #d4ebff;}#sk-container-id-7 div.sk-label input.sk-toggleable__control:checked~label.sk-toggleable__label {background-color: #d4ebff;}#sk-container-id-7 input.sk-hidden--visually {border: 0;clip: rect(1px 1px 1px 1px);clip: rect(1px, 1px, 1px, 1px);height: 1px;margin: -1px;overflow: hidden;padding: 0;position: absolute;width: 1px;}#sk-container-id-7 div.sk-estimator {font-family: monospace;background-color: #f0f8ff;border: 1px dotted black;border-radius: 0.25em;box-sizing: border-box;margin-bottom: 0.5em;}#sk-container-id-7 div.sk-estimator:hover {background-color: #d4ebff;}#sk-container-id-7 div.sk-parallel-item::after {content: \"\";width: 100%;border-bottom: 1px solid gray;flex-grow: 1;}#sk-container-id-7 div.sk-label:hover label.sk-toggleable__label {background-color: #d4ebff;}#sk-container-id-7 div.sk-serial::before {content: \"\";position: absolute;border-left: 1px solid gray;box-sizing: border-box;top: 0;bottom: 0;left: 50%;z-index: 0;}#sk-container-id-7 div.sk-serial {display: flex;flex-direction: column;align-items: center;background-color: white;padding-right: 0.2em;padding-left: 0.2em;position: relative;}#sk-container-id-7 div.sk-item {position: relative;z-index: 1;}#sk-container-id-7 div.sk-parallel {display: flex;align-items: stretch;justify-content: center;background-color: white;position: relative;}#sk-container-id-7 div.sk-item::before, #sk-container-id-7 div.sk-parallel-item::before {content: \"\";position: absolute;border-left: 1px solid gray;box-sizing: border-box;top: 0;bottom: 0;left: 50%;z-index: -1;}#sk-container-id-7 div.sk-parallel-item {display: flex;flex-direction: column;z-index: 1;position: relative;background-color: white;}#sk-container-id-7 div.sk-parallel-item:first-child::after {align-self: flex-end;width: 50%;}#sk-container-id-7 div.sk-parallel-item:last-child::after {align-self: flex-start;width: 50%;}#sk-container-id-7 div.sk-parallel-item:only-child::after {width: 0;}#sk-container-id-7 div.sk-dashed-wrapped {border: 1px dashed gray;margin: 0 0.4em 0.5em 0.4em;box-sizing: border-box;padding-bottom: 0.4em;background-color: white;}#sk-container-id-7 div.sk-label label {font-family: monospace;font-weight: bold;display: inline-block;line-height: 1.2em;}#sk-container-id-7 div.sk-label-container {text-align: center;}#sk-container-id-7 div.sk-container {/* jupyter's `normalize.less` sets `[hidden] { display: none; }` but bootstrap.min.css set `[hidden] { display: none !important; }` so we also need the `!important` here to be able to override the default hidden behavior on the sphinx rendered scikit-learn.org. See: https://github.com/scikit-learn/scikit-learn/issues/21755 */display: inline-block !important;position: relative;}#sk-container-id-7 div.sk-text-repr-fallback {display: none;}</style><div id=\"sk-container-id-7\" class=\"sk-top-container\"><div class=\"sk-text-repr-fallback\"><pre>Pipeline(steps=[(&#x27;preprocess&#x27;,\n",
       "                 ColumnTransformer(transformers=[(&#x27;cat&#x27;,\n",
       "                                                  OneHotEncoder(handle_unknown=&#x27;ignore&#x27;),\n",
       "                                                  [&#x27;f_property_type&#x27;,\n",
       "                                                   &#x27;f_room_type&#x27;,\n",
       "                                                   &#x27;f_neighbourhood_cleansed&#x27;,\n",
       "                                                   &#x27;f_host_response_time&#x27;]),\n",
       "                                                 (&#x27;num&#x27;, &#x27;passthrough&#x27;,\n",
       "                                                  [&#x27;n_accommodates&#x27;, &#x27;n_beds&#x27;,\n",
       "                                                   &#x27;n_bathrooms&#x27;,\n",
       "                                                   &#x27;n_availability_365&#x27;,\n",
       "                                                   &#x27;n_minimum_nights&#x27;,\n",
       "                                                   &#x27;n_host_response_rate&#x27;,\n",
       "                                                   &#x27;n_host_acceptance_rate&#x27;,\n",
       "                                                   &#x27;n_number_of_reviews&#x27;,\n",
       "                                                   &#x27;n_review_scores_rating&#x27;,\n",
       "                                                   &#x27;d_host_is_superhost&#x27;])])),\n",
       "                (&#x27;regressor&#x27;,\n",
       "                 GridSearchCV(cv=5,\n",
       "                              estimator=GradientBoostingRegressor(max_features=10,\n",
       "                                                                  min_samples_split=20),\n",
       "                              n_jobs=-1,\n",
       "                              param_grid={&#x27;max_depth&#x27;: [5, 10],\n",
       "                                          &#x27;n_estimators&#x27;: [200, 300]},\n",
       "                              scoring=&#x27;neg_root_mean_squared_error&#x27;,\n",
       "                              verbose=10))],\n",
       "         verbose=True)</pre><b>In a Jupyter environment, please rerun this cell to show the HTML representation or trust the notebook. <br />On GitHub, the HTML representation is unable to render, please try loading this page with nbviewer.org.</b></div><div class=\"sk-container\" hidden><div class=\"sk-item sk-dashed-wrapped\"><div class=\"sk-label-container\"><div class=\"sk-label sk-toggleable\"><input class=\"sk-toggleable__control sk-hidden--visually\" id=\"sk-estimator-id-23\" type=\"checkbox\" ><label for=\"sk-estimator-id-23\" class=\"sk-toggleable__label sk-toggleable__label-arrow\">Pipeline</label><div class=\"sk-toggleable__content\"><pre>Pipeline(steps=[(&#x27;preprocess&#x27;,\n",
       "                 ColumnTransformer(transformers=[(&#x27;cat&#x27;,\n",
       "                                                  OneHotEncoder(handle_unknown=&#x27;ignore&#x27;),\n",
       "                                                  [&#x27;f_property_type&#x27;,\n",
       "                                                   &#x27;f_room_type&#x27;,\n",
       "                                                   &#x27;f_neighbourhood_cleansed&#x27;,\n",
       "                                                   &#x27;f_host_response_time&#x27;]),\n",
       "                                                 (&#x27;num&#x27;, &#x27;passthrough&#x27;,\n",
       "                                                  [&#x27;n_accommodates&#x27;, &#x27;n_beds&#x27;,\n",
       "                                                   &#x27;n_bathrooms&#x27;,\n",
       "                                                   &#x27;n_availability_365&#x27;,\n",
       "                                                   &#x27;n_minimum_nights&#x27;,\n",
       "                                                   &#x27;n_host_response_rate&#x27;,\n",
       "                                                   &#x27;n_host_acceptance_rate&#x27;,\n",
       "                                                   &#x27;n_number_of_reviews&#x27;,\n",
       "                                                   &#x27;n_review_scores_rating&#x27;,\n",
       "                                                   &#x27;d_host_is_superhost&#x27;])])),\n",
       "                (&#x27;regressor&#x27;,\n",
       "                 GridSearchCV(cv=5,\n",
       "                              estimator=GradientBoostingRegressor(max_features=10,\n",
       "                                                                  min_samples_split=20),\n",
       "                              n_jobs=-1,\n",
       "                              param_grid={&#x27;max_depth&#x27;: [5, 10],\n",
       "                                          &#x27;n_estimators&#x27;: [200, 300]},\n",
       "                              scoring=&#x27;neg_root_mean_squared_error&#x27;,\n",
       "                              verbose=10))],\n",
       "         verbose=True)</pre></div></div></div><div class=\"sk-serial\"><div class=\"sk-item sk-dashed-wrapped\"><div class=\"sk-label-container\"><div class=\"sk-label sk-toggleable\"><input class=\"sk-toggleable__control sk-hidden--visually\" id=\"sk-estimator-id-24\" type=\"checkbox\" ><label for=\"sk-estimator-id-24\" class=\"sk-toggleable__label sk-toggleable__label-arrow\">preprocess: ColumnTransformer</label><div class=\"sk-toggleable__content\"><pre>ColumnTransformer(transformers=[(&#x27;cat&#x27;, OneHotEncoder(handle_unknown=&#x27;ignore&#x27;),\n",
       "                                 [&#x27;f_property_type&#x27;, &#x27;f_room_type&#x27;,\n",
       "                                  &#x27;f_neighbourhood_cleansed&#x27;,\n",
       "                                  &#x27;f_host_response_time&#x27;]),\n",
       "                                (&#x27;num&#x27;, &#x27;passthrough&#x27;,\n",
       "                                 [&#x27;n_accommodates&#x27;, &#x27;n_beds&#x27;, &#x27;n_bathrooms&#x27;,\n",
       "                                  &#x27;n_availability_365&#x27;, &#x27;n_minimum_nights&#x27;,\n",
       "                                  &#x27;n_host_response_rate&#x27;,\n",
       "                                  &#x27;n_host_acceptance_rate&#x27;,\n",
       "                                  &#x27;n_number_of_reviews&#x27;,\n",
       "                                  &#x27;n_review_scores_rating&#x27;,\n",
       "                                  &#x27;d_host_is_superhost&#x27;])])</pre></div></div></div><div class=\"sk-parallel\"><div class=\"sk-parallel-item\"><div class=\"sk-item\"><div class=\"sk-label-container\"><div class=\"sk-label sk-toggleable\"><input class=\"sk-toggleable__control sk-hidden--visually\" id=\"sk-estimator-id-25\" type=\"checkbox\" ><label for=\"sk-estimator-id-25\" class=\"sk-toggleable__label sk-toggleable__label-arrow\">cat</label><div class=\"sk-toggleable__content\"><pre>[&#x27;f_property_type&#x27;, &#x27;f_room_type&#x27;, &#x27;f_neighbourhood_cleansed&#x27;, &#x27;f_host_response_time&#x27;]</pre></div></div></div><div class=\"sk-serial\"><div class=\"sk-item\"><div class=\"sk-estimator sk-toggleable\"><input class=\"sk-toggleable__control sk-hidden--visually\" id=\"sk-estimator-id-26\" type=\"checkbox\" ><label for=\"sk-estimator-id-26\" class=\"sk-toggleable__label sk-toggleable__label-arrow\">OneHotEncoder</label><div class=\"sk-toggleable__content\"><pre>OneHotEncoder(handle_unknown=&#x27;ignore&#x27;)</pre></div></div></div></div></div></div><div class=\"sk-parallel-item\"><div class=\"sk-item\"><div class=\"sk-label-container\"><div class=\"sk-label sk-toggleable\"><input class=\"sk-toggleable__control sk-hidden--visually\" id=\"sk-estimator-id-27\" type=\"checkbox\" ><label for=\"sk-estimator-id-27\" class=\"sk-toggleable__label sk-toggleable__label-arrow\">num</label><div class=\"sk-toggleable__content\"><pre>[&#x27;n_accommodates&#x27;, &#x27;n_beds&#x27;, &#x27;n_bathrooms&#x27;, &#x27;n_availability_365&#x27;, &#x27;n_minimum_nights&#x27;, &#x27;n_host_response_rate&#x27;, &#x27;n_host_acceptance_rate&#x27;, &#x27;n_number_of_reviews&#x27;, &#x27;n_review_scores_rating&#x27;, &#x27;d_host_is_superhost&#x27;]</pre></div></div></div><div class=\"sk-serial\"><div class=\"sk-item\"><div class=\"sk-estimator sk-toggleable\"><input class=\"sk-toggleable__control sk-hidden--visually\" id=\"sk-estimator-id-28\" type=\"checkbox\" ><label for=\"sk-estimator-id-28\" class=\"sk-toggleable__label sk-toggleable__label-arrow\">passthrough</label><div class=\"sk-toggleable__content\"><pre>passthrough</pre></div></div></div></div></div></div></div></div><div class=\"sk-item sk-dashed-wrapped\"><div class=\"sk-label-container\"><div class=\"sk-label sk-toggleable\"><input class=\"sk-toggleable__control sk-hidden--visually\" id=\"sk-estimator-id-29\" type=\"checkbox\" ><label for=\"sk-estimator-id-29\" class=\"sk-toggleable__label sk-toggleable__label-arrow\">regressor: GridSearchCV</label><div class=\"sk-toggleable__content\"><pre>GridSearchCV(cv=5,\n",
       "             estimator=GradientBoostingRegressor(max_features=10,\n",
       "                                                 min_samples_split=20),\n",
       "             n_jobs=-1,\n",
       "             param_grid={&#x27;max_depth&#x27;: [5, 10], &#x27;n_estimators&#x27;: [200, 300]},\n",
       "             scoring=&#x27;neg_root_mean_squared_error&#x27;, verbose=10)</pre></div></div></div><div class=\"sk-parallel\"><div class=\"sk-parallel-item\"><div class=\"sk-item\"><div class=\"sk-label-container\"><div class=\"sk-label sk-toggleable\"><input class=\"sk-toggleable__control sk-hidden--visually\" id=\"sk-estimator-id-30\" type=\"checkbox\" ><label for=\"sk-estimator-id-30\" class=\"sk-toggleable__label sk-toggleable__label-arrow\">estimator: GradientBoostingRegressor</label><div class=\"sk-toggleable__content\"><pre>GradientBoostingRegressor(max_features=10, min_samples_split=20)</pre></div></div></div><div class=\"sk-serial\"><div class=\"sk-item\"><div class=\"sk-estimator sk-toggleable\"><input class=\"sk-toggleable__control sk-hidden--visually\" id=\"sk-estimator-id-31\" type=\"checkbox\" ><label for=\"sk-estimator-id-31\" class=\"sk-toggleable__label sk-toggleable__label-arrow\">GradientBoostingRegressor</label><div class=\"sk-toggleable__content\"><pre>GradientBoostingRegressor(max_features=10, min_samples_split=20)</pre></div></div></div></div></div></div></div></div></div></div></div></div>"
      ],
      "text/plain": [
       "Pipeline(steps=[('preprocess',\n",
       "                 ColumnTransformer(transformers=[('cat',\n",
       "                                                  OneHotEncoder(handle_unknown='ignore'),\n",
       "                                                  ['f_property_type',\n",
       "                                                   'f_room_type',\n",
       "                                                   'f_neighbourhood_cleansed',\n",
       "                                                   'f_host_response_time']),\n",
       "                                                 ('num', 'passthrough',\n",
       "                                                  ['n_accommodates', 'n_beds',\n",
       "                                                   'n_bathrooms',\n",
       "                                                   'n_availability_365',\n",
       "                                                   'n_minimum_nights',\n",
       "                                                   'n_host_response_rate',\n",
       "                                                   'n_host_acceptance_rate',\n",
       "                                                   'n_number_of_reviews',\n",
       "                                                   'n_review_scores_rating',\n",
       "                                                   'd_host_is_superhost'])])),\n",
       "                ('regressor',\n",
       "                 GridSearchCV(cv=5,\n",
       "                              estimator=GradientBoostingRegressor(max_features=10,\n",
       "                                                                  min_samples_split=20),\n",
       "                              n_jobs=-1,\n",
       "                              param_grid={'max_depth': [5, 10],\n",
       "                                          'n_estimators': [200, 300]},\n",
       "                              scoring='neg_root_mean_squared_error',\n",
       "                              verbose=10))],\n",
       "         verbose=True)"
      ]
     },
     "execution_count": 138,
     "metadata": {},
     "output_type": "execute_result"
    }
   ],
   "source": [
    "%%time\n",
    "gbm_pipe.fit(data_train[predictors_2],data_train.price)"
   ]
  },
  {
   "cell_type": "code",
   "execution_count": 140,
   "metadata": {},
   "outputs": [
    {
     "data": {
      "text/html": [
       "<style>#sk-container-id-8 {color: black;}#sk-container-id-8 pre{padding: 0;}#sk-container-id-8 div.sk-toggleable {background-color: white;}#sk-container-id-8 label.sk-toggleable__label {cursor: pointer;display: block;width: 100%;margin-bottom: 0;padding: 0.3em;box-sizing: border-box;text-align: center;}#sk-container-id-8 label.sk-toggleable__label-arrow:before {content: \"▸\";float: left;margin-right: 0.25em;color: #696969;}#sk-container-id-8 label.sk-toggleable__label-arrow:hover:before {color: black;}#sk-container-id-8 div.sk-estimator:hover label.sk-toggleable__label-arrow:before {color: black;}#sk-container-id-8 div.sk-toggleable__content {max-height: 0;max-width: 0;overflow: hidden;text-align: left;background-color: #f0f8ff;}#sk-container-id-8 div.sk-toggleable__content pre {margin: 0.2em;color: black;border-radius: 0.25em;background-color: #f0f8ff;}#sk-container-id-8 input.sk-toggleable__control:checked~div.sk-toggleable__content {max-height: 200px;max-width: 100%;overflow: auto;}#sk-container-id-8 input.sk-toggleable__control:checked~label.sk-toggleable__label-arrow:before {content: \"▾\";}#sk-container-id-8 div.sk-estimator input.sk-toggleable__control:checked~label.sk-toggleable__label {background-color: #d4ebff;}#sk-container-id-8 div.sk-label input.sk-toggleable__control:checked~label.sk-toggleable__label {background-color: #d4ebff;}#sk-container-id-8 input.sk-hidden--visually {border: 0;clip: rect(1px 1px 1px 1px);clip: rect(1px, 1px, 1px, 1px);height: 1px;margin: -1px;overflow: hidden;padding: 0;position: absolute;width: 1px;}#sk-container-id-8 div.sk-estimator {font-family: monospace;background-color: #f0f8ff;border: 1px dotted black;border-radius: 0.25em;box-sizing: border-box;margin-bottom: 0.5em;}#sk-container-id-8 div.sk-estimator:hover {background-color: #d4ebff;}#sk-container-id-8 div.sk-parallel-item::after {content: \"\";width: 100%;border-bottom: 1px solid gray;flex-grow: 1;}#sk-container-id-8 div.sk-label:hover label.sk-toggleable__label {background-color: #d4ebff;}#sk-container-id-8 div.sk-serial::before {content: \"\";position: absolute;border-left: 1px solid gray;box-sizing: border-box;top: 0;bottom: 0;left: 50%;z-index: 0;}#sk-container-id-8 div.sk-serial {display: flex;flex-direction: column;align-items: center;background-color: white;padding-right: 0.2em;padding-left: 0.2em;position: relative;}#sk-container-id-8 div.sk-item {position: relative;z-index: 1;}#sk-container-id-8 div.sk-parallel {display: flex;align-items: stretch;justify-content: center;background-color: white;position: relative;}#sk-container-id-8 div.sk-item::before, #sk-container-id-8 div.sk-parallel-item::before {content: \"\";position: absolute;border-left: 1px solid gray;box-sizing: border-box;top: 0;bottom: 0;left: 50%;z-index: -1;}#sk-container-id-8 div.sk-parallel-item {display: flex;flex-direction: column;z-index: 1;position: relative;background-color: white;}#sk-container-id-8 div.sk-parallel-item:first-child::after {align-self: flex-end;width: 50%;}#sk-container-id-8 div.sk-parallel-item:last-child::after {align-self: flex-start;width: 50%;}#sk-container-id-8 div.sk-parallel-item:only-child::after {width: 0;}#sk-container-id-8 div.sk-dashed-wrapped {border: 1px dashed gray;margin: 0 0.4em 0.5em 0.4em;box-sizing: border-box;padding-bottom: 0.4em;background-color: white;}#sk-container-id-8 div.sk-label label {font-family: monospace;font-weight: bold;display: inline-block;line-height: 1.2em;}#sk-container-id-8 div.sk-label-container {text-align: center;}#sk-container-id-8 div.sk-container {/* jupyter's `normalize.less` sets `[hidden] { display: none; }` but bootstrap.min.css set `[hidden] { display: none !important; }` so we also need the `!important` here to be able to override the default hidden behavior on the sphinx rendered scikit-learn.org. See: https://github.com/scikit-learn/scikit-learn/issues/21755 */display: inline-block !important;position: relative;}#sk-container-id-8 div.sk-text-repr-fallback {display: none;}</style><div id=\"sk-container-id-8\" class=\"sk-top-container\"><div class=\"sk-text-repr-fallback\"><pre>GradientBoostingRegressor(max_depth=10, max_features=10, min_samples_split=20,\n",
       "                          n_estimators=200)</pre><b>In a Jupyter environment, please rerun this cell to show the HTML representation or trust the notebook. <br />On GitHub, the HTML representation is unable to render, please try loading this page with nbviewer.org.</b></div><div class=\"sk-container\" hidden><div class=\"sk-item\"><div class=\"sk-estimator sk-toggleable\"><input class=\"sk-toggleable__control sk-hidden--visually\" id=\"sk-estimator-id-32\" type=\"checkbox\" checked><label for=\"sk-estimator-id-32\" class=\"sk-toggleable__label sk-toggleable__label-arrow\">GradientBoostingRegressor</label><div class=\"sk-toggleable__content\"><pre>GradientBoostingRegressor(max_depth=10, max_features=10, min_samples_split=20,\n",
       "                          n_estimators=200)</pre></div></div></div></div></div>"
      ],
      "text/plain": [
       "GradientBoostingRegressor(max_depth=10, max_features=10, min_samples_split=20,\n",
       "                          n_estimators=200)"
      ]
     },
     "execution_count": 140,
     "metadata": {},
     "output_type": "execute_result"
    }
   ],
   "source": [
    "gbm_model_cv.best_estimator_"
   ]
  },
  {
   "cell_type": "code",
   "execution_count": 141,
   "metadata": {},
   "outputs": [],
   "source": [
    "gbm_rmse = gbm_model_cv.best_score_*-1"
   ]
  },
  {
   "cell_type": "code",
   "execution_count": 142,
   "metadata": {
    "tags": []
   },
   "outputs": [
    {
     "data": {
      "text/plain": [
       "1013.3495172574779"
      ]
     },
     "execution_count": 142,
     "metadata": {},
     "output_type": "execute_result"
    }
   ],
   "source": [
    "gbm_rmse"
   ]
  },
  {
   "cell_type": "code",
   "execution_count": 143,
   "metadata": {},
   "outputs": [],
   "source": [
    "# Predict the target variable on the test dataset using the trained pipeline\n",
    "y_hat_test_gbm = gbm_pipe.predict(data_holdout[predictors_2])"
   ]
  },
  {
   "cell_type": "code",
   "execution_count": 144,
   "metadata": {},
   "outputs": [
    {
     "name": "stdout",
     "output_type": "stream",
     "text": [
      "Test RMSE for GBM model: 1006.8709447206548\n"
     ]
    }
   ],
   "source": [
    "# Compute the test RMSE\n",
    "gbm_rmse_test = mean_squared_error(data_holdout.price, y_hat_test_gbm, squared=False)\n",
    "print(\"Test RMSE for GBM Model With Level Prices:\", gbm_rmse_test)"
   ]
  },
  {
   "cell_type": "code",
   "execution_count": 145,
   "metadata": {},
   "outputs": [
    {
     "name": "stdout",
     "output_type": "stream",
     "text": [
      "[Pipeline] ........ (step 1 of 2) Processing preprocess, total=   0.1s\n",
      "Fitting 5 folds for each of 4 candidates, totalling 20 fits\n",
      "[Pipeline] ......... (step 2 of 2) Processing regressor, total=  31.0s\n",
      "CPU times: total: 5.78 s\n",
      "Wall time: 31.1 s\n"
     ]
    },
    {
     "data": {
      "text/html": [
       "<style>#sk-container-id-9 {color: black;}#sk-container-id-9 pre{padding: 0;}#sk-container-id-9 div.sk-toggleable {background-color: white;}#sk-container-id-9 label.sk-toggleable__label {cursor: pointer;display: block;width: 100%;margin-bottom: 0;padding: 0.3em;box-sizing: border-box;text-align: center;}#sk-container-id-9 label.sk-toggleable__label-arrow:before {content: \"▸\";float: left;margin-right: 0.25em;color: #696969;}#sk-container-id-9 label.sk-toggleable__label-arrow:hover:before {color: black;}#sk-container-id-9 div.sk-estimator:hover label.sk-toggleable__label-arrow:before {color: black;}#sk-container-id-9 div.sk-toggleable__content {max-height: 0;max-width: 0;overflow: hidden;text-align: left;background-color: #f0f8ff;}#sk-container-id-9 div.sk-toggleable__content pre {margin: 0.2em;color: black;border-radius: 0.25em;background-color: #f0f8ff;}#sk-container-id-9 input.sk-toggleable__control:checked~div.sk-toggleable__content {max-height: 200px;max-width: 100%;overflow: auto;}#sk-container-id-9 input.sk-toggleable__control:checked~label.sk-toggleable__label-arrow:before {content: \"▾\";}#sk-container-id-9 div.sk-estimator input.sk-toggleable__control:checked~label.sk-toggleable__label {background-color: #d4ebff;}#sk-container-id-9 div.sk-label input.sk-toggleable__control:checked~label.sk-toggleable__label {background-color: #d4ebff;}#sk-container-id-9 input.sk-hidden--visually {border: 0;clip: rect(1px 1px 1px 1px);clip: rect(1px, 1px, 1px, 1px);height: 1px;margin: -1px;overflow: hidden;padding: 0;position: absolute;width: 1px;}#sk-container-id-9 div.sk-estimator {font-family: monospace;background-color: #f0f8ff;border: 1px dotted black;border-radius: 0.25em;box-sizing: border-box;margin-bottom: 0.5em;}#sk-container-id-9 div.sk-estimator:hover {background-color: #d4ebff;}#sk-container-id-9 div.sk-parallel-item::after {content: \"\";width: 100%;border-bottom: 1px solid gray;flex-grow: 1;}#sk-container-id-9 div.sk-label:hover label.sk-toggleable__label {background-color: #d4ebff;}#sk-container-id-9 div.sk-serial::before {content: \"\";position: absolute;border-left: 1px solid gray;box-sizing: border-box;top: 0;bottom: 0;left: 50%;z-index: 0;}#sk-container-id-9 div.sk-serial {display: flex;flex-direction: column;align-items: center;background-color: white;padding-right: 0.2em;padding-left: 0.2em;position: relative;}#sk-container-id-9 div.sk-item {position: relative;z-index: 1;}#sk-container-id-9 div.sk-parallel {display: flex;align-items: stretch;justify-content: center;background-color: white;position: relative;}#sk-container-id-9 div.sk-item::before, #sk-container-id-9 div.sk-parallel-item::before {content: \"\";position: absolute;border-left: 1px solid gray;box-sizing: border-box;top: 0;bottom: 0;left: 50%;z-index: -1;}#sk-container-id-9 div.sk-parallel-item {display: flex;flex-direction: column;z-index: 1;position: relative;background-color: white;}#sk-container-id-9 div.sk-parallel-item:first-child::after {align-self: flex-end;width: 50%;}#sk-container-id-9 div.sk-parallel-item:last-child::after {align-self: flex-start;width: 50%;}#sk-container-id-9 div.sk-parallel-item:only-child::after {width: 0;}#sk-container-id-9 div.sk-dashed-wrapped {border: 1px dashed gray;margin: 0 0.4em 0.5em 0.4em;box-sizing: border-box;padding-bottom: 0.4em;background-color: white;}#sk-container-id-9 div.sk-label label {font-family: monospace;font-weight: bold;display: inline-block;line-height: 1.2em;}#sk-container-id-9 div.sk-label-container {text-align: center;}#sk-container-id-9 div.sk-container {/* jupyter's `normalize.less` sets `[hidden] { display: none; }` but bootstrap.min.css set `[hidden] { display: none !important; }` so we also need the `!important` here to be able to override the default hidden behavior on the sphinx rendered scikit-learn.org. See: https://github.com/scikit-learn/scikit-learn/issues/21755 */display: inline-block !important;position: relative;}#sk-container-id-9 div.sk-text-repr-fallback {display: none;}</style><div id=\"sk-container-id-9\" class=\"sk-top-container\"><div class=\"sk-text-repr-fallback\"><pre>Pipeline(steps=[(&#x27;preprocess&#x27;,\n",
       "                 ColumnTransformer(transformers=[(&#x27;cat&#x27;,\n",
       "                                                  OneHotEncoder(handle_unknown=&#x27;ignore&#x27;),\n",
       "                                                  [&#x27;f_property_type&#x27;,\n",
       "                                                   &#x27;f_room_type&#x27;,\n",
       "                                                   &#x27;f_neighbourhood_cleansed&#x27;,\n",
       "                                                   &#x27;f_host_response_time&#x27;]),\n",
       "                                                 (&#x27;num&#x27;, &#x27;passthrough&#x27;,\n",
       "                                                  [&#x27;n_accommodates&#x27;, &#x27;n_beds&#x27;,\n",
       "                                                   &#x27;n_bathrooms&#x27;,\n",
       "                                                   &#x27;n_availability_365&#x27;,\n",
       "                                                   &#x27;n_minimum_nights&#x27;,\n",
       "                                                   &#x27;n_host_response_rate&#x27;,\n",
       "                                                   &#x27;n_host_acceptance_rate&#x27;,\n",
       "                                                   &#x27;n_number_of_reviews&#x27;,\n",
       "                                                   &#x27;n_review_scores_rating&#x27;,\n",
       "                                                   &#x27;d_host_is_superhost&#x27;])])),\n",
       "                (&#x27;regressor&#x27;,\n",
       "                 GridSearchCV(cv=5,\n",
       "                              estimator=GradientBoostingRegressor(max_features=10,\n",
       "                                                                  min_samples_split=20),\n",
       "                              n_jobs=-1,\n",
       "                              param_grid={&#x27;max_depth&#x27;: [5, 10],\n",
       "                                          &#x27;n_estimators&#x27;: [200, 300]},\n",
       "                              scoring=&#x27;neg_root_mean_squared_error&#x27;,\n",
       "                              verbose=10))],\n",
       "         verbose=True)</pre><b>In a Jupyter environment, please rerun this cell to show the HTML representation or trust the notebook. <br />On GitHub, the HTML representation is unable to render, please try loading this page with nbviewer.org.</b></div><div class=\"sk-container\" hidden><div class=\"sk-item sk-dashed-wrapped\"><div class=\"sk-label-container\"><div class=\"sk-label sk-toggleable\"><input class=\"sk-toggleable__control sk-hidden--visually\" id=\"sk-estimator-id-33\" type=\"checkbox\" ><label for=\"sk-estimator-id-33\" class=\"sk-toggleable__label sk-toggleable__label-arrow\">Pipeline</label><div class=\"sk-toggleable__content\"><pre>Pipeline(steps=[(&#x27;preprocess&#x27;,\n",
       "                 ColumnTransformer(transformers=[(&#x27;cat&#x27;,\n",
       "                                                  OneHotEncoder(handle_unknown=&#x27;ignore&#x27;),\n",
       "                                                  [&#x27;f_property_type&#x27;,\n",
       "                                                   &#x27;f_room_type&#x27;,\n",
       "                                                   &#x27;f_neighbourhood_cleansed&#x27;,\n",
       "                                                   &#x27;f_host_response_time&#x27;]),\n",
       "                                                 (&#x27;num&#x27;, &#x27;passthrough&#x27;,\n",
       "                                                  [&#x27;n_accommodates&#x27;, &#x27;n_beds&#x27;,\n",
       "                                                   &#x27;n_bathrooms&#x27;,\n",
       "                                                   &#x27;n_availability_365&#x27;,\n",
       "                                                   &#x27;n_minimum_nights&#x27;,\n",
       "                                                   &#x27;n_host_response_rate&#x27;,\n",
       "                                                   &#x27;n_host_acceptance_rate&#x27;,\n",
       "                                                   &#x27;n_number_of_reviews&#x27;,\n",
       "                                                   &#x27;n_review_scores_rating&#x27;,\n",
       "                                                   &#x27;d_host_is_superhost&#x27;])])),\n",
       "                (&#x27;regressor&#x27;,\n",
       "                 GridSearchCV(cv=5,\n",
       "                              estimator=GradientBoostingRegressor(max_features=10,\n",
       "                                                                  min_samples_split=20),\n",
       "                              n_jobs=-1,\n",
       "                              param_grid={&#x27;max_depth&#x27;: [5, 10],\n",
       "                                          &#x27;n_estimators&#x27;: [200, 300]},\n",
       "                              scoring=&#x27;neg_root_mean_squared_error&#x27;,\n",
       "                              verbose=10))],\n",
       "         verbose=True)</pre></div></div></div><div class=\"sk-serial\"><div class=\"sk-item sk-dashed-wrapped\"><div class=\"sk-label-container\"><div class=\"sk-label sk-toggleable\"><input class=\"sk-toggleable__control sk-hidden--visually\" id=\"sk-estimator-id-34\" type=\"checkbox\" ><label for=\"sk-estimator-id-34\" class=\"sk-toggleable__label sk-toggleable__label-arrow\">preprocess: ColumnTransformer</label><div class=\"sk-toggleable__content\"><pre>ColumnTransformer(transformers=[(&#x27;cat&#x27;, OneHotEncoder(handle_unknown=&#x27;ignore&#x27;),\n",
       "                                 [&#x27;f_property_type&#x27;, &#x27;f_room_type&#x27;,\n",
       "                                  &#x27;f_neighbourhood_cleansed&#x27;,\n",
       "                                  &#x27;f_host_response_time&#x27;]),\n",
       "                                (&#x27;num&#x27;, &#x27;passthrough&#x27;,\n",
       "                                 [&#x27;n_accommodates&#x27;, &#x27;n_beds&#x27;, &#x27;n_bathrooms&#x27;,\n",
       "                                  &#x27;n_availability_365&#x27;, &#x27;n_minimum_nights&#x27;,\n",
       "                                  &#x27;n_host_response_rate&#x27;,\n",
       "                                  &#x27;n_host_acceptance_rate&#x27;,\n",
       "                                  &#x27;n_number_of_reviews&#x27;,\n",
       "                                  &#x27;n_review_scores_rating&#x27;,\n",
       "                                  &#x27;d_host_is_superhost&#x27;])])</pre></div></div></div><div class=\"sk-parallel\"><div class=\"sk-parallel-item\"><div class=\"sk-item\"><div class=\"sk-label-container\"><div class=\"sk-label sk-toggleable\"><input class=\"sk-toggleable__control sk-hidden--visually\" id=\"sk-estimator-id-35\" type=\"checkbox\" ><label for=\"sk-estimator-id-35\" class=\"sk-toggleable__label sk-toggleable__label-arrow\">cat</label><div class=\"sk-toggleable__content\"><pre>[&#x27;f_property_type&#x27;, &#x27;f_room_type&#x27;, &#x27;f_neighbourhood_cleansed&#x27;, &#x27;f_host_response_time&#x27;]</pre></div></div></div><div class=\"sk-serial\"><div class=\"sk-item\"><div class=\"sk-estimator sk-toggleable\"><input class=\"sk-toggleable__control sk-hidden--visually\" id=\"sk-estimator-id-36\" type=\"checkbox\" ><label for=\"sk-estimator-id-36\" class=\"sk-toggleable__label sk-toggleable__label-arrow\">OneHotEncoder</label><div class=\"sk-toggleable__content\"><pre>OneHotEncoder(handle_unknown=&#x27;ignore&#x27;)</pre></div></div></div></div></div></div><div class=\"sk-parallel-item\"><div class=\"sk-item\"><div class=\"sk-label-container\"><div class=\"sk-label sk-toggleable\"><input class=\"sk-toggleable__control sk-hidden--visually\" id=\"sk-estimator-id-37\" type=\"checkbox\" ><label for=\"sk-estimator-id-37\" class=\"sk-toggleable__label sk-toggleable__label-arrow\">num</label><div class=\"sk-toggleable__content\"><pre>[&#x27;n_accommodates&#x27;, &#x27;n_beds&#x27;, &#x27;n_bathrooms&#x27;, &#x27;n_availability_365&#x27;, &#x27;n_minimum_nights&#x27;, &#x27;n_host_response_rate&#x27;, &#x27;n_host_acceptance_rate&#x27;, &#x27;n_number_of_reviews&#x27;, &#x27;n_review_scores_rating&#x27;, &#x27;d_host_is_superhost&#x27;]</pre></div></div></div><div class=\"sk-serial\"><div class=\"sk-item\"><div class=\"sk-estimator sk-toggleable\"><input class=\"sk-toggleable__control sk-hidden--visually\" id=\"sk-estimator-id-38\" type=\"checkbox\" ><label for=\"sk-estimator-id-38\" class=\"sk-toggleable__label sk-toggleable__label-arrow\">passthrough</label><div class=\"sk-toggleable__content\"><pre>passthrough</pre></div></div></div></div></div></div></div></div><div class=\"sk-item sk-dashed-wrapped\"><div class=\"sk-label-container\"><div class=\"sk-label sk-toggleable\"><input class=\"sk-toggleable__control sk-hidden--visually\" id=\"sk-estimator-id-39\" type=\"checkbox\" ><label for=\"sk-estimator-id-39\" class=\"sk-toggleable__label sk-toggleable__label-arrow\">regressor: GridSearchCV</label><div class=\"sk-toggleable__content\"><pre>GridSearchCV(cv=5,\n",
       "             estimator=GradientBoostingRegressor(max_features=10,\n",
       "                                                 min_samples_split=20),\n",
       "             n_jobs=-1,\n",
       "             param_grid={&#x27;max_depth&#x27;: [5, 10], &#x27;n_estimators&#x27;: [200, 300]},\n",
       "             scoring=&#x27;neg_root_mean_squared_error&#x27;, verbose=10)</pre></div></div></div><div class=\"sk-parallel\"><div class=\"sk-parallel-item\"><div class=\"sk-item\"><div class=\"sk-label-container\"><div class=\"sk-label sk-toggleable\"><input class=\"sk-toggleable__control sk-hidden--visually\" id=\"sk-estimator-id-40\" type=\"checkbox\" ><label for=\"sk-estimator-id-40\" class=\"sk-toggleable__label sk-toggleable__label-arrow\">estimator: GradientBoostingRegressor</label><div class=\"sk-toggleable__content\"><pre>GradientBoostingRegressor(max_features=10, min_samples_split=20)</pre></div></div></div><div class=\"sk-serial\"><div class=\"sk-item\"><div class=\"sk-estimator sk-toggleable\"><input class=\"sk-toggleable__control sk-hidden--visually\" id=\"sk-estimator-id-41\" type=\"checkbox\" ><label for=\"sk-estimator-id-41\" class=\"sk-toggleable__label sk-toggleable__label-arrow\">GradientBoostingRegressor</label><div class=\"sk-toggleable__content\"><pre>GradientBoostingRegressor(max_features=10, min_samples_split=20)</pre></div></div></div></div></div></div></div></div></div></div></div></div>"
      ],
      "text/plain": [
       "Pipeline(steps=[('preprocess',\n",
       "                 ColumnTransformer(transformers=[('cat',\n",
       "                                                  OneHotEncoder(handle_unknown='ignore'),\n",
       "                                                  ['f_property_type',\n",
       "                                                   'f_room_type',\n",
       "                                                   'f_neighbourhood_cleansed',\n",
       "                                                   'f_host_response_time']),\n",
       "                                                 ('num', 'passthrough',\n",
       "                                                  ['n_accommodates', 'n_beds',\n",
       "                                                   'n_bathrooms',\n",
       "                                                   'n_availability_365',\n",
       "                                                   'n_minimum_nights',\n",
       "                                                   'n_host_response_rate',\n",
       "                                                   'n_host_acceptance_rate',\n",
       "                                                   'n_number_of_reviews',\n",
       "                                                   'n_review_scores_rating',\n",
       "                                                   'd_host_is_superhost'])])),\n",
       "                ('regressor',\n",
       "                 GridSearchCV(cv=5,\n",
       "                              estimator=GradientBoostingRegressor(max_features=10,\n",
       "                                                                  min_samples_split=20),\n",
       "                              n_jobs=-1,\n",
       "                              param_grid={'max_depth': [5, 10],\n",
       "                                          'n_estimators': [200, 300]},\n",
       "                              scoring='neg_root_mean_squared_error',\n",
       "                              verbose=10))],\n",
       "         verbose=True)"
      ]
     },
     "execution_count": 145,
     "metadata": {},
     "output_type": "execute_result"
    }
   ],
   "source": [
    "%%time\n",
    "gbm_pipe.fit(data_train[predictors_2],data_train.ln_price)"
   ]
  },
  {
   "cell_type": "code",
   "execution_count": 147,
   "metadata": {},
   "outputs": [
    {
     "data": {
      "text/html": [
       "<style>#sk-container-id-10 {color: black;}#sk-container-id-10 pre{padding: 0;}#sk-container-id-10 div.sk-toggleable {background-color: white;}#sk-container-id-10 label.sk-toggleable__label {cursor: pointer;display: block;width: 100%;margin-bottom: 0;padding: 0.3em;box-sizing: border-box;text-align: center;}#sk-container-id-10 label.sk-toggleable__label-arrow:before {content: \"▸\";float: left;margin-right: 0.25em;color: #696969;}#sk-container-id-10 label.sk-toggleable__label-arrow:hover:before {color: black;}#sk-container-id-10 div.sk-estimator:hover label.sk-toggleable__label-arrow:before {color: black;}#sk-container-id-10 div.sk-toggleable__content {max-height: 0;max-width: 0;overflow: hidden;text-align: left;background-color: #f0f8ff;}#sk-container-id-10 div.sk-toggleable__content pre {margin: 0.2em;color: black;border-radius: 0.25em;background-color: #f0f8ff;}#sk-container-id-10 input.sk-toggleable__control:checked~div.sk-toggleable__content {max-height: 200px;max-width: 100%;overflow: auto;}#sk-container-id-10 input.sk-toggleable__control:checked~label.sk-toggleable__label-arrow:before {content: \"▾\";}#sk-container-id-10 div.sk-estimator input.sk-toggleable__control:checked~label.sk-toggleable__label {background-color: #d4ebff;}#sk-container-id-10 div.sk-label input.sk-toggleable__control:checked~label.sk-toggleable__label {background-color: #d4ebff;}#sk-container-id-10 input.sk-hidden--visually {border: 0;clip: rect(1px 1px 1px 1px);clip: rect(1px, 1px, 1px, 1px);height: 1px;margin: -1px;overflow: hidden;padding: 0;position: absolute;width: 1px;}#sk-container-id-10 div.sk-estimator {font-family: monospace;background-color: #f0f8ff;border: 1px dotted black;border-radius: 0.25em;box-sizing: border-box;margin-bottom: 0.5em;}#sk-container-id-10 div.sk-estimator:hover {background-color: #d4ebff;}#sk-container-id-10 div.sk-parallel-item::after {content: \"\";width: 100%;border-bottom: 1px solid gray;flex-grow: 1;}#sk-container-id-10 div.sk-label:hover label.sk-toggleable__label {background-color: #d4ebff;}#sk-container-id-10 div.sk-serial::before {content: \"\";position: absolute;border-left: 1px solid gray;box-sizing: border-box;top: 0;bottom: 0;left: 50%;z-index: 0;}#sk-container-id-10 div.sk-serial {display: flex;flex-direction: column;align-items: center;background-color: white;padding-right: 0.2em;padding-left: 0.2em;position: relative;}#sk-container-id-10 div.sk-item {position: relative;z-index: 1;}#sk-container-id-10 div.sk-parallel {display: flex;align-items: stretch;justify-content: center;background-color: white;position: relative;}#sk-container-id-10 div.sk-item::before, #sk-container-id-10 div.sk-parallel-item::before {content: \"\";position: absolute;border-left: 1px solid gray;box-sizing: border-box;top: 0;bottom: 0;left: 50%;z-index: -1;}#sk-container-id-10 div.sk-parallel-item {display: flex;flex-direction: column;z-index: 1;position: relative;background-color: white;}#sk-container-id-10 div.sk-parallel-item:first-child::after {align-self: flex-end;width: 50%;}#sk-container-id-10 div.sk-parallel-item:last-child::after {align-self: flex-start;width: 50%;}#sk-container-id-10 div.sk-parallel-item:only-child::after {width: 0;}#sk-container-id-10 div.sk-dashed-wrapped {border: 1px dashed gray;margin: 0 0.4em 0.5em 0.4em;box-sizing: border-box;padding-bottom: 0.4em;background-color: white;}#sk-container-id-10 div.sk-label label {font-family: monospace;font-weight: bold;display: inline-block;line-height: 1.2em;}#sk-container-id-10 div.sk-label-container {text-align: center;}#sk-container-id-10 div.sk-container {/* jupyter's `normalize.less` sets `[hidden] { display: none; }` but bootstrap.min.css set `[hidden] { display: none !important; }` so we also need the `!important` here to be able to override the default hidden behavior on the sphinx rendered scikit-learn.org. See: https://github.com/scikit-learn/scikit-learn/issues/21755 */display: inline-block !important;position: relative;}#sk-container-id-10 div.sk-text-repr-fallback {display: none;}</style><div id=\"sk-container-id-10\" class=\"sk-top-container\"><div class=\"sk-text-repr-fallback\"><pre>GradientBoostingRegressor(max_depth=10, max_features=10, min_samples_split=20,\n",
       "                          n_estimators=300)</pre><b>In a Jupyter environment, please rerun this cell to show the HTML representation or trust the notebook. <br />On GitHub, the HTML representation is unable to render, please try loading this page with nbviewer.org.</b></div><div class=\"sk-container\" hidden><div class=\"sk-item\"><div class=\"sk-estimator sk-toggleable\"><input class=\"sk-toggleable__control sk-hidden--visually\" id=\"sk-estimator-id-42\" type=\"checkbox\" checked><label for=\"sk-estimator-id-42\" class=\"sk-toggleable__label sk-toggleable__label-arrow\">GradientBoostingRegressor</label><div class=\"sk-toggleable__content\"><pre>GradientBoostingRegressor(max_depth=10, max_features=10, min_samples_split=20,\n",
       "                          n_estimators=300)</pre></div></div></div></div></div>"
      ],
      "text/plain": [
       "GradientBoostingRegressor(max_depth=10, max_features=10, min_samples_split=20,\n",
       "                          n_estimators=300)"
      ]
     },
     "execution_count": 147,
     "metadata": {},
     "output_type": "execute_result"
    }
   ],
   "source": [
    "gbm_model_cv.best_estimator_"
   ]
  },
  {
   "cell_type": "code",
   "execution_count": 148,
   "metadata": {},
   "outputs": [],
   "source": [
    "gbm_rmse_ln = gbm_model_cv.best_score_*-1"
   ]
  },
  {
   "cell_type": "code",
   "execution_count": 149,
   "metadata": {},
   "outputs": [
    {
     "data": {
      "text/plain": [
       "0.4153772317258916"
      ]
     },
     "execution_count": 149,
     "metadata": {},
     "output_type": "execute_result"
    }
   ],
   "source": [
    "gbm_rmse_ln"
   ]
  },
  {
   "cell_type": "code",
   "execution_count": 150,
   "metadata": {},
   "outputs": [],
   "source": [
    "# Predict the target variable (log prices) on the test dataset using the trained pipeline\n",
    "y_hat_test_gbm_log = gbm_pipe.predict(data_holdout[predictors_2])"
   ]
  },
  {
   "cell_type": "code",
   "execution_count": 151,
   "metadata": {},
   "outputs": [
    {
     "name": "stdout",
     "output_type": "stream",
     "text": [
      "Test RMSE for GBM model: 0.40959921354829415\n"
     ]
    }
   ],
   "source": [
    "# Compute the test RMSE for log prices\n",
    "gbm_rmse_test_log = mean_squared_error(data_holdout.ln_price, y_hat_test_gbm_log, squared=False)\n",
    "print(\"Test RMSE for GBM Model With Log Prices:\", gbm_rmse_test_log)"
   ]
  },
  {
   "cell_type": "markdown",
   "metadata": {},
   "source": [
    "##### Comparison of models"
   ]
  },
  {
   "cell_type": "code",
   "execution_count": 152,
   "metadata": {
    "tags": []
   },
   "outputs": [
    {
     "data": {
      "text/html": [
       "<div>\n",
       "<style scoped>\n",
       "    .dataframe tbody tr th:only-of-type {\n",
       "        vertical-align: middle;\n",
       "    }\n",
       "\n",
       "    .dataframe tbody tr th {\n",
       "        vertical-align: top;\n",
       "    }\n",
       "\n",
       "    .dataframe thead th {\n",
       "        text-align: right;\n",
       "    }\n",
       "</style>\n",
       "<table border=\"1\" class=\"dataframe\">\n",
       "  <thead>\n",
       "    <tr style=\"text-align: right;\">\n",
       "      <th></th>\n",
       "      <th>model</th>\n",
       "      <th>CV RMSE</th>\n",
       "    </tr>\n",
       "  </thead>\n",
       "  <tbody>\n",
       "    <tr>\n",
       "      <th>0</th>\n",
       "      <td>OLS</td>\n",
       "      <td>1111.929069</td>\n",
       "    </tr>\n",
       "    <tr>\n",
       "      <th>1</th>\n",
       "      <td>LASSO</td>\n",
       "      <td>1112.703567</td>\n",
       "    </tr>\n",
       "    <tr>\n",
       "      <th>2</th>\n",
       "      <td>Random Forest</td>\n",
       "      <td>1063.275360</td>\n",
       "    </tr>\n",
       "    <tr>\n",
       "      <th>3</th>\n",
       "      <td>GBM</td>\n",
       "      <td>1013.349517</td>\n",
       "    </tr>\n",
       "  </tbody>\n",
       "</table>\n",
       "</div>"
      ],
      "text/plain": [
       "           model      CV RMSE\n",
       "0            OLS  1111.929069\n",
       "1          LASSO  1112.703567\n",
       "2  Random Forest  1063.275360\n",
       "3            GBM  1013.349517"
      ]
     },
     "execution_count": 152,
     "metadata": {},
     "output_type": "execute_result"
    }
   ],
   "source": [
    "# Compare Cross-validated RMSEs for level prices as target variable\n",
    "pd.DataFrame({'model': ['OLS', 'LASSO', 'Random Forest', 'GBM'],\n",
    "              'CV RMSE': [np.average(cv_rmse_scores), lasso_rmse, -rf_model2.best_score_, gbm_rmse]})"
   ]
  },
  {
   "cell_type": "code",
   "execution_count": 155,
   "metadata": {},
   "outputs": [
    {
     "data": {
      "text/html": [
       "<div>\n",
       "<style scoped>\n",
       "    .dataframe tbody tr th:only-of-type {\n",
       "        vertical-align: middle;\n",
       "    }\n",
       "\n",
       "    .dataframe tbody tr th {\n",
       "        vertical-align: top;\n",
       "    }\n",
       "\n",
       "    .dataframe thead th {\n",
       "        text-align: right;\n",
       "    }\n",
       "</style>\n",
       "<table border=\"1\" class=\"dataframe\">\n",
       "  <thead>\n",
       "    <tr style=\"text-align: right;\">\n",
       "      <th></th>\n",
       "      <th>model</th>\n",
       "      <th>CV RMSE</th>\n",
       "    </tr>\n",
       "  </thead>\n",
       "  <tbody>\n",
       "    <tr>\n",
       "      <th>0</th>\n",
       "      <td>OLS</td>\n",
       "      <td>0.462301</td>\n",
       "    </tr>\n",
       "    <tr>\n",
       "      <th>1</th>\n",
       "      <td>LASSO</td>\n",
       "      <td>0.509430</td>\n",
       "    </tr>\n",
       "    <tr>\n",
       "      <th>2</th>\n",
       "      <td>Random Forest</td>\n",
       "      <td>0.444084</td>\n",
       "    </tr>\n",
       "    <tr>\n",
       "      <th>3</th>\n",
       "      <td>GBM</td>\n",
       "      <td>0.415377</td>\n",
       "    </tr>\n",
       "  </tbody>\n",
       "</table>\n",
       "</div>"
      ],
      "text/plain": [
       "           model   CV RMSE\n",
       "0            OLS  0.462301\n",
       "1          LASSO  0.509430\n",
       "2  Random Forest  0.444084\n",
       "3            GBM  0.415377"
      ]
     },
     "execution_count": 155,
     "metadata": {},
     "output_type": "execute_result"
    }
   ],
   "source": [
    "# Compare Cross-validated RMSEs for log transformed prices as target variable\n",
    "pd.DataFrame({'model': ['OLS', 'LASSO', 'Random Forest', 'GBM'],\n",
    "              'CV RMSE': [np.average(cv_rmse_scores_log), lasso_rmse_ln, -rf_model.best_score_, gbm_rmse_ln]})"
   ]
  },
  {
   "cell_type": "markdown",
   "metadata": {},
   "source": [
    "The best performing model in terms of cross-validated RMSEs is GBM and then Random Forest comes. OLS and LASSO have very similar RMSEs."
   ]
  },
  {
   "cell_type": "markdown",
   "metadata": {},
   "source": [
    "The next step is to compare RMSEs on holdout/test data"
   ]
  },
  {
   "cell_type": "code",
   "execution_count": 158,
   "metadata": {},
   "outputs": [
    {
     "data": {
      "text/html": [
       "<div>\n",
       "<style scoped>\n",
       "    .dataframe tbody tr th:only-of-type {\n",
       "        vertical-align: middle;\n",
       "    }\n",
       "\n",
       "    .dataframe tbody tr th {\n",
       "        vertical-align: top;\n",
       "    }\n",
       "\n",
       "    .dataframe thead th {\n",
       "        text-align: right;\n",
       "    }\n",
       "</style>\n",
       "<table border=\"1\" class=\"dataframe\">\n",
       "  <thead>\n",
       "    <tr style=\"text-align: right;\">\n",
       "      <th></th>\n",
       "      <th>model</th>\n",
       "      <th>Test RMSE</th>\n",
       "    </tr>\n",
       "  </thead>\n",
       "  <tbody>\n",
       "    <tr>\n",
       "      <th>0</th>\n",
       "      <td>OLS</td>\n",
       "      <td>1078.295237</td>\n",
       "    </tr>\n",
       "    <tr>\n",
       "      <th>1</th>\n",
       "      <td>LASSO</td>\n",
       "      <td>1073.326679</td>\n",
       "    </tr>\n",
       "    <tr>\n",
       "      <th>2</th>\n",
       "      <td>Random Forest</td>\n",
       "      <td>1035.445300</td>\n",
       "    </tr>\n",
       "    <tr>\n",
       "      <th>3</th>\n",
       "      <td>GBM</td>\n",
       "      <td>1006.870945</td>\n",
       "    </tr>\n",
       "  </tbody>\n",
       "</table>\n",
       "</div>"
      ],
      "text/plain": [
       "           model    Test RMSE\n",
       "0            OLS  1078.295237\n",
       "1          LASSO  1073.326679\n",
       "2  Random Forest  1035.445300\n",
       "3            GBM  1006.870945"
      ]
     },
     "execution_count": 158,
     "metadata": {},
     "output_type": "execute_result"
    }
   ],
   "source": [
    "# Compare RMSEs on test data for level prices as target variable\n",
    "\n",
    "pd.DataFrame({'model': ['OLS', 'LASSO', 'Random Forest', 'GBM'],\n",
    "              'Test RMSE': [ols_rmse_test, lasso_rmse_test_level, all_holdout.rmse[0], gbm_rmse_test]})"
   ]
  },
  {
   "cell_type": "code",
   "execution_count": 159,
   "metadata": {},
   "outputs": [
    {
     "data": {
      "text/html": [
       "<div>\n",
       "<style scoped>\n",
       "    .dataframe tbody tr th:only-of-type {\n",
       "        vertical-align: middle;\n",
       "    }\n",
       "\n",
       "    .dataframe tbody tr th {\n",
       "        vertical-align: top;\n",
       "    }\n",
       "\n",
       "    .dataframe thead th {\n",
       "        text-align: right;\n",
       "    }\n",
       "</style>\n",
       "<table border=\"1\" class=\"dataframe\">\n",
       "  <thead>\n",
       "    <tr style=\"text-align: right;\">\n",
       "      <th></th>\n",
       "      <th>model</th>\n",
       "      <th>Test RMSE</th>\n",
       "    </tr>\n",
       "  </thead>\n",
       "  <tbody>\n",
       "    <tr>\n",
       "      <th>0</th>\n",
       "      <td>OLS</td>\n",
       "      <td>0.457371</td>\n",
       "    </tr>\n",
       "    <tr>\n",
       "      <th>1</th>\n",
       "      <td>LASSO</td>\n",
       "      <td>0.504630</td>\n",
       "    </tr>\n",
       "    <tr>\n",
       "      <th>2</th>\n",
       "      <td>Random Forest</td>\n",
       "      <td>0.437826</td>\n",
       "    </tr>\n",
       "    <tr>\n",
       "      <th>3</th>\n",
       "      <td>GBM</td>\n",
       "      <td>0.409599</td>\n",
       "    </tr>\n",
       "  </tbody>\n",
       "</table>\n",
       "</div>"
      ],
      "text/plain": [
       "           model  Test RMSE\n",
       "0            OLS   0.457371\n",
       "1          LASSO   0.504630\n",
       "2  Random Forest   0.437826\n",
       "3            GBM   0.409599"
      ]
     },
     "execution_count": 159,
     "metadata": {},
     "output_type": "execute_result"
    }
   ],
   "source": [
    "# Compare RMSEs on test data for log transformed prices as target variable\n",
    "\n",
    "pd.DataFrame({'model': ['OLS', 'LASSO', 'Random Forest', 'GBM'],\n",
    "              'Test RMSE': [ols_rmse_test2, lasso_rmse_test_log, rf_test_rmse_log_price, gbm_rmse_test_log]})"
   ]
  },
  {
   "cell_type": "markdown",
   "metadata": {},
   "source": [
    "GBM  is again best performing model with holdout/test data."
   ]
  },
  {
   "cell_type": "markdown",
   "metadata": {},
   "source": [
    "### Conclusion"
   ]
  },
  {
   "cell_type": "markdown",
   "metadata": {},
   "source": [
    "We started our analyis with an Airbnb data for Istnabul which has many qualitative variables and a few quantitative variables. We applied EDA and Feature Engineering and used our domain knowledge to prepare estimation models. In modelling part, we started with a Random Forest model and made detailed analysis to find factors that most affect prices. Finally, we compared the base Random Forest model's overall performance with three alternative models. OLS, LASSO and GBM were our alternative models. In terms of overall performance, GBM performed best, ie, resulted with lowest RMSE both on cross-validated samples and on test sample. While room type was the most important factor in London data, number of accommodates is the most important factor in Istanbul. Second important factor in London was bathroom while in Istanbul it is room type. And third important factor in London was number of accommodates while in Istanbul it is neigbourhood. There are certain neigbourhoods both in London and Istanbul which decrease or increase the prices of accomodation."
   ]
  }
 ],
 "metadata": {
  "kernelspec": {
   "display_name": "Python 3 (ipykernel)",
   "language": "python",
   "name": "python3"
  },
  "language_info": {
   "codemirror_mode": {
    "name": "ipython",
    "version": 3
   },
   "file_extension": ".py",
   "mimetype": "text/x-python",
   "name": "python",
   "nbconvert_exporter": "python",
   "pygments_lexer": "ipython3",
   "version": "3.11.5"
  }
 },
 "nbformat": 4,
 "nbformat_minor": 4
}
